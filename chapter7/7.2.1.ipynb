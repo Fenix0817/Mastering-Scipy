{
 "cells": [
  {
   "cell_type": "markdown",
   "metadata": {},
   "source": [
    "## Probability\n",
    "\n",
    "In the `scipy` stack we have two means to perform probability: a symbolic setting, and a numerical setting.  In this brief section we are going to compare both with a sequence of examples.\n",
    "\n",
    "For the symbolic treatment of random variables, we employ the module `sympy.stats`, while for the numerical treatment, we use the module `scipy.stats`.  In both cases, the goal is the same: the instantiation of any random variable, and the following three kinds of operations on them:\n",
    "\n",
    "* Description of the probability distribution of a random variable with numbers (parameters).\n",
    "* Description of a random variable in terms of functions\n",
    "* Computation of associated probabilities\n",
    "\n",
    "Let us observe several situations through the scope of the two different settings:\n",
    "\n",
    "### Symbolic Setting\n",
    "\n",
    "Let us start with discrete random variables.  For instance, let us consider several random variables used to describe the process of rolling three 6-sided dice, one 100-sided dice, and the possible outcomes."
   ]
  },
  {
   "cell_type": "code",
   "execution_count": 1,
   "metadata": {
    "collapsed": true
   },
   "outputs": [],
   "source": [
    "from sympy import var\n",
    "from sympy.stats import Die, sample_iter, P, variance, std, E, moment, cdf, density, Exponential, skewness\n",
    "\n",
    "D6_1, D6_2, D6_3 = Die('D6_1', 6), Die('D6_2', 6), Die('D6_3', 6)\n",
    "D100 = Die('D100', 100)\n",
    "X = D6_1 + D6_2 + D6_3 + D100"
   ]
  },
  {
   "cell_type": "markdown",
   "metadata": {},
   "source": [
    "We run a simulation, where we cast those four dice 20 times, and collect the sum of each throw:"
   ]
  },
  {
   "cell_type": "code",
   "execution_count": 2,
   "metadata": {
    "collapsed": false
   },
   "outputs": [
    {
     "name": "stdout",
     "output_type": "stream",
     "text": [
      "17 58 62 96 83 28 35 62 7 79 73 91 63 85 55 61 97 13 100 95\n"
     ]
    }
   ],
   "source": [
    "for item in sample_iter(X, numsamples=20):\n",
    "    print item,"
   ]
  },
  {
   "cell_type": "markdown",
   "metadata": {},
   "source": [
    "Let us illustrate how easily we may compute probabilities associated with these variables.  For instance, to calculate the probability that the sum of the three 6-sided dice amount to a smaller number than the throw of the 100-sided dice can be obtained as follows:"
   ]
  },
  {
   "cell_type": "code",
   "execution_count": 3,
   "metadata": {
    "collapsed": false
   },
   "outputs": [
    {
     "data": {
      "text/plain": [
       "179/200"
      ]
     },
     "execution_count": 3,
     "metadata": {},
     "output_type": "execute_result"
    }
   ],
   "source": [
    "P(D6_1 + D6_2 + D6_3 < D100)"
   ]
  },
  {
   "cell_type": "markdown",
   "metadata": {},
   "source": [
    "Conditional probabilities are also realizable:  What is the probability of obtaining at least a 10 throwing two 6-sided dice, if the first one shows a 5?"
   ]
  },
  {
   "cell_type": "code",
   "execution_count": 4,
   "metadata": {
    "collapsed": false
   },
   "outputs": [
    {
     "data": {
      "text/plain": [
       "1/3"
      ]
     },
     "execution_count": 4,
     "metadata": {},
     "output_type": "execute_result"
    }
   ],
   "source": [
    "from sympy import Eq     #  Do NOT use \"==\" with symbolic objects!\n",
    "\n",
    "P(D6_1 + D6_2 > 9, Eq(D6_1, 5))"
   ]
  },
  {
   "cell_type": "markdown",
   "metadata": {},
   "source": [
    "The computation of parameters of the associated probability distributions is also very simple.  In the following session we obtain the variance, standard deviation, and expected value of `X`, together with some other higher-order moments of this variable around zero."
   ]
  },
  {
   "cell_type": "code",
   "execution_count": 5,
   "metadata": {
    "collapsed": false
   },
   "outputs": [
    {
     "name": "stdout",
     "output_type": "stream",
     "text": [
      "842 sqrt(842) 61\n"
     ]
    }
   ],
   "source": [
    "print variance(X), std(X), E(X)"
   ]
  },
  {
   "cell_type": "code",
   "execution_count": 6,
   "metadata": {
    "collapsed": false
   },
   "outputs": [
    {
     "name": "stdout",
     "output_type": "stream",
     "text": [
      "mu_2 = 4563\n",
      "mu_3 = 381067\n",
      "mu_4 = 339378593/10\n",
      "mu_5 = 6300603685/2\n",
      "mu_6 = 1805931466069/6\n",
      "mu_7 = 176259875749813/6\n",
      "mu_8 = 29146927913035853/10\n",
      "mu_9 = 586011570997109973/2\n"
     ]
    }
   ],
   "source": [
    "for n in range(2,10):\n",
    "    print \"mu_{0} = {1}\".format(n, moment(X, n, 0))"
   ]
  },
  {
   "cell_type": "markdown",
   "metadata": {},
   "source": [
    "We can easily compute the probability mass function and cumulative density function too.\n"
   ]
  },
  {
   "cell_type": "code",
   "execution_count": 7,
   "metadata": {
    "collapsed": false
   },
   "outputs": [
    {
     "data": {
      "text/plain": [
       "{4: 1/21600,\n",
       " 5: 1/4320,\n",
       " 6: 1/1440,\n",
       " 7: 7/4320,\n",
       " 8: 7/2160,\n",
       " 9: 7/1200,\n",
       " 10: 23/2400,\n",
       " 11: 7/480,\n",
       " 12: 1/48,\n",
       " 13: 61/2160,\n",
       " 14: 791/21600,\n",
       " 15: 329/7200,\n",
       " 16: 1193/21600,\n",
       " 17: 281/4320,\n",
       " 18: 3/40,\n",
       " 19: 17/200,\n",
       " 20: 19/200,\n",
       " 21: 21/200,\n",
       " 22: 23/200,\n",
       " 23: 1/8,\n",
       " 24: 27/200,\n",
       " 25: 29/200,\n",
       " 26: 31/200,\n",
       " 27: 33/200,\n",
       " 28: 7/40,\n",
       " 29: 37/200,\n",
       " 30: 39/200,\n",
       " 31: 41/200,\n",
       " 32: 43/200,\n",
       " 33: 9/40,\n",
       " 34: 47/200,\n",
       " 35: 49/200,\n",
       " 36: 51/200,\n",
       " 37: 53/200,\n",
       " 38: 11/40,\n",
       " 39: 57/200,\n",
       " 40: 59/200,\n",
       " 41: 61/200,\n",
       " 42: 63/200,\n",
       " 43: 13/40,\n",
       " 44: 67/200,\n",
       " 45: 69/200,\n",
       " 46: 71/200,\n",
       " 47: 73/200,\n",
       " 48: 3/8,\n",
       " 49: 77/200,\n",
       " 50: 79/200,\n",
       " 51: 81/200,\n",
       " 52: 83/200,\n",
       " 53: 17/40,\n",
       " 54: 87/200,\n",
       " 55: 89/200,\n",
       " 56: 91/200,\n",
       " 57: 93/200,\n",
       " 58: 19/40,\n",
       " 59: 97/200,\n",
       " 60: 99/200,\n",
       " 61: 101/200,\n",
       " 62: 103/200,\n",
       " 63: 21/40,\n",
       " 64: 107/200,\n",
       " 65: 109/200,\n",
       " 66: 111/200,\n",
       " 67: 113/200,\n",
       " 68: 23/40,\n",
       " 69: 117/200,\n",
       " 70: 119/200,\n",
       " 71: 121/200,\n",
       " 72: 123/200,\n",
       " 73: 5/8,\n",
       " 74: 127/200,\n",
       " 75: 129/200,\n",
       " 76: 131/200,\n",
       " 77: 133/200,\n",
       " 78: 27/40,\n",
       " 79: 137/200,\n",
       " 80: 139/200,\n",
       " 81: 141/200,\n",
       " 82: 143/200,\n",
       " 83: 29/40,\n",
       " 84: 147/200,\n",
       " 85: 149/200,\n",
       " 86: 151/200,\n",
       " 87: 153/200,\n",
       " 88: 31/40,\n",
       " 89: 157/200,\n",
       " 90: 159/200,\n",
       " 91: 161/200,\n",
       " 92: 163/200,\n",
       " 93: 33/40,\n",
       " 94: 167/200,\n",
       " 95: 169/200,\n",
       " 96: 171/200,\n",
       " 97: 173/200,\n",
       " 98: 7/8,\n",
       " 99: 177/200,\n",
       " 100: 179/200,\n",
       " 101: 181/200,\n",
       " 102: 183/200,\n",
       " 103: 37/40,\n",
       " 104: 4039/4320,\n",
       " 105: 20407/21600,\n",
       " 106: 6871/7200,\n",
       " 107: 20809/21600,\n",
       " 108: 2099/2160,\n",
       " 109: 47/48,\n",
       " 110: 473/480,\n",
       " 111: 2377/2400,\n",
       " 112: 1193/1200,\n",
       " 113: 2153/2160,\n",
       " 114: 4313/4320,\n",
       " 115: 1439/1440,\n",
       " 116: 4319/4320,\n",
       " 117: 21599/21600,\n",
       " 118: 1}"
      ]
     },
     "execution_count": 7,
     "metadata": {},
     "output_type": "execute_result"
    }
   ],
   "source": [
    "cdf(X) "
   ]
  },
  {
   "cell_type": "code",
   "execution_count": 8,
   "metadata": {
    "collapsed": false
   },
   "outputs": [
    {
     "data": {
      "text/plain": [
       "{4: 1/21600,\n",
       " 5: 1/5400,\n",
       " 6: 1/2160,\n",
       " 7: 1/1080,\n",
       " 8: 7/4320,\n",
       " 9: 7/2700,\n",
       " 10: 3/800,\n",
       " 11: 1/200,\n",
       " 12: 1/160,\n",
       " 13: 1/135,\n",
       " 14: 181/21600,\n",
       " 15: 49/5400,\n",
       " 16: 103/10800,\n",
       " 17: 53/5400,\n",
       " 18: 43/4320,\n",
       " 19: 1/100,\n",
       " 20: 1/100,\n",
       " 21: 1/100,\n",
       " 22: 1/100,\n",
       " 23: 1/100,\n",
       " 24: 1/100,\n",
       " 25: 1/100,\n",
       " 26: 1/100,\n",
       " 27: 1/100,\n",
       " 28: 1/100,\n",
       " 29: 1/100,\n",
       " 30: 1/100,\n",
       " 31: 1/100,\n",
       " 32: 1/100,\n",
       " 33: 1/100,\n",
       " 34: 1/100,\n",
       " 35: 1/100,\n",
       " 36: 1/100,\n",
       " 37: 1/100,\n",
       " 38: 1/100,\n",
       " 39: 1/100,\n",
       " 40: 1/100,\n",
       " 41: 1/100,\n",
       " 42: 1/100,\n",
       " 43: 1/100,\n",
       " 44: 1/100,\n",
       " 45: 1/100,\n",
       " 46: 1/100,\n",
       " 47: 1/100,\n",
       " 48: 1/100,\n",
       " 49: 1/100,\n",
       " 50: 1/100,\n",
       " 51: 1/100,\n",
       " 52: 1/100,\n",
       " 53: 1/100,\n",
       " 54: 1/100,\n",
       " 55: 1/100,\n",
       " 56: 1/100,\n",
       " 57: 1/100,\n",
       " 58: 1/100,\n",
       " 59: 1/100,\n",
       " 60: 1/100,\n",
       " 61: 1/100,\n",
       " 62: 1/100,\n",
       " 63: 1/100,\n",
       " 64: 1/100,\n",
       " 65: 1/100,\n",
       " 66: 1/100,\n",
       " 67: 1/100,\n",
       " 68: 1/100,\n",
       " 69: 1/100,\n",
       " 70: 1/100,\n",
       " 71: 1/100,\n",
       " 72: 1/100,\n",
       " 73: 1/100,\n",
       " 74: 1/100,\n",
       " 75: 1/100,\n",
       " 76: 1/100,\n",
       " 77: 1/100,\n",
       " 78: 1/100,\n",
       " 79: 1/100,\n",
       " 80: 1/100,\n",
       " 81: 1/100,\n",
       " 82: 1/100,\n",
       " 83: 1/100,\n",
       " 84: 1/100,\n",
       " 85: 1/100,\n",
       " 86: 1/100,\n",
       " 87: 1/100,\n",
       " 88: 1/100,\n",
       " 89: 1/100,\n",
       " 90: 1/100,\n",
       " 91: 1/100,\n",
       " 92: 1/100,\n",
       " 93: 1/100,\n",
       " 94: 1/100,\n",
       " 95: 1/100,\n",
       " 96: 1/100,\n",
       " 97: 1/100,\n",
       " 98: 1/100,\n",
       " 99: 1/100,\n",
       " 100: 1/100,\n",
       " 101: 1/100,\n",
       " 102: 1/100,\n",
       " 103: 1/100,\n",
       " 104: 43/4320,\n",
       " 105: 53/5400,\n",
       " 106: 103/10800,\n",
       " 107: 49/5400,\n",
       " 108: 181/21600,\n",
       " 109: 1/135,\n",
       " 110: 1/160,\n",
       " 111: 1/200,\n",
       " 112: 3/800,\n",
       " 113: 7/2700,\n",
       " 114: 7/4320,\n",
       " 115: 1/1080,\n",
       " 116: 1/2160,\n",
       " 117: 1/5400,\n",
       " 118: 1/21600}"
      ]
     },
     "execution_count": 8,
     "metadata": {},
     "output_type": "execute_result"
    }
   ],
   "source": [
    "density(X)"
   ]
  },
  {
   "cell_type": "markdown",
   "metadata": {},
   "source": [
    "Let us move onto continuous random variables.  This short session computes the density and cumulative distribution function, as well as several parameters, of a generic exponential random variable:"
   ]
  },
  {
   "cell_type": "code",
   "execution_count": 10,
   "metadata": {
    "collapsed": false
   },
   "outputs": [
    {
     "data": {
      "text/plain": [
       "mu*exp(-mu*t)"
      ]
     },
     "execution_count": 10,
     "metadata": {},
     "output_type": "execute_result"
    }
   ],
   "source": [
    "var('mu', positive=True)\n",
    "var('t')\n",
    "X = Exponential('X', mu)\n",
    "\n",
    "density(X)(t)"
   ]
  },
  {
   "cell_type": "code",
   "execution_count": 11,
   "metadata": {
    "collapsed": false
   },
   "outputs": [
    {
     "data": {
      "text/plain": [
       "Piecewise((1 - exp(-mu*t), t >= 0), (0, True))"
      ]
     },
     "execution_count": 11,
     "metadata": {},
     "output_type": "execute_result"
    }
   ],
   "source": [
    "cdf(X)(t)"
   ]
  },
  {
   "cell_type": "code",
   "execution_count": 12,
   "metadata": {
    "collapsed": false
   },
   "outputs": [
    {
     "name": "stdout",
     "output_type": "stream",
     "text": [
      "mu**(-2) 2\n"
     ]
    }
   ],
   "source": [
    "print variance(X), skewness(X)"
   ]
  },
  {
   "cell_type": "code",
   "execution_count": 13,
   "metadata": {
    "collapsed": false
   },
   "outputs": [
    {
     "data": {
      "text/plain": [
       "[1/mu,\n",
       " 2/mu**2,\n",
       " 6/mu**3,\n",
       " 24/mu**4,\n",
       " 120/mu**5,\n",
       " 720/mu**6,\n",
       " 5040/mu**7,\n",
       " 40320/mu**8,\n",
       " 362880/mu**9]"
      ]
     },
     "execution_count": 13,
     "metadata": {},
     "output_type": "execute_result"
    }
   ],
   "source": [
    "[moment(X, n, 0) for n in range(1,10)]"
   ]
  },
  {
   "cell_type": "markdown",
   "metadata": {},
   "source": [
    "> For a complete description of the module `sympy.stats` with an exhaustive enumeration of all its implemented random variables, a good reference is the official documentation online at docs.sympy.org/dev/modules/stats.html"
   ]
  },
  {
   "cell_type": "code",
   "execution_count": null,
   "metadata": {
    "collapsed": true
   },
   "outputs": [],
   "source": []
  }
 ],
 "metadata": {
  "kernelspec": {
   "display_name": "Python 2",
   "language": "python",
   "name": "python2"
  },
  "language_info": {
   "codemirror_mode": {
    "name": "ipython",
    "version": 2
   },
   "file_extension": ".py",
   "mimetype": "text/x-python",
   "name": "python",
   "nbconvert_exporter": "python",
   "pygments_lexer": "ipython2",
   "version": "2.7.10"
  }
 },
 "nbformat": 4,
 "nbformat_minor": 0
}
