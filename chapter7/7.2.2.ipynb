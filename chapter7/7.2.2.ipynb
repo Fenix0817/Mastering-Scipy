{
 "cells": [
  {
   "cell_type": "markdown",
   "metadata": {},
   "source": [
    "### Numerical Setting\n",
    "\n",
    "The description of a discrete random variable in the numerical setting is performed by the implementation of an object `rv_discrete` from the module `scipy.stats`.  This object has the following methods:\n",
    "\n",
    "* `object.rvs` to obtain samples\n",
    "* `object.pmf` and `object.logpmf` to compute the probability mass function and its logarithm (respectively)\n",
    "* `object.cdf` and `object.logcdf` to compute the cumulative density function and its logarithm (respectively)\n",
    "* `object.sf` and `object.logsf` to compute the *survival function* (`1-cdf`) and its logarithm (respectively)\n",
    "* `object.ppf` and `object.isf` to compute the *percent point function* (the inverse of the `cdf`) and the inverse of the survival function\n",
    "* `object.expect` and `object.moment` to compute expected value and other moments\n",
    "* `object.entropy` to compute entropy\n",
    "* `object.median`, `object.mean`, `object.var`, `object.std` to compute the basic parameters (those can also be accessed with the method `object.stats`)\n",
    "* `object.interval` to compute an interval with a given probability that contains a random realization of the distribution\n",
    "\n",
    "We can then simulate an experiment with dice, similar to the previous section.  In this setting we represent dice by a uniform distribution on the set of the dice sides."
   ]
  },
  {
   "cell_type": "code",
   "execution_count": 10,
   "metadata": {
    "collapsed": true
   },
   "outputs": [],
   "source": [
    "import numpy as np, matplotlib.pyplot as plt\n",
    "from scipy.stats import randint, gaussian_kde, rv_discrete\n",
    "\n",
    "%matplotlib inline\n",
    "\n",
    "D6 = randint(1, 7)\n",
    "D100 = randint(1, 101)"
   ]
  },
  {
   "cell_type": "code",
   "execution_count": 2,
   "metadata": {
    "collapsed": false
   },
   "outputs": [
    {
     "data": {
      "image/png": "[encoded data removed]",
      "text/plain": [
       "<matplotlib.figure.Figure at 0x109876750>"
      ]
     },
     "metadata": {},
     "output_type": "display_data"
    }
   ],
   "source": [
    "samples = D6.rvs(10000) + D6.rvs(10000) + D6.rvs(10000) + D100.rvs(10000)\n",
    "\n",
    "plt.figure(figsize=(12,6))\n",
    "plt.hist(samples, bins=118-4)\n",
    "plt.xlabel('Sum of dice')\n",
    "plt.ylabel('Frequency of each sum')\n",
    "plt.show()"
   ]
  },
  {
   "cell_type": "markdown",
   "metadata": {},
   "source": [
    "This gives the following diagram, that clearly indicates that our new random variable is not uniform.\n",
    "\n",
    "One way to approach this problem is to approximate the distribution of the variable from this data, and for that task we use from the `scipy.stats` module the function `gaussian_kde`, that performs a kernel-density estimate using Gaussian kernels."
   ]
  },
  {
   "cell_type": "code",
   "execution_count": 5,
   "metadata": {
    "collapsed": false
   },
   "outputs": [],
   "source": [
    "kernel = gaussian_kde(samples)"
   ]
  },
  {
   "cell_type": "code",
   "execution_count": 7,
   "metadata": {
    "collapsed": false
   },
   "outputs": [
    {
     "data": {
      "text/plain": [
       "array([ 0.00991772])"
      ]
     },
     "execution_count": 7,
     "metadata": {},
     "output_type": "execute_result"
    }
   ],
   "source": [
    "kernel(50)                        # The actual answer is 1/100"
   ]
  },
  {
   "cell_type": "code",
   "execution_count": 8,
   "metadata": {
    "collapsed": false
   },
   "outputs": [
    {
     "data": {
      "text/plain": [
       "0.89531430868007333"
      ]
     },
     "execution_count": 8,
     "metadata": {},
     "output_type": "execute_result"
    }
   ],
   "source": [
    "kernel.integrate_box_1d(0,100)    # The actual answer is 177/200"
   ]
  },
  {
   "cell_type": "markdown",
   "metadata": {},
   "source": [
    "Instead of estimating this sum of random variables, and again assuming we are not familiar with the actual result, we could create an actual random variable by defining its probability mass function in terms of the probability mass functions of the summands.  The key? Convolution, of course, since the random variables for these dice are independent:  The sample space is the set of numbers from 4 to 118 (`space_sum` below), and the probabilities associated to each element (`probs_sum`) are computed as the convolution of the corresponding probabilities for each dice on their sample spaces."
   ]
  },
  {
   "cell_type": "code",
   "execution_count": 11,
   "metadata": {
    "collapsed": false
   },
   "outputs": [
    {
     "data": {
      "text/plain": [
       "0.010000000000000002"
      ]
     },
     "execution_count": 11,
     "metadata": {},
     "output_type": "execute_result"
    }
   ],
   "source": [
    "probs_6dice = D6.pmf(np.linspace(1,6,6))\n",
    "probs_100dice = D100.pmf(np.linspace(1,100,100))\n",
    "\n",
    "probs_sum = np.convolve(np.convolve(probs_6dice, probs_6dice), np.convolve(probs_6dice, probs_100dice))\n",
    "space_sum = np.linspace(4, 118, 115)\n",
    "\n",
    "sum_of_dice = rv_discrete(name=\"sod\", values=(space_sum, probs_sum))\n",
    "\n",
    "sum_of_dice.pmf(50)"
   ]
  },
  {
   "cell_type": "code",
   "execution_count": 12,
   "metadata": {
    "collapsed": false
   },
   "outputs": [
    {
     "data": {
      "text/plain": [
       "0.89500000000000068"
      ]
     },
     "execution_count": 12,
     "metadata": {},
     "output_type": "execute_result"
    }
   ],
   "source": [
    "sum_of_dice.cdf(100)"
   ]
  },
  {
   "cell_type": "code",
   "execution_count": null,
   "metadata": {
    "collapsed": true
   },
   "outputs": [],
   "source": []
  }
 ],
 "metadata": {
  "kernelspec": {
   "display_name": "Python 2",
   "language": "python",
   "name": "python2"
  },
  "language_info": {
   "codemirror_mode": {
    "name": "ipython",
    "version": 2
   },
   "file_extension": ".py",
   "mimetype": "text/x-python",
   "name": "python",
   "nbconvert_exporter": "python",
   "pygments_lexer": "ipython2",
   "version": "2.7.10"
  }
 },
 "nbformat": 4,
 "nbformat_minor": 0
}
