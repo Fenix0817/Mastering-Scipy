{
 "cells": [
  {
   "cell_type": "markdown",
   "metadata": {},
   "source": [
    "<img src=\"4749_01_01.png\" style=\"text-align:center; width:50%\">\n",
    "\n",
    "$$\\begin{pmatrix}\n",
    "0  &1/2  & 0   & 0    & 0   & 0   & 0   & 0 \\\\\n",
    "1  & 0   &1/2  &1/2   & 0   & 0   & 0   & 0 \\\\\n",
    "0  & 0   & 0   & 0    & 0   & 0   &1/3  & 0 \\\\\n",
    "0  &1/2  & 0   & 0    & 0   & 1   &1/3  & 0 \\\\\n",
    "0  & 0   &1/2  & 0    & 0   & 0   & 0   & 0 \\\\\n",
    "0  & 0   & 0   & 0    & 0   & 0   & 0   &1/2\\\\\n",
    "0  & 0   & 0   & 0    &1/2  & 0   & 0   &1/2\\\\\n",
    "0  & 0   & 0   &1/2   &1/2  & 0   &1/3  &0\n",
    "\\end{pmatrix}$$ "
   ]
  },
  {
   "cell_type": "code",
   "execution_count": 1,
   "metadata": {
    "collapsed": false
   },
   "outputs": [],
   "source": [
    "import numpy as np, matplotlib.pyplot as plt, scipy.linalg as spla, scipy.sparse as spsp, scipy.sparse.linalg as spspla\n",
    "\n",
    "np.set_printoptions(suppress=True, precision=3)\n",
    "\n",
    "cols = np.array([0,1,1,2,2,3,3,4,4,5,6,6,6,7,7])\n",
    "rows = np.array([1,0,3,1,4,1,7,6,7,3,2,3,7,5,6])\n",
    "data = np.array([1., 0.5, 0.5, 0.5, 0.5, \n",
    "                 0.5, 0.5, 0.5, 0.5, 1., \n",
    "                 1./3, 1./3, 1./3, 0.5, 0.5])\n",
    "\n",
    "T = np.zeros((8,8))\n",
    "T[rows,cols] = data"
   ]
  },
  {
   "cell_type": "code",
   "execution_count": 2,
   "metadata": {
    "collapsed": false
   },
   "outputs": [
    {
     "name": "stdout",
     "output_type": "stream",
     "text": [
      "[[ 0.019  0.444  0.019  0.019  0.019  0.019  0.019  0.019]\n",
      " [ 0.869  0.019  0.444  0.444  0.019  0.019  0.019  0.019]\n",
      " [ 0.019  0.019  0.019  0.019  0.019  0.019  0.302  0.019]\n",
      " [ 0.019  0.444  0.019  0.019  0.019  0.869  0.302  0.019]\n",
      " [ 0.019  0.019  0.444  0.019  0.019  0.019  0.019  0.019]\n",
      " [ 0.019  0.019  0.019  0.019  0.019  0.019  0.019  0.444]\n",
      " [ 0.019  0.019  0.019  0.019  0.444  0.019  0.019  0.444]\n",
      " [ 0.019  0.019  0.019  0.444  0.444  0.019  0.302  0.019]]\n"
     ]
    }
   ],
   "source": [
    "G = (1-0.15) * T + 0.15/8\n",
    "print G"
   ]
  },
  {
   "cell_type": "code",
   "execution_count": 3,
   "metadata": {
    "collapsed": false
   },
   "outputs": [
    {
     "name": "stdout",
     "output_type": "stream",
     "text": [
      "[ 1.000+0.j    -0.655+0.j    -0.333+0.313j -0.333-0.313j -0.171+0.372j\n",
      " -0.171-0.372j  0.544+0.j     0.268+0.j   ]\n"
     ]
    }
   ],
   "source": [
    "eigenvalues, eigenvectors = spla.eig(G)\n",
    "print eigenvalues"
   ]
  },
  {
   "cell_type": "code",
   "execution_count": 4,
   "metadata": {
    "collapsed": false
   },
   "outputs": [
    {
     "name": "stdout",
     "output_type": "stream",
     "text": [
      "[ 0.117  0.232  0.048  0.219  0.039  0.086  0.102  0.157]\n"
     ]
    }
   ],
   "source": [
    "PageRank = eigenvectors[:,0]\n",
    "PageRank /= sum(PageRank)\n",
    "\n",
    "print PageRank.real"
   ]
  },
  {
   "cell_type": "code",
   "execution_count": 5,
   "metadata": {
    "collapsed": false
   },
   "outputs": [
    {
     "name": "stdout",
     "output_type": "stream",
     "text": [
      "%%MatrixMarket matrix coordinate real general\r\n",
      "%-------------------------------------------------------------------------------\r\n",
      "% UF Sparse Matrix Collection, Tim Davis\r\n",
      "% http://www.cise.ufl.edu/research/sparse/matrices/Bydder/mri2\r\n",
      "% name: Bydder/mri2\r\n",
      "% [MRI reconstruction (2), from Mark Bydder, UCSD]\r\n",
      "% id: 1318\r\n",
      "% date: 2005\r\n",
      "% author: M. Bydder\r\n",
      "% ed: T. Davis\r\n",
      "% fields: title A name b id notes date author ed kind\r\n",
      "% kind: computer graphics/vision problem\r\n",
      "%-------------------------------------------------------------------------------\r\n",
      "% notes:\r\n",
      "% x = lsqr (A,b) ; imagesc (abs (fftshift (fft2 (reshape (x, 384, 384))))) ;\r\n",
      "%-------------------------------------------------------------------------------\r\n",
      "63240 147456 569160\r\n",
      "31992 1720 .053336731395584265\r\n",
      "31992 1721 .15785917688901102\r\n",
      "31992 1722 .07903055194318191\r\n"
     ]
    }
   ],
   "source": [
    "!head -n 20 mri2.mtx"
   ]
  },
  {
   "cell_type": "code",
   "execution_count": 6,
   "metadata": {
    "collapsed": false
   },
   "outputs": [],
   "source": [
    "rows, cols, data = np.loadtxt(\"mri2.mtx\", skiprows=17, unpack=True)\n",
    "rows -= 1 \n",
    "cols -= 1;\n",
    "\n",
    "MRI2 = spsp.coo_matrix((data, (rows, cols)), shape=(63240,147456))"
   ]
  },
  {
   "cell_type": "code",
   "execution_count": 7,
   "metadata": {
    "collapsed": false
   },
   "outputs": [
    {
     "data": {
      "image/png": "[encoded data removed]",
      "text/plain": [
       "<matplotlib.figure.Figure at 0x10958c090>"
      ]
     },
     "metadata": {},
     "output_type": "display_data"
    }
   ],
   "source": [
    "%matplotlib inline\n",
    "\n",
    "plt.figure(figsize=(8,8))\n",
    "plt.spy(MRI2)\n",
    "plt.show()"
   ]
  },
  {
   "cell_type": "code",
   "execution_count": null,
   "metadata": {
    "collapsed": false
   },
   "outputs": [
    {
     "name": "stdout",
     "output_type": "stream",
     "text": [
      "%%MatrixMarket matrix array complex general\r\n",
      "%-------------------------------------------------------------------------------\r\n",
      "% UF Sparse Matrix Collection, Tim Davis\r\n",
      "% http://www.cise.ufl.edu/research/sparse/matrices/Bydder/mri2\r\n",
      "% name: Bydder/mri2 : b matrix\r\n",
      "%-------------------------------------------------------------------------------\r\n",
      "63240 1\r\n",
      "-.07214859127998352 .037707749754190445\r\n",
      "-.0729086771607399 .03763720765709877\r\n",
      "-.07373382151126862 .03766685724258423\r\n"
     ]
    }
   ],
   "source": [
    "!head mri2_b.mtx"
   ]
  },
  {
   "cell_type": "code",
   "execution_count": null,
   "metadata": {
    "collapsed": false
   },
   "outputs": [],
   "source": [
    "r_vals, i_vals = np.loadtxt(\"mri2_b.mtx\", skiprows=7, unpack=True)\n",
    "\n",
    "%time solution = spspla.lsqr(MRI2, r_vals + 1j*i_vals)\n",
    "\n",
    "from scipy.fftpack import fft2, fftshift\n",
    "\n",
    "img = solution[0].reshape(384,384)\n",
    "img = np.abs(fftshift(fft2(img)))\n",
    "\n",
    "plt.figure(figsize=(8,8))\n",
    "plt.imshow(img)\n",
    "plt.show()"
   ]
  },
  {
   "cell_type": "code",
   "execution_count": null,
   "metadata": {
    "collapsed": false
   },
   "outputs": [],
   "source": [
    "m = np.array([56., 56., 56., 54., 54., 53.])\n",
    "k = np.array([561., 562., 560., 541., 542., 530.])\n",
    "\n",
    "def Axv(v):\n",
    "    global k, m\n",
    "    w = v.copy()\n",
    "    w[0] = (k[1]*v[1] - (k[0]+k[1])*v[0])/m[0]\n",
    "    for j in range(1, len(v)-1):\n",
    "        w[j] = k[j]*v[j-1] + k[j+1]*v[j+1] - (k[j]+k[j+1])*v[j]\n",
    "        w[j] /= m[j]\n",
    "        w[-1] = k[-1]*(v[-2]-v[-1])/m[-1]\n",
    "    return w\n",
    "\n",
    "A = spspla.LinearOperator((6,6), matvec=Axv, matmat=Axv, dtype=np.float64)"
   ]
  },
  {
   "cell_type": "code",
   "execution_count": null,
   "metadata": {
    "collapsed": false
   },
   "outputs": [],
   "source": [
    "def Cxv(v):\n",
    "    n = len(v)/2\n",
    "    w = v.copy()\n",
    "    w[:n] = v[n:]\n",
    "    w[n:] = A * v[:n]\n",
    "    return w\n",
    "\n",
    "C = spspla.LinearOperator((12,12), matvec=Cxv, matmat=Cxv, dtype=np.float64)"
   ]
  },
  {
   "cell_type": "code",
   "execution_count": null,
   "metadata": {
    "collapsed": false
   },
   "outputs": [],
   "source": [
    "initial_condition = np.zeros(12)\n",
    "initial_condition[6:] = 1\n",
    "\n",
    "Y = spspla.expm_multiply(C.matmat(np.eye(12)), np.ones(12), start=0, stop=1, num=10)"
   ]
  },
  {
   "cell_type": "code",
   "execution_count": null,
   "metadata": {
    "collapsed": false
   },
   "outputs": [],
   "source": [
    "plt.figure(figsize=(8,8))\n",
    "plt.plot(np.linspace(0,1,10), Y[:,0])\n",
    "plt.xlabel('time (in seconds)')\n",
    "plt.ylabel('oscillation')\n",
    "plt.show()"
   ]
  },
  {
   "cell_type": "code",
   "execution_count": null,
   "metadata": {
    "collapsed": false
   },
   "outputs": [],
   "source": [
    "blas_norm = spla.get_blas_funcs('nrm2')\n",
    "\n",
    "blas_norm(np.float32([1e20]))"
   ]
  },
  {
   "cell_type": "code",
   "execution_count": null,
   "metadata": {
    "collapsed": false
   },
   "outputs": [],
   "source": [
    "A = np.array([[1,2],[4,16]])\n",
    "A"
   ]
  },
  {
   "cell_type": "code",
   "execution_count": null,
   "metadata": {
    "collapsed": false
   },
   "outputs": [],
   "source": [
    "B = np.fromfunction(lambda i,j: (i-1)*(j+1), (3,2), dtype=int)\n",
    "print B"
   ]
  },
  {
   "cell_type": "code",
   "execution_count": null,
   "metadata": {
    "collapsed": false
   },
   "outputs": [],
   "source": [
    "np.diag((1j,4))"
   ]
  },
  {
   "cell_type": "code",
   "execution_count": null,
   "metadata": {
    "collapsed": false
   },
   "outputs": [],
   "source": [
    "np.empty_like(A)"
   ]
  },
  {
   "cell_type": "code",
   "execution_count": null,
   "metadata": {
    "collapsed": false
   },
   "outputs": [],
   "source": [
    "print spla.pascal(13, kind='lower')"
   ]
  },
  {
   "cell_type": "code",
   "execution_count": null,
   "metadata": {
    "collapsed": false
   },
   "outputs": [],
   "source": [
    "np.tile(A, (2,3))   # 2 rows, 3 columns"
   ]
  },
  {
   "cell_type": "code",
   "execution_count": null,
   "metadata": {
    "collapsed": false
   },
   "outputs": [],
   "source": [
    "spla.block_diag(A,B)"
   ]
  },
  {
   "cell_type": "code",
   "execution_count": null,
   "metadata": {
    "collapsed": false
   },
   "outputs": [],
   "source": [
    "C = np.matrix('1,2;4,16')\n",
    "C"
   ]
  },
  {
   "cell_type": "code",
   "execution_count": null,
   "metadata": {
    "collapsed": false
   },
   "outputs": [],
   "source": [
    "np.asmatrix(A)"
   ]
  },
  {
   "cell_type": "code",
   "execution_count": null,
   "metadata": {
    "collapsed": false
   },
   "outputs": [],
   "source": [
    "np.bmat('A;B') "
   ]
  },
  {
   "cell_type": "code",
   "execution_count": null,
   "metadata": {
    "collapsed": false
   },
   "outputs": [],
   "source": [
    "np.bmat('A,C;C,A')"
   ]
  },
  {
   "cell_type": "code",
   "execution_count": null,
   "metadata": {
    "collapsed": false
   },
   "outputs": [],
   "source": [
    "A_coo = spsp.coo_matrix(A)\n",
    "A_lil = spsp.lil_matrix(A)"
   ]
  },
  {
   "cell_type": "code",
   "execution_count": null,
   "metadata": {
    "collapsed": false
   },
   "outputs": [],
   "source": [
    "A_csr = spsp.csr_matrix(A_coo)"
   ]
  },
  {
   "cell_type": "code",
   "execution_count": null,
   "metadata": {
    "collapsed": false
   },
   "outputs": [],
   "source": [
    "M_bsr = spsp.bsr_matrix((100,100), dtype=int)"
   ]
  },
  {
   "cell_type": "code",
   "execution_count": null,
   "metadata": {
    "collapsed": false
   },
   "outputs": [],
   "source": [
    "M_lil = spsp.lil_matrix((100,100), dtype=int)\n",
    "M_lil[25:75, 25:75] = 1"
   ]
  },
  {
   "cell_type": "code",
   "execution_count": null,
   "metadata": {
    "collapsed": false
   },
   "outputs": [],
   "source": [
    "M_bsr[25:75, 25:75] = 1"
   ]
  },
  {
   "cell_type": "code",
   "execution_count": null,
   "metadata": {
    "collapsed": false
   },
   "outputs": [],
   "source": [
    "M_dok = spsp.dok_matrix((100,100), dtype=int)\n",
    "\n",
    "position = lambda i, j: ((i<j) & ((i+j)%10==0))\n",
    "\n",
    "for i in range(100):\n",
    "    for j in range(100):\n",
    "        M_dok[i,j] = position(i,j)"
   ]
  },
  {
   "cell_type": "code",
   "execution_count": null,
   "metadata": {
    "collapsed": false
   },
   "outputs": [],
   "source": [
    "! cat football.rb"
   ]
  },
  {
   "cell_type": "code",
   "execution_count": null,
   "metadata": {
    "collapsed": false
   },
   "outputs": [],
   "source": [
    "f = open(\"football.rb\", 'r')\n",
    "football_list = list(f)\n",
    "f.close()\n",
    "\n",
    "football_data = np.array([])\n",
    "\n",
    "for line in range(4, 4+12):\n",
    "    newdata = np.fromstring(football_list[line], sep=\" \")\n",
    "    football_data = np.append(football_data, newdata)\n",
    "    \n",
    "indptr  = football_data[:35+1] - 1\n",
    "indices = football_data[35+1:35+1+118] - 1\n",
    "data    = football_data[35+1+118:]\n",
    "\n",
    "football = spsp.csr_matrix((data, indices, indptr), shape=(35,35))"
   ]
  },
  {
   "cell_type": "code",
   "execution_count": null,
   "metadata": {
    "collapsed": false
   },
   "outputs": [],
   "source": [
    "import networkx\n",
    "\n",
    "G = networkx.DiGraph(football)\n",
    "\n",
    "f = open(\"football_nodename.txt\")\n",
    "m = list(f)\n",
    "f.close()\n",
    "\n",
    "def rename(x): return m[x]\n",
    "\n",
    "G = networkx.relabel_nodes(G, rename, copy=True)\n",
    "pos = networkx.spring_layout(G)  \n",
    "\n",
    "plt.figure(figsize=(8,8))\n",
    "networkx.draw_networkx(G, pos, alpha=0.2, node_color='k', edge_color='b')\n",
    "plt.show()"
   ]
  },
  {
   "cell_type": "code",
   "execution_count": null,
   "metadata": {
    "collapsed": false
   },
   "outputs": [],
   "source": [
    "diagonals = [[1]*14, [2]*13]\n",
    "\n",
    "print spsp.diags(diagonals, [0,-1]).todense()"
   ]
  },
  {
   "cell_type": "code",
   "execution_count": null,
   "metadata": {
    "collapsed": false
   },
   "outputs": [],
   "source": [
    "S_25_lil = spsp.rand(5, 5, density=0.25, format='lil')  \n",
    "S_25_lil"
   ]
  },
  {
   "cell_type": "code",
   "execution_count": null,
   "metadata": {
    "collapsed": false
   },
   "outputs": [],
   "source": [
    "print S_25_lil"
   ]
  },
  {
   "cell_type": "code",
   "execution_count": null,
   "metadata": {
    "collapsed": false
   },
   "outputs": [],
   "source": [
    "print S_25_lil.todense()"
   ]
  },
  {
   "cell_type": "code",
   "execution_count": null,
   "metadata": {
    "collapsed": false
   },
   "outputs": [],
   "source": [
    "H1 = np.matrix(\"1,3,5; 2,4,6; 6,4,2; 5,3,1\")\n",
    "H2 = np.matrix(\"1,2,3; 1,3,2; 2,1,3; 2,3,1\") \n",
    "\n",
    "def L1(x): return H1.dot(x)\n",
    "def L2(x): return H2.dot(x)\n",
    "\n",
    "print L1(np.ones(3))"
   ]
  },
  {
   "cell_type": "code",
   "execution_count": null,
   "metadata": {
    "collapsed": false
   },
   "outputs": [],
   "source": [
    "print L2(np.tri(3,3))"
   ]
  },
  {
   "cell_type": "code",
   "execution_count": null,
   "metadata": {
    "collapsed": false
   },
   "outputs": [],
   "source": [
    "L1 + L2"
   ]
  },
  {
   "cell_type": "code",
   "execution_count": null,
   "metadata": {
    "collapsed": false
   },
   "outputs": [],
   "source": [
    "Lo1 = spspla.aslinearoperator(H1)\n",
    "Lo2 = spspla.aslinearoperator(H2)\n",
    "\n",
    "Lo1 - 6 * Lo2"
   ]
  },
  {
   "cell_type": "code",
   "execution_count": null,
   "metadata": {
    "collapsed": false
   },
   "outputs": [],
   "source": [
    "print Lo1 * np.ones(3)"
   ]
  },
  {
   "cell_type": "code",
   "execution_count": null,
   "metadata": {
    "collapsed": false
   },
   "outputs": [],
   "source": [
    "print (Lo1-6*Lo2) * np.tri(3,3)"
   ]
  },
  {
   "cell_type": "code",
   "execution_count": null,
   "metadata": {
    "collapsed": false
   },
   "outputs": [],
   "source": [
    "P_sparse = spsp.diags([[1]*512, [1]*512], [512,-512], dtype=int)\n",
    "\n",
    "P_dense = P_sparse.todense()\n",
    "\n",
    "def mv(v): return np.roll(v, len(v)/2)\n",
    "\n",
    "P_lo = spspla.LinearOperator((1024,1024), matvec=mv, matmat=mv, dtype=int) "
   ]
  },
  {
   "cell_type": "code",
   "execution_count": null,
   "metadata": {
    "collapsed": false
   },
   "outputs": [],
   "source": [
    "%timeit P_sparse * np.ones(1024)"
   ]
  },
  {
   "cell_type": "code",
   "execution_count": null,
   "metadata": {
    "collapsed": false
   },
   "outputs": [],
   "source": [
    "%timeit P_dense.dot(np.ones(1024))"
   ]
  },
  {
   "cell_type": "code",
   "execution_count": null,
   "metadata": {
    "collapsed": false
   },
   "outputs": [],
   "source": [
    "%timeit P_lo * np.ones(1024)"
   ]
  },
  {
   "cell_type": "code",
   "execution_count": null,
   "metadata": {
    "collapsed": false
   },
   "outputs": [],
   "source": [
    "2*A"
   ]
  },
  {
   "cell_type": "code",
   "execution_count": null,
   "metadata": {
    "collapsed": false
   },
   "outputs": [],
   "source": [
    "A + 2*A"
   ]
  },
  {
   "cell_type": "code",
   "execution_count": null,
   "metadata": {
    "collapsed": false
   },
   "outputs": [],
   "source": [
    "A.dot(2*A)"
   ]
  },
  {
   "cell_type": "code",
   "execution_count": null,
   "metadata": {
    "collapsed": false
   },
   "outputs": [],
   "source": [
    "np.dot(A, 2*A)"
   ]
  },
  {
   "cell_type": "code",
   "execution_count": null,
   "metadata": {
    "collapsed": false
   },
   "outputs": [],
   "source": [
    "A.dot(B)"
   ]
  },
  {
   "cell_type": "code",
   "execution_count": null,
   "metadata": {
    "collapsed": false
   },
   "outputs": [],
   "source": [
    "B.dot(A)"
   ]
  },
  {
   "cell_type": "code",
   "execution_count": null,
   "metadata": {
    "collapsed": false
   },
   "outputs": [],
   "source": [
    "np.dot(B, A)"
   ]
  },
  {
   "cell_type": "code",
   "execution_count": null,
   "metadata": {
    "collapsed": false
   },
   "outputs": [],
   "source": [
    "C * B"
   ]
  },
  {
   "cell_type": "code",
   "execution_count": null,
   "metadata": {
    "collapsed": false
   },
   "outputs": [],
   "source": [
    "B * C"
   ]
  },
  {
   "cell_type": "code",
   "execution_count": null,
   "metadata": {
    "collapsed": false
   },
   "outputs": [],
   "source": [
    "S_10_coo = spsp.rand(5, 5, density=0.1, format='coo')\n",
    "\n",
    "S_25_lil + S_10_coo"
   ]
  },
  {
   "cell_type": "code",
   "execution_count": null,
   "metadata": {
    "collapsed": false
   },
   "outputs": [],
   "source": [
    "S_25_lil * S_10_coo"
   ]
  },
  {
   "cell_type": "code",
   "execution_count": null,
   "metadata": {
    "collapsed": false
   },
   "outputs": [],
   "source": [
    "S_100_coo = spsp.rand(2, 2, density=1, format='coo')\n",
    "\n",
    "np.dot(A, S_100_coo) "
   ]
  },
  {
   "cell_type": "code",
   "execution_count": null,
   "metadata": {
    "collapsed": false
   },
   "outputs": [],
   "source": [
    "A * S_100_coo"
   ]
  },
  {
   "cell_type": "code",
   "execution_count": null,
   "metadata": {
    "collapsed": false
   },
   "outputs": [],
   "source": [
    "A.trace()"
   ]
  },
  {
   "cell_type": "code",
   "execution_count": null,
   "metadata": {
    "collapsed": false
   },
   "outputs": [],
   "source": [
    "C.trace()"
   ]
  },
  {
   "cell_type": "code",
   "execution_count": null,
   "metadata": {
    "collapsed": false
   },
   "outputs": [],
   "source": [
    "B.trace()"
   ]
  },
  {
   "cell_type": "code",
   "execution_count": null,
   "metadata": {
    "collapsed": false
   },
   "outputs": [],
   "source": [
    "np.trace(B, offset=-1)"
   ]
  },
  {
   "cell_type": "code",
   "execution_count": null,
   "metadata": {
    "collapsed": false
   },
   "outputs": [],
   "source": [
    "spla.det(C)"
   ]
  },
  {
   "cell_type": "code",
   "execution_count": null,
   "metadata": {
    "collapsed": false
   },
   "outputs": [],
   "source": [
    "B.transpose()"
   ]
  },
  {
   "cell_type": "code",
   "execution_count": null,
   "metadata": {
    "collapsed": false
   },
   "outputs": [],
   "source": [
    "C.T"
   ]
  },
  {
   "cell_type": "code",
   "execution_count": null,
   "metadata": {
    "collapsed": false
   },
   "outputs": [],
   "source": [
    "D = C * np.diag((1j,4))\n",
    "print D"
   ]
  },
  {
   "cell_type": "code",
   "execution_count": null,
   "metadata": {
    "collapsed": false
   },
   "outputs": [],
   "source": [
    "print D.H"
   ]
  },
  {
   "cell_type": "code",
   "execution_count": null,
   "metadata": {
    "collapsed": false
   },
   "outputs": [],
   "source": [
    "E = spsp.rand(512, 512, density=1).todense()\n",
    "\n",
    "S_100_csc = spsp.rand(512, 512, density=1, format='csc')\n",
    "\n",
    "%timeit E.I"
   ]
  },
  {
   "cell_type": "code",
   "execution_count": null,
   "metadata": {
    "collapsed": false
   },
   "outputs": [],
   "source": [
    "%timeit spspla.inv(S_100_csc)"
   ]
  },
  {
   "cell_type": "code",
   "execution_count": null,
   "metadata": {
    "collapsed": false
   },
   "outputs": [],
   "source": [
    "spspla.inv(S_100_coo)"
   ]
  },
  {
   "cell_type": "code",
   "execution_count": null,
   "metadata": {
    "collapsed": false
   },
   "outputs": [],
   "source": [
    "F = E + E.T     # F is symmetric\n",
    "\n",
    "%timeit F.I"
   ]
  },
  {
   "cell_type": "code",
   "execution_count": null,
   "metadata": {
    "collapsed": false
   },
   "outputs": [],
   "source": [
    "%timeit spla.inv(F)"
   ]
  },
  {
   "cell_type": "code",
   "execution_count": null,
   "metadata": {
    "collapsed": false
   },
   "outputs": [],
   "source": [
    "%timeit spla.pinvh(E)"
   ]
  },
  {
   "cell_type": "code",
   "execution_count": null,
   "metadata": {
    "collapsed": false
   },
   "outputs": [],
   "source": [
    "%timeit spla.pinv2(E)"
   ]
  },
  {
   "cell_type": "code",
   "execution_count": null,
   "metadata": {
    "collapsed": false
   },
   "outputs": [],
   "source": [
    "%timeit spla.pinv(F)"
   ]
  },
  {
   "cell_type": "code",
   "execution_count": null,
   "metadata": {
    "collapsed": false
   },
   "outputs": [],
   "source": [
    "[spla.norm(A,s) for s in (np.inf,-np.inf,-1,1,-2,2,'fro')]"
   ]
  },
  {
   "cell_type": "code",
   "execution_count": null,
   "metadata": {
    "collapsed": false
   },
   "outputs": [],
   "source": [
    "spla.norm(S_100_csc.todense(), 1) - spspla.onenormest(S_100_csc)"
   ]
  },
  {
   "cell_type": "code",
   "execution_count": null,
   "metadata": {
    "collapsed": false
   },
   "outputs": [],
   "source": [
    "a = np.float64([1e20])\n",
    "b = np.float32([1e20])\n",
    "\n",
    "[np.linalg.norm(a), spla.norm(a)]"
   ]
  },
  {
   "cell_type": "code",
   "execution_count": null,
   "metadata": {
    "collapsed": false
   },
   "outputs": [],
   "source": [
    "np.linalg.norm(b)"
   ]
  },
  {
   "cell_type": "code",
   "execution_count": null,
   "metadata": {
    "collapsed": false
   },
   "outputs": [],
   "source": [
    "spla.norm(b)"
   ]
  },
  {
   "cell_type": "code",
   "execution_count": null,
   "metadata": {
    "collapsed": false
   },
   "outputs": [],
   "source": [
    "np.linalg.cond(C, -np.inf)"
   ]
  },
  {
   "cell_type": "code",
   "execution_count": null,
   "metadata": {
    "collapsed": false
   },
   "outputs": [],
   "source": [
    "def square(x): return x**2\n",
    "\n",
    "A = spla.hilbert(4)\n",
    "print A"
   ]
  },
  {
   "cell_type": "code",
   "execution_count": null,
   "metadata": {
    "collapsed": false
   },
   "outputs": [],
   "source": [
    "print square(A)"
   ]
  },
  {
   "cell_type": "code",
   "execution_count": null,
   "metadata": {
    "collapsed": false
   },
   "outputs": [],
   "source": [
    "print A*A "
   ]
  },
  {
   "cell_type": "code",
   "execution_count": null,
   "metadata": {
    "collapsed": false
   },
   "outputs": [],
   "source": [
    "print A**2"
   ]
  },
  {
   "cell_type": "code",
   "execution_count": null,
   "metadata": {
    "collapsed": false
   },
   "outputs": [],
   "source": [
    "print A.dot(A)"
   ]
  },
  {
   "cell_type": "code",
   "execution_count": null,
   "metadata": {
    "collapsed": false
   },
   "outputs": [],
   "source": [
    "print np.linalg.matrix_power(A, 2)"
   ]
  },
  {
   "cell_type": "code",
   "execution_count": null,
   "metadata": {
    "collapsed": false
   },
   "outputs": [],
   "source": [
    "print spla.fractional_matrix_power(A, 2)"
   ]
  },
  {
   "cell_type": "code",
   "execution_count": null,
   "metadata": {
    "collapsed": false
   },
   "outputs": [],
   "source": [
    "print spla.funm(A, square)"
   ]
  },
  {
   "cell_type": "code",
   "execution_count": null,
   "metadata": {
    "collapsed": false
   },
   "outputs": [],
   "source": [
    "A = (spla.pascal(1024, kind='lower')%2 != 0)\n",
    "\n",
    "%timeit spla.solve_triangular(A, np.ones(1024))"
   ]
  },
  {
   "cell_type": "code",
   "execution_count": null,
   "metadata": {
    "collapsed": false
   },
   "outputs": [],
   "source": [
    "B_banded = np.zeros((2,6))\n",
    "B_banded[0,1:] = -1\n",
    "B_banded[1,:] = 2\n",
    "\n",
    "spla.solveh_banded(B_banded, np.ones(6))"
   ]
  },
  {
   "cell_type": "code",
   "execution_count": null,
   "metadata": {
    "collapsed": false
   },
   "outputs": [],
   "source": [
    "C_banded = np.zeros((4,6))\n",
    "C_banded[0,1:] = -1\n",
    "C_banded[1,:] = 2\n",
    "C_banded[2,:-1] = -1\n",
    "C_banded[3,:-2] = 3\n",
    "\n",
    "print C_banded"
   ]
  },
  {
   "cell_type": "code",
   "execution_count": null,
   "metadata": {
    "collapsed": false
   },
   "outputs": [],
   "source": [
    "spla.solve_banded((2,1), C_banded, np.ones(6))"
   ]
  },
  {
   "cell_type": "code",
   "execution_count": null,
   "metadata": {
    "collapsed": false
   },
   "outputs": [],
   "source": [
    "B = spsp.diags([[-1]*5, [2]*6, [-1]*5], [-1,0,1]).todense()\n",
    "print B"
   ]
  },
  {
   "cell_type": "code",
   "execution_count": null,
   "metadata": {
    "collapsed": false
   },
   "outputs": [],
   "source": [
    "print spla.cholesky(B)"
   ]
  },
  {
   "cell_type": "code",
   "execution_count": null,
   "metadata": {
    "collapsed": false
   },
   "outputs": [],
   "source": [
    "print spla.cho_factor(B)[0]"
   ]
  },
  {
   "cell_type": "code",
   "execution_count": null,
   "metadata": {
    "collapsed": false
   },
   "outputs": [],
   "source": [
    "print spla.cholesky_banded(B_banded)"
   ]
  },
  {
   "cell_type": "code",
   "execution_count": null,
   "metadata": {
    "collapsed": false
   },
   "outputs": [],
   "source": [
    "spla.cho_solve((spla.cholesky(B), False), np.ones(6))"
   ]
  },
  {
   "cell_type": "code",
   "execution_count": null,
   "metadata": {
    "collapsed": false
   },
   "outputs": [],
   "source": [
    "spla.cho_solve(spla.cho_factor(B), np.ones(6))"
   ]
  },
  {
   "cell_type": "code",
   "execution_count": null,
   "metadata": {
    "collapsed": false
   },
   "outputs": [],
   "source": [
    "D = spla.circulant(np.arange(4096))\n",
    "%timeit spla.lu(D)"
   ]
  },
  {
   "cell_type": "code",
   "execution_count": null,
   "metadata": {
    "collapsed": false
   },
   "outputs": [],
   "source": [
    "%timeit spla.lu_factor(D)"
   ]
  },
  {
   "cell_type": "code",
   "execution_count": null,
   "metadata": {
    "collapsed": false
   },
   "outputs": [],
   "source": [
    "P, L, U = spla.lu(D)\n",
    "\n",
    "PL, U = spla.lu(D, permute_l=True)"
   ]
  },
  {
   "cell_type": "code",
   "execution_count": null,
   "metadata": {
    "collapsed": false
   },
   "outputs": [],
   "source": [
    "LU, piv = spla.lu_factor(D)"
   ]
  },
  {
   "cell_type": "code",
   "execution_count": null,
   "metadata": {
    "collapsed": false
   },
   "outputs": [],
   "source": [
    "spla.lu_solve(spla.lu_factor(D), np.ones(4096))"
   ]
  },
  {
   "cell_type": "code",
   "execution_count": null,
   "metadata": {
    "collapsed": false
   },
   "outputs": [],
   "source": [
    "A_csc = spsp.csc_matrix(A, dtype=np.float64)   \n",
    "\n",
    "invA = spspla.splu(A_csc)\n",
    "\n",
    "%time invA.solve(np.ones(1024))"
   ]
  },
  {
   "cell_type": "code",
   "execution_count": null,
   "metadata": {
    "collapsed": false
   },
   "outputs": [],
   "source": [
    "invA = spspla.spilu(A_csc)\n",
    "\n",
    "%time invA.solve(np.ones(1024))"
   ]
  },
  {
   "cell_type": "code",
   "execution_count": null,
   "metadata": {
    "collapsed": false
   },
   "outputs": [],
   "source": [
    "spspla.cg(A_csc, np.ones(1024), x0=np.zeros(1024))"
   ]
  },
  {
   "cell_type": "code",
   "execution_count": null,
   "metadata": {
    "collapsed": false
   },
   "outputs": [],
   "source": [
    "%time spspla.gmres(A_csc, np.ones(1024), x0=np.zeros(1024))"
   ]
  },
  {
   "cell_type": "code",
   "execution_count": null,
   "metadata": {
    "collapsed": false
   },
   "outputs": [],
   "source": [
    "Nsteps = 1\n",
    "\n",
    "def callbackF(xk):\n",
    "    global Nsteps\n",
    "    print'{0:4d}  {1:3.6f}  {2:3.6f}'.format(Nsteps, xk[0], xk[1])\n",
    "    Nsteps += 1\n",
    "    \n",
    "print '{0:4s}  {1:9s}  {1:9s}'.format('Iter', 'X[0]','X[1]')\n",
    "\n",
    "spspla.bicg(A_csc, np.ones(1024), x0=np.zeros(1024), callback=callbackF)"
   ]
  },
  {
   "cell_type": "code",
   "execution_count": null,
   "metadata": {
    "collapsed": false
   },
   "outputs": [],
   "source": [
    "E = D[:512,:256]; b = np.ones(512)\n",
    "\n",
    "sol1 = np.dot(spla.pinv2(E), b)\n",
    "\n",
    "sol2 = spla.solve(np.dot(E.T, E), np.dot(E.T, b))"
   ]
  },
  {
   "cell_type": "code",
   "execution_count": null,
   "metadata": {
    "collapsed": false
   },
   "outputs": [],
   "source": [
    "Q, R = spla.qr(E)\n",
    "RR = R[:256, :256]\n",
    "BB = np.dot(Q.T, b)[:256]\n",
    "\n",
    "sol3 = spla.solve_triangular(RR, BB)\n",
    "\n",
    "Q, R = spla.qr(E, mode='economic')\n",
    "\n",
    "sol3 = spla.solve_triangular(R, np.dot(Q.T, b))"
   ]
  },
  {
   "cell_type": "code",
   "execution_count": null,
   "metadata": {
    "collapsed": false
   },
   "outputs": [],
   "source": [
    "U, s, Vh = spla.svd(E)\n",
    "Uh = U.T\n",
    "Si = spla.diagsvd(1./s, 256, 256)\n",
    "V = Vh.T\n",
    "\n",
    "sol4 = np.dot(V, Si).dot(np.dot(Uh, b)[:256])   \n",
    "\n",
    "U, s, Vh = spla.svd(E, full_matrices=False)\n",
    "Uh = U.T\n",
    "Si = spla.diagsvd(1./s, 256, 256)\n",
    "V = Vh.T\n",
    "\n",
    "sol4 = np.dot(V, Si).dot(np.dot(Uh, b))"
   ]
  },
  {
   "cell_type": "code",
   "execution_count": null,
   "metadata": {
    "collapsed": false
   },
   "outputs": [],
   "source": [
    "sol5, residue, rank, s = spla.lstsq(E, b)"
   ]
  },
  {
   "cell_type": "code",
   "execution_count": null,
   "metadata": {
    "collapsed": false
   },
   "outputs": [],
   "source": [
    "map(lambda x: np.allclose(sol5, x), [sol1, sol2, sol3, sol4])"
   ]
  },
  {
   "cell_type": "code",
   "execution_count": null,
   "metadata": {
    "collapsed": false
   },
   "outputs": [],
   "source": [
    "np.set_printoptions(suppress=True, precision=6)\n",
    "rows, cols, data = np.loadtxt(\"Andrews.mtx\", skiprows=14, unpack=True)\n",
    "rows-=1\n",
    "cols-=1\n",
    "\n",
    "A = spsp.csc_matrix((data, (rows, cols)), shape=(60000,60000))\n",
    "A = A + spsp.tril(A, k=1).transpose()"
   ]
  },
  {
   "cell_type": "code",
   "execution_count": null,
   "metadata": {
    "collapsed": false
   },
   "outputs": [],
   "source": [
    "%time eigvals, v = spspla.eigsh(A, 5, which='LM')\n",
    "print eigvals"
   ]
  },
  {
   "cell_type": "code",
   "execution_count": null,
   "metadata": {
    "collapsed": false
   },
   "outputs": [],
   "source": [
    "%time eigvals, v = spspla.eigsh(A, 5, which='SM')\n",
    "print eigvals"
   ]
  },
  {
   "cell_type": "code",
   "execution_count": null,
   "metadata": {
    "collapsed": false
   },
   "outputs": [],
   "source": [
    "A = spspla.aslinearoperator(A)\n",
    "\n",
    "%time spspla.eigsh(A, 5, sigma=10.0, mode='cayley')\n",
    "print eigvals"
   ]
  },
  {
   "cell_type": "code",
   "execution_count": null,
   "metadata": {
    "collapsed": false
   },
   "outputs": [],
   "source": []
  }
 ],
 "metadata": {
  "kernelspec": {
   "display_name": "Python 2",
   "language": "python",
   "name": "python2"
  },
  "language_info": {
   "codemirror_mode": {
    "name": "ipython",
    "version": 2
   },
   "file_extension": ".py",
   "mimetype": "text/x-python",
   "name": "python",
   "nbconvert_exporter": "python",
   "pygments_lexer": "ipython2",
   "version": "2.7.10"
  }
 },
 "nbformat": 4,
 "nbformat_minor": 0
}
