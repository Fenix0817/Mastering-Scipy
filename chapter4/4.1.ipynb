{
 "cells": [
  {
   "cell_type": "code",
   "execution_count": null,
   "metadata": {
    "collapsed": false
   },
   "outputs": [],
   "source": [
    "import numpy as np, matplotlib.pyplot as plt\n",
    "from scipy.interpolate import BarycentricInterpolator\n",
    "\n",
    "%matplotlib inline\n",
    "    \n",
    "def f(t): return 1. / (1. + t**2)\n",
    "    \n",
    "nodes = np.linspace(-5, 5, 11)\n",
    "domain = np.linspace(-5, 5, 128)\n",
    "interpolant = BarycentricInterpolator(nodes, f(nodes))\n",
    "\n",
    "plt.figure(figsize=(12,6))\n",
    "plt.subplot(121)\n",
    "plt.plot(domain, f(domain), 'r-', label='original')\n",
    "plt.plot(nodes, f(nodes), 'ro', label='nodes')\n",
    "plt.plot(domain, interpolant(domain), 'b--', label='interpolant')\n",
    "plt.legend(loc=9)\n",
    "plt.subplot(122)\n",
    "plt.plot(domain, np.abs(f(domain)-interpolant(domain)))\n",
    "plt.title('error or interpolation')\n",
    "plt.show()"
   ]
  },
  {
   "cell_type": "code",
   "execution_count": null,
   "metadata": {
    "collapsed": false
   },
   "outputs": [],
   "source": [
    "error1a = np.abs(f(domain)-interpolant(domain)).max()\n",
    "print error1a"
   ]
  },
  {
   "cell_type": "code",
   "execution_count": null,
   "metadata": {
    "collapsed": false
   },
   "outputs": [],
   "source": [
    "from scipy.optimize import minimize_scalar\n",
    "\n",
    "def uniform_norm(func, a, b):\n",
    "    g = lambda t: -np.abs(func(t))\n",
    "    output = minimize_scalar(g, method=\"bounded\", bounds=(a, b))\n",
    "    return -output.fun\n",
    "\n",
    "def difference(t): return f(t) - interpolant(t)\n",
    "\n",
    "error1b = uniform_norm(difference, 0., 5.)\n",
    "print error1b\n",
    "\n",
    "error1c = uniform_norm(difference, -5., 5.)\n",
    "print error1c"
   ]
  },
  {
   "cell_type": "code",
   "execution_count": null,
   "metadata": {
    "collapsed": false
   },
   "outputs": [],
   "source": [
    "from scipy.special import t_roots\n",
    "\n",
    "nodes = 5 * t_roots(11)[0]\n",
    "print nodes\n",
    "\n",
    "interpolant = BarycentricInterpolator(nodes, f(nodes))\n",
    "    \n",
    "plt.figure(figsize=(12,6))\n",
    "plt.subplot(121)\n",
    "plt.plot(domain, f(domain), 'r-', label='original')\n",
    "plt.plot(nodes, f(nodes), 'ro', label='nodes')\n",
    "plt.plot(domain, interpolant(domain), 'b--', label='interpolant')\n",
    "plt.legend(loc=2)\n",
    "plt.subplot(122)\n",
    "plt.plot(domain, np.abs(f(domain)-interpolant(domain)))\n",
    "plt.title('error or interpolation')\n",
    "plt.show()"
   ]
  },
  {
   "cell_type": "code",
   "execution_count": null,
   "metadata": {
    "collapsed": false
   },
   "outputs": [],
   "source": [
    "def difference(t): return f(t) - interpolant(t)\n",
    "\n",
    "error2 = uniform_norm(difference, 0, 2.)\n",
    "print error2"
   ]
  },
  {
   "cell_type": "code",
   "execution_count": null,
   "metadata": {
    "collapsed": true
   },
   "outputs": [],
   "source": []
  }
 ],
 "metadata": {
  "kernelspec": {
   "display_name": "Python 2",
   "language": "python",
   "name": "python2"
  },
  "language_info": {
   "codemirror_mode": {
    "name": "ipython",
    "version": 2
   },
   "file_extension": ".py",
   "mimetype": "text/x-python",
   "name": "python",
   "nbconvert_exporter": "python",
   "pygments_lexer": "ipython2",
   "version": "2.7.10"
  }
 },
 "nbformat": 4,
 "nbformat_minor": 0
}
