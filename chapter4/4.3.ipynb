{
 "cells": [
  {
   "cell_type": "code",
   "execution_count": null,
   "metadata": {
    "collapsed": false
   },
   "outputs": [],
   "source": [
    "import numpy as np\n",
    "from scipy.interpolate import lagrange\n",
    "from scipy.optimize import OptimizeResult, minimize_scalar\n",
    "\n",
    "def good_bracket(func, bracket):\n",
    "    a, c, b = bracket\n",
    "    return (func(a) > func(c)) and (func(b) > func(c))\n",
    "\n",
    "\n",
    "def parabolic_step(f, args, bracket, **options):\n",
    "    stop = False\n",
    "    funcalls = 0\n",
    "    niter = 0\n",
    "    while not stop:\n",
    "        niter += 1\n",
    "        interpolator = lagrange(np.array(bracket), f(np.array(bracket)))\n",
    "        funcalls += 3\n",
    "        a, b, c = interpolator.coeffs\n",
    "        d = -0.5*b/a\n",
    "        if np.allclose(bracket[1], d):\n",
    "            minima = d\n",
    "            stop = True\n",
    "        elif bracket[1] < d:\n",
    "            newbracket = [bracket[1], d, bracket[2]]\n",
    "            if good_bracket(f, newbracket):\n",
    "                bracket = newbracket\n",
    "            else:\n",
    "                bracket = [bracket[0], bracket[1], d]\n",
    "        else:\n",
    "            newbracket = [d, bracket[1], bracket[2]]\n",
    "            if good_bracket(f, newbracket):\n",
    "                bracket = newbracket\n",
    "            else:\n",
    "                bracket = [bracket[0], d, bracket[1]]\n",
    "    return OptimizeResult(fun=f(minima), x=minima, nit=niter, nfev=funcalls)"
   ]
  },
  {
   "cell_type": "code",
   "execution_count": null,
   "metadata": {
    "collapsed": false
   },
   "outputs": [],
   "source": [
    "def g(x): return -np.exp(-x)*np.sin(x)\n",
    "\n",
    "f = np.vectorize(lambda x: max(1-x, 2+x))\n",
    "\n",
    "print good_bracket(f, [-1, -0.5, 1])\n",
    "\n",
    "print minimize_scalar(f, bracket=[-1, -0.5, 1], method=parabolic_step)"
   ]
  },
  {
   "cell_type": "code",
   "execution_count": null,
   "metadata": {
    "collapsed": false
   },
   "outputs": [],
   "source": [
    "print good_bracket(g, [0, 1.2, 1.5])\n",
    "\n",
    "print minimize_scalar(g, bracket=[0,1.2,1.5], method=parabolic_step)"
   ]
  },
  {
   "cell_type": "code",
   "execution_count": null,
   "metadata": {
    "collapsed": false
   },
   "outputs": [],
   "source": [
    "minimize_scalar(f, method='brent', bracket=[-1, -0.5, 1])"
   ]
  },
  {
   "cell_type": "code",
   "execution_count": null,
   "metadata": {
    "collapsed": false
   },
   "outputs": [],
   "source": [
    "minimize_scalar(f, method='golden', bracket=[-1, -0.5, 1])"
   ]
  },
  {
   "cell_type": "code",
   "execution_count": null,
   "metadata": {
    "collapsed": false
   },
   "outputs": [],
   "source": [
    "minimize_scalar(g, method='brent', bracket=[0, 1.2, 1.5])"
   ]
  },
  {
   "cell_type": "code",
   "execution_count": null,
   "metadata": {
    "collapsed": false
   },
   "outputs": [],
   "source": [
    "minimize_scalar(g, method='golden', bracket=[0, 1.2, 1.5])"
   ]
  },
  {
   "cell_type": "code",
   "execution_count": null,
   "metadata": {
    "collapsed": false
   },
   "outputs": [],
   "source": [
    "minimize_scalar(g, method='bounded', bounds=(0, 1.5))"
   ]
  },
  {
   "cell_type": "code",
   "execution_count": null,
   "metadata": {
    "collapsed": false
   },
   "outputs": [],
   "source": [
    "from scipy.optimize import rosen\n",
    "\n",
    "from sympy import var, Matrix, solve, init_printing\n",
    "init_printing()\n",
    "\n",
    "var('x y')\n",
    "\n",
    "F = Matrix([rosen([x, y])])\n",
    "\n",
    "F"
   ]
  },
  {
   "cell_type": "code",
   "execution_count": null,
   "metadata": {
    "collapsed": false
   },
   "outputs": [],
   "source": [
    "def f(x,y): return rosen([x, y])\n",
    "\n",
    "import matplotlib.pyplot as plt, matplotlib.cm as cm\n",
    "from mpl_toolkits.mplot3d.axes3d import Axes3D\n",
    "%matplotlib inline\n",
    "\n",
    "plt.figure(figsize=(12,6))\n",
    "plt.subplot(121, aspect='equal')\n",
    "X, Y = np.mgrid[-1.25:1.25:100j, -1.25:1.25:100j]\n",
    "plt.contourf(X, Y, f(X,Y), levels=np.linspace(0,800,16), cmap=cm.Greys)\n",
    "plt.colorbar(orientation='horizontal')\n",
    "plt.title('Contour plot')\n",
    "\n",
    "ax = plt.subplot(122, projection='3d', aspect='equal')\n",
    "ax.plot_surface(X, Y, f(X,Y), cmap=cm.Greys, alpha=0.75)\n",
    "plt.colorbar(orientation='horizontal')\n",
    "plt.title('Surface plot')\n",
    "plt.show()"
   ]
  },
  {
   "cell_type": "code",
   "execution_count": null,
   "metadata": {
    "collapsed": false
   },
   "outputs": [],
   "source": [
    "JacF = F.jacobian([x, y])\n",
    "JacF"
   ]
  },
  {
   "cell_type": "code",
   "execution_count": null,
   "metadata": {
    "collapsed": false
   },
   "outputs": [],
   "source": [
    "HesF = JacF.jacobian([x, y])\n",
    "HesF"
   ]
  },
  {
   "cell_type": "code",
   "execution_count": null,
   "metadata": {
    "collapsed": false
   },
   "outputs": [],
   "source": [
    "solve(JacF)"
   ]
  },
  {
   "cell_type": "code",
   "execution_count": null,
   "metadata": {
    "collapsed": false
   },
   "outputs": [],
   "source": [
    "HesF.subs({x: 1.0, y: 1.0})"
   ]
  },
  {
   "cell_type": "code",
   "execution_count": null,
   "metadata": {
    "collapsed": false
   },
   "outputs": [],
   "source": [
    "_.det()"
   ]
  },
  {
   "cell_type": "code",
   "execution_count": null,
   "metadata": {
    "collapsed": false
   },
   "outputs": [],
   "source": [
    "var('x:4')\n",
    "X = [x0, x1, x2, x3]\n",
    "F = Matrix([rosen(X)])\n",
    "\n",
    "%time solve(F.jacobian(X))"
   ]
  },
  {
   "cell_type": "code",
   "execution_count": null,
   "metadata": {
    "collapsed": false
   },
   "outputs": [],
   "source": [
    "from scipy.optimize import brute\n",
    "\n",
    "interval = slice(-3, 3, 0.25)\n",
    "box = [interval] * 4\n",
    "\n",
    "%time brute(rosen, box)"
   ]
  },
  {
   "cell_type": "code",
   "execution_count": null,
   "metadata": {
    "collapsed": false
   },
   "outputs": [],
   "source": [
    "from scipy.optimize import minimize, basinhopping\n",
    "\n",
    "%time basinhopping(rosen, np.zeros(9))"
   ]
  },
  {
   "cell_type": "code",
   "execution_count": null,
   "metadata": {
    "collapsed": false
   },
   "outputs": [],
   "source": [
    "minimize(rosen, np.zeros(9), method='Anneal')"
   ]
  },
  {
   "cell_type": "code",
   "execution_count": null,
   "metadata": {
    "collapsed": false
   },
   "outputs": [],
   "source": [
    "minimize(rosen, np.zeros(9), method='Powell')"
   ]
  },
  {
   "cell_type": "code",
   "execution_count": null,
   "metadata": {
    "collapsed": false
   },
   "outputs": [],
   "source": [
    "minimize(rosen, np.zeros(9), method='Nelder-Mead')"
   ]
  },
  {
   "cell_type": "code",
   "execution_count": null,
   "metadata": {
    "collapsed": false
   },
   "outputs": [],
   "source": [
    "minimize(rosen, np.zeros(9), method='BFGS')"
   ]
  },
  {
   "cell_type": "code",
   "execution_count": null,
   "metadata": {
    "collapsed": false
   },
   "outputs": [],
   "source": [
    "minimize(rosen, np.zeros(9), method='CG')"
   ]
  },
  {
   "cell_type": "code",
   "execution_count": null,
   "metadata": {
    "collapsed": false
   },
   "outputs": [],
   "source": [
    "from scipy.optimize import rosen_der\n",
    "\n",
    "minimize(rosen, np.zeros(9), method='CG', jac=rosen_der)"
   ]
  },
  {
   "cell_type": "code",
   "execution_count": null,
   "metadata": {
    "collapsed": false
   },
   "outputs": [],
   "source": [
    "minimize(rosen, np.zeros(9), method='Newton-CG')"
   ]
  },
  {
   "cell_type": "code",
   "execution_count": null,
   "metadata": {
    "collapsed": false
   },
   "outputs": [],
   "source": [
    "minimize(rosen, np.zeros(9), method='Newton-CG', jac=rosen_der)"
   ]
  },
  {
   "cell_type": "code",
   "execution_count": null,
   "metadata": {
    "collapsed": false
   },
   "outputs": [],
   "source": [
    "from scipy.optimize import rosen_hess\n",
    "\n",
    "minimize(rosen, np.zeros(9), method='dogleg', jac=rosen_der, hess=rosen_hess)"
   ]
  },
  {
   "cell_type": "code",
   "execution_count": null,
   "metadata": {
    "collapsed": false
   },
   "outputs": [],
   "source": [
    "minimize(rosen, np.zeros(9), method='trust-ncg', jac=rosen_der, hess=rosen_hess)"
   ]
  },
  {
   "cell_type": "code",
   "execution_count": null,
   "metadata": {
    "collapsed": false
   },
   "outputs": [],
   "source": [
    "F = Matrix([5*x - 2*y + 4])\n",
    "G = Matrix([x**2 + y**2 - 4])      # constraint\n",
    "\n",
    "var('z')\n",
    "\n",
    "solve(F.jacobian([x, y]) - z * G.jacobian([x, y]))"
   ]
  },
  {
   "cell_type": "code",
   "execution_count": null,
   "metadata": {
    "collapsed": false
   },
   "outputs": [],
   "source": [
    "soln = _[0]\n",
    "solve(G.subs(soln))"
   ]
  },
  {
   "cell_type": "code",
   "execution_count": null,
   "metadata": {
    "collapsed": false
   },
   "outputs": [],
   "source": [
    "zees = _\n",
    "[(soln[x].subs(item), soln[y].subs(item)) for item in zees]"
   ]
  },
  {
   "cell_type": "code",
   "execution_count": null,
   "metadata": {
    "collapsed": true
   },
   "outputs": [],
   "source": [
    "def f(x): return 5*x[0] - 2*x[1] + 4\n",
    "def jacf(x): return np.array([5.0, -2.0])\n",
    "\n",
    "circle = {'type': 'eq',\n",
    "          'fun': lambda x: x[0]**2 + x[1]**2 - 4.0,\n",
    "          'jac': lambda x: np.array([2.0 * x[0], 2.0 * x[1]])}\n",
    "\n",
    "semicircle = ({'type': 'eq',\n",
    "               'fun': lambda x: x[0]**2 + x[1]**2 - 4.0,\n",
    "               'jac': lambda x: np.array([2.0 * x[0], 2.0 * x[1]])},\n",
    "              {'type': 'ineq',\n",
    "               'fun': lambda x: x[1],\n",
    "               'jac': lambda x: np.array([0.0, 1.0])})"
   ]
  },
  {
   "cell_type": "code",
   "execution_count": null,
   "metadata": {
    "collapsed": false
   },
   "outputs": [],
   "source": [
    "minimize(f, [2,2], jac=jacf, method='SLSQP', constraints=circle)"
   ]
  },
  {
   "cell_type": "code",
   "execution_count": null,
   "metadata": {
    "collapsed": false
   },
   "outputs": [],
   "source": [
    "minimize(f, [2,2], jac=jacf, method='SLSQP', constraints=semicircle)"
   ]
  }
 ],
 "metadata": {
  "kernelspec": {
   "display_name": "Python 2",
   "language": "python",
   "name": "python2"
  },
  "language_info": {
   "codemirror_mode": {
    "name": "ipython",
    "version": 2
   },
   "file_extension": ".py",
   "mimetype": "text/x-python",
   "name": "python",
   "nbconvert_exporter": "python",
   "pygments_lexer": "ipython2",
   "version": "2.7.10"
  }
 },
 "nbformat": 4,
 "nbformat_minor": 0
}
