{
 "cells": [
  {
   "cell_type": "code",
   "execution_count": null,
   "metadata": {
    "collapsed": false
   },
   "outputs": [],
   "source": [
    "import numpy as np\n",
    "\n",
    "a, b, c = 1.0e-10, -(1.0e10 + 1.)/1.0e10, 1.\n",
    "\n",
    "(-b - np.sqrt(b**2 - 4*a*c))/(2*a)"
   ]
  },
  {
   "cell_type": "code",
   "execution_count": null,
   "metadata": {
    "collapsed": false
   },
   "outputs": [],
   "source": [
    "2*c / (-b + np.sqrt(b**2 - 4*a*c))"
   ]
  },
  {
   "cell_type": "code",
   "execution_count": null,
   "metadata": {
    "collapsed": false
   },
   "outputs": [],
   "source": [
    "from sympy import symbols, solve\n",
    "\n",
    "x = symbols('x', real=True)\n",
    "\n",
    "solve(a*x**2 + b*x + c)"
   ]
  },
  {
   "cell_type": "code",
   "execution_count": null,
   "metadata": {
    "collapsed": false
   },
   "outputs": [],
   "source": [
    "from scipy.optimize import bisect\n",
    "\n",
    "p = np.poly1d([a,b,c])\n",
    "\n",
    "bisect(p, 0, 2)"
   ]
  },
  {
   "cell_type": "code",
   "execution_count": null,
   "metadata": {
    "collapsed": false
   },
   "outputs": [],
   "source": [
    "print bisect(p, -1, 2)\n",
    "\n",
    "print bisect(p, -1, 2, xtol=1e-15)\n",
    "\n",
    "print bisect(p, -1, 2, xtol=1e-15, rtol=1e-15)"
   ]
  },
  {
   "cell_type": "code",
   "execution_count": null,
   "metadata": {
    "collapsed": false
   },
   "outputs": [],
   "source": [
    "soln, info = bisect(p, -1, 2, full_output=True)\n",
    "\n",
    "print \"Iterations: {0}\".format(info.iterations)\n",
    "print \"Function calls: {0}\".format(info.function_calls)"
   ]
  },
  {
   "cell_type": "code",
   "execution_count": null,
   "metadata": {
    "collapsed": false
   },
   "outputs": [],
   "source": [
    "from scipy.optimize import ridder\n",
    "\n",
    "soln, info = ridder(p, -1, 2, full_output=True)\n",
    "\n",
    "print \"Solution: {0}\".format(info.root)\n",
    "print \"Iterations: {0}\".format(info.iterations)\n",
    "print \"Function calls: {0}\".format(info.function_calls)"
   ]
  },
  {
   "cell_type": "code",
   "execution_count": null,
   "metadata": {
    "collapsed": false
   },
   "outputs": [],
   "source": [
    "from scipy.optimize import newton\n",
    "from sympy import sin as Sin, pi, diff, lambdify\n",
    "\n",
    "def f(t): return np.sin(t)/t\n",
    "f0 = Sin(x)/x\n",
    "f1prime = lambdify(x, diff(f0, x), \"numpy\")\n",
    "f2prime = lambdify(x, diff(f0, x, 2), \"numpy\")\n",
    "\n",
    "print solve(f0, x)\n",
    "print newton(f, 1)                 # pure secant\n",
    "print newton(f, 1, fprime=f1prime) # Newton-Raphson\n",
    "print newton(f, 1, fprime=f1prime, fprime2=f2prime)   # Halley"
   ]
  },
  {
   "cell_type": "code",
   "execution_count": null,
   "metadata": {
    "collapsed": false
   },
   "outputs": [],
   "source": [
    "print solve(x**20 - 1, x)\n",
    " \n",
    "coeffs = np.zeros(21)\n",
    "coeffs[0] = 1\n",
    "coeffs[20] = -1\n",
    "p = np.poly1d(coeffs)\n",
    "p1prime = p.deriv(m=1)\n",
    "p2prime = p.deriv(m=2)\n",
    "   \n",
    "print newton(p, 0.5, fprime=p1prime)"
   ]
  },
  {
   "cell_type": "code",
   "execution_count": null,
   "metadata": {
    "collapsed": false
   },
   "outputs": [],
   "source": [
    "print newton(p, 0.5, fprime=p1prime, fprime2=p2prime)"
   ]
  },
  {
   "cell_type": "code",
   "execution_count": null,
   "metadata": {
    "collapsed": false
   },
   "outputs": [],
   "source": [
    "def g(t): return np.sin(t)/t + t\n",
    "\n",
    "from scipy.optimize import fixed_point\n",
    "\n",
    "fixed_point(g, 1)"
   ]
  },
  {
   "cell_type": "code",
   "execution_count": null,
   "metadata": {
    "collapsed": false
   },
   "outputs": [],
   "source": [
    "soln, info = bisect(f, 1, 5, full_output=True)\n",
    "list1 = ['bisect', info.root, info.iterations, info.function_calls]\n",
    "\n",
    "soln, info = ridder(f, 1, 5, full_output=True)\n",
    "list2 = ['ridder', info.root, info.iterations, info.function_calls]\n",
    "\n",
    "from scipy.optimize import brentq, brenth\n",
    "\n",
    "soln, info = brentq(f, 1, 5, full_output=True)\n",
    "list3 = ['brentq', info.root, info.iterations, info.function_calls]\n",
    "\n",
    "soln, info = brenth(f, 1, 5, full_output=True)\n",
    "list4 = ['brenth', info.root, info.iterations, info.function_calls]\n",
    "   \n",
    "for item in [list1, list2, list3, list4]:\n",
    "    print \"{0}: x={1}. Iterations: {2}. Calls: {3}\".format(*item)"
   ]
  },
  {
   "cell_type": "code",
   "execution_count": null,
   "metadata": {
    "collapsed": false
   },
   "outputs": [],
   "source": [
    "import numpy as np\n",
    "from sympy import symbols, solve\n",
    "   \n",
    "x,y = symbols('x y', real=True)\n",
    "\n",
    "solutions = solve([x**2 + y**2 - 16, x**2 - 2*y -8])\n",
    "    \n",
    "for item in solutions:\n",
    "    print '({0}, {1})'.format(item[x], item[y])"
   ]
  },
  {
   "cell_type": "code",
   "execution_count": null,
   "metadata": {
    "collapsed": false
   },
   "outputs": [],
   "source": [
    "solve([1/x**4 + 6/y**4 - 6, 2*y**4 + 12*x**4 - 12*x**4*y**4])"
   ]
  },
  {
   "cell_type": "code",
   "execution_count": null,
   "metadata": {
    "collapsed": false
   },
   "outputs": [],
   "source": [
    "x0, y0 = 1., (6/5.)**(1/4.)\n",
    "\n",
    "print np.isclose(1/x0**4 + 6/y0**4, 6)\n",
    "print np.isclose(2*y0**4 + 12*x0**4, 12*x0**4*y0**4)"
   ]
  },
  {
   "cell_type": "code",
   "execution_count": null,
   "metadata": {
    "collapsed": false
   },
   "outputs": [],
   "source": [
    "def f(x):\n",
    "    output = [(3-2*x[0])*x[0] - 2*x[1] + 1]\n",
    "    for k in range(1,8):\n",
    "        output += [-x[k-1] + (3-2*x[k])*x[k] - 2*x[k+1] + 1]\n",
    "    output += [-x[7] + (3-2*x[8])*x[8] + 1]\n",
    "    return output\n",
    "\n",
    "from sympy import Matrix, var\n",
    "\n",
    "var('x:9')\n",
    "X = [x0, x1, x2, x3, x4, x5, x6, x7, x8]\n",
    "\n",
    "F  = Matrix(f(X))\n",
    "F"
   ]
  },
  {
   "cell_type": "code",
   "execution_count": null,
   "metadata": {
    "collapsed": false
   },
   "outputs": [],
   "source": [
    "from scipy.optimize import root\n",
    "\n",
    "def callbackF(xk, residual):\n",
    "    print xk\n",
    "\n",
    "root(f, np.zeros(9), callback=callbackF, method='linearmixing')     "
   ]
  },
  {
   "cell_type": "code",
   "execution_count": null,
   "metadata": {
    "collapsed": false
   },
   "outputs": [],
   "source": [
    "lm_options = {}\n",
    "lm_options['line_search'] = 'wolfe'\n",
    "lm_options['xtol'] = 1e-5\n",
    "lm_options['maxiter'] = 2000\n",
    "\n",
    "root(f, np.zeros(9), method='linearmixing', options=lm_options)"
   ]
  },
  {
   "cell_type": "code",
   "execution_count": null,
   "metadata": {
    "collapsed": false
   },
   "outputs": [],
   "source": [
    "root(f, np.zeros(9), callback=callbackF, method='excitingmixing')"
   ]
  },
  {
   "cell_type": "code",
   "execution_count": null,
   "metadata": {
    "collapsed": false
   },
   "outputs": [],
   "source": [
    "root(f, np.zeros(9), callback=callbackF, method='diagbroyden')"
   ]
  },
  {
   "cell_type": "code",
   "execution_count": null,
   "metadata": {
    "collapsed": false
   },
   "outputs": [],
   "source": [
    "root(f, np.zeros(9), callback=callbackF, method='broyden1')"
   ]
  },
  {
   "cell_type": "code",
   "execution_count": null,
   "metadata": {
    "collapsed": false
   },
   "outputs": [],
   "source": [
    "b1_options = {}\n",
    "b1_options['max_rank'] = 4\n",
    "b1_options['reduce_method'] = 'svd'\n",
    "b1_options['to_retain'] = 2\n",
    "\n",
    "root(f, np.zeros(9), method='broyden1', options=b1_options)"
   ]
  },
  {
   "cell_type": "code",
   "execution_count": null,
   "metadata": {
    "collapsed": false
   },
   "outputs": [],
   "source": [
    "solution = root(f, np.zeros(9), method='hybr')\n",
    "\n",
    "print solution.message\n",
    "print \"The root is approximately x = {0}\".format(solution.x)\n",
    "print \"At that point, it is f(x) = {0}\".format(solution.fun)"
   ]
  },
  {
   "cell_type": "code",
   "execution_count": null,
   "metadata": {
    "collapsed": false
   },
   "outputs": [],
   "source": [
    "F.jacobian(X)"
   ]
  },
  {
   "cell_type": "code",
   "execution_count": null,
   "metadata": {
    "collapsed": false
   },
   "outputs": [],
   "source": [
    "def Jacf(x):\n",
    "    output = -2*np.eye(9, k=1) - np.eye(9, k=-1)\n",
    "    np.fill_diagonal(output, 3-4*x)\n",
    "    return output\n",
    "\n",
    "print root(f, np.zeros(9), jac=Jacf, method='hybr')"
   ]
  },
  {
   "cell_type": "code",
   "execution_count": null,
   "metadata": {
    "collapsed": false
   },
   "outputs": [],
   "source": [
    "print root(f, np.zeros(9), callback=callbackF, method='krylov')"
   ]
  },
  {
   "cell_type": "code",
   "execution_count": null,
   "metadata": {
    "collapsed": true
   },
   "outputs": [],
   "source": []
  }
 ],
 "metadata": {
  "kernelspec": {
   "display_name": "Python 2",
   "language": "python",
   "name": "python2"
  },
  "language_info": {
   "codemirror_mode": {
    "name": "ipython",
    "version": 2
   },
   "file_extension": ".py",
   "mimetype": "text/x-python",
   "name": "python",
   "nbconvert_exporter": "python",
   "pygments_lexer": "ipython2",
   "version": "2.7.10"
  }
 },
 "nbformat": 4,
 "nbformat_minor": 0
}
