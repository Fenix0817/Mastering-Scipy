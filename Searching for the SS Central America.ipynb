{
 "metadata": {
  "celltoolbar": "Slideshow",
  "name": "",
  "signature": "sha256:6086bb172db60072f860607aa94af2a8d68ece16312c002504fa73585fe2251d"
 },
 "nbformat": 3,
 "nbformat_minor": 0,
 "worksheets": [
  {
   "cells": [
    {
     "cell_type": "markdown",
     "metadata": {
      "slideshow": {
       "slide_type": "slide"
      }
     },
     "source": [
      "# Searching for the SS Central America\n",
      "\n",
      "<img src=\"https://farm6.staticflickr.com/5582/15072819006_39df81b2a6_d.jpg\">\n",
      "\n",
      "> Francisco Blanco-Silva\n",
      "\n",
      "> Department of Mathematics\n",
      "\n",
      "> University of South Carolina"
     ]
    },
    {
     "cell_type": "markdown",
     "metadata": {},
     "source": [
      "## California Gold Rush\n",
      "\n",
      "<img src=\"http://upload.wikimedia.org/wikipedia/commons/0/0d/California_Clipper_500.jpg\">"
     ]
    },
    {
     "cell_type": "markdown",
     "metadata": {},
     "source": [
      "* The California Gold Rush (1848\u20131855) began on January 24, 1848, when gold was found by James W. Marshall at Sutter's Mill in Coloma, California"
     ]
    },
    {
     "cell_type": "markdown",
     "metadata": {
      "slideshow": {
       "slide_type": "fragment"
      }
     },
     "source": [
      "* The gold-seekers, called \"forty-niners\" (as a reference to 1849), often faced substantial hardships on the trip. While most of the newly arrived were Americans, the Gold Rush attracted tens of thousands from Latin America, Europe, Australia, and Asia. "
     ]
    },
    {
     "cell_type": "code",
     "collapsed": false,
     "input": [],
     "language": "python",
     "metadata": {},
     "outputs": []
    }
   ],
   "metadata": {}
  }
 ]
}