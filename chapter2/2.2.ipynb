{
 "cells": [
  {
   "cell_type": "code",
   "execution_count": null,
   "metadata": {
    "collapsed": true
   },
   "outputs": [],
   "source": [
    "import numpy as np, matplotlib.pyplot as plt\n",
    "from scipy.interpolate import interp1d"
   ]
  },
  {
   "cell_type": "code",
   "execution_count": null,
   "metadata": {
    "collapsed": true
   },
   "outputs": [],
   "source": [
    "%matplotlib inline"
   ]
  },
  {
   "cell_type": "code",
   "execution_count": null,
   "metadata": {
    "collapsed": false
   },
   "outputs": [],
   "source": [
    "nodes = np.linspace(0, 1, 5)\n",
    "print nodes"
   ]
  },
  {
   "cell_type": "code",
   "execution_count": null,
   "metadata": {
    "collapsed": true
   },
   "outputs": [],
   "source": [
    "def f(t): return np.sin(3*t)"
   ]
  },
  {
   "cell_type": "code",
   "execution_count": null,
   "metadata": {
    "collapsed": true
   },
   "outputs": [],
   "source": [
    "x = np.linspace(0, 1, 100)                    # the domain"
   ]
  },
  {
   "cell_type": "code",
   "execution_count": null,
   "metadata": {
    "collapsed": false
   },
   "outputs": [],
   "source": [
    "interpolant = interp1d(nodes, f(nodes), kind='nearest')"
   ]
  },
  {
   "cell_type": "code",
   "execution_count": null,
   "metadata": {
    "collapsed": false
   },
   "outputs": [],
   "source": [
    "plt.rc('text', usetex=True)\n",
    "plt.figure(figsize=(15,3.75))\n",
    "\n",
    "plt.axes().set_aspect('equal')\n",
    "plt.plot(nodes, f(nodes), 'ro', label='Nodes')\n",
    "plt.plot(x, f(x), 'r-', label=r'f(x) = \\sin(3x)')\n",
    "plt.plot(x, interpolant(x), 'b--', label='Interpolation')\n",
    "plt.title(\"Nearest-neighbor approximation\")\n",
    "plt.legend(loc=2)\n",
    "plt.ylim(-0.05, 1.05)\n",
    "plt.xlim(-0.5, 1.05)\n",
    "\n",
    "plt.show()"
   ]
  },
  {
   "cell_type": "code",
   "execution_count": null,
   "metadata": {
    "collapsed": true
   },
   "outputs": [],
   "source": [
    "from scipy.interpolate import BarycentricInterpolator, barycentric_interpolate, lagrange"
   ]
  },
  {
   "cell_type": "code",
   "execution_count": null,
   "metadata": {
    "collapsed": false
   },
   "outputs": [],
   "source": [
    "def f(t): return 1. / (1 + t**2)\n",
    "x = np.linspace(-5,5,1000)\n",
    "nodes = np.linspace(-5, 5, 11)\n",
    "interpolant = BarycentricInterpolator(nodes, f(nodes))\n",
    "\n",
    "plt.figure(figsize=(12,6))\n",
    "\n",
    "plt.subplot(121, aspect='auto')\n",
    "plt.plot(x, interpolant(x), 'b--', label=\"Lagrange Interpolation\")\n",
    "plt.plot(nodes, f(nodes), 'ro', label='nodes')\n",
    "plt.plot(x, f(x), 'r-', label=\"original\")\n",
    "plt.legend(loc=9)\n",
    "plt.title(\"11 equally distributed nodes\")\n",
    "\n",
    "newnodes = np.linspace(-4.5, 4.5, 10)\n",
    "print 'nodes = ', nodes\n",
    "print 'newnodes = ', newnodes\n",
    "\n",
    "interpolant.add_xi(newnodes, f(newnodes))\n",
    "\n",
    "plt.subplot(122, aspect='auto')\n",
    "plt.plot(x, interpolant(x), 'b--', label=\"Lagrange Interpolation\")\n",
    "plt.plot(nodes, f(nodes), 'ro', label='nodes')\n",
    "plt.plot(x, f(x), 'r-', label=\"original\")\n",
    "plt.legend(loc=8)\n",
    "plt.title(\"21 equally spaced nodes\")\n",
    "plt.show()"
   ]
  },
  {
   "cell_type": "code",
   "execution_count": null,
   "metadata": {
    "collapsed": false
   },
   "outputs": [],
   "source": [
    "print interpolant.xi"
   ]
  },
  {
   "cell_type": "code",
   "execution_count": null,
   "metadata": {
    "collapsed": false
   },
   "outputs": [],
   "source": [
    "print interpolant.yi"
   ]
  },
  {
   "cell_type": "code",
   "execution_count": null,
   "metadata": {
    "collapsed": true
   },
   "outputs": [],
   "source": [
    "y = barycentric_interpolate(nodes, f(nodes), x)"
   ]
  },
  {
   "cell_type": "code",
   "execution_count": null,
   "metadata": {
    "collapsed": false
   },
   "outputs": [],
   "source": [
    "g = lagrange(nodes, f(nodes))\n",
    "print g"
   ]
  },
  {
   "cell_type": "code",
   "execution_count": null,
   "metadata": {
    "collapsed": true
   },
   "outputs": [],
   "source": [
    "from scipy.interpolate import KroghInterpolator, krogh_interpolate"
   ]
  },
  {
   "cell_type": "code",
   "execution_count": null,
   "metadata": {
    "collapsed": true
   },
   "outputs": [],
   "source": [
    "np.set_printoptions(precision=3, suppress=True)"
   ]
  },
  {
   "cell_type": "code",
   "execution_count": null,
   "metadata": {
    "collapsed": false
   },
   "outputs": [],
   "source": [
    "nodes = np.linspace(-1, 1, 10)\n",
    "x = np.linspace(-1, 1, 1000)\n",
    "xi = np.repeat(nodes, 2)\n",
    "print xi\n",
    "yi = np.ravel(np.dstack((np.abs(nodes), np.sign(nodes))))\n",
    "print yi"
   ]
  },
  {
   "cell_type": "code",
   "execution_count": null,
   "metadata": {
    "collapsed": true
   },
   "outputs": [],
   "source": [
    "interpolant = KroghInterpolator(xi, yi)"
   ]
  },
  {
   "cell_type": "code",
   "execution_count": null,
   "metadata": {
    "collapsed": false
   },
   "outputs": [],
   "source": [
    "plt.figure()\n",
    "plt.axes().set_aspect('equal')\n",
    "plt.plot(x, interpolant(x), 'b', label='Hermite Interpolation')\n",
    "plt.plot(nodes, np.abs(nodes), 'ro')\n",
    "plt.plot(x, np.abs(x), 'r', label='original')\n",
    "plt.legend(loc=9)\n",
    "plt.title('Bernstein example')\n",
    "plt.show()"
   ]
  },
  {
   "cell_type": "code",
   "execution_count": null,
   "metadata": {
    "collapsed": false
   },
   "outputs": [],
   "source": [
    "from scipy.interpolate import PiecewisePolynomial\n",
    "\n",
    "nodes = np.linspace(0, 1, 5)\n",
    "x = np.linspace(0, 1, 100) \n",
    "\n",
    "def f(t): return np.sin(3 * t)\n",
    "\n",
    "interpolant = interp1d(nodes, f(nodes), kind='linear')\n",
    "\n",
    "plt.figure(figsize=(12,6))\n",
    "plt.subplot(121, aspect='equal')\n",
    "plt.plot(x, interpolant(x), 'b--', label=\"interpolation\")\n",
    "plt.plot(nodes, f(nodes), 'ro')\n",
    "plt.plot(x, f(x), 'r-', label=\"original\")\n",
    "plt.legend(loc=8)\n",
    "plt.title(\"Piecewise Linear Interpolation\")\n",
    "\n",
    "yi = np.zeros((len(nodes), 2))\n",
    "yi[:,0] = f(nodes)\n",
    "yi[:,1] = 3 * np.cos(3 * nodes)\n",
    "print yi\n",
    "\n",
    "interpolant = PiecewisePolynomial(nodes, yi, orders=2)\n",
    "\n",
    "plt.subplot(122, aspect='equal')\n",
    "plt.plot(x, interpolant(x), 'b--', label=\"interpolation\")\n",
    "plt.plot(nodes, f(nodes), 'ro')\n",
    "plt.plot(x, f(x), 'r-', label=\"original\")\n",
    "plt.legend(loc=8)\n",
    "plt.title(\"Piecewise Quadratic interpolation\")\n",
    "plt.show()"
   ]
  },
  {
   "cell_type": "code",
   "execution_count": null,
   "metadata": {
    "collapsed": false
   },
   "outputs": [],
   "source": [
    "print np.abs(f(x) - interpolant(x)).max()\n",
    "\n",
    "f1prime = lambda t: 3 * np.cos(3 * t)\n",
    "print np.abs(f1prime(x) - interpolant.derivatives(x)).max()\n",
    "\n",
    "f2prime = lambda t: -9 * np.sin(3 * x)\n",
    "print np.abs(f2prime(x) - interpolant.derivatives(x,der=2)).max()"
   ]
  },
  {
   "cell_type": "code",
   "execution_count": null,
   "metadata": {
    "collapsed": true
   },
   "outputs": [],
   "source": [
    "interpolant = PiecewisePolynomial(nodes, yi, orders=[1,3,3,1])"
   ]
  },
  {
   "cell_type": "code",
   "execution_count": null,
   "metadata": {
    "collapsed": true
   },
   "outputs": [],
   "source": [
    "interpolant.append(1.25, np.array([f(1.25)]))"
   ]
  },
  {
   "cell_type": "code",
   "execution_count": null,
   "metadata": {
    "collapsed": false
   },
   "outputs": [],
   "source": [
    "splines = ['zero', 'slinear', 'quadratic', 'cubic', 4, 5]\n",
    "g = KroghInterpolator([0,0,0,1,1,1,2,2,2,3,3,3], [10,0,0,1,0,0,0.25,0,0,0.125,0,0])\n",
    "def f(t): return np.log1p(g(t))\n",
    "x = np.linspace(0,3,100)\n",
    "nodes = np.linspace(0,3,11)\n",
    "\n",
    "plt.figure(figsize=(16,8))\n",
    "\n",
    "for k in xrange(6):\n",
    "    interpolant = interp1d(nodes, f(nodes), kind = splines[k])\n",
    "    plt.subplot(2,3,k+1, aspect='equal')\n",
    "    plt.plot(nodes, f(nodes), 'ro')\n",
    "    plt.plot(x, f(x), 'r-', label='original')\n",
    "    plt.plot(x, interpolant(x), 'b--', label='interpolation')\n",
    "    plt.title('{0} spline'.format(splines[k]))\n",
    "    plt.legend()\n",
    "\n",
    "plt.show()"
   ]
  },
  {
   "cell_type": "code",
   "execution_count": null,
   "metadata": {
    "collapsed": false
   },
   "outputs": [],
   "source": [
    "from scipy.interpolate import PchipInterpolator\n",
    "\n",
    "interpolant = PchipInterpolator(nodes, f(nodes))\n",
    "\n",
    "plt.figure()\n",
    "plt.axes().set_aspect('equal')\n",
    "plt.plot(nodes, f(nodes), 'ro')\n",
    "plt.plot(x, f(x), 'r-', label='original')\n",
    "plt.plot(x, interpolant(x), 'b--', label='interpolation')\n",
    "plt.title('PCHIP interpolation')\n",
    "plt.legend()\n",
    "plt.show()"
   ]
  },
  {
   "cell_type": "code",
   "execution_count": null,
   "metadata": {
    "collapsed": false
   },
   "outputs": [],
   "source": [
    "from scipy.interpolate import InterpolatedUnivariateSpline\n",
    "\n",
    "interpolant = InterpolatedUnivariateSpline(nodes, f(nodes), k=5)\n",
    "\n",
    "area = interpolant.integral(0,3)\n",
    "print area"
   ]
  },
  {
   "cell_type": "code",
   "execution_count": null,
   "metadata": {
    "collapsed": true
   },
   "outputs": [],
   "source": []
  }
 ],
 "metadata": {
  "kernelspec": {
   "display_name": "Python 2",
   "language": "python",
   "name": "python2"
  },
  "language_info": {
   "codemirror_mode": {
    "name": "ipython",
    "version": 2
   },
   "file_extension": ".py",
   "mimetype": "text/x-python",
   "name": "python",
   "nbconvert_exporter": "python",
   "pygments_lexer": "ipython2",
   "version": "2.7.10"
  }
 },
 "nbformat": 4,
 "nbformat_minor": 0
}
