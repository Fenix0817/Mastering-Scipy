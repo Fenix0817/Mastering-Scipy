{
 "cells": [
  {
   "cell_type": "markdown",
   "metadata": {},
   "source": [
    "### Least-Squares Approximation\n",
    "\n",
    "Numerically, it is relatively simple to state the approximation problem for the least-square norm.  This is the topic of this section.\n",
    "\n",
    "#### Linear Least-squares approximation\n",
    "\n",
    "In the context of linear least-squares approximation, it is always possible to reduce the problem to solving a system of linear equations, as the following example shows:\n",
    "\n",
    "Consider the sine function $f(x) = \\sin(x)$ in the interval from 0 to 1.  We choose as approximants the polynomials of second degree: $\\{a_0 + a_1 x + a_2 x^2 \\}$.  To compute the values $[a_0, a_1, a_2]$ that minimize this problem, we form first a 3-by-3 matrix containing the pairwise _dot products_ (the integral of the product of two functions) of the basic functions $\\{1, x, x^2\\}$ in the given interval.  Due to the nature of this problem, we obtain a Hilbert matrix of order 3:\n",
    "\n",
    "$$\\begin{pmatrix}\n",
    "\\langle 1,1 \\rangle & \\langle 1, x \\rangle & \\langle 1, x^2 \\rangle \\\\\n",
    "\\langle x,1 \\rangle & \\langle x, x \\rangle & \\langle x, x^2 \\rangle \\\\\n",
    "\\langle x^2,1 \\rangle & \\langle x^2, x \\rangle & \\langle x^2, x^2 \\rangle\n",
    "\\end{pmatrix} = \\begin{pmatrix}\n",
    "1 & 1/2 & 1/3 \\\\\n",
    "1/2 & 1/3 & 1/4 \\\\\n",
    "1/3 & 1/4 & 1/5\n",
    "\\end{pmatrix}\n",
    "$$\n",
    "\n",
    "The right-hand side of the system is the column vector with the dot product of the sine function with each basic function in the given interval:\n",
    "\n",
    "$$\\begin{pmatrix}\n",
    "\\langle \\sin x, 1 \\rangle \\\\\n",
    "\\langle \\sin x, x \\rangle \\\\\n",
    "\\langle \\sin x, x^2 \\rangle\n",
    "\\end{pmatrix} = \\begin{pmatrix}\n",
    "1 - \\cos(1) \\\\\n",
    "\\sin(1) - \\cos(1) \\\\\n",
    "2\\sin(1) + \\cos(1) - 2\n",
    "\\end{pmatrix}\n",
    "$$\n",
    "\n",
    "We compute the coefficients and the corresponding approximation polynomial as follows:"
   ]
  },
  {
   "cell_type": "code",
   "execution_count": 1,
   "metadata": {
    "collapsed": false
   },
   "outputs": [
    {
     "name": "stdout",
     "output_type": "stream",
     "text": [
      "[-0.00746493  1.09129978 -0.2354618 ]\n",
      "         2\n",
      "-0.2355 x + 1.091 x - 0.007465\n"
     ]
    }
   ],
   "source": [
    "import numpy as np, scipy.linalg as spla, matplotlib.pyplot as plt\n",
    "    \n",
    "%matplotlib inline\n",
    "\n",
    "A = spla.hilbert(3)\n",
    "b = np.array([1-np.cos(1), np.sin(1)-np.cos(1), 2*np.sin(1)+np.cos(1)-2])\n",
    "   \n",
    "print spla.solve(A, b)\n",
    "\n",
    "poly1 = np.poly1d(spla.solve(A, b)[::-1])\n",
    "print poly1"
   ]
  },
  {
   "cell_type": "markdown",
   "metadata": {},
   "source": [
    "In general, to resolve a linear least-square approximation problem for a basis with `r` elements, we need to solve a basic system of linear equations with `r` equations and `r` indeterminates.  In spite of its apparent simplicity, this method is far from perfect.\n",
    "\n",
    "* The system may be *ill-conditioned*, as it was the case of the previous example.\n",
    "* *Non-permanence of the coefficients*: The value of the coefficients depend very heavily on `r`.  Increasing the dimension of the problem results in a new set of coefficients, different from the previous.\n",
    "\n",
    "> There are ways to remediate the ill-conditioning of the system. One standard procedure is to construct an orthogonal basis from the original, with Gram-Schmidth and modified Gram-Schmidt orthogonalization methods. This topic is beyond the scope of this monograph, but a  good reference for these methods can be read in chapter 1 of the book _Numerical Analysis_, by Walter Gautschi. Birkhäuser 1997.\n",
    "\n",
    "A basis that always provides simple linear systems is the B-splines.  All the systems involved are *tridiagonal*, and thus easily solvable without the need of complex operations.  The object-oriented system coded in the module `scipy.interpolate` allows us to perform all these computations internally.   This is a brief enumeration of the classes and subclasses involved:\n",
    "\n",
    "* `UnivariateSpline` for splines in one dimension, or splines of curves in any dimension.  We seldom use this class directly, and resort instead to the subclass `LSQUnivariateSpline`.\n",
    "* `BivariateSpline` for splines representing surfaces over nodes placed on a rectangle.  As its univariate counterpart, this class must not be used directly.  Instead, we utilize the subclass `LSQBivariateSpline`.\n",
    "* `SphereBivariateSpline` for splines representing surfaces over nodes placed on a sphere.  The computations must be carried through the subclass `LSQSphereBivariateSpline` instead.\n",
    "\n",
    "> In all three cases, the base classes and their methods are their counterparts in the problem of interpolation.  Refer to the previous section for technical information, if needed.\n",
    "\n",
    "Let us illustrate these object-oriented techniques with a few selected examples:\n",
    "\n",
    "Approximate the same sine function on the same domain, with cubic splines (`k=3`), in the sense of least-squares.  Note first that we must provide with a bounding box, a set of knots on the domain, as well as the weights `w` for the least-square approximation.  We are also allowed to provide with an optional smoothness parameter `s`.  If `s=0` we obtain interpolation instead, and for large values of `s` we achieve different degrees of smoothness of the resulting spline.  To obtain a reliable (weighted) least-squares approximation, a good choice is `s=len(w)` (which is what the routine does by default). Note also how small is the computed error:"
   ]
  },
  {
   "cell_type": "code",
   "execution_count": 2,
   "metadata": {
    "collapsed": false
   },
   "outputs": [
    {
     "data": {
      "text/plain": [
       "3.3701750092625504e-06"
      ]
     },
     "execution_count": 2,
     "metadata": {},
     "output_type": "execute_result"
    }
   ],
   "source": [
    "f = np.sin\n",
    "x = np.linspace(0,1,100)\n",
    "knots = np.linspace(0,1,7)[1:-1]\n",
    "weights = np.ones_like(x)\n",
    "\n",
    "from scipy.interpolate import LSQUnivariateSpline\n",
    "\n",
    "approximant = LSQUnivariateSpline(x, f(x), knots, k=3, w = weights, bbox = [0, 1]) \n",
    "\n",
    "spla.norm(f(x) - approximant(x))"
   ]
  },
  {
   "cell_type": "markdown",
   "metadata": {},
   "source": [
    "> A more convenient way to compute this error of approximation is by using the method `.get_residual`, which gives us precisely the square of the previous norm.\n"
   ]
  },
  {
   "cell_type": "code",
   "execution_count": 3,
   "metadata": {
    "collapsed": false
   },
   "outputs": [
    {
     "data": {
      "text/plain": [
       "3.37017500928446e-06"
      ]
     },
     "execution_count": 3,
     "metadata": {},
     "output_type": "execute_result"
    }
   ],
   "source": [
    "approximant.get_residual()**(.5)"
   ]
  },
  {
   "cell_type": "markdown",
   "metadata": {},
   "source": [
    "Approximate the two-dimensional function $\\sin(x)+\\sin(y)$ on the domain $[-3,3] \\times [-3,3]$.  We choose first a representation of the domain, a set of 100 suitable knots on a grid, and the set of weights.   Since all inputs to the function `LSQBivariateSpline` must be one-dimensional arrays, we perform the corresponding conversions prior to calling the approximation function:"
   ]
  },
  {
   "cell_type": "code",
   "execution_count": 4,
   "metadata": {
    "collapsed": true
   },
   "outputs": [],
   "source": [
    "def f(x, y): return np.sin(x) + np.sin(y)\n",
    "t = np.linspace(-3, 3, 100)\n",
    "domain = np.meshgrid(t, t)\n",
    "X, Y = domain\n",
    "Z = f(*domain)\n",
    "\n",
    "X = X.ravel()\n",
    "Y = Y.ravel()\n",
    "Z = Z.ravel()\n",
    "\n",
    "kx = np.linspace(-3,3,12)[1:-1]\n",
    "ky = kx.copy()\n",
    "weights = np.ones_like(Z);\n",
    "   \n",
    "from scipy.interpolate import LSQBivariateSpline"
   ]
  },
  {
   "cell_type": "markdown",
   "metadata": {},
   "source": [
    "One advantage of this method is that, if the system is ill-conditioned, we get a warning explaining so:\n"
   ]
  },
  {
   "cell_type": "code",
   "execution_count": 5,
   "metadata": {
    "collapsed": true
   },
   "outputs": [],
   "source": [
    "approximant = LSQBivariateSpline(X, Y, Z, kx, kx, w = weights)"
   ]
  },
  {
   "cell_type": "code",
   "execution_count": 6,
   "metadata": {
    "collapsed": false
   },
   "outputs": [
    {
     "data": {
      "text/plain": [
       "8.483425130594773e-05"
      ]
     },
     "execution_count": 6,
     "metadata": {},
     "output_type": "execute_result"
    }
   ],
   "source": [
    "approximant.get_residual()"
   ]
  },
  {
   "cell_type": "markdown",
   "metadata": {},
   "source": [
    "> It is also possible to perform this computation with the function `RectBivariateSpline`.  To achieve least-squares interpolation, we provide nodes (instead of knots, since these will be computed automatically), weights `w`, and a smoothness parameter `s` large enough.  A good choice is usually `s = len(w)`.\n",
    "\n",
    "#### Non-linear least-squares approximation\n",
    "\n",
    "In the context of nonlinear least square approximations, we do not usually have the luxury of simple matrix representations.  Instead, we make use of two variations of an iterative process, the *Levenberg-Marquardt algorithm*, which are hosted in the module `scipy.optimize`.  The two versions, which correspond to the routines `LMDER` and `LMDIF` from the `Fortran` library `MINPACK`, can be called through the wrapper `leastsq`. \n",
    "\n",
    "|        |                           |\n",
    "|--------|---------------------------|\n",
    "| `func` | The error function `F(a)` |\n",
    "| `x0` | The starting estimate for the minimization, of size `r` |\n",
    "| `args` | extra arguments to `func`, as a tuple |\n",
    "| `Dfun` | A function representing the Jacobian matrix of `func` |\n",
    "| `full_output` | Boolean |\n",
    "| `col_deriv` | Boolean. |\n",
    "| `ftol` | The relative error desired in sums of squares |\n",
    "| `xtol` | Relative error desired in the approximate solution |\n",
    "| `gtol` | Orthogonality desired between `func` and the columns of `Dfun` |\n",
    "| `maxfev` | maximum number of calls.  If zero, the number of calls is `100*(r+1)` |\n",
    "| `epsfcn` | If `Dfun=None`, we may specify a floating-point value as the step in the forward-difference approximation of the Jacobian |\n",
    "| `factor` | A floating-point value between 0.1 and 100, indicating the initial step bound |\n",
    "| `diag` | Scale factors for each of the variables |\n",
    "\n",
    "The first variant of the algorithm is used when we have a trusted Jacobian for the error function.  If this is not provided, a second variant of the algorithm is used, that approximates the Jacobian by forward differences.  We illustrate both variants with several examples.\n",
    "\n",
    "Let us start revisiting a previous example with this method, to see the differences in usage and accuracy.  We will focus the computations on a partition of the interval from 0 to 1, with 100 uniformly spaced points."
   ]
  },
  {
   "cell_type": "code",
   "execution_count": 7,
   "metadata": {
    "collapsed": false
   },
   "outputs": [
    {
     "name": "stdout",
     "output_type": "stream",
     "text": [
      "         2\n",
      "-0.2354 x + 1.091 x - 0.007232\n",
      "         2\n",
      "-0.2354 x + 1.091 x - 0.007232\n"
     ]
    },
    {
     "data": {
      "text/plain": [
       "[0.028112146265269786, 0.028083775413880314, 0.02808377541388009]"
      ]
     },
     "execution_count": 7,
     "metadata": {},
     "output_type": "execute_result"
    }
   ],
   "source": [
    "from scipy.optimize import leastsq\n",
    "\n",
    "def error_function(a):\n",
    "    return a[0] + a[1] * x + a[2] * x**2 - np.sin(x)\n",
    "\n",
    "def jacobian(a):\n",
    "    return np.array([np.ones(100), x, x**2])\n",
    "\n",
    "coeffs, success = leastsq(error_function, np.zeros((3,)))\n",
    "\n",
    "poly2 = np.poly1d(coeffs[::-1])\n",
    "print poly2\n",
    "\n",
    "coeffs, success = leastsq(error_function, np.zeros((3,)), Dfun = jacobian, col_deriv=True)\n",
    "   \n",
    "poly3 = np.poly1d(coeffs[::-1])\n",
    "print poly3\n",
    "\n",
    "map(lambda f: spla.norm(np.sin(x) - f(x)), [poly1, poly2, poly3])"
   ]
  },
  {
   "cell_type": "markdown",
   "metadata": {},
   "source": [
    "> There is another function in the module `scipy.optimize` to perform non-linear least squares approximation: `curve_fit`.  It uses the same algorithm, but instead of an error function, we feed it a generic approximant `g[a](x)`, together with a suitable domain for the independent variable `x`, and the output of the target function `f` on the same domain.  We do need to input an initial estimate as well.  The output is, together with the required coefficients, an estimation of the covariance of said coefficients.  "
   ]
  },
  {
   "cell_type": "code",
   "execution_count": 8,
   "metadata": {
    "collapsed": false
   },
   "outputs": [
    {
     "data": {
      "text/plain": [
       "(array([-0.007232  ,  1.09078356, -0.23537796]),\n",
       " array([[  7.03274163e-07,  -2.79884256e-06,   2.32064835e-06],\n",
       "        [ -2.79884256e-06,   1.50223585e-05,  -1.40659702e-05],\n",
       "        [  2.32064835e-06,  -1.40659702e-05,   1.40659703e-05]]))"
      ]
     },
     "execution_count": 8,
     "metadata": {},
     "output_type": "execute_result"
    }
   ],
   "source": [
    "from scipy.optimize import curve_fit\n",
    "\n",
    "def approximant(t, a, b, c):\n",
    "    return a + b * t + c * t**2\n",
    "\n",
    "curve_fit(approximant, x, np.sin(x), np.ones((3,)))"
   ]
  },
  {
   "cell_type": "markdown",
   "metadata": {},
   "source": [
    "> In this section we focus on the function `leastsq` exclusively.  The goals and coding of both functions are the same, but `leastsq` offers a more informative output on demand, and more control over the different parameters of the Levenberg-Marquardt algorithm.\n",
    "\n",
    "Let us experiment now with a few actual nonlinear problems:\n",
    "\n",
    "In the first example, we are going to approximate the function $\\tan(2x)$ in the interval from 0 to 1 with rational functions where each of the polynomials has at most degree 1."
   ]
  },
  {
   "cell_type": "code",
   "execution_count": 9,
   "metadata": {
    "collapsed": false
   },
   "outputs": [],
   "source": [
    "def error_function(a):\n",
    "    return (a[0] + a[1]*x) / (a[2] + a[3]*x) - np.tan(2*x)\n",
    "\n",
    "def jacobian(a):\n",
    "    numerator = a[0] + a[1]*x\n",
    "    denominator = a[2] + a[3]*x\n",
    "    return np.array( [ 1./denominator, x/denominator, \n",
    "                      -1.0*numerator/denominator**2,\n",
    "                      -1.0*x*numerator/denominator**2 ])"
   ]
  },
  {
   "cell_type": "markdown",
   "metadata": {},
   "source": [
    "To show the dependence of the initial estimation, we are going to experiment with three different choices:  one that makes no sense (all zero coefficients), one _blind_ standard choice (with all entries equal to one), and one choice that acknowledges the fact that the function $\\tan(2x)$ has a vertical asymptote.  We will pretend we do not know the exact location, and approximate it to 0.78.  Our third initial estimation then represents a simple rational function with an asymptote at 0.78.\n",
    "\n",
    "The _wrong_ initial estimate does not give us anything useful, obviously:"
   ]
  },
  {
   "cell_type": "code",
   "execution_count": 10,
   "metadata": {
    "collapsed": false
   },
   "outputs": [
    {
     "name": "stdout",
     "output_type": "stream",
     "text": [
      " \n",
      "0  \n",
      "0\n",
      " \n",
      "0  \n",
      "0\n"
     ]
    },
    {
     "name": "stderr",
     "output_type": "stream",
     "text": [
      "/anaconda/lib/python2.7/site-packages/IPython/kernel/__main__.py:2: RuntimeWarning: invalid value encountered in divide\n",
      "  from IPython.kernel.zmq import kernelapp as app\n",
      "/anaconda/lib/python2.7/site-packages/IPython/kernel/__main__.py:2: RuntimeWarning: divide by zero encountered in divide\n",
      "  from IPython.kernel.zmq import kernelapp as app\n",
      "/anaconda/lib/python2.7/site-packages/IPython/kernel/__main__.py:7: RuntimeWarning: divide by zero encountered in divide\n",
      "/anaconda/lib/python2.7/site-packages/IPython/kernel/__main__.py:7: RuntimeWarning: invalid value encountered in divide\n",
      "/anaconda/lib/python2.7/site-packages/IPython/kernel/__main__.py:8: RuntimeWarning: invalid value encountered in divide\n",
      "/anaconda/lib/python2.7/site-packages/IPython/kernel/__main__.py:9: RuntimeWarning: invalid value encountered in divide\n"
     ]
    }
   ],
   "source": [
    "x1 = np.zeros((4,))\n",
    "x2 = np.ones((4,))\n",
    "x3 = np.array([1,0,0.78,-1])\n",
    "\n",
    "coeffs, success = leastsq(error_function, x1)\n",
    "numerator = np.poly1d(coeffs[1::-1])\n",
    "denominator = np.poly1d(coeffs[:1:-1])\n",
    "print numerator, denominator\n",
    "\n",
    "coeffs, success = leastsq(error_function, x1, Dfun=jacobian, col_deriv=True)\n",
    "numerator = np.poly1d(coeffs[1::-1])\n",
    "denominator = np.poly1d(coeffs[:1:-1])\n",
    "print numerator, denominator"
   ]
  },
  {
   "cell_type": "markdown",
   "metadata": {},
   "source": [
    "None of these two approximations using `x2` as initial guess are satisfactory: not only the corresponding errors are huge, but also neither solution has an asymptote in the interval from 0 to 1."
   ]
  },
  {
   "cell_type": "code",
   "execution_count": 11,
   "metadata": {
    "collapsed": false
   },
   "outputs": [
    {
     "name": "stdout",
     "output_type": "stream",
     "text": [
      " \n",
      "-9.729 x + 4.28  \n",
      "-1.293 x + 1.986\n"
     ]
    },
    {
     "data": {
      "text/plain": [
       "220.59056436054013"
      ]
     },
     "execution_count": 11,
     "metadata": {},
     "output_type": "execute_result"
    }
   ],
   "source": [
    "coeffs, success = leastsq(error_function, x2)\n",
    "numerator = np.poly1d(coeffs[1::-1])\n",
    "denominator = np.poly1d(coeffs[:1:-1])\n",
    "print numerator, denominator\n",
    "spla.norm(np.tan(2*x) - numerator(x) / denominator(x))"
   ]
  },
  {
   "cell_type": "code",
   "execution_count": 12,
   "metadata": {
    "collapsed": false
   },
   "outputs": [
    {
     "name": "stdout",
     "output_type": "stream",
     "text": [
      " \n",
      "-655.9 x + 288.5  \n",
      "-87.05 x + 133.8\n"
     ]
    },
    {
     "data": {
      "text/plain": [
       "220.59056497850406"
      ]
     },
     "execution_count": 12,
     "metadata": {},
     "output_type": "execute_result"
    }
   ],
   "source": [
    "coeffs, success = leastsq(error_function, x2, Dfun=jacobian, col_deriv=True)\n",
    "numerator = np.poly1d(coeffs[1::-1])\n",
    "denominator = np.poly1d(coeffs[:1:-1])\n",
    "print numerator, denominator\n",
    "spla.norm(np.tan(2*x) - numerator(x) / denominator(x))"
   ]
  },
  {
   "cell_type": "markdown",
   "metadata": {},
   "source": [
    "The approximations using `x3` as initial guess are closer to the target function, and they both have an acceptable asymptote.\n"
   ]
  },
  {
   "cell_type": "code",
   "execution_count": 13,
   "metadata": {
    "collapsed": false
   },
   "outputs": [
    {
     "name": "stdout",
     "output_type": "stream",
     "text": [
      " \n",
      "0.01553 x + 0.02421  \n",
      "-0.07285 x + 0.05721\n"
     ]
    },
    {
     "data": {
      "text/plain": [
       "2.185984698129936"
      ]
     },
     "execution_count": 13,
     "metadata": {},
     "output_type": "execute_result"
    }
   ],
   "source": [
    "coeffs, success = leastsq(error_function, x3)\n",
    "numerator = np.poly1d(coeffs[1::-1])\n",
    "denominator = np.poly1d(coeffs[:1:-1])\n",
    "print numerator, denominator\n",
    "spla.norm(np.tan(2*x) - numerator(x) / denominator(x))"
   ]
  },
  {
   "cell_type": "code",
   "execution_count": 14,
   "metadata": {
    "collapsed": false
   },
   "outputs": [
    {
     "name": "stdout",
     "output_type": "stream",
     "text": [
      " \n",
      "17.17 x + 26.76  \n",
      "-80.52 x + 63.24\n"
     ]
    },
    {
     "data": {
      "text/plain": [
       "2.1859846981334954"
      ]
     },
     "execution_count": 14,
     "metadata": {},
     "output_type": "execute_result"
    }
   ],
   "source": [
    "coeffs, success = leastsq(error_function, x3, Dfun=jacobian, col_deriv=True)\n",
    "numerator = np.poly1d(coeffs[1::-1])\n",
    "denominator = np.poly1d(coeffs[:1:-1])\n",
    "print numerator, denominator\n",
    "spla.norm(np.tan(2*x) - numerator(x) / denominator(x))"
   ]
  },
  {
   "cell_type": "markdown",
   "metadata": {},
   "source": [
    "We can do much better, of course, but these simple examples will suffice for now.\n",
    "\n",
    "If we desire to output more information to monitor the quality of approximation, we may do so with the option `full_output` set to `True`:"
   ]
  },
  {
   "cell_type": "code",
   "execution_count": 15,
   "metadata": {
    "collapsed": false
   },
   "outputs": [
    {
     "name": "stdout",
     "output_type": "stream",
     "text": [
      "[ 0.02420694  0.01553346  0.0572128  -0.07284579]\n",
      "Both actual and predicted relative reductions in the sum of squares\n",
      "  are at most 0.000000\n",
      "The algorithm performed 97 iterations\n"
     ]
    }
   ],
   "source": [
    "approximation_info = leastsq(error_function, x3, full_output=True)\n",
    "\n",
    "coeffs = approximation_info[0]\n",
    "print coeffs\n",
    "    \n",
    "message = approximation_info[-2]\n",
    "print message\n",
    "  \n",
    "infodict = approximation_info[2]\n",
    "print 'The algorithm performed {0:2d} iterations'.format(infodict['nfev'])"
   ]
  },
  {
   "cell_type": "markdown",
   "metadata": {},
   "source": [
    "Although technically the `leastsq` algorithm deals mostly with approximation to univariate functions, it is possible to work on multivariate functions with the aid of *indices*, *raveling*, *unpacking* (with the special * operator), and *stable sums*.  \n",
    "\n",
    "> The usual sums of floating-point numbers of a `ndarray` with the `numpy` instance method `sum` (or with the `numpy` function `sum`) is far from stable.  We firmly recommend against using it for fairly large sums of numbers.  The following example shows an undesired scenario, in which we try to add 4000 values:\n"
   ]
  },
  {
   "cell_type": "code",
   "execution_count": 16,
   "metadata": {
    "collapsed": false
   },
   "outputs": [
    {
     "data": {
      "text/plain": [
       "0.0"
      ]
     },
     "execution_count": 16,
     "metadata": {},
     "output_type": "execute_result"
    }
   ],
   "source": [
    ">>> arr = np.array( [1, 1e20, 1, -1e20] * 1000, dtype=np.float64)\n",
    ">>> arr.sum()          # The answer should be, of course, 2000"
   ]
  },
  {
   "cell_type": "markdown",
   "metadata": {},
   "source": [
    "> To resolve this situation, we make use of *stable sums*.  In the `math` module there is an implementation of the Shewchuk algorithm for this very purpose:"
   ]
  },
  {
   "cell_type": "code",
   "execution_count": 17,
   "metadata": {
    "collapsed": false
   },
   "outputs": [
    {
     "data": {
      "text/plain": [
       "2000.0"
      ]
     },
     "execution_count": 17,
     "metadata": {},
     "output_type": "execute_result"
    }
   ],
   "source": [
    ">>> from math import fsum\n",
    ">>> fsum(arr)"
   ]
  },
  {
   "cell_type": "markdown",
   "metadata": {},
   "source": [
    "> For more information about the Shewchuk algorithm, as well as other common pitfalls to avoid in scientific computing with floating-point arithmetic, we recommend the excellent guide _What Every Computer Scientist Should Know About Floating Point Arithmetic_, by David Goldberg.  ACM Computing Surveys, 1991. vol.23, pp.5--48\n",
    "\n",
    "This process is best explained with an example. We start by generating the target function: an image of size 32-by-32 containing white noise on top of the addition of three spherical Gaussian functions with different locations, variances and heights.  We collect all these values in a 3-by-4 array that we name `values`.  The first and second columns contain the x- and y-values of the coordinates of the centers.  The third column contains the heights, and the fourth column contains the variances.\n"
   ]
  },
  {
   "cell_type": "code",
   "execution_count": 22,
   "metadata": {
    "collapsed": false
   },
   "outputs": [
    {
     "name": "stdout",
     "output_type": "stream",
     "text": [
      "[[  7.94982824  21.00554124   3.15042631   1.63563371]\n",
      " [ 13.40441166  17.11746965  52.2666025    1.42431161]\n",
      " [ 13.8516027   30.25103081  60.8535315    6.63065195]]\n"
     ]
    }
   ],
   "source": [
    "def sphericalGaussian(x0, y0, h, v):\n",
    "    return lambda x,y: h * np.exp(-0.5 * ((x-x0)**2+(y-y0)**2) / v)\n",
    "   \n",
    "domain = np.indices((32, 32))\n",
    "values = np.random.randn(3,4)\n",
    "values[:,:2] += np.random.randint(1, 32, size=(3, 2))\n",
    "values[:,2] += np.random.randint(1, 64, size=3)\n",
    "values[:,3] += np.random.randint(1, 16, size=3)\n",
    "print values\n",
    "   \n",
    "img = np.random.randn(32,32)\n",
    "\n",
    "for k in xrange(3):\n",
    "    img += sphericalGaussian(*values[k])(*domain)"
   ]
  },
  {
   "cell_type": "markdown",
   "metadata": {},
   "source": [
    "Let us assume that we do not know the centers, heights, and variances, and wish to estimate them from the target image `img`.  We create then an error function to compute those 12 coefficients, which are packed in a 3-by-4 array `a`.  Note the role of the `numpy` function `ravel` and the instance method `reshape`, to ensure that data is handled correctly:"
   ]
  },
  {
   "cell_type": "code",
   "execution_count": 23,
   "metadata": {
    "collapsed": true
   },
   "outputs": [],
   "source": [
    "from math import fsum\n",
    "\n",
    "def error_function(a):\n",
    "    a = a.reshape(3,4)\n",
    "    cx = a[:,0]    # x-coords\n",
    "    cy = a[:,1]    # y-coords\n",
    "    H = a[:,2]     # heights\n",
    "    V = a[:,3]     # variances\n",
    "    guess = np.zeros_like(img)\n",
    "    for i in xrange(guess.shape[0]):\n",
    "        for j in xrange(guess.shape[1]):\n",
    "            guess[i,j] = fsum(H*np.exp(-0.5*((i-cx)**2+(j-cy)**2)/V))\n",
    "    return np.ravel(guess-img)"
   ]
  },
  {
   "cell_type": "markdown",
   "metadata": {},
   "source": [
    "Starting the process of least squares in this situation with guarantees of success requires a somewhat close initial guess.  For this particular example, we are going to produce our initial guess from the array `values`:"
   ]
  },
  {
   "cell_type": "code",
   "execution_count": 24,
   "metadata": {
    "collapsed": false
   },
   "outputs": [
    {
     "name": "stdout",
     "output_type": "stream",
     "text": [
      "[[ 7 21  3  1]\n",
      " [13 17 52  1]\n",
      " [13 30 60  6]]\n"
     ]
    },
    {
     "data": {
      "text/plain": [
       "(array([  8.01189123,  20.93070982,   3.8738773 ,   1.00221117,\n",
       "         13.42829831,  17.10654582,  51.66064283,   1.44346865,\n",
       "         13.88957287,  30.24770182,  60.63371456,   6.64995729]), 1)"
      ]
     },
     "execution_count": 24,
     "metadata": {},
     "output_type": "execute_result"
    }
   ],
   "source": [
    "x0 = np.vectorize(int)(values)\n",
    "print x0\n",
    "\n",
    "leastsq(error_function, x0)"
   ]
  },
  {
   "cell_type": "markdown",
   "metadata": {},
   "source": [
    "Let us visually compare both the target image `img` and its minimization by this procedure:"
   ]
  },
  {
   "cell_type": "code",
   "execution_count": 25,
   "metadata": {
    "collapsed": false
   },
   "outputs": [
    {
     "data": {
      "image/png": "[encoded data removed]",
      "text/plain": [
       "<matplotlib.figure.Figure at 0x109d41ed0>"
      ]
     },
     "metadata": {},
     "output_type": "display_data"
    }
   ],
   "source": [
    "coeffs, success = _\n",
    "coeffs = coeffs.reshape(3,4)\n",
    "\n",
    "output = np.zeros_like(img)\n",
    "\n",
    "for k in xrange(3):\n",
    "    output += sphericalGaussian(*coeffs[k])(*domain)\n",
    "\n",
    "plt.figure(figsize=(12,6))\n",
    "plt.subplot(121)\n",
    "plt.imshow(img)\n",
    "plt.title('target image')\n",
    "plt.subplot(122)\n",
    "plt.imshow(output)\n",
    "plt.title('computed approximation')\n",
    "plt.show()"
   ]
  },
  {
   "cell_type": "code",
   "execution_count": null,
   "metadata": {
    "collapsed": true
   },
   "outputs": [],
   "source": []
  }
 ],
 "metadata": {
  "kernelspec": {
   "display_name": "Python 2",
   "language": "python",
   "name": "python2"
  },
  "language_info": {
   "codemirror_mode": {
    "name": "ipython",
    "version": 2
   },
   "file_extension": ".py",
   "mimetype": "text/x-python",
   "name": "python",
   "nbconvert_exporter": "python",
   "pygments_lexer": "ipython2",
   "version": "2.7.10"
  }
 },
 "nbformat": 4,
 "nbformat_minor": 0
}
