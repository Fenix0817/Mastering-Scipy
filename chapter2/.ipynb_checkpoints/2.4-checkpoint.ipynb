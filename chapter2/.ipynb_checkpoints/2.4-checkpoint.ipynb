{
 "cells": [
  {
   "cell_type": "markdown",
   "metadata": {},
   "source": [
    "Consider the sine function $f(x) = \\sin(x)$ in the interval from 0 to 1.  We choose as approximants the polynomials of second degree: $\\{a_0 + a_1 x + a_2 x^2 \\}$.  To compute the values $[a_0, a_1, a_2]$ that minimize this problem, we form first a 3-by-3 matrix containing the pairwise _dot products_ (the integral of the product of two functions) of the basic functions $\\{1, x, x^2\\}$ in the given interval.  Due to the nature of this problem, we obtain a Hilbert matrix of order 3:\n",
    "\n",
    "$$\\begin{pmatrix}\n",
    "\\langle 1,1 \\rangle & \\langle 1, x \\rangle & \\langle 1, x^2 \\rangle \\\\\n",
    "\\langle x,1 \\rangle & \\langle x, x \\rangle & \\langle x, x^2 \\rangle \\\\\n",
    "\\langle x^2,1 \\rangle & \\langle x^2, x \\rangle & \\langle x^2, x^2 \\rangle\n",
    "\\end{pmatrix} = \\begin{pmatrix}\n",
    "1 & 1/2 & 1/3 \\\\\n",
    "1/2 & 1/3 & 1/4 \\\\\n",
    "1/3 & 1/4 & 1/5\n",
    "\\end{pmatrix}\n",
    "$$\n",
    "\n",
    "The right-hand side of the system is the column vector with the dot product of the sine function with each basic function in the given interval:\n",
    "\n",
    "$$\\begin{pmatrix}\n",
    "\\langle \\sin x, 1 \\rangle \\\\\n",
    "\\langle \\sin x, x \\rangle \\\\\n",
    "\\langle \\sin x, x^2 \\rangle\n",
    "\\end{pmatrix} = \\begin{pmatrix}\n",
    "1 - \\cos(1) \\\\\n",
    "\\sin(1) - \\cos(1) \\\\\n",
    "2\\sin(1) + \\cos(1) - 2\n",
    "\\end{pmatrix}\n",
    "$$\n",
    "\n",
    "We compute the coefficients and the corresponding approximation polynomial as follows:"
   ]
  },
  {
   "cell_type": "code",
   "execution_count": null,
   "metadata": {
    "collapsed": false
   },
   "outputs": [],
   "source": [
    "import numpy as np, scipy.linalg as spla, matplotlib.pyplot as plt\n",
    "    \n",
    "%matplotlib inline\n",
    "\n",
    "A = spla.hilbert(3)\n",
    "b = np.array([1-np.cos(1), np.sin(1)-np.cos(1), 2*np.sin(1)+np.cos(1)-2])\n",
    "   \n",
    "print spla.solve(A, b)\n",
    "\n",
    "poly1 = np.poly1d(spla.solve(A, b)[::-1])\n",
    "print poly1"
   ]
  },
  {
   "cell_type": "code",
   "execution_count": null,
   "metadata": {
    "collapsed": false
   },
   "outputs": [],
   "source": [
    "f = np.sin\n",
    "x = np.linspace(0,1,100)\n",
    "knots = np.linspace(0,1,7)[1:-1]\n",
    "weights = np.ones_like(x)\n",
    "\n",
    "from scipy.interpolate import LSQUnivariateSpline\n",
    "\n",
    "approximant = LSQUnivariateSpline(x, f(x), knots, k=3, w = weights, bbox = [0, 1]) \n",
    "\n",
    "spla.norm(f(x) - approximant(x))"
   ]
  },
  {
   "cell_type": "code",
   "execution_count": null,
   "metadata": {
    "collapsed": false
   },
   "outputs": [],
   "source": [
    "approximant.get_residual()**(.5)"
   ]
  },
  {
   "cell_type": "code",
   "execution_count": null,
   "metadata": {
    "collapsed": true
   },
   "outputs": [],
   "source": [
    "def f(x, y): return np.sin(x) + np.sin(y)\n",
    "t = np.linspace(-3, 3, 100)\n",
    "domain = np.meshgrid(t, t)\n",
    "X, Y = domain\n",
    "Z = f(*domain)\n",
    "\n",
    "X = X.ravel()\n",
    "Y = Y.ravel()\n",
    "Z = Z.ravel()\n",
    "\n",
    "kx = np.linspace(-3,3,12)[1:-1]\n",
    "ky = kx.copy()\n",
    "weights = np.ones_like(Z);\n",
    "   \n",
    "from scipy.interpolate import LSQBivariateSpline"
   ]
  },
  {
   "cell_type": "code",
   "execution_count": null,
   "metadata": {
    "collapsed": true
   },
   "outputs": [],
   "source": [
    "approximant = LSQBivariateSpline(X, Y, Z, kx, kx, w = weights)"
   ]
  },
  {
   "cell_type": "code",
   "execution_count": null,
   "metadata": {
    "collapsed": false
   },
   "outputs": [],
   "source": [
    "approximant.get_residual()"
   ]
  },
  {
   "cell_type": "code",
   "execution_count": null,
   "metadata": {
    "collapsed": false
   },
   "outputs": [],
   "source": [
    "from scipy.optimize import leastsq\n",
    "\n",
    "def error_function(a):\n",
    "    return a[0] + a[1] * x + a[2] * x**2 - np.sin(x)\n",
    "\n",
    "def jacobian(a):\n",
    "    return np.array([np.ones(100), x, x**2])\n",
    "\n",
    "coeffs, success = leastsq(error_function, np.zeros((3,)))\n",
    "\n",
    "poly2 = np.poly1d(coeffs[::-1])\n",
    "print poly2\n",
    "\n",
    "coeffs, success = leastsq(error_function, np.zeros((3,)), Dfun = jacobian, col_deriv=True)\n",
    "   \n",
    "poly3 = np.poly1d(coeffs[::-1])\n",
    "print poly3\n",
    "\n",
    "map(lambda f: spla.norm(np.sin(x) - f(x)), [poly1, poly2, poly3])"
   ]
  },
  {
   "cell_type": "code",
   "execution_count": null,
   "metadata": {
    "collapsed": false
   },
   "outputs": [],
   "source": [
    "from scipy.optimize import curve_fit\n",
    "\n",
    "def approximant(t, a, b, c):\n",
    "    return a + b * t + c * t**2\n",
    "\n",
    "curve_fit(approximant, x, np.sin(x), np.ones((3,)))"
   ]
  },
  {
   "cell_type": "code",
   "execution_count": null,
   "metadata": {
    "collapsed": false
   },
   "outputs": [],
   "source": [
    "def error_function(a):\n",
    "    return (a[0] + a[1]*x) / (a[2] + a[3]*x) - np.tan(2*x)\n",
    "\n",
    "def jacobian(a):\n",
    "    numerator = a[0] + a[1]*x\n",
    "    denominator = a[2] + a[3]*x\n",
    "    return np.array( [ 1./denominator, x/denominator, \n",
    "                      -1.0*numerator/denominator**2,\n",
    "                      -1.0*x*numerator/denominator**2 ])"
   ]
  },
  {
   "cell_type": "code",
   "execution_count": null,
   "metadata": {
    "collapsed": false
   },
   "outputs": [],
   "source": [
    "x1 = np.zeros((4,))\n",
    "x2 = np.ones((4,))\n",
    "x3 = np.array([1,0,0.78,-1])\n",
    "\n",
    "coeffs, success = leastsq(error_function, x1)\n",
    "numerator = np.poly1d(coeffs[1::-1])\n",
    "denominator = np.poly1d(coeffs[:1:-1])\n",
    "print numerator, denominator\n",
    "\n",
    "coeffs, success = leastsq(error_function, x1, Dfun=jacobian, col_deriv=True)\n",
    "numerator = np.poly1d(coeffs[1::-1])\n",
    "denominator = np.poly1d(coeffs[:1:-1])\n",
    "print numerator, denominator"
   ]
  },
  {
   "cell_type": "code",
   "execution_count": null,
   "metadata": {
    "collapsed": false
   },
   "outputs": [],
   "source": [
    "coeffs, success = leastsq(error_function, x2)\n",
    "numerator = np.poly1d(coeffs[1::-1])\n",
    "denominator = np.poly1d(coeffs[:1:-1])\n",
    "print numerator, denominator\n",
    "spla.norm(np.tan(2*x) - numerator(x) / denominator(x))"
   ]
  },
  {
   "cell_type": "code",
   "execution_count": null,
   "metadata": {
    "collapsed": false
   },
   "outputs": [],
   "source": [
    "coeffs, success = leastsq(error_function, x2, Dfun=jacobian, col_deriv=True)\n",
    "numerator = np.poly1d(coeffs[1::-1])\n",
    "denominator = np.poly1d(coeffs[:1:-1])\n",
    "print numerator, denominator\n",
    "spla.norm(np.tan(2*x) - numerator(x) / denominator(x))"
   ]
  },
  {
   "cell_type": "code",
   "execution_count": null,
   "metadata": {
    "collapsed": false
   },
   "outputs": [],
   "source": [
    "coeffs, success = leastsq(error_function, x3)\n",
    "numerator = np.poly1d(coeffs[1::-1])\n",
    "denominator = np.poly1d(coeffs[:1:-1])\n",
    "print numerator, denominator\n",
    "spla.norm(np.tan(2*x) - numerator(x) / denominator(x))"
   ]
  },
  {
   "cell_type": "code",
   "execution_count": null,
   "metadata": {
    "collapsed": false
   },
   "outputs": [],
   "source": [
    "coeffs, success = leastsq(error_function, x3, Dfun=jacobian, col_deriv=True)\n",
    "numerator = np.poly1d(coeffs[1::-1])\n",
    "denominator = np.poly1d(coeffs[:1:-1])\n",
    "print numerator, denominator\n",
    "spla.norm(np.tan(2*x) - numerator(x) / denominator(x))"
   ]
  },
  {
   "cell_type": "code",
   "execution_count": null,
   "metadata": {
    "collapsed": false
   },
   "outputs": [],
   "source": [
    "approximation_info = leastsq(error_function, x3, full_output=True)\n",
    "\n",
    "coeffs = approximation_info[0]\n",
    "print coeffs\n",
    "    \n",
    "message = approximation_info[-2]\n",
    "print message\n",
    "  \n",
    "infodict = approximation_info[2]\n",
    "print 'The algorithm performed {0:2d} iterations'.format(infodict['nfev'])"
   ]
  },
  {
   "cell_type": "code",
   "execution_count": null,
   "metadata": {
    "collapsed": false
   },
   "outputs": [],
   "source": [
    ">>> arr = np.array( [1, 1e20, 1, -1e20] * 1000, dtype=np.float64)\n",
    ">>> arr.sum()          # The answer should be, of course, 2000"
   ]
  },
  {
   "cell_type": "code",
   "execution_count": null,
   "metadata": {
    "collapsed": false
   },
   "outputs": [],
   "source": [
    ">>> from math import fsum\n",
    ">>> fsum(arr)"
   ]
  },
  {
   "cell_type": "code",
   "execution_count": null,
   "metadata": {
    "collapsed": false
   },
   "outputs": [],
   "source": [
    "def sphericalGaussian(x0, y0, h, v):\n",
    "    return lambda x,y: h * np.exp(-0.5 * ((x-x0)**2+(y-y0)**2) / v)\n",
    "   \n",
    "domain = np.indices((32, 32))\n",
    "values = np.random.randn(3,4)\n",
    "values[:,:2] += np.random.randint(1, 32, size=(3, 2))\n",
    "values[:,2] += np.random.randint(1, 64, size=3)\n",
    "values[:,3] += np.random.randint(1, 16, size=3)\n",
    "print values\n",
    "   \n",
    "img = np.random.randn(32,32)\n",
    "\n",
    "for k in xrange(3):\n",
    "    img += sphericalGaussian(*values[k])(*domain)"
   ]
  },
  {
   "cell_type": "code",
   "execution_count": null,
   "metadata": {
    "collapsed": true
   },
   "outputs": [],
   "source": [
    "from math import fsum\n",
    "\n",
    "def error_function(a):\n",
    "    a = a.reshape(3,4)\n",
    "    cx = a[:,0]    # x-coords\n",
    "    cy = a[:,1]    # y-coords\n",
    "    H = a[:,2]     # heights\n",
    "    V = a[:,3]     # variances\n",
    "    guess = np.zeros_like(img)\n",
    "    for i in xrange(guess.shape[0]):\n",
    "        for j in xrange(guess.shape[1]):\n",
    "            guess[i,j] = fsum(H*np.exp(-0.5*((i-cx)**2+(j-cy)**2)/V))\n",
    "    return np.ravel(guess-img)"
   ]
  },
  {
   "cell_type": "code",
   "execution_count": null,
   "metadata": {
    "collapsed": false
   },
   "outputs": [],
   "source": [
    "x0 = np.vectorize(int)(values)\n",
    "print x0\n",
    "\n",
    "leastsq(error_function, x0)"
   ]
  },
  {
   "cell_type": "code",
   "execution_count": null,
   "metadata": {
    "collapsed": false
   },
   "outputs": [],
   "source": [
    "coeffs, success = _\n",
    "coeffs = coeffs.reshape(3,4)\n",
    "\n",
    "output = np.zeros_like(img)\n",
    "\n",
    "for k in xrange(3):\n",
    "    output += sphericalGaussian(*coeffs[k])(*domain)\n",
    "\n",
    "plt.figure(figsize=(12,6))\n",
    "plt.subplot(121)\n",
    "plt.imshow(img)\n",
    "plt.title('target image')\n",
    "plt.subplot(122)\n",
    "plt.imshow(output)\n",
    "plt.title('computed approximation')\n",
    "plt.show()"
   ]
  },
  {
   "cell_type": "code",
   "execution_count": null,
   "metadata": {
    "collapsed": true
   },
   "outputs": [],
   "source": []
  }
 ],
 "metadata": {
  "kernelspec": {
   "display_name": "Python 2",
   "language": "python",
   "name": "python2"
  },
  "language_info": {
   "codemirror_mode": {
    "name": "ipython",
    "version": 2
   },
   "file_extension": ".py",
   "mimetype": "text/x-python",
   "name": "python",
   "nbconvert_exporter": "python",
   "pygments_lexer": "ipython2",
   "version": "2.7.10"
  }
 },
 "nbformat": 4,
 "nbformat_minor": 0
}
