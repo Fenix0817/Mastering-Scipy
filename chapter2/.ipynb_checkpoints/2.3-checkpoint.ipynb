{
 "cells": [
  {
   "cell_type": "code",
   "execution_count": null,
   "metadata": {
    "collapsed": false
   },
   "outputs": [],
   "source": [
    "import numpy as np, matplotlib.pyplot as plt\n",
    "from mpl_toolkits.mplot3d.axes3d import Axes3D\n",
    "    \n",
    "%matplotlib inline\n",
    "\n",
    "def f(x,y): return np.sin(x) + np.sin(y)\n",
    "\n",
    "t = np.linspace(-3, 3, 100)\n",
    "domain = np.meshgrid(t, t)\n",
    "X, Y = domain\n",
    "Z = f(*domain)\n",
    "\n",
    "fig = plt.figure()\n",
    "ax1 = plt.subplot2grid((2,2), (0,0), aspect='equal')\n",
    "p = ax1.pcolor(X, Y, Z)\n",
    "fig.colorbar(p)\n",
    "CP = ax1.contour(X, Y, Z, colors='k')\n",
    "ax1.clabel(CP)\n",
    "ax1.set_title('Contour plot')\n",
    "\n",
    "nodes = 6 * np.random.rand(100, 2) - 3\n",
    "xi = nodes[:, 0]\n",
    "yi = nodes[:, 1]\n",
    "zi = f(xi, yi)\n",
    "\n",
    "ax2 = plt.subplot2grid((2,2), (0,1), aspect='equal')\n",
    "p2 = ax2.pcolor(X, Y, Z)\n",
    "ax2.scatter(xi, yi, 25, zi)\n",
    "ax2.set_xlim(-3, 3)\n",
    "ax2.set_ylim(-3, 3)\n",
    "ax2.set_title('Node selection')\n",
    "\n",
    "ax3 = plt.subplot2grid((2,2), (1,0), projection='3d', colspan=2, rowspan=2)\n",
    "ax3.plot_surface(X, Y, Z, alpha=0.25)\n",
    "ax3.scatter(xi, yi, zi, s=25)\n",
    "cset = ax3.contour(X, Y, Z, zdir='z', offset=-4)\n",
    "cset = ax3.contour(X, Y, Z, zdir='x', offset=-5)\n",
    "ax3.set_xlim3d(-5, 3)\n",
    "ax3.set_ylim3d(-3, 5)\n",
    "ax3.set_zlim3d(-4, 2)\n",
    "ax3.set_title('Surface plot')\n",
    "\n",
    "fig.tight_layout()\n",
    "plt.show()"
   ]
  },
  {
   "cell_type": "code",
   "execution_count": null,
   "metadata": {
    "collapsed": false
   },
   "outputs": [],
   "source": [
    "from scipy.interpolate import interp2d\n",
    "\n",
    "interpolant = interp2d(xi, yi, zi, kind='linear')\n",
    "\n",
    "plt.figure()\n",
    "plt.axes().set_aspect('equal')\n",
    "plt.pcolor(X, Y, interpolant(t, t))\n",
    "plt.scatter(xi, yi, 25, zi)\n",
    "CP = plt.contour(X, Y, interpolant(t, t), colors='k')\n",
    "plt.clabel(CP)\n",
    "plt.xlim(-3, 3)\n",
    "plt.ylim(-3, 3)\n",
    "plt.title('Piecewise linear interpolation')\n",
    "plt.show()"
   ]
  },
  {
   "cell_type": "code",
   "execution_count": null,
   "metadata": {
    "collapsed": false
   },
   "outputs": [],
   "source": [
    "ti = np.linspace(-3, 3, 10)\n",
    "xi, yi = np.meshgrid(ti, ti)\n",
    "zi = f(xi, yi)\n",
    "\n",
    "from scipy.interpolate import RectBivariateSpline\n",
    "\n",
    "interpolant = RectBivariateSpline(ti, ti, zi, kx=1, ky=1)\n",
    "\n",
    "plt.figure()\n",
    "plt.axes().set_aspect('equal')\n",
    "plt.pcolor(X, Y, interpolant(t, t))\n",
    "CP = plt.contour(X, Y, interpolant(t, t), colors='k')\n",
    "plt.clabel(CP)\n",
    "plt.scatter(xi, yi, 25, zi)\n",
    "plt.xlim(-3, 3)\n",
    "plt.ylim(-3, 3)\n",
    "plt.title('Piecewise linear interpolation, rectangular grid')\n",
    "plt.show()"
   ]
  },
  {
   "cell_type": "code",
   "execution_count": null,
   "metadata": {
    "collapsed": false
   },
   "outputs": [],
   "source": [
    "interpolant.integral(-3, 3, -3, 3)"
   ]
  },
  {
   "cell_type": "code",
   "execution_count": null,
   "metadata": {
    "collapsed": false
   },
   "outputs": [],
   "source": [
    "print interpolant.degrees"
   ]
  },
  {
   "cell_type": "code",
   "execution_count": null,
   "metadata": {
    "collapsed": false
   },
   "outputs": [],
   "source": [
    "print interpolant.fp\n",
    "\n",
    "print interpolant.get_residual()"
   ]
  },
  {
   "cell_type": "code",
   "execution_count": null,
   "metadata": {
    "collapsed": false
   },
   "outputs": [],
   "source": [
    "np.set_printoptions(precision=5, suppress=True)\n",
    "\n",
    "print interpolant.get_coeffs()"
   ]
  },
  {
   "cell_type": "code",
   "execution_count": null,
   "metadata": {
    "collapsed": false
   },
   "outputs": [],
   "source": [
    "interpolant.get_knots()"
   ]
  },
  {
   "cell_type": "code",
   "execution_count": null,
   "metadata": {
    "collapsed": false
   },
   "outputs": [],
   "source": [
    "interpolant = RectBivariateSpline(ti, ti, zi, kx=3, ky=3)\n",
    "\n",
    "fig = plt.figure(figsize=(12,6))\n",
    "ax = fig.add_subplot(121, projection='3d', aspect='equal')\n",
    "ax.plot_surface(X, Y, interpolant(t, t), alpha=0.25, rstride=5, cstride=5)\n",
    "ax.scatter(xi, yi, zi, s=25)\n",
    "cset = ax.contour(X, Y, interpolant(t, t), zdir='z', offset=-4)\n",
    "cset = ax.contour(X, Y, interpolant(t, t), zdir='x', offset=-5)\n",
    "ax.set_xlim3d(-5, 3)\n",
    "ax.set_ylim3d(-3, 5)\n",
    "ax.set_zlim3d(-4, 2)\n",
    "ax.set_title('Cubic interpolation, RectBivariateSpline')\n",
    "    \n",
    "from scipy.interpolate import CloughTocher2DInterpolator\n",
    "\n",
    "nodes = np.dstack((np.ravel(xi), np.ravel(yi))).squeeze()\n",
    "zi = f(nodes[:, 0], nodes[:, 1])\n",
    "\n",
    "interpolant = CloughTocher2DInterpolator(nodes, zi)\n",
    "\n",
    "ax = fig.add_subplot(122,projection='3d', aspect='equal')\n",
    "ax.plot_surface(X, Y, interpolant(X, Y), alpha=0.25, rstride=5, cstride=5)\n",
    "ax.scatter(xi, yi, zi, s=25)\n",
    "cset = ax.contour(X, Y, interpolant(X, Y), zdir='z', offset=-4)\n",
    "cset = ax.contour(X, Y, interpolant(X, Y), zdir='x', offset=-5)\n",
    "ax.set_xlim3d(-5, 3)\n",
    "ax.set_ylim3d(-3, 5)\n",
    "ax.set_zlim3d(-4, 2)\n",
    "ax.set_title('Cubic interpolation, CloughTocher2DInterpolator')\n",
    "plt.show()"
   ]
  },
  {
   "cell_type": "code",
   "execution_count": null,
   "metadata": {
    "collapsed": false
   },
   "outputs": [],
   "source": [
    "from scipy.interpolate import griddata\n",
    "\n",
    "interpolated_Z = griddata(nodes, zi, (X, Y), method='nearest')\n",
    "\n",
    "plt.figure()\n",
    "plt.axes().set_aspect('equal')\n",
    "plt.pcolor(X, Y, interpolated_Z)\n",
    "plt.title('Nearest-neighbors')\n",
    "plt.show()"
   ]
  },
  {
   "cell_type": "code",
   "execution_count": null,
   "metadata": {
    "collapsed": false
   },
   "outputs": [],
   "source": [
    "from scipy.interpolate import Rbf\n",
    "\n",
    "nodes = 6 * np.random.rand(100, 2) - 3\n",
    "xi = nodes[:, 0]\n",
    "yi = nodes[:, 1]\n",
    "zi = f(xi, yi)\n",
    "\n",
    "interpolant = Rbf(xi, yi, zi, function='gaussian', epsilon=2.0)\n",
    "\n",
    "plt.figure(figsize=(12,6))\n",
    "plt.subplot(121, aspect='equal')\n",
    "plt.pcolor(X, Y, interpolant(X, Y))\n",
    "plt.scatter(xi, yi, 25, zi)\n",
    "plt.xlim(-3, 3)\n",
    "plt.ylim(-3, 3)\n",
    "\n",
    "interpolant = Rbf(xi, yi, zi, function = np.sinc)\n",
    "\n",
    "\n",
    "plt.subplot(122, aspect='equal'); \\\n",
    "   ....: plt.pcolor(X, Y, interpolant(X, Y)); \\\n",
    "   ....: plt.scatter(xi, yi, 25, zi); \\\n",
    "   ....: plt.xlim(-3, 3); \\\n",
    "   ....: plt.ylim(-3, 3); \\\n",
    "   ....: plt.show()"
   ]
  },
  {
   "cell_type": "code",
   "execution_count": null,
   "metadata": {
    "collapsed": true
   },
   "outputs": [],
   "source": []
  }
 ],
 "metadata": {
  "kernelspec": {
   "display_name": "Python 2",
   "language": "python",
   "name": "python2"
  },
  "language_info": {
   "codemirror_mode": {
    "name": "ipython",
    "version": 2
   },
   "file_extension": ".py",
   "mimetype": "text/x-python",
   "name": "python",
   "nbconvert_exporter": "python",
   "pygments_lexer": "ipython2",
   "version": "2.7.10"
  }
 },
 "nbformat": 4,
 "nbformat_minor": 0
}
