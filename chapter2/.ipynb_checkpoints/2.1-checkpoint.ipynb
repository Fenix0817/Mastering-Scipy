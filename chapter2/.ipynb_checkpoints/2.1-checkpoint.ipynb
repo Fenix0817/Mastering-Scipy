{
 "cells": [
  {
   "cell_type": "code",
   "execution_count": null,
   "metadata": {
    "collapsed": false
   },
   "outputs": [],
   "source": [
    "import numpy as np, matplotlib.pyplot as plt, matplotlib.cm as cm; \n",
    "from mpl_toolkits.basemap import Basemap"
   ]
  },
  {
   "cell_type": "code",
   "execution_count": null,
   "metadata": {
    "collapsed": true
   },
   "outputs": [],
   "source": [
    "%matplotlib inline"
   ]
  },
  {
   "cell_type": "code",
   "execution_count": null,
   "metadata": {
    "collapsed": true
   },
   "outputs": [],
   "source": [
    "map1 = Basemap(projection='ortho', lat_0=20, lon_0=-60, resolution='l', area_thresh=1000.0)"
   ]
  },
  {
   "cell_type": "code",
   "execution_count": null,
   "metadata": {
    "collapsed": true
   },
   "outputs": [],
   "source": [
    "map2 = Basemap(projection='merc', lat_0=20, lon_0=-60, resolution='l', \n",
    "               area_thresh=1000.0, llcrnrlat=0,  urcrnrlat=45, llcrnrlon=-75, urcrnrlon=-15)"
   ]
  },
  {
   "cell_type": "code",
   "execution_count": null,
   "metadata": {
    "collapsed": true
   },
   "outputs": [],
   "source": [
    "longitudes = np.linspace(-60, -30, 16) \n",
    "latitudes = np.linspace(15, 30, 16) \n",
    "lons, lats = np.meshgrid(longitudes, latitudes) \n",
    "temperatures = 10. * np.random.randn(16, 16) + 36.\n",
    "x1, y1 = map1(lons, lats)\n",
    "x2, y2 = map2(lons, lats)"
   ]
  },
  {
   "cell_type": "code",
   "execution_count": null,
   "metadata": {
    "collapsed": false
   },
   "outputs": [],
   "source": [
    "plt.rc('text', usetex=True)\n",
    "plt.figure(figsize=(12,6))\n",
    "\n",
    "plt.subplot(121, aspect='equal')\n",
    "map1.drawmeridians(np.arange(0, 360, 30))\n",
    "map1.drawparallels(np.arange(-90, 90, 15))\n",
    "map1.drawcoastlines()\n",
    "map1.fillcontinents(color='coral')\n",
    "map1.scatter(x1, y1, 15, temperatures, cmap=cm.winter)\n",
    "\n",
    "plt.subplot(122)\n",
    "map2.drawmeridians(np.arange(0, 360, 30))\n",
    "map2.drawparallels(np.arange(-90, 90, 15))\n",
    "map2.drawcoastlines()\n",
    "map2.fillcontinents(color='coral')\n",
    "C = map2.scatter(x2, y2, 15, temperatures, cmap=cm.winter)\n",
    "Cb = map2.colorbar(C, \"bottom\", size=\"5%\", pad=\"2%\")\n",
    "Cb.set_label(r'$\\mbox{}^{\\circ} F$')\n",
    "\n",
    "plt.show()"
   ]
  },
  {
   "cell_type": "code",
   "execution_count": null,
   "metadata": {
    "collapsed": true
   },
   "outputs": [],
   "source": [
    "from scipy.interpolate import RectSphereBivariateSpline as RSBS"
   ]
  },
  {
   "cell_type": "code",
   "execution_count": null,
   "metadata": {
    "collapsed": true
   },
   "outputs": [],
   "source": [
    "soln = RSBS(np.radians(latitudes), np.pi + np.radians(longitudes), temperatures)"
   ]
  },
  {
   "cell_type": "code",
   "execution_count": null,
   "metadata": {
    "collapsed": true
   },
   "outputs": [],
   "source": [
    "long_t = np.linspace(-60, -30, 180)\n",
    "lat_t = np.linspace(15, 30, 180)\n",
    "temperatures = soln(np.radians(lat_t), np.pi + np.radians(long_t))\n",
    "\n",
    "long_t, lat_t = np.meshgrid(long_t, lat_t)\n",
    "lo1, la1 = map1(long_t, lat_t)\n",
    "lo2, la2 = map2(long_t, lat_t)"
   ]
  },
  {
   "cell_type": "code",
   "execution_count": null,
   "metadata": {
    "collapsed": false
   },
   "outputs": [],
   "source": [
    "plt.figure(figsize=(12,6))\n",
    "\n",
    "plt.subplot(121, aspect='equal')\n",
    "map1.drawmeridians(np.arange(0, 360, 30))\n",
    "map1.drawparallels(np.arange(-90, 90, 15))\n",
    "map1.drawcoastlines()\n",
    "map1.fillcontinents(color='coral')\n",
    "map1.contourf(lo1, la1, temperatures, cmap=cm.winter)\n",
    "\n",
    "plt.subplot(122)\n",
    "map2.drawmeridians(np.arange(0, 360, 30))\n",
    "map2.drawparallels(np.arange(-90, 90, 15))\n",
    "map2.drawcoastlines()\n",
    "map2.fillcontinents(color='coral')\n",
    "C = map2.contourf(lo2, la2, temperatures, cmap=cm.winter)\n",
    "Cb = map2.colorbar(C, \"bottom\", size=\"5%\", pad=\"2%\")\n",
    "Cb.set_label(r'$\\mbox{}^{\\circ} F$')\n",
    "\n",
    "plt.show()"
   ]
  },
  {
   "cell_type": "code",
   "execution_count": null,
   "metadata": {
    "collapsed": true
   },
   "outputs": [],
   "source": []
  }
 ],
 "metadata": {
  "kernelspec": {
   "display_name": "Python 2",
   "language": "python",
   "name": "python2"
  },
  "language_info": {
   "codemirror_mode": {
    "name": "ipython",
    "version": 2
   },
   "file_extension": ".py",
   "mimetype": "text/x-python",
   "name": "python",
   "nbconvert_exporter": "python",
   "pygments_lexer": "ipython2",
   "version": "2.7.10"
  }
 },
 "nbformat": 4,
 "nbformat_minor": 0
}
