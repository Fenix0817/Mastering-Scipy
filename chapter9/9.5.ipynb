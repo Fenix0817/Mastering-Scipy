{
 "cells": [
  {
   "cell_type": "code",
   "execution_count": null,
   "metadata": {
    "collapsed": false
   },
   "outputs": [],
   "source": [
    "import numpy as np, matplotlib.pyplot as plt\n",
    "\n",
    "%matplotlib inline\n",
    "\n",
    "from skimage.draw import circle\n",
    "\n",
    "image = np.zeros((64, 64)).astype('bool')\n",
    "\n",
    "for k in range(30):\n",
    "    x0, y0 = np.random.randint(64, size=(2))\n",
    "    image[circle(x0, y0, 3)] = True\n",
    "\n",
    "from scipy.ndimage import label\n",
    "\n",
    "labels, num_features = label(image)"
   ]
  },
  {
   "cell_type": "code",
   "execution_count": null,
   "metadata": {
    "collapsed": false
   },
   "outputs": [],
   "source": [
    "plt.imshow(labels)\n",
    "plt.gray()"
   ]
  },
  {
   "cell_type": "code",
   "execution_count": null,
   "metadata": {
    "collapsed": false
   },
   "outputs": [],
   "source": [
    "from skimage.data import coins\n",
    "from scipy.ndimage import gaussian_filter\n",
    "\n",
    "image = gaussian_filter(coins(), sigma=0.5)\n",
    "\n",
    "plt.hist(image.flatten(), bins=128)\n",
    "plt.show() "
   ]
  },
  {
   "cell_type": "code",
   "execution_count": null,
   "metadata": {
    "collapsed": false
   },
   "outputs": [],
   "source": [
    "level_1 = coins()<=80\n",
    "level_2 = (coins()>80) * (coins()<=112)\n",
    "level_3 = (coins()>112) * (coins()<=137)\n",
    "level_4 = coins()>137\n",
    "\n",
    "plt.figure(figsize=(24,12))\n",
    "plt.subplot2grid((2,4), (0,0), colspan=2, rowspan=2)\n",
    "plt.imshow(coins())\n",
    "plt.gray()\n",
    "plt.subplot2grid((2,4),(0,2))\n",
    "plt.imshow(level_1)\n",
    "plt.axis('off')\n",
    "plt.subplot2grid((2,4),(0,3))\n",
    "plt.imshow(level_2)\n",
    "plt.axis('off')\n",
    "plt.subplot2grid((2,4), (1,2))\n",
    "plt.imshow(level_3)\n",
    "plt.axis('off')\n",
    "plt.subplot2grid((2,4), (1,3))\n",
    "plt.imshow(level_4)\n",
    "plt.axis('off')\n",
    "plt.show()"
   ]
  },
  {
   "cell_type": "code",
   "execution_count": null,
   "metadata": {
    "collapsed": true
   },
   "outputs": [],
   "source": [
    "from scipy.ndimage.morphology import binary_fill_holes\n",
    "\n",
    "level_4 = binary_fill_holes(level_4)\n",
    "\n",
    "labels, num_features = label(level_4)"
   ]
  },
  {
   "cell_type": "code",
   "execution_count": null,
   "metadata": {
    "collapsed": false
   },
   "outputs": [],
   "source": [
    "plt.imshow(labels)"
   ]
  },
  {
   "cell_type": "code",
   "execution_count": null,
   "metadata": {
    "collapsed": true
   },
   "outputs": [],
   "source": [
    "from scipy.ndimage import watershed_ift\n",
    "\n",
    "markers_x = [50, 125, 200, 255]\n",
    "markers_y = [50, 100, 150, 225, 285, 350]\n",
    "\n",
    "markers = np.zeros_like(image).astype('int16')\n",
    "markers_index = [[x,y] for x in markers_x for y in markers_y]\n",
    "\n",
    "for index, location in enumerate(markers_index):\n",
    "    markers[location[0], location[1]] = index+5\n",
    "\n",
    "segments = watershed_ift(image, markers)"
   ]
  },
  {
   "cell_type": "code",
   "execution_count": null,
   "metadata": {
    "collapsed": false
   },
   "outputs": [],
   "source": [
    "plt.imshow(segments)"
   ]
  },
  {
   "cell_type": "code",
   "execution_count": null,
   "metadata": {
    "collapsed": true
   },
   "outputs": [],
   "source": [
    "from skimage.segmentation import random_walker\n",
    "\n",
    "segments = random_walker(image, markers)"
   ]
  },
  {
   "cell_type": "code",
   "execution_count": null,
   "metadata": {
    "collapsed": false
   },
   "outputs": [],
   "source": [
    "plt.imshow(segments)"
   ]
  },
  {
   "cell_type": "code",
   "execution_count": null,
   "metadata": {
    "collapsed": false
   },
   "outputs": [],
   "source": [
    "markers[level_1] = markers[level_2] = -1\n",
    "\n",
    "segments = random_walker(image, markers)"
   ]
  },
  {
   "cell_type": "code",
   "execution_count": null,
   "metadata": {
    "collapsed": false
   },
   "outputs": [],
   "source": [
    "plt.imshow(segments)"
   ]
  },
  {
   "cell_type": "code",
   "execution_count": null,
   "metadata": {
    "collapsed": true
   },
   "outputs": [],
   "source": [
    "from skimage.feature import canny\n",
    "\n",
    "edges = canny(coins(), sigma=3.5)"
   ]
  },
  {
   "cell_type": "code",
   "execution_count": null,
   "metadata": {
    "collapsed": false
   },
   "outputs": [],
   "source": [
    "plt.figure(figsize=(12,6))\n",
    "plt.subplot(121)\n",
    "plt.imshow(coins())\n",
    "plt.subplot(122)\n",
    "plt.imshow(edges)\n",
    "plt.show()"
   ]
  },
  {
   "cell_type": "code",
   "execution_count": null,
   "metadata": {
    "collapsed": true
   },
   "outputs": [],
   "source": [
    "from skimage.draw import line, ellipse_perimeter, circle_perimeter\n",
    "\n",
    "image = np.zeros((64, 64)).astype('bool')\n",
    "image[ellipse_perimeter(10, 10, 9, 5)] = True\n",
    "image[circle_perimeter(30, 35, 15)] = True\n",
    "image[line(0, 3, 63, 40)] = True"
   ]
  },
  {
   "cell_type": "code",
   "execution_count": null,
   "metadata": {
    "collapsed": false
   },
   "outputs": [],
   "source": [
    "from skimage.transform import hough_line, hough_line_peaks\n",
    "\n",
    "Hspace, thetas, distances = hough_line(image)\n",
    "hough_line_peaks(Hspace, thetas, distances)"
   ]
  },
  {
   "cell_type": "code",
   "execution_count": null,
   "metadata": {
    "collapsed": true
   },
   "outputs": [],
   "source": [
    "def hesse_line(theta, distance, thickness):\n",
    "    return lambda i, j: np.abs(distance - np.cos(theta)*j - np.sin(theta)*i) < thickness\n",
    "\n",
    "peak, theta, r = hough_line_peaks(Hspace, thetas, distances)\n",
    "\n",
    "detected_lines = np.fromfunction(hesse_line(theta, r, 1.), (64, 64))"
   ]
  },
  {
   "cell_type": "code",
   "execution_count": null,
   "metadata": {
    "collapsed": false
   },
   "outputs": [],
   "source": [
    "plt.figure(figsize=(24,12))\n",
    "plt.subplot(131)\n",
    "plt.imshow(image)\n",
    "plt.title('Original')\n",
    "plt.subplot(132)\n",
    "plt.imshow(Hspace)\n",
    "plt.title('Hspace - look for peaks!')\n",
    "plt.subplot(133)\n",
    "plt.imshow(detected_lines)\n",
    "plt.title('Lines detected')\n",
    "plt.show()"
   ]
  },
  {
   "cell_type": "code",
   "execution_count": null,
   "metadata": {
    "collapsed": false
   },
   "outputs": [],
   "source": [
    "from skimage.transform import hough_circle\n",
    "\n",
    "detected_circles = hough_circle(image, radius=np.array([15]))\n",
    "\n",
    "np.where(detected_circles == detected_circles.max())"
   ]
  },
  {
   "cell_type": "code",
   "execution_count": null,
   "metadata": {
    "collapsed": false
   },
   "outputs": [],
   "source": [
    "from skimage.data import hubble_deep_field\n",
    "from skimage.feature import blob_doh\n",
    "from skimage.color import rgb2gray\n",
    "\n",
    "image = rgb2gray(hubble_deep_field())\n",
    "\n",
    "blobs = blob_doh(image)\n",
    "\n",
    "plt.figure(figsize=(12,6))\n",
    "ax1 = plt.subplot(121)\n",
    "ax1.imshow(image)\n",
    "plt.gray()\n",
    "ax2 = plt.subplot(122)\n",
    "ax2.imshow(np.zeros_like(image))\n",
    "\n",
    "for blob in blobs:\n",
    "    y, x, r = blob\n",
    "    c = plt.Circle((x, y), r, color='white', lw=1, fill=False)\n",
    "    ax2.add_patch(c)\n",
    "\n",
    "plt.show()"
   ]
  },
  {
   "cell_type": "code",
   "execution_count": null,
   "metadata": {
    "collapsed": false
   },
   "outputs": [],
   "source": [
    "from skimage.feature import corner_fast, corner_orientations, corner_peaks\n",
    "from skimage.data import text\n",
    "\n",
    "mask = np.ones((5,5))\n",
    "\n",
    "corner_response = corner_fast(text(), threshold=0.2)\n",
    "corner_pos = corner_peaks(corner_response)\n",
    "corner_orientation = corner_orientations(text(), corner_pos, mask)\n",
    "\n",
    "for k in range(5):\n",
    "    y, x = corner_pos[k]\n",
    "    angle = np.rad2deg(corner_orientation[k])\n",
    "    print \"Corner at ({}, {}) with orientation {}\".format(x,y,angle)"
   ]
  },
  {
   "cell_type": "code",
   "execution_count": null,
   "metadata": {
    "collapsed": false
   },
   "outputs": [],
   "source": [
    "plt.figure(figsize=(12,6))\n",
    "ax = plt.subplot(111)\n",
    "ax.imshow(text())\n",
    "plt.gray()\n",
    "\n",
    "for corner in corner_pos:\n",
    "    y, x = corner\n",
    "    c = plt.Circle((x, y), 2, lw=1, fill=False, color='red')\n",
    "    ax.add_patch(c)\n",
    "\n",
    "plt.show()"
   ]
  },
  {
   "cell_type": "code",
   "execution_count": null,
   "metadata": {
    "collapsed": false
   },
   "outputs": [],
   "source": [
    "from scipy.misc import imread\n",
    "\n",
    "quixote = imread('quixote.tiff')\n",
    "bin_quixote = (quixote[:,:,0]<50)\n",
    "letter_e = quixote[10:29, 250:265]\n",
    "bin_e = bin_quixote[10:29, 250:265]\n",
    "\n",
    "from scipy.ndimage.morphology import binary_hit_or_miss\n",
    "\n",
    "x, y = np.where(binary_hit_or_miss(bin_quixote, bin_e))\n",
    "\n",
    "plt.figure(figsize=(24,12))\n",
    "ax = plt.subplot(111)\n",
    "ax.imshow(bin_quixote)\n",
    "\n",
    "for loc in zip(y, x):\n",
    "    c = plt.Circle((loc[0], loc[1]), 15, color='red', fill=False)\n",
    "    ax.add_patch(c)\n",
    "\n",
    "plt.show()"
   ]
  },
  {
   "cell_type": "code",
   "execution_count": null,
   "metadata": {
    "collapsed": false
   },
   "outputs": [],
   "source": [
    "from cv2 import matchTemplate, TM_SQDIFF\n",
    "\n",
    "detection = matchTemplate(quixote, letter_e, TM_SQDIFF)\n",
    "x, y = np.where(detection <= detection.mean()/8.)\n",
    "\n",
    "plt.figure()\n",
    "ax = plt.subplot(111)\n",
    "ax.imshow(quixote)\n",
    "\n",
    "for loc in zip(y, x):\n",
    "    r = pltRectangle((loc[0], loc[1]), 15, 19, fill=False)\n",
    "    ax.add_patch(r)\n",
    "\n",
    "plt.show()"
   ]
  },
  {
   "cell_type": "code",
   "execution_count": null,
   "metadata": {
    "collapsed": false
   },
   "outputs": [],
   "source": [
    "from cv2 import CascadeClassifier\n",
    "from skimage.data import lena\n",
    "\n",
    "face_cascade = CascadeClassifier('haarcascade_frontalface_default.xml')\n",
    "eye_cascade = CascadeClassifier('haarcascade_eye.xml')\n",
    "\n",
    "faces = face_cascade.detectMultiScale(lena())\n",
    "eyes = eye_cascade.detectMultiScale(lena())\n",
    "\n",
    "print faces\n",
    "print eyes"
   ]
  },
  {
   "cell_type": "code",
   "execution_count": null,
   "metadata": {
    "collapsed": true
   },
   "outputs": [],
   "source": [
    "plt.figure()\n",
    "ax = plt.subplot(111)\n",
    "ax.imshow(lena())\n",
    "\n",
    "x, y, w, ell = faces[0]\n",
    "r = plt.Rectangle((x, y), w, ell, lw=1, fill=False)\n",
    "ax.add_patch(r)\n",
    "\n",
    "for eye in eyes:\n",
    "    x,y,w, ell = eye\n",
    "    r = plt.Rectangle((x,y),w,ell,lw=1,fill=False)\n",
    "    ax.add_patch(r)\n",
    "\n",
    "plt.show()"
   ]
  }
 ],
 "metadata": {
  "kernelspec": {
   "display_name": "Python 2",
   "language": "python",
   "name": "python2"
  },
  "language_info": {
   "codemirror_mode": {
    "name": "ipython",
    "version": 2
   },
   "file_extension": ".py",
   "mimetype": "text/x-python",
   "name": "python",
   "nbconvert_exporter": "python",
   "pygments_lexer": "ipython2",
   "version": "2.7.10"
  }
 },
 "nbformat": 4,
 "nbformat_minor": 0
}
