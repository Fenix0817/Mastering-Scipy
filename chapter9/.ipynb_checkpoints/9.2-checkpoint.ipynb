{
 "cells": [
  {
   "cell_type": "code",
   "execution_count": null,
   "metadata": {
    "collapsed": false
   },
   "outputs": [],
   "source": [
    "import numpy as np, matplotlib.pyplot as plt\n",
    "from skimage.data import hubble_deep_field\n",
    "\n",
    "%matplotlib inline\n",
    "\n",
    "image = (hubble_deep_field()[:,:,0] > 120)"
   ]
  },
  {
   "cell_type": "code",
   "execution_count": null,
   "metadata": {
    "collapsed": false
   },
   "outputs": [],
   "source": [
    "plt.figure(figsize=(24,12))\n",
    "plt.subplot(121)\n",
    "plt.imshow(hubble_deep_field())\n",
    "plt.subplot(122)\n",
    "plt.imshow(image)\n",
    "plt.gray()\n",
    "plt.show()"
   ]
  },
  {
   "cell_type": "code",
   "execution_count": null,
   "metadata": {
    "collapsed": false
   },
   "outputs": [],
   "source": [
    "from scipy.ndimage import label\n",
    "\n",
    "labels, num_features = label(image)\n",
    "print \"Image contains \" + str(num_features) + \" celestial objects.\""
   ]
  },
  {
   "cell_type": "code",
   "execution_count": null,
   "metadata": {
    "collapsed": false
   },
   "outputs": [],
   "source": [
    "from scipy.ndimage import center_of_mass\n",
    "\n",
    "for k in range(1,11):\n",
    "    location = str(center_of_mass(image, labels, k))\n",
    "    print \"Object \" + str(k) + \" has center of mass at \" + location"
   ]
  },
  {
   "cell_type": "code",
   "execution_count": null,
   "metadata": {
    "collapsed": false
   },
   "outputs": [],
   "source": [
    "from scipy.ndimage.morphology import binary_erosion, binary_dilation\n",
    "from skimage.morphology import skeletonize, medial_axis\n",
    "from skimage.data import horse\n",
    "\n",
    "image = horse()[:,:,0]==0\n",
    "\n",
    "# Morphology via scipy.ndimage.morphology \n",
    "structuring_element = np.ones((10,10))\n",
    "erosion = binary_erosion(image, structuring_element)\n",
    "dilation = binary_dilation(image, structuring_element)\n",
    "\n",
    "# Morphology via skimage.morphology\n",
    "skeleton = skeletonize(image)\n",
    "md_axis  = medial_axis(image)\n",
    "\n",
    "plt.figure(figsize=(24,12))\n",
    "plt.subplot2grid((2,4), (0,0), colspan=2, rowspan=2)\n",
    "plt.imshow(image)\n",
    "plt.gray()\n",
    "plt.title('Original Image')\n",
    "plt.subplot2grid((2,4), (0,2))\n",
    "plt.imshow(erosion)\n",
    "plt.title('Erosion')\n",
    "plt.subplot2grid((2,4), (0,3))\n",
    "plt.imshow(dilation)\n",
    "plt.title('Dilation')\n",
    "plt.subplot2grid((2,4), (1,2))\n",
    "plt.imshow(skeleton)\n",
    "plt.title('Skeleton')\n",
    "plt.subplot2grid((2,4), (1,3))\n",
    "plt.imshow(md_axis)\n",
    "plt.title('Medial Axis')\n",
    "plt.show()"
   ]
  },
  {
   "cell_type": "code",
   "execution_count": null,
   "metadata": {
    "collapsed": false
   },
   "outputs": [],
   "source": [
    "from scipy.ndimage import gaussian_filter\n",
    "from skimage.color import rgb2gray\n",
    "from skimage.data import coffee\n",
    "\n",
    "image = coffee()\n",
    "\n",
    "smooth_image = gaussian_filter(rgb2gray(image), sigma=2.5)"
   ]
  },
  {
   "cell_type": "code",
   "execution_count": null,
   "metadata": {
    "collapsed": false
   },
   "outputs": [],
   "source": [
    "plt.imshow(smooth_image)"
   ]
  },
  {
   "cell_type": "code",
   "execution_count": null,
   "metadata": {
    "collapsed": true
   },
   "outputs": [],
   "source": [
    "from scipy.ndimage import prewitt\n",
    "\n",
    "gradient_approx = prewitt(smooth_image)"
   ]
  },
  {
   "cell_type": "code",
   "execution_count": null,
   "metadata": {
    "collapsed": false
   },
   "outputs": [],
   "source": [
    "plt.imshow(gradient_approx)"
   ]
  },
  {
   "cell_type": "code",
   "execution_count": null,
   "metadata": {
    "collapsed": true
   },
   "outputs": [],
   "source": [
    "from scipy.ndimage import laplace\n",
    "\n",
    "laplace_approx = laplace(smooth_image)"
   ]
  },
  {
   "cell_type": "code",
   "execution_count": null,
   "metadata": {
    "collapsed": false
   },
   "outputs": [],
   "source": [
    "plt.imshow(laplace_approx)"
   ]
  },
  {
   "cell_type": "code",
   "execution_count": null,
   "metadata": {
    "collapsed": true
   },
   "outputs": [],
   "source": [
    "from scipy.ndimage import percentile_filter\n",
    "\n",
    "prctl_image = percentile_filter(image[:,:,0], percentile=-20, size=10)"
   ]
  },
  {
   "cell_type": "code",
   "execution_count": null,
   "metadata": {
    "collapsed": false
   },
   "outputs": [],
   "source": [
    "plt.imshow(prctl_image)"
   ]
  },
  {
   "cell_type": "code",
   "execution_count": null,
   "metadata": {
    "collapsed": false
   },
   "outputs": [],
   "source": [
    "from scipy.fftpack import fft2, ifft2, fftshift\n",
    "from skimage.data import text\n",
    "\n",
    "image = text()\n",
    "\n",
    "frequency = fftshift(fft2(image))"
   ]
  },
  {
   "cell_type": "code",
   "execution_count": null,
   "metadata": {
    "collapsed": false
   },
   "outputs": [],
   "source": [
    "plt.figure(figsize=(24,12))\n",
    "ax1 = plt.subplot2grid((2,2), (0,0), colspan=2)\n",
    "plt.imshow(image)\n",
    "\n",
    "module = np.absolute(frequency)\n",
    "angles = np.angle(frequency)\n",
    "\n",
    "from skimage.exposure import adjust_log\n",
    "\n",
    "ax2 = plt.subplot2grid((2,2), (1,0))\n",
    "plt.imshow(adjust_log(module))\n",
    "ax3 = plt.subplot2grid((2,2), (1,1))\n",
    "plt.imshow(angles)\n",
    "plt.show()"
   ]
  },
  {
   "cell_type": "code",
   "execution_count": null,
   "metadata": {
    "collapsed": false
   },
   "outputs": [],
   "source": [
    "frequency.shape"
   ]
  },
  {
   "cell_type": "code",
   "execution_count": null,
   "metadata": {
    "collapsed": true
   },
   "outputs": [],
   "source": [
    "smaller_frequency = frequency[:,448/2-172/2:448/2+172/2]\n",
    "\n",
    "new_image = ifft2(smaller_frequency)\n",
    "new_image = np.absolute(new_image)"
   ]
  },
  {
   "cell_type": "code",
   "execution_count": null,
   "metadata": {
    "collapsed": false
   },
   "outputs": [],
   "source": [
    "plt.imshow(new_image)"
   ]
  },
  {
   "cell_type": "code",
   "execution_count": null,
   "metadata": {
    "collapsed": false
   },
   "outputs": [],
   "source": [
    "import pywt\n",
    "\n",
    "pywt.families()"
   ]
  },
  {
   "cell_type": "code",
   "execution_count": null,
   "metadata": {
    "collapsed": false
   },
   "outputs": [],
   "source": [
    "print pywt.wavelist()"
   ]
  },
  {
   "cell_type": "code",
   "execution_count": null,
   "metadata": {
    "collapsed": false
   },
   "outputs": [],
   "source": [
    "from skimage.data import camera\n",
    "\n",
    "levels = int(np.floor(np.log2(camera().shape).max()))\n",
    "print \"We need {} levels\".format(levels)"
   ]
  },
  {
   "cell_type": "code",
   "execution_count": null,
   "metadata": {
    "collapsed": true
   },
   "outputs": [],
   "source": [
    "wavelet = pywt.Wavelet('haar')\n",
    "\n",
    "wavelet_coeffs = pywt.wavedec2(camera(), wavelet, level=levels)"
   ]
  },
  {
   "cell_type": "code",
   "execution_count": null,
   "metadata": {
    "collapsed": false
   },
   "outputs": [],
   "source": [
    "for index, level in enumerate(wavelet_coeffs):\n",
    "    if index>0:\n",
    "        value = level[0].size + level[1].size + level[2].size\n",
    "        print \"Level {}: {}\".format(index, value)\n",
    "    else:\n",
    "        print \"Level 0: 1\""
   ]
  }
 ],
 "metadata": {
  "kernelspec": {
   "display_name": "Python 2",
   "language": "python",
   "name": "python2"
  },
  "language_info": {
   "codemirror_mode": {
    "name": "ipython",
    "version": 2
   },
   "file_extension": ".py",
   "mimetype": "text/x-python",
   "name": "python",
   "nbconvert_exporter": "python",
   "pygments_lexer": "ipython2",
   "version": "2.7.10"
  }
 },
 "nbformat": 4,
 "nbformat_minor": 0
}
