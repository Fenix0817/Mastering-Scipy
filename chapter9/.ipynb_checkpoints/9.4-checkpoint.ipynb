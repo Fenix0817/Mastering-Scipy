{
 "cells": [
  {
   "cell_type": "code",
   "execution_count": null,
   "metadata": {
    "collapsed": false
   },
   "outputs": [],
   "source": [
    "import numpy as np, matplotlib.pyplot as plt\n",
    "\n",
    "%matplotlib inline\n",
    "\n",
    "from scipy.misc import lena\n",
    "from skimage.data import checkerboard\n",
    "\n",
    "image = lena().astype('float')\n",
    "domain = checkerboard()\n",
    "\n",
    "print image.shape, domain.shape"
   ]
  },
  {
   "cell_type": "code",
   "execution_count": null,
   "metadata": {
    "collapsed": true
   },
   "outputs": [],
   "source": [
    "from skimage.transform import rescale, resize\n",
    "\n",
    "domain = rescale(domain, scale=1024./200)\n",
    "image  = resize(image, output_shape=(1024, 1024), order=3)"
   ]
  },
  {
   "cell_type": "code",
   "execution_count": null,
   "metadata": {
    "collapsed": true
   },
   "outputs": [],
   "source": [
    "def display(mapping, image, domain):\n",
    "    plt.figure(figsize=(12,6))\n",
    "    plt.subplot(121)\n",
    "    plt.imshow(mapping(image))\n",
    "    plt.gray()\n",
    "    plt.subplot(122)\n",
    "    plt.imshow(mapping(domain))\n",
    "    plt.show()"
   ]
  },
  {
   "cell_type": "code",
   "execution_count": null,
   "metadata": {
    "collapsed": false
   },
   "outputs": [],
   "source": [
    "from skimage.transform import swirl\n",
    "\n",
    "mapping = lambda img: swirl(img, strength=6, radius=512)\n",
    "\n",
    "display(mapping, image, domain)"
   ]
  },
  {
   "cell_type": "code",
   "execution_count": null,
   "metadata": {
    "collapsed": false
   },
   "outputs": [],
   "source": [
    "from skimage.transform import rotate\n",
    "\n",
    "mapping = lambda img: rotate(img, angle=30, resize=True, center=None)\n",
    "\n",
    "display(mapping, image, domain)"
   ]
  },
  {
   "cell_type": "code",
   "execution_count": null,
   "metadata": {
    "collapsed": false
   },
   "outputs": [],
   "source": [
    "from skimage.transform import warp, AffineTransform\n",
    "\n",
    "operation = AffineTransform(scale=(2,3), rotation=np.pi/6, translation = (512, -2048))\n",
    "\n",
    "mapping = lambda img: warp(img, operation)\n",
    "\n",
    "display(mapping, image, domain)"
   ]
  },
  {
   "cell_type": "code",
   "execution_count": null,
   "metadata": {
    "collapsed": false
   },
   "outputs": [],
   "source": [
    "from skimage.transform import ProjectiveTransform\n",
    "\n",
    "generator = np.matrix('1,0,10; 0,1,20; -0.0007,0.0005,1')\n",
    "homography = ProjectiveTransform(matrix=generator)\n",
    "mapping = lambda img: warp(img, homography)\n",
    "\n",
    "display(mapping, image, domain)"
   ]
  },
  {
   "cell_type": "code",
   "execution_count": null,
   "metadata": {
    "collapsed": false
   },
   "outputs": [],
   "source": [
    "from skimage.data import text\n",
    "\n",
    "text().shape"
   ]
  },
  {
   "cell_type": "code",
   "execution_count": null,
   "metadata": {
    "collapsed": true
   },
   "outputs": [],
   "source": [
    "source = np.array(((155, 15),  (65, 40), (260, 130), (360, 95), (155, 15)))\n",
    "\n",
    "mapping = ProjectiveTransform()"
   ]
  },
  {
   "cell_type": "code",
   "execution_count": null,
   "metadata": {
    "collapsed": false
   },
   "outputs": [],
   "source": [
    "target = np.array(((256-128, 256-24), (256-128, 256+24), \n",
    "                   (256+128, 256+24), (256+128, 256-24), \n",
    "                   (256-128, 256-24)))\n",
    "\n",
    "mapping.estimate(target, source)\n",
    "\n",
    "plt.figure(figsize=(12,6))\n",
    "plt.subplot(121)\n",
    "plt.imshow(text())\n",
    "plt.gray()\n",
    "plt.plot(source[:,0], source[:,1], '-', lw=1, color='red')\n",
    "plt.xlim(0, 448)\n",
    "plt.ylim(172, 0)\n",
    "plt.subplot(122)\n",
    "plt.imshow(warp(text(), mapping, output_shape=(512, 512)))\n",
    "plt.plot(target[:,0], target[:,1], '-', lw=1, color='red')\n",
    "plt.xlim(0, 512)\n",
    "plt.ylim(512, 0)\n",
    "plt.show()"
   ]
  },
  {
   "cell_type": "code",
   "execution_count": null,
   "metadata": {
    "collapsed": false
   },
   "outputs": [],
   "source": [
    "plt.figure()\n",
    "plt.hist(lena().flatten(), 256)\n",
    "plt.show()"
   ]
  },
  {
   "cell_type": "code",
   "execution_count": null,
   "metadata": {
    "collapsed": true
   },
   "outputs": [],
   "source": [
    "def display(image, transform, bins):\n",
    "    target = transform(image)\n",
    "    plt.figure(figsize=(12,6))\n",
    "    plt.subplot(221)\n",
    "    plt.imshow(image)\n",
    "    plt.gray()\n",
    "    plt.subplot(222)\n",
    "    plt.imshow(target)\n",
    "    plt.subplot(223)\n",
    "    plt.hist(image.flatten(), bins)\n",
    "    plt.subplot(224)\n",
    "    plt.hist(target.flatten(), bins)\n",
    "    plt.show()"
   ]
  },
  {
   "cell_type": "code",
   "execution_count": null,
   "metadata": {
    "collapsed": false
   },
   "outputs": [],
   "source": [
    "from skimage.exposure import equalize_hist\n",
    "from skimage.data import moon\n",
    "\n",
    "display(moon(), equalize_hist, 256) "
   ]
  },
  {
   "cell_type": "code",
   "execution_count": null,
   "metadata": {
    "collapsed": false
   },
   "outputs": [],
   "source": [
    "plt.figure()\n",
    "plt.imshow(lena())\n",
    "plt.gray()\n",
    "plt.clim(vmin=150, vmax=160)\n",
    "plt.show()"
   ]
  },
  {
   "cell_type": "code",
   "execution_count": null,
   "metadata": {
    "collapsed": true
   },
   "outputs": [],
   "source": [
    "from skimage.exposure import adjust_gamma\n",
    "from skimage.color import rgb2gray\n",
    "from skimage.data import immunohistochemistry\n",
    "\n",
    "image = rgb2gray(immunohistochemistry())\n",
    "\n",
    "correction = lambda img: adjust_gamma(img, gamma=2.5, gain=1.)"
   ]
  },
  {
   "cell_type": "code",
   "execution_count": null,
   "metadata": {
    "collapsed": false
   },
   "outputs": [],
   "source": [
    "display(image, correction, 256)"
   ]
  },
  {
   "cell_type": "code",
   "execution_count": null,
   "metadata": {
    "collapsed": false
   },
   "outputs": [],
   "source": [
    "from skimage.exposure import adjust_sigmoid\n",
    "\n",
    "display(image[:256, :256], adjust_sigmoid, 256)"
   ]
  },
  {
   "cell_type": "code",
   "execution_count": null,
   "metadata": {
    "collapsed": false
   },
   "outputs": [],
   "source": [
    "from skimage.data import camera\n",
    "from skimage.util import random_noise\n",
    "\n",
    "gaussian_noise = random_noise(camera(), 'gaussian', var=0.025)\n",
    "poisson_noise = random_noise(camera(), 'poisson')\n",
    "saltpepper_noise = random_noise(camera(), 's&p', salt_vs_pepper=0.45)\n",
    "speckle_noise = random_noise(camera(), 'speckle', var=0.02)\n",
    "\n",
    "variance_generator = lambda i,j: 0.25*(i+j)/1022. + 0.001\n",
    "variances = np.fromfunction(variance_generator, (512, 512))\n",
    "lclvr_noise = random_noise(camera(), 'localvar', local_vars=variances)"
   ]
  },
  {
   "cell_type": "code",
   "execution_count": null,
   "metadata": {
    "collapsed": false
   },
   "outputs": [],
   "source": [
    "names = ['Original', 'Gaussian noise', 'localvar', 'Poisson noise', 'Salt & pepper', 'speckle']\n",
    "images = [camera(), gaussian_noise, lclvr_noise, poisson_noise, saltpepper_noise, speckle_noise]\n",
    "\n",
    "plt.figure(figsize=(24,12))\n",
    "\n",
    "for k in range(6):\n",
    "    plt.subplot(2,3,k+1)\n",
    "    plt.imshow(images[k])\n",
    "    plt.title(names[k])\n",
    "    \n",
    "plt.show()"
   ]
  },
  {
   "cell_type": "code",
   "execution_count": null,
   "metadata": {
    "collapsed": false
   },
   "outputs": [],
   "source": [
    "from skimage.restoration import nl_means_denoising as denoise\n",
    "\n",
    "images = [gaussian_noise, poisson_noise, saltpepper_noise, speckle_noise]\n",
    "names  = ['Gaussian', 'Poisson', 'Salt & Pepper', 'Speckle']\n",
    "\n",
    "plt.figure(figsize=(24,12))\n",
    "\n",
    "for index, image in enumerate(images):\n",
    "    output = denoise(image, patch_size=5, patch_distance=7)\n",
    "    plt.subplot(2, 4, index+1)\n",
    "    plt.imshow(image)\n",
    "    plt.gray()\n",
    "    plt.title(names[index])\n",
    "    plt.subplot(2, 4, index+5)\n",
    "    plt.imshow(output)\n",
    "\n",
    "plt.show()"
   ]
  },
  {
   "cell_type": "code",
   "execution_count": null,
   "metadata": {
    "collapsed": false
   },
   "outputs": [],
   "source": [
    "import pywt\n",
    "\n",
    "def denoise(image, wavelet, noise_var):\n",
    "    levels = int(np.floor(np.log2(image.shape[0])))\n",
    "    coeffs = pywt.wavedec2(image, wavelet, level=levels)\n",
    "    value = noise_var * np.sqrt(2 * np.log2(image.size))\n",
    "    threshold = lambda x: pywt.thresholding.soft(x, value)\n",
    "    coeffs = map(threshold, coeffs)\n",
    "    return pywt.waverec2(coeffs, wavelet)\n",
    "\n",
    "plt.figure(figsize=(24,12))\n",
    "\n",
    "for index, image in enumerate(images):\n",
    "    output = denoise(image, pywt.Wavelet('bior2.8'), noise_var=0.02)\n",
    "    plt.subplot(2, 4, index+1)\n",
    "    plt.imshow(image)\n",
    "    plt.gray()\n",
    "    plt.title(names[index])\n",
    "    plt.subplot(2, 4, index+5)\n",
    "    plt.imshow(output)\n",
    "\n",
    "plt.show()"
   ]
  },
  {
   "cell_type": "code",
   "execution_count": null,
   "metadata": {
    "collapsed": true
   },
   "outputs": [],
   "source": [
    "from scipy.ndimage import convolve\n",
    "from skimage.data import page\n",
    "\n",
    "kernel = np.ones((10, 10))/100.\n",
    "blurred = convolve(page(), kernel)"
   ]
  },
  {
   "cell_type": "code",
   "execution_count": null,
   "metadata": {
    "collapsed": true
   },
   "outputs": [],
   "source": [
    "from skimage.draw import polygon\n",
    "\n",
    "x_coords = np.array([14, 14, 24, 26, 24, 18, 18])\n",
    "y_coords = np.array([ 2, 18, 26, 24, 22, 18,  2])\n",
    "kernel_2 = np.zeros((32, 32))\n",
    "kernel_2[polygon(x_coords, y_coords)]= 1.\n",
    "kernel_2 /= kernel_2.sum()\n",
    "\n",
    "blurred_motion = convolve(page(), kernel_2)"
   ]
  },
  {
   "cell_type": "code",
   "execution_count": null,
   "metadata": {
    "collapsed": false
   },
   "outputs": [],
   "source": [
    "plt.figure(figsize=(24,12))\n",
    "plt.subplot(131)\n",
    "plt.imshow(page())\n",
    "plt.title('Original')\n",
    "plt.subplot(132)\n",
    "plt.imshow(blurred)\n",
    "plt.title('blurred')\n",
    "plt.subplot(133)\n",
    "plt.imshow(blurred_motion)\n",
    "plt.title('blurred_motion')\n",
    "plt.show()"
   ]
  },
  {
   "cell_type": "code",
   "execution_count": null,
   "metadata": {
    "collapsed": true
   },
   "outputs": [],
   "source": [
    "from skimage.restoration import wiener\n",
    "\n",
    "deconv = wiener(blurred, kernel, balance=0.025, clip=False)"
   ]
  },
  {
   "cell_type": "code",
   "execution_count": null,
   "metadata": {
    "collapsed": false
   },
   "outputs": [],
   "source": [
    "plt.figure(figsize=(24,12))\n",
    "plt.subplot(121)\n",
    "plt.imshow(blurred)\n",
    "plt.title('blurred')\n",
    "plt.subplot(122)\n",
    "plt.imshow(deconv)\n",
    "plt.title('deconvolved')\n",
    "plt.show()"
   ]
  },
  {
   "cell_type": "code",
   "execution_count": null,
   "metadata": {
    "collapsed": false
   },
   "outputs": [],
   "source": [
    "from skimage.data import checkerboard\n",
    "\n",
    "image = checkerboard()\n",
    "image[25:100, 25:75] = 0.\n",
    "\n",
    "mask = np.zeros_like(image)\n",
    "mask[25:100, 25:75] = 1.\n",
    "\n",
    "from cv2 import inpaint, INPAINT_TELEA, INPAINT_NS\n",
    "\n",
    "inpainted = inpaint(image, mask, 1, INPAINT_TELEA)"
   ]
  },
  {
   "cell_type": "code",
   "execution_count": null,
   "metadata": {
    "collapsed": false
   },
   "outputs": [],
   "source": [
    "image = page()\n",
    "image[36:46, :] = image[140:, :] = 0\n",
    "\n",
    "mask = np.zeros_like(image)\n",
    "mask[36:46, :] = mask[140:, :] = 1\n",
    "\n",
    "inpainted = inpaint(image, mask, 5, INPAINT_NS)"
   ]
  }
 ],
 "metadata": {
  "kernelspec": {
   "display_name": "Python 2",
   "language": "python",
   "name": "python2"
  },
  "language_info": {
   "codemirror_mode": {
    "name": "ipython",
    "version": 2
   },
   "file_extension": ".py",
   "mimetype": "text/x-python",
   "name": "python",
   "nbconvert_exporter": "python",
   "pygments_lexer": "ipython2",
   "version": "2.7.10"
  }
 },
 "nbformat": 4,
 "nbformat_minor": 0
}
