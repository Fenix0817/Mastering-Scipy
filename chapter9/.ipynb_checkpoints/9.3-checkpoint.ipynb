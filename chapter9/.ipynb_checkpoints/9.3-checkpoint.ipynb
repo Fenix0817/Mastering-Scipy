{
 "cells": [
  {
   "cell_type": "code",
   "execution_count": null,
   "metadata": {
    "collapsed": true
   },
   "outputs": [],
   "source": [
    "import numpy as np, matplotlib.pyplot as plt\n",
    "from scipy.misc import lena, imsave\n",
    "\n",
    "%matplotlib inline\n",
    "\n",
    "A = lena()\n",
    "\n",
    "imsave(\"my_image.png\", A)\n",
    "imsave(\"my_image.tiff\", A)\n",
    "imsave(\"my_image.pcx\", A)\n",
    "imsave(\"my_image.jpg\", A)\n",
    "imsave(\"my_image.gif\", A)"
   ]
  },
  {
   "cell_type": "code",
   "execution_count": null,
   "metadata": {
    "collapsed": false
   },
   "outputs": [],
   "source": [
    "!ls -nh my_image.*"
   ]
  },
  {
   "cell_type": "code",
   "execution_count": null,
   "metadata": {
    "collapsed": false
   },
   "outputs": [],
   "source": [
    "from skimage.data import checkerboard\n",
    "\n",
    "def color(value):\n",
    "    if value==0: return 'B'\n",
    "    else: return 'W'\n",
    "\n",
    "image = np.vectorize(color)(checkerboard())\n",
    "print image"
   ]
  },
  {
   "cell_type": "code",
   "execution_count": null,
   "metadata": {
    "collapsed": true
   },
   "outputs": [],
   "source": [
    "from itertools import groupby\n",
    "\n",
    "def runlength(string):\n",
    "    groups = [k + str(sum(1 for _ in g)) for k,g in groupby(string)]\n",
    "    return ''.join(groups)"
   ]
  },
  {
   "cell_type": "code",
   "execution_count": null,
   "metadata": {
    "collapsed": false
   },
   "outputs": [],
   "source": [
    "coded_image = runlength(image.flatten().tolist())\n",
    "\n",
    "print coded_image"
   ]
  },
  {
   "cell_type": "code",
   "execution_count": null,
   "metadata": {
    "collapsed": false
   },
   "outputs": [],
   "source": [
    "len(coded_image)"
   ]
  },
  {
   "cell_type": "code",
   "execution_count": null,
   "metadata": {
    "collapsed": true
   },
   "outputs": [],
   "source": [
    "from skimage.data import text\n",
    "from scipy.fftpack import dct, idct\n",
    "\n",
    "image = text().astype('float')\n",
    "\n",
    "image_DCT = dct(image)"
   ]
  },
  {
   "cell_type": "code",
   "execution_count": null,
   "metadata": {
    "collapsed": true
   },
   "outputs": [],
   "source": [
    "mask = np.absolute(image_DCT)>1000\n",
    "\n",
    "compressed = idct(image_DCT * mask)"
   ]
  },
  {
   "cell_type": "code",
   "execution_count": null,
   "metadata": {
    "collapsed": false
   },
   "outputs": [],
   "source": [
    "plt.figure(figsize=(12,6))\n",
    "plt.subplot(121)\n",
    "plt.imshow(text())\n",
    "plt.gray()\n",
    "plt.subplot(122)\n",
    "plt.imshow(compressed)\n",
    "plt.show()"
   ]
  },
  {
   "cell_type": "code",
   "execution_count": null,
   "metadata": {
    "collapsed": true
   },
   "outputs": [],
   "source": [
    "import pywt\n",
    "from skimage.data import camera\n",
    "\n",
    "levels = int(np.floor(np.log2(camera().shape).max()))\n",
    "\n",
    "wavelet = pywt.Wavelet('haar')\n",
    "\n",
    "wavelet_coeffs = pywt.wavedec2(camera(), wavelet, level=levels)\n",
    "\n",
    "compressed = pywt.waverec2(wavelet_coeffs[:8], wavelet)"
   ]
  },
  {
   "cell_type": "code",
   "execution_count": null,
   "metadata": {
    "collapsed": false
   },
   "outputs": [],
   "source": [
    "plt.figure(figsize=(12,6))\n",
    "plt.subplot(121)\n",
    "plt.imshow(camera())\n",
    "plt.subplot(122)\n",
    "plt.imshow(compressed)\n",
    "plt.show()"
   ]
  }
 ],
 "metadata": {
  "kernelspec": {
   "display_name": "Python 2",
   "language": "python",
   "name": "python2"
  },
  "language_info": {
   "codemirror_mode": {
    "name": "ipython",
    "version": 2
   },
   "file_extension": ".py",
   "mimetype": "text/x-python",
   "name": "python",
   "nbconvert_exporter": "python",
   "pygments_lexer": "ipython2",
   "version": "2.7.10"
  }
 },
 "nbformat": 4,
 "nbformat_minor": 0
}
