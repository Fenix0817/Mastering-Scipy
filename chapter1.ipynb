{
 "metadata": {
  "name": "",
  "signature": "sha256:a6d58b77d0b841c7fc265d6115736b4312c56c5aebb55e6df4cdf1ad7319a3eb"
 },
 "nbformat": 3,
 "nbformat_minor": 0,
 "worksheets": [
  {
   "cells": [
    {
     "cell_type": "markdown",
     "metadata": {},
     "source": [
      "# Numerical Linear Algebra\n",
      "The term **Numerical Linear Algebra** refers to the use of matrices to solve computational science problems.  In this chapter we start by learning how to construct these objects effectively in `python`.  We make an emphasis on importing large sparse matrices from repositories online.  We then proceed to reviewing basic manipulation and operations on them.  The next step is a study of the different matrix functions implemented in `scipy`.  We continue on to exploring different factorizations for the solution of matrix equations, and for the computation of eigenvalues and their corresponding eigenvectors.\n",
      "\n",
      "## Motivation\n",
      "\n",
      "The following diagram shows a graph that represents a series of web pages (numbered from 1 to 8).\n",
      "\n",
      "image::4749_01_01.png[align=\"center\"]\n",
      "\n",
      "An arrow from a node to another indicates the existence of a link from the web page represented by the sending node, to the page represented by the receiving node.  For example, the arrow from node 2 to node 1 indicates that there is a link in web page 2 pointing to web page 1.  Notice how web page 4 has two outer links (to pages 2 and 8), and there are three pages that link to web page 4 (pages 2, 6 and 7).  The pages represented by nodes 2, 4 and 8 seem to be the most *popular* at first sight.\n",
      "\n",
      "Is there a mathematical way to actually express the popularity of a web page within a network?  Researchers at Google came up with the idea of a **PageRank** to roughly estimate this concept by counting the number and quality of links to a page.  It goes like this:\n",
      "\n",
      "We construct a _transition matrix_ of this graph $T=a_{i,j}$ in the following fashion: the entry $a_{i,j}$ is $1/k$ if there is a link from web page $i$ to web page $j$, and the total number of outer links in web page $i$ amounts to $k$.  Otherwise, the entry is just zero.   The size of a transition matrix of $N$ web pages is always $N \\times N$. In our case, the matrix has size $8 \\times 8$:\n",
      "\n",
      "$$\\begin{pmatrix}\n",
      "0  &1/2  & 0   & 0    & 0   & 0   & 0   & 0 \\\\\n",
      "1  & 0   &1/2  &1/2   & 0   & 0   & 0   & 0 \\\\\n",
      "0  & 0   & 0   & 0    & 0   & 0   &1/3  & 0 \\\\\n",
      "0  &1/2  & 0   & 0    & 0   & 1   &1/3  & 0 \\\\\n",
      "0  & 0   &1/2  & 0    & 0   & 0   & 0   & 0 \\\\\n",
      "0  & 0   & 0   & 0    & 0   & 0   & 0   &1/2\\\\\n",
      "0  & 0   & 0   & 0    &1/2  & 0   & 0   &1/2\\\\\n",
      "0  & 0   & 0   &1/2   &1/2  & 0   &1/3  &0\n",
      "\\end{pmatrix}$$ \n",
      "\n",
      "Let us open an `ipython` session and load this particular matrix to memory.\n",
      "Remember that in `python`, indices start from zero, not one:"
     ]
    },
    {
     "cell_type": "code",
     "collapsed": false,
     "input": [
      "In [1]: import numpy as np, matplotlib.pyplot as plt, \\\n",
      "   ...: scipy.linalg as spla, scipy.sparse as spsp, \\\n",
      "   ...: scipy.sparse.linalg as spspla\n",
      "In [2]: np.set_printoptions(suppress=True, precision=3)\n",
      "In [3]: cols = np.array([0,1,1,2,2,3,3,4,4,5,6,6,6,7,7])\n",
      "In [4]: rows = np.array([1,0,3,1,4,1,7,6,7,3,2,3,7,5,6])\n",
      "In [5]: data = np.array([1., 0.5, 0.5, 0.5, 0.5, \\\n",
      "   ...:                  0.5, 0.5, 0.5, 0.5, 1., \\\n",
      "   ...:                  1./3, 1./3, 1./3, 0.5, 0.5])\n",
      "In [6]: T = np.zeros((8,8)); \\\n",
      "   ...: T[rows,cols] = data"
     ],
     "language": "python",
     "metadata": {},
     "outputs": [],
     "prompt_number": 1
    },
    {
     "cell_type": "markdown",
     "metadata": {},
     "source": [
      "From the transition matrix, we create a _Page Rank matrix_, $G$ (also known as the **Google matrix**), by fixing a positive constant $0 < p \\leq 1$, and following the formula $G = (1-p) \\cdot T + p \\cdot B$.  Here, $B$ is a matrix with the same size as $T$, with all its entries equal to $1/N$.  For example, if we choose $p=0.15$, we obtain the following Google matrix"
     ]
    },
    {
     "cell_type": "code",
     "collapsed": false,
     "input": [
      "In [7]: G = (1-0.15) * T + 0.15/8; \\\n",
      "   ...: print G"
     ],
     "language": "python",
     "metadata": {},
     "outputs": [
      {
       "output_type": "stream",
       "stream": "stdout",
       "text": [
        "[[ 0.019  0.444  0.019  0.019  0.019  0.019  0.019  0.019]\n",
        " [ 0.869  0.019  0.444  0.444  0.019  0.019  0.019  0.019]\n",
        " [ 0.019  0.019  0.019  0.019  0.019  0.019  0.302  0.019]\n",
        " [ 0.019  0.444  0.019  0.019  0.019  0.869  0.302  0.019]\n",
        " [ 0.019  0.019  0.444  0.019  0.019  0.019  0.019  0.019]\n",
        " [ 0.019  0.019  0.019  0.019  0.019  0.019  0.019  0.444]\n",
        " [ 0.019  0.019  0.019  0.019  0.444  0.019  0.019  0.444]\n",
        " [ 0.019  0.019  0.019  0.444  0.444  0.019  0.302  0.019]]\n"
       ]
      }
     ],
     "prompt_number": 2
    },
    {
     "cell_type": "markdown",
     "metadata": {},
     "source": [
      "Google matrices have some interesting properties:\n",
      "* 1 is an eigenvalue of multiplicity one.\n",
      "* 1 is actually the largest eigenvalue: all the other eigenvalues are in modulus smaller than 1.\n",
      "* The eigenvector corresponding to eigenvalue 1 has all entries positive.  In particular, for the eigenvalue 1 there exists a unique eigenvector with the sum of its entries equal to one.  This is what we call the **Page Rank vector**.\n",
      "\n",
      "A quick computation with `scipy.linalg.eig` finds that eigenvector for us:"
     ]
    },
    {
     "cell_type": "code",
     "collapsed": false,
     "input": [
      "In [8]: eigenvalues, eigenvectors = spla.eig(G)\n",
      "In [9]: print eigenvalues"
     ],
     "language": "python",
     "metadata": {},
     "outputs": [
      {
       "output_type": "stream",
       "stream": "stdout",
       "text": [
        "[ 1.000+0.j    -0.655+0.j    -0.333+0.313j -0.333-0.313j -0.171+0.372j\n",
        " -0.171-0.372j  0.544+0.j     0.268+0.j   ]\n"
       ]
      }
     ],
     "prompt_number": 3
    },
    {
     "cell_type": "code",
     "collapsed": false,
     "input": [
      "In [10]: PageRank = eigenvectors[:,0]; \\\n",
      "   ....: PageRank /= sum(PageRank)\n",
      "In [11]: print PageRank.real"
     ],
     "language": "python",
     "metadata": {},
     "outputs": [
      {
       "output_type": "stream",
       "stream": "stdout",
       "text": [
        "[ 0.117  0.232  0.048  0.219  0.039  0.086  0.102  0.157]\n"
       ]
      }
     ],
     "prompt_number": 4
    },
    {
     "cell_type": "markdown",
     "metadata": {},
     "source": [
      "Those values correspond to the Page Ranks of each of the eight web pages depicted on the graph.  As expected, the maximum value of those is associated to the second web page (0.232), closely followed by the fourth (0.219), and then the eighth web page (0.157).\n",
      "\n",
      "> Note how this problem of networks of web pages has been translated into mathematical objects, to an equivalent problem involving matrices, eigenvalues and eigenvectors, and has been solved with techniques of Linear Algebra.\n",
      "\n",
      "The transition matrix is **sparse**: most of its entries are zeros.  Sparse matrices with extremely large size are of special importance in *Numerical Linear Algebra*, not only because they encode challenging scientific problems, but also because it is extremely hard to manipulate them with basic algorithms. \n",
      "\n",
      "Rather than storing to memory all values in the matrix, it makes sense to collect only the non-zero values instead, and use algorithms with exploit these smart storage schemes.  The gain in memory management is obvious.  These methods are usually faster for this kind of matrices and give less roundoff errors, since there are usually far less operations involved.  This is another advantage of `scipy`, since it contains numerous procedures to attack different problems where data is stored in this fashion.  Let us observe its power with another example:\n",
      "\n",
      "The **University of Florida Sparse Matrix Collection** is the largest database of matrices accessible online.  As of January 2014, it contains 157 groups of matrices arising from all sorts of scientific disciplines.  The sizes of the matrices range from very small (1-by-2) to insanely large (28-million-by-28-million).  More matrices are expected to be added constantly, as they arise in different engineering problems.\n",
      "\n",
      ">More information about this database can be found in ACM Transactions on Mathematical Software, vol 38, Issue 1, 2011, pp 1:1 - 1:25, by T.A. Davis and Y.Hu, or online at  [www.cise.ufl.edu/research/sparse/matrices](www.cise.ufl.edu/research/sparse/matrices)\n",
      "\n",
      "For example, the group with the most matrices in the database is the original Harwell-Boeing Collection, with 292 different sparse matrices.  This group can also be accessed online at the **Matrix Market**: [math.nist.gov/MatrixMarket](math.nist.gov/MatrixMarket)\n",
      "\n",
      "Each matrix in the database comes in three formats: \n",
      "* **Matrix Market Exchange Format** [Boisvert et al. 1997] \n",
      "* **Rutherford-Boeing Exchange Format** [Duff et al. 1997]\n",
      "* Proprietary **matlab** `.mat` format.\n",
      "\n",
      "Let us import to our `ipython` session two matrices in Matrix Market Exchange format from the Collection, meant to be used in a solution of a least squares problem.  These matrices are located at \n",
      "\n",
      "[www.cise.ufl.edu/research/sparse/matrices/Bydder/mri2.html](www.cise.ufl.edu/research/sparse/matrices/Bydder/mri2.html)\n",
      "\n",
      "We download the corresponding `tar` bundle and `untar` it to get two `ASCII` files:\n",
      "* `mri2.mtx` (the main matrix in the least squares problem)\n",
      "* `mri2_b.mtx` (the right-hand side of the equation)\n",
      "\n",
      "The first twenty lines of the file mri2.mtx read as follows:\n",
      "\n",
      "    %% MatrixMarket matrix coordinate real general\n",
      "    %-----------------------------------------------------------------\n",
      "    % UF Sparse Matrix Collection, Tim Davis\n",
      "    % http://www.cise.ufl.edu/research/sparse/matrices/Bydder/mri2\n",
      "    % name: Bydder/mri2\n",
      "    % [MRI reconstruction (2), from Mark Bydder, UCSD]\n",
      "    % id: 1318\n",
      "    % date: 2005\n",
      "    % author: M. Bydder\n",
      "    % ed: T. Davis\n",
      "    % fields: title A name b id notes date author ed kind\n",
      "    % kind: computer graphics/vision problem\n",
      "    %-----------------------------------------------------------------\n",
      "    % notes:\n",
      "    % x=lsqr(A,b); imagesc(abs(fftshift(fft2(reshape(x,384,384)))));\n",
      "    %-----------------------------------------------------------------\n",
      "    63240 147456 569160\n",
      "    31992 1720 .053336731395584265\n",
      "    31992 1721 .15785917688901102\n",
      "    31992 1722 .07903055194318191\n",
      "    \n",
      "The first sixteen lines are comments, and give us some information about the generation of the matrix. \n",
      "* The computer vision problem where it arose:  An MRI reconstruction.\n",
      "* Author information: Mark Bydder, UCSD.\n",
      "* Procedures to apply to the data: Solve a least square problem $A \\cdot x - b$, and posterior visualization of the result.\n",
      "\n",
      "The seventeenth line indicates the size of the matrix: 63240 rows by 147456 columns, as well as the number of non-zero entries in the data: 569160.\n",
      "\n",
      "The rest of the file includes precisely 569160 lines, each containing two integer numbers, and a floating point number: These are the locations of the non-zero elements in the matrix, together with the corresponding values.\n",
      "\n",
      "> We need to take into account that these files use the `Fortran` convention of starting arrays from 1, not from 0.  See `In [13]`.\n",
      "\n",
      "A good way to read this file into an ndarray is by means of the function `loadtxt` in `numpy`.  We can then use `scipy` to transform the array into a sparse matrix with the function `coo_matrix` in the module `scipy.sparse` (`coo` stands for *coordinate* internal format)."
     ]
    },
    {
     "cell_type": "code",
     "collapsed": false,
     "input": [
      "In [12]: rows, cols, data = np.loadtxt(\"mri2.mtx\", skiprows=17, \\\n",
      "   ....:                               unpack=True)\n",
      "In [13]: rows -= 1; cols -= 1;\n",
      "In [14]: MRI2 = spsp.coo_matrix((data, (rows, cols)), \\\n",
      "   ....:                        shape=(63240,147456))"
     ],
     "language": "python",
     "metadata": {},
     "outputs": [],
     "prompt_number": 5
    },
    {
     "cell_type": "markdown",
     "metadata": {},
     "source": [
      "The best way to visualize the sparsity of this matrix is by means of the routine `spy` from the module `matplotlib.pyplot`."
     ]
    },
    {
     "cell_type": "code",
     "collapsed": false,
     "input": [
      "%matplotlib inline\n",
      "In [15]: plt.figure(figsize=(8,8)); \\\n",
      "   ....: plt.spy(MRI2); \\\n",
      "   ....: plt.show()"
     ],
     "language": "python",
     "metadata": {},
     "outputs": [
      {
       "metadata": {},
       "output_type": "display_data",
       "png": "[encoded data removed]",
       "text": [
        "<matplotlib.figure.Figure at 0x109ec0e10>"
       ]
      }
     ],
     "prompt_number": 6
    },
    {
     "cell_type": "markdown",
     "metadata": {},
     "source": [
      "These are the first ten lines from the second file, `mri2_b.mtx`, which does not represent a sparse matrix, but a column vector:"
     ]
    },
    {
     "cell_type": "code",
     "collapsed": false,
     "input": [
      "!head mri2_b.mtx"
     ],
     "language": "python",
     "metadata": {},
     "outputs": [
      {
       "output_type": "stream",
       "stream": "stdout",
       "text": [
        "%%MatrixMarket matrix array complex general\r\n",
        "%-------------------------------------------------------------------------------\r\n",
        "% UF Sparse Matrix Collection, Tim Davis\r\n",
        "% http://www.cise.ufl.edu/research/sparse/matrices/Bydder/mri2\r\n",
        "% name: Bydder/mri2 : b matrix\r\n",
        "%-------------------------------------------------------------------------------\r\n",
        "63240 1\r\n",
        "-.07214859127998352 .037707749754190445\r\n",
        "-.0729086771607399 .03763720765709877\r\n",
        "-.07373382151126862 .03766685724258423\r\n"
       ]
      }
     ],
     "prompt_number": 41
    },
    {
     "cell_type": "markdown",
     "metadata": {},
     "source": [
      "Those are six commented lines with information, one more line indicating the shape of the vector (63240 rows and one column), and the rest of the lines contain two columns of floating point values: the real and imaginary parts of the corresponding data. We proceed to read this vector to memory, solve the least squares problem suggested, and obtain the following reconstruction:"
     ]
    },
    {
     "cell_type": "code",
     "collapsed": false,
     "input": [
      "In [16]: r_vals, i_vals = np.loadtxt(\"mri2_b.mtx\", skiprows=7, unpack=True)\n",
      "In [17]: %time solution = spspla.lsqr(MRI2, r_vals + 1j*i_vals)\n",
      "In [18]: from scipy.fftpack import fft2, fftshift\n",
      "In [19]: img = solution[0].reshape(384,384); \\\n",
      "   ....: img = np.abs(fftshift(fft2(img)))\n",
      "In [20]: plt.figure(figsize=(8,8))\n",
      "   ....: plt.imshow(img)"
     ],
     "language": "python",
     "metadata": {},
     "outputs": [
      {
       "output_type": "stream",
       "stream": "stdout",
       "text": [
        "CPU times: user 4min 38s, sys: 1min 41s, total: 6min 20s\n",
        "Wall time: 6min 20s\n"
       ]
      },
      {
       "metadata": {},
       "output_type": "pyout",
       "prompt_number": 7,
       "text": [
        "<matplotlib.image.AxesImage at 0x10a378f90>"
       ]
      },
      {
       "metadata": {},
       "output_type": "display_data",
       "png": "[encoded data removed]",
       "text": [
        "<matplotlib.figure.Figure at 0x111eaef90>"
       ]
      }
     ],
     "prompt_number": 7
    },
    {
     "cell_type": "markdown",
     "metadata": {},
     "source": [
      ">If interested in the theory behind the creation of this matrix and the particulars of this problem, read the article _On the optimality of the Gridding Reconstruction Algorithm_, by H. Sedarat and D. G. Nishimura, published in IEEE Trans. Medical Imaging, vol 19, no 4, pp. 306-317, 2000.\n",
      "\n",
      "For matrices with a good structure, which are going to be exclusively involved in matrix multiplications, it is often possible to store the objects without allocating almost any space. Consider the following example:\n",
      "\n",
      "A horizontal earthquake oscillation affects each floor of a tall building, depending on the natural frequencies of oscillation of the floors.  If we make certain assumptions, a model to quantize the oscillations on buildings with N floors can be obtained as a second-order system of N differential equations by *competition*: the Newton's second law force is set equal to the sum of Hooke's forces, and the external force due to the earthquake wave.\n",
      "\n",
      "These are the assumptions we need:\n",
      "* Each floor is considered a point of mass located at its center-of-mass.  The floors have masses $m[1], m[2], ..., m[N]$.\n",
      "* Each floor is restored to its equilibrium position by a linear restoring force (Hooke's $-k \\times \\text{elongation}$).  The Hooke's constants for the floors are $k[1], k[2], ..., k[N]$.\n",
      "* The locations of masses representing the oscillation of the floors are $x[1], x[2], ..., x[N]$. We assume all of them functions of time, and that at equilibrium they are all equal to zero.\n",
      "* For simplicity of exposition, we are going to assume no friction: all damping effects on the floors are ignored.\n",
      "* The equations of a floor depend only on the neighboring floors. \n",
      "\n",
      "Set $M$, the mass matrix, to be a diagonal matrix containing the floor masses on its diagonal.  Set $K$, the Hooke's matrix, to be a tri-diagonal matrix with the following structure: for each row $j$, all the entries are zero except \n",
      "* Column $j-1$, which we set to be $k[j+1]$, \n",
      "* Column $j$, which we set to $-k[j+1]-k[j+1]$, and\n",
      "* Column $j+1$, which we set to $k[j+2]$.\n",
      "\n",
      "Set $H$ to be a column vector containing the external force on each floor due to the earthquake, and $X$ the column vector containing the functions $x[j]$.\n",
      "\n",
      "We have then the system $M \\cdot X'' = K \\cdot X + H$.  The Homogeneous part of this system is the product of the inverse of $M$ with $K$, which we denote $A$.\n",
      "\n",
      "To solve the homogeneous linear second-order system $X'' = A \\cdot X$, we define the variable $Y$ to contain $2N$ entries: all $N$ functions $x[j]$, followed by their derivatives $x'[j]$.  Any solution of this second-order linear system has a corresponding solution on the first-order linear system $Y' = C \\cdot Y$, where $C$ is a block matrix of size $2N \\times 2N$.  This matrix $C$ is composed by a block of size $N \\times N$ containing only zeros, followed horizontally by the identity (of size $N \\times N$), and below these two, the matrix $A$ followed horizontally by another $N \\times N$ block of zeros.\n",
      "\n",
      "It is not necessary to store this matrix $C$ into memory, or any of its factors or blocks.  Instead, we will make use of its structure, and use a **Linear Operator** to represent it.  Minimal data is then needed to generate this operator (only the values of the masses and the Hooke's coefficients): much less than any matrix representation of it.\n",
      "\n",
      "Let us show a concrete example with 6 floors.  We indicate first their masses and Hooke's constants, and proceed to construct a representation of $A$ as a linear operator:"
     ]
    },
    {
     "cell_type": "code",
     "collapsed": false,
     "input": [
      "In [21]: m = np.array([56., 56., 56., 54., 54., 53.]); \\\n",
      "   ....: k = np.array([561., 562., 560., 541., 542., 530.])\n",
      "In [22]: def Axv(v):\n",
      "   ....:     global k, m\n",
      "   ....:     w = v.copy()\n",
      "   ....:     w[0] = (k[1]*v[1] - (k[0]+k[1])*v[0])/m[0]\n",
      "   ....:     for j in range(1, len(v)-1):\n",
      "   ....:         w[j] = k[j]*v[j-1] + k[j+1]*v[j+1] - \\\n",
      "   ....:                (k[j]+k[j+1])*v[j]\n",
      "   ....:         w[j] /= m[j]\n",
      "   ....:     w[-1] = k[-1]*(v[-2]-v[-1])/m[-1]\n",
      "   ....:     return w\n",
      "In [23]: A = spspla.LinearOperator((6,6), matvec=Axv, \\\n",
      "   ....: matmat=Axv, dtype=np.float64)"
     ],
     "language": "python",
     "metadata": {},
     "outputs": [],
     "prompt_number": 8
    },
    {
     "cell_type": "markdown",
     "metadata": {},
     "source": [
      "The construction of $C$ is very simple now (much simpler than its matrix!):"
     ]
    },
    {
     "cell_type": "code",
     "collapsed": false,
     "input": [
      "In [25]: def Cxv(v):\n",
      "   ....:     n = len(v)/2\n",
      "   ....:     w = v.copy()\n",
      "   ....:     w[:n] = v[n:]\n",
      "   ....:     w[n:] = A * v[:n]\n",
      "   ....:     return w\n",
      "In [26]: C = spspla.LinearOperator((12,12), matvec=Cxv, matmat=Cxv, dtype=np.float64)"
     ],
     "language": "python",
     "metadata": {},
     "outputs": [],
     "prompt_number": 9
    },
    {
     "cell_type": "markdown",
     "metadata": {},
     "source": [
      "A solution of this homogeneous system comes in the form of an *action of the exponential* of $C$:  $Y(t) = \\operatorname{expm}(C t) \\cdot Y(0)$, where $\\operatorname{expm}()$ here denotes a matrix exponential function. In `scipy`, this operation is performed with the routine `expm_multiply` in the module `scipy.sparse.linalg`.\n",
      "\n",
      "For example, in our case, given the initial value containing the values $x[1](0)=0, \\dots, x[N](0)=0, x'[1](0)=1, \\dots, x'[N](0)=1$, if we require a solution $Y(t)$ for values of $t$ between 0 and 1 in steps of size 0.1, we could issue the following:\n",
      "\n",
      ">It has been reported in some installations that, in the next step, a matrix for $C$ must be given instead of the actual linear operator (thus contradicting the manual).   If this is the case in your system, simply change $C$ in the next lines, to its matrix representation."
     ]
    },
    {
     "cell_type": "code",
     "collapsed": false,
     "input": [
      "In [27]: initial_condition = np.zeros(12); \\\n",
      "   ....: initial_condition[6:] = 1\n",
      "In [28]: Y = spspla.expm_multiply(C.matmat(np.eye(12)), np.ones(12), start=0, stop=1, num=10)"
     ],
     "language": "python",
     "metadata": {},
     "outputs": [],
     "prompt_number": 12
    },
    {
     "cell_type": "markdown",
     "metadata": {},
     "source": [
      "The oscillations of the six floors during the first second can then be calculated and plotted as follows."
     ]
    },
    {
     "cell_type": "code",
     "collapsed": false,
     "input": [
      "In [29]: plt.figure(figsize=(8,8))\n",
      "   ....: plt.plot(np.linspace(0,1,10), Y[:,:6]); \\\n",
      "   ....: plt.xlabel('time (in seconds)'); \\\n",
      "   ....: plt.ylabel('oscillation'); \\\n",
      "   ....: plt.legend(np.arange(6)+1, loc=2)"
     ],
     "language": "python",
     "metadata": {},
     "outputs": [
      {
       "metadata": {},
       "output_type": "pyout",
       "prompt_number": 13,
       "text": [
        "<matplotlib.legend.Legend at 0x10a1d7f90>"
       ]
      },
      {
       "metadata": {},
       "output_type": "display_data",
       "png": "[encoded data removed]",
       "text": [
        "<matplotlib.figure.Figure at 0x10b3bb190>"
       ]
      }
     ],
     "prompt_number": 13
    },
    {
     "cell_type": "markdown",
     "metadata": {},
     "source": [
      ">For more details about systems of differential equations, and how to solve them with actions of exponentials, read for example the excellent book _Elementary Differential Equations_ 10 ed., by William E. Boyce and Richard C. DiPrima. Wiley, 2012.\n",
      "\n",
      "These three examples illustrate the goal of this first chapter: **Numerical Linear Algebra**.  In `python` this is accomplished first by storing the data in matrix form, or as a related linear operator, by means of any of the following classes:\n",
      "* `numpy.ndarray (making sure that they are two-dimensional)\n",
      "* `numpy.matrix\n",
      "* `scipy.sparse.bsr_matrix` (Block Sparse Row matrix)\n",
      "* `scipy.sparse.coo_matrix` (Sparse Matrix in **COO**rdinate format)\n",
      "* `scipy.sparse.csc_matrix` (Compressed Sparse Column matrix)\n",
      "* `scipy.sparse.csr_matrix` (Compressed Sparse Row matrix)\n",
      "* `scipy.sparse.dia_matrix` (Sparse matrix with **DIA**gonal storage)\n",
      "* `scipy.sparse.dok_matrix` (Sparse matrix based on a Dictionary of Keys)\n",
      "* `scipy.sparse.lil_matrix` (Sparse matrix based on a linked list)\n",
      "* `scipy.sparse.linalg.LinearOperator`\n",
      "\n",
      "As we have seen in the examples, the choice of different classes obeys mainly to the sparsity of the data, and the algorithms we are to apply on them.\n",
      "\n",
      "This choice then dictates the modules that we use for the different algorithms: `scipy.linalg` for generic matrices, and both `scipy.sparse`, `scipy.sparse.linalg`, for sparse matrices or linear operators.  These three `scipy` modules are compiled on top of the highly optimized computer libraries `BLAS` (written in `Fortran77`), `LAPACK` (in `Fortran90`), `ARPACK` (in `Fortran77`), and `SuperLU` (in `C`).\n",
      "\n",
      ">For a better understanding of these underlying packages, read the description and documentation from their creators:\n",
      "* `BLAS`: [netlib.org/blas/faq.html](netlib.org/blas/faq.html)\n",
      "* `LAPACK`: [netlib.org/lapack/lapack-3.2.html](netlib.org/lapack/lapack-3.2.html)\n",
      "* `ARPACK`: [www.caam.rice.edu/software/ARPACK/](www.caam.rice.edu/software/ARPACK/)\n",
      "* `SuperLU`: [crd-legacy.lbl.gov/~xiaoye/SuperLU/](crd-legacy.lbl.gov/~xiaoye/SuperLU/)\n",
      "\n",
      "Most of the routines in these three `scipy` modules are wrappers to functions in the mentioned libraries.  If we so desire, we also have the possibility to call the underlying functions directly.  In the module `scipy.linalg`, we have\n",
      "* `scipy.linalg.get_blas_funcs` to call routines from `BLAS`.\n",
      "* `scipy.linalg.get_lapack_funcs` to call routines from `LAPACK`.\n",
      "\n",
      "For example, if we want to use the `BLAS` function `NRM2` to compute Frobenius norms:"
     ]
    },
    {
     "cell_type": "code",
     "collapsed": false,
     "input": [
      "In [28]: blas_norm = spla.get_blas_funcs('nrm2')\n",
      "In [29]: blas_norm(np.float32([1e20]))"
     ],
     "language": "python",
     "metadata": {},
     "outputs": [
      {
       "metadata": {},
       "output_type": "pyout",
       "prompt_number": 15,
       "text": [
        "1.0000000200408773e+20"
       ]
      }
     ],
     "prompt_number": 15
    },
    {
     "cell_type": "markdown",
     "metadata": {},
     "source": [
      "## Creation of Matrices and Linear Operators\n",
      "\n",
      "In the first part of this chapter, we are going to focus on the effective creation of matrices.  We start by recalling some different ways to construct a basic matrix as an `ndarray` instance class, including an enumeration of all the special matrices already included in `numpy` and `scipy`.  We proceed to examine the possibilities for constructing complex matrices from basic ones. We review the same concepts within the matrix instance class.  Next, we explore in detail the different ways to input sparse matrices.  We finish the section with construction of linear operators.\n",
      "\n",
      "We assume familiarity with `ndarray` creation in `numpy`, as well as data types (`dtype`), indexing, routines for the combination of two or more arrays, array manipulation, or extracting information from these objects.  In this chapter we will focus on those functions, methods and routines that are significant to matrices alone.  We will disregard operations if their outputs have no translation into Linear Algebra equivalents.  For a primer on `ndarray`, we recommend to browse through chapter 2 (Top Level SciPy) of Blanco-Silva _Learning SciPy for Numerical and Scientific Computing_. Packt, 2013. For a quick review of Linear Algebra, we recommend Hoffman and Kunze, _Linear Algebra_ 2.ed. Pearson, 1971.\n",
      "\n",
      "### Constructing matrices in the `ndarray` class\n",
      "\n",
      "We may create matrices from data as `ndarray` instances in three different ways: manually from standard input, by assigning to each entry a value from a function, or by retrieving the data from external files:\n",
      "\n",
      "<table>\n",
      "<tr><td> `numpy.array(object)` </td><td> Create a matrix from `object` </td></tr>\n",
      "<tr><td> `numpy.diag(arr, k)`  </td><td> Create diagonal matrix with entries of array `arr` on diagonal `k` </td></tr>\n",
      "<tr><td> `numpy.fromfunction(function, shape)` </td><td> Create matrix by executing a function over each coordinate </td></tr>\n",
      "<tr><td> `numpy.fromfile(fname)` </td><td> Create matrix from text or binary file (basic) </td></tr>\n",
      "<tr><td> `numpy.loadtxt(fname)` </td><td> Create matrix from text file (advanced) </td></tr>\n",
      "</table>\n",
      "\n",
      "Let us create some example matrices to illustrate some of the functions in the previous table. As before, we start an ipython session:"
     ]
    },
    {
     "cell_type": "code",
     "collapsed": false,
     "input": [
      "In [2]: A = np.array([[1,2],[4,16]]); A"
     ],
     "language": "python",
     "metadata": {},
     "outputs": [
      {
       "metadata": {},
       "output_type": "pyout",
       "prompt_number": 22,
       "text": [
        "array([[ 1,  2],\n",
        "       [ 4, 16]])"
       ]
      }
     ],
     "prompt_number": 22
    },
    {
     "cell_type": "code",
     "collapsed": false,
     "input": [
      "In [3]: B = np.fromfunction(lambda i,j: (i-1)*(j+1), (3,2), \\\n",
      "   ...: dtype=int); print B"
     ],
     "language": "python",
     "metadata": {},
     "outputs": [
      {
       "output_type": "stream",
       "stream": "stdout",
       "text": [
        "[[-1 -2]\n",
        " [ 0  0]\n",
        " [ 1  2]]\n"
       ]
      }
     ],
     "prompt_number": 23
    },
    {
     "cell_type": "code",
     "collapsed": false,
     "input": [
      "In [4]: np.diag((1j,4))"
     ],
     "language": "python",
     "metadata": {},
     "outputs": [
      {
       "metadata": {},
       "output_type": "pyout",
       "prompt_number": 24,
       "text": [
        "array([[ 0.+1.j,  0.+0.j],\n",
        "       [ 0.+0.j,  4.+0.j]])"
       ]
      }
     ],
     "prompt_number": 24
    },
    {
     "cell_type": "markdown",
     "metadata": {},
     "source": [
      "Special matrices with predetermined zeros and ones can be constructed with the following functions:\n",
      "\n",
      "<table>\n",
      "<tr><td> `numpy.empty(shape)` </td><td> Array of a given shape, entries not initialized. </td></tr>\n",
      "<tr><td> `numpy.eye(N, M, k)` </td><td> 2-D array with ones on the k-th diagonal, and zeros elsewhere </td></tr>\n",
      "<tr><td> `numpy.identity(n)` </td><td> Identity array </td></tr> \n",
      "<tr><td> `numpy.ones(shape)` </td><td> Array with all entries equal to one </td></tr>\n",
      "<tr><td> `numpy.zeros(shape)` </td><td> Array with all entries equal to zero </td></tr> \n",
      "<tr><td> `numpy.tri(N, M, k)` </td><td> Array with ones at and below the given diagonal, zeros otherwise </td></tr>\n",
      "</table>\n",
      "\n",
      ">All these constructions, except `numpy.tri`, have a companion function `xxx_like` that creates an `ndarray` with requested characteristics, and with the same shape and data type as another source `ndarray`:"
     ]
    },
    {
     "cell_type": "code",
     "collapsed": false,
     "input": [
      "In [5]: np.empty_like(A)"
     ],
     "language": "python",
     "metadata": {},
     "outputs": [
      {
       "metadata": {},
       "output_type": "pyout",
       "prompt_number": 25,
       "text": [
        "array([[4607182418800017408,                   0],\n",
        "       [                  0,                   0]])"
       ]
      }
     ],
     "prompt_number": 25
    },
    {
     "cell_type": "markdown",
     "metadata": {},
     "source": [
      "Of notable importance are also arrays constructed as numerical ranges:"
     ]
    },
    {
     "cell_type": "markdown",
     "metadata": {},
     "source": [
      "<table>\n",
      "<tr><td> `numpy.arange(stop)` </td><td>\n",
      "Evenly spaced values within an interval </td></tr>\n",
      "<tr><td> `numpy.linspace(start, stop)` </td><td>\n",
      "Evenly spaced numbers over an interval </td></tr>\n",
      "<tr><td> `numpy.logspace(start, stop)` </td><td>\n",
      "Evenly spaced numbers on a log scale </td></tr>\n",
      "<tr><td> `numpy.meshgrid` </td><td>\n",
      "Coordinate matrices from two or more coordinate vectors </td></tr>\n",
      "<tr><td> `numpy.mgrid` </td><td>\n",
      "`nd_grid` instance returning a dense multi-dimensional meshgrid </td></tr>\n",
      "<tr><td> `numpy.ogrid` </td><td>\n",
      "`nd_grid` instance returning an open multi-dimensional meshgrid </td></tr>\n",
      "</table>\n",
      "\n",
      "Special matrices with numerous applications in Linear Algebra can be easily called from within `numpy` and the module `scipy.linalg`.\n",
      "\n",
      "<table>\n",
      "<tr><td> `scipy.linalg.circulant(arr)` </td><td>\n",
      "Circulant matrix generated by 1-D array `arr` </td></tr>\n",
      "<tr><td> `scipy.linalg.companion(arr)` </td><td>\n",
      "Companion matrix of polynomial with coefficients coded by `arr` </td></tr>\n",
      "<tr><td> `scipy.linalg.hadamard(n)` </td><td>\n",
      "Sylvester's construction of a Hadamard matrix of size n-by-n.  n must be a power of 2 </td></tr>\n",
      "<tr><td> `scipy.linalg.hankel(arr1, arr2)` </td><td>\n",
      "Hankel matrix with `arr1` as first column, and `arr2` as last column </td></tr>\n",
      "<tr><td> `scipy.linalg.hilbert(n)` </td><td>\n",
      "Hilbert matrix of size n-by-n </td></tr>\n",
      "<tr><td> `scipy.linalg.invhilbert(n)` </td><td>\n",
      "The inverse of a Hilbert matrix of size n-by-n </td></tr>\n",
      "<tr><td> `scipy.linalg.leslie(arr1, arr2)` </td><td>\n",
      "Leslie matrix with fecundity array `arr1` and survival coefficients `arr2` </td></tr>\n",
      "<tr><td> `scipy.linalg.pascal(n)` </td><td>\n",
      "n-by-n truncations of the Pascal matrix of binomial coefficients </td></tr>\n",
      "<tr><td> `scipy.linalg.toeplitz(arr1, arr2)` </td><td>\n",
      "Toeplitz array with first column `arr1` and first row `arr2` </td></tr>\n",
      "<tr><td> `numpy.vander(arr)` </td><td>\n",
      "Van der Monde matrix of array `arr` </td></tr>\n",
      "\n",
      "For instance, one fast way to obtain all binomial coefficients of orders up to a large number (the corresponding Pascal triangle) is by means of precisely the Pascal matrix.  The following example shows how to compute these coefficients up to order 13:"
     ]
    },
    {
     "cell_type": "code",
     "collapsed": false,
     "input": [
      "In [6]: print spla.pascal(13, kind='lower')"
     ],
     "language": "python",
     "metadata": {},
     "outputs": [
      {
       "output_type": "stream",
       "stream": "stdout",
       "text": [
        "[[  1   0   0   0   0   0   0   0   0   0   0   0   0]\n",
        " [  1   1   0   0   0   0   0   0   0   0   0   0   0]\n",
        " [  1   2   1   0   0   0   0   0   0   0   0   0   0]\n",
        " [  1   3   3   1   0   0   0   0   0   0   0   0   0]\n",
        " [  1   4   6   4   1   0   0   0   0   0   0   0   0]\n",
        " [  1   5  10  10   5   1   0   0   0   0   0   0   0]\n",
        " [  1   6  15  20  15   6   1   0   0   0   0   0   0]\n",
        " [  1   7  21  35  35  21   7   1   0   0   0   0   0]\n",
        " [  1   8  28  56  70  56  28   8   1   0   0   0   0]\n",
        " [  1   9  36  84 126 126  84  36   9   1   0   0   0]\n",
        " [  1  10  45 120 210 252 210 120  45  10   1   0   0]\n",
        " [  1  11  55 165 330 462 462 330 165  55  11   1   0]\n",
        " [  1  12  66 220 495 792 924 792 495 220  66  12   1]]\n"
       ]
      }
     ],
     "prompt_number": 27
    },
    {
     "cell_type": "markdown",
     "metadata": {},
     "source": [
      "Besides these basic constructors, we can always stack arrays in different ways.\n",
      "\n",
      "<table>\n",
      "<tr><td> `numpy.concatenate((A1, A2, ...))` </td><td>\n",
      "Join matrices together </td></tr>\n",
      "<tr><td> `numpy.hstack((A1, A2, ...))` </td><td>\n",
      "Stack matrices horizontally </td></tr>\n",
      "<tr><td> `numpy.vstack((A1, A2, ...))` </td><td>\n",
      "Stack matrices vertically </td></tr>\n",
      "<tr><td> `numpy.tile(A, reps)` </td><td>\n",
      "Repeat a matrix a number of times (given by reps) </td></tr>\n",
      "<tr><td> `scipy.linalg.block_diag(A1,A2, ...)` </td><td>\n",
      "Create a block diagonal array </td></tr>\n",
      "</table>\n",
      "\n",
      "Let us observe some of these constructors in action:"
     ]
    },
    {
     "cell_type": "code",
     "collapsed": false,
     "input": [
      "In [7]: np.tile(A, (2,3))   # 2 rows, 3 columns"
     ],
     "language": "python",
     "metadata": {},
     "outputs": [
      {
       "metadata": {},
       "output_type": "pyout",
       "prompt_number": 28,
       "text": [
        "array([[ 1,  2,  1,  2,  1,  2],\n",
        "       [ 4, 16,  4, 16,  4, 16],\n",
        "       [ 1,  2,  1,  2,  1,  2],\n",
        "       [ 4, 16,  4, 16,  4, 16]])"
       ]
      }
     ],
     "prompt_number": 28
    },
    {
     "cell_type": "code",
     "collapsed": false,
     "input": [
      "In [8]: spla.block_diag(A,B)"
     ],
     "language": "python",
     "metadata": {},
     "outputs": [
      {
       "metadata": {},
       "output_type": "pyout",
       "prompt_number": 29,
       "text": [
        "array([[ 1,  2,  0,  0],\n",
        "       [ 4, 16,  0,  0],\n",
        "       [ 0,  0, -1, -2],\n",
        "       [ 0,  0,  0,  0],\n",
        "       [ 0,  0,  1,  2]])"
       ]
      }
     ],
     "prompt_number": 29
    },
    {
     "cell_type": "markdown",
     "metadata": {},
     "source": [
      "### Constructing matrices in the matrix class\n",
      "\n",
      "For the `matrix` class, the usual way to create a matrix directly is to invoke either `numpy.mat` or `numpy.matrix`.  Observe how much more comfortable is the syntax of `numpy.matrix` than that of `numpy.array`, in the creation of a matrix similar to `A`.  With this syntax, different values separated by commas belong in the same row of the matrix.  A semi-colon indicates a change of row.  Notice the casting to the class matrix too!"
     ]
    },
    {
     "cell_type": "code",
     "collapsed": false,
     "input": [
      "In [9]: C = np.matrix('1,2;4,16'); C"
     ],
     "language": "python",
     "metadata": {},
     "outputs": [
      {
       "metadata": {},
       "output_type": "pyout",
       "prompt_number": 30,
       "text": [
        "matrix([[ 1,  2],\n",
        "        [ 4, 16]])"
       ]
      }
     ],
     "prompt_number": 30
    },
    {
     "cell_type": "markdown",
     "metadata": {},
     "source": [
      "These two functions also transform any `ndarray` into a matrix.  There is a third function that accomplishes this task: `numpy.asmatrix`:"
     ]
    },
    {
     "cell_type": "code",
     "collapsed": false,
     "input": [
      "In [10]: np.asmatrix(A)"
     ],
     "language": "python",
     "metadata": {},
     "outputs": [
      {
       "metadata": {},
       "output_type": "pyout",
       "prompt_number": 31,
       "text": [
        "matrix([[ 1,  2],\n",
        "        [ 4, 16]])"
       ]
      }
     ],
     "prompt_number": 31
    },
    {
     "cell_type": "markdown",
     "metadata": {},
     "source": [
      "For arrangements of matrices composed by blocks, besides the common stack operations for `ndarrays` described before, we also have the extremely convenient function `numpy.bmat`.  Note the similarity with the syntax of `numpy.matrix`, in particular the use of commas to signify horizontal concatenation, and semi-colons to signify vertical concatenation."
     ]
    },
    {
     "cell_type": "code",
     "collapsed": false,
     "input": [
      "In [11]: np.bmat('A;B') "
     ],
     "language": "python",
     "metadata": {},
     "outputs": [
      {
       "metadata": {},
       "output_type": "pyout",
       "prompt_number": 33,
       "text": [
        "matrix([[ 1,  2],\n",
        "        [ 4, 16],\n",
        "        [-1, -2],\n",
        "        [ 0,  0],\n",
        "        [ 1,  2]])"
       ]
      }
     ],
     "prompt_number": 33
    },
    {
     "cell_type": "code",
     "collapsed": false,
     "input": [
      "In [12]: np.bmat('A,C;C,A')"
     ],
     "language": "python",
     "metadata": {},
     "outputs": [
      {
       "metadata": {},
       "output_type": "pyout",
       "prompt_number": 34,
       "text": [
        "matrix([[ 1,  2,  1,  2],\n",
        "        [ 4, 16,  4, 16],\n",
        "        [ 1,  2,  1,  2],\n",
        "        [ 4, 16,  4, 16]])"
       ]
      }
     ],
     "prompt_number": 34
    },
    {
     "cell_type": "markdown",
     "metadata": {},
     "source": [
      "### Constructing sparse matrices\n",
      "\n",
      "There are seven different ways to input sparse matrices.  Each format is designed to make a specific problem or operation more efficient.  Let us go over them in detail:\n",
      "\n",
      "<table>\n",
      "<tr><th> Method </th><th> Name </th><th> Optimal use </th></tr>\n",
      "<tr><td> `BSR` </td><td>\n",
      "Block Sparse Row </td><td>\n",
      "Efficient arithmetic, provided matrix contains blocks </td></tr>\n",
      "<tr><td> `COO` </td><td>\n",
      "Coordinate </td><td>\n",
      "Fast and efficient construction format.  Efficient methods to convert to CSC and CSR formats </td></tr>\n",
      "<tr><td> `CSC` </td><td>\n",
      "Compressed Sparse Column </td><td>\n",
      "Efficient matrix arithmetic and column slicing.  Relatively fast matrix-vector product </td></tr>\n",
      "<tr><td> `CSR` </td><td>\n",
      "Compressed Sparse Row </td><td>\n",
      "Efficient matrix arithmetic and row slicing.  Fastest to perform matrix-vector products </td></tr>\n",
      "<tr><td> `DIA` </td><td>\n",
      "Diagonal storage </td><td>\n",
      "Efficient for construction and storage if matrix contains long diagonals of non-zero entries </td></tr>\n",
      "<tr><td> `DOK` </td><td>\n",
      "Dictionary of keys </td><td>\n",
      "Efficient incremental construction and access of individual matrix entries </td></tr>\n",
      "<tr><td> `LIL` </td><td>\n",
      "Row-based linked list </td><td>\n",
      "Flexible slicing.  Efficient for changes to matrix sparsity </td></tr>\n",
      "</table>\n",
      "\n",
      "They can be populated in up to five ways, three of which are common to every sparse matrix format:\n",
      "* They can cast to sparse any generic matrix.  The `LIL` format is the most effective with this method. "
     ]
    },
    {
     "cell_type": "code",
     "collapsed": false,
     "input": [
      "In [13]: A_coo = spsp.coo_matrix(A); \\\n",
      "   ....: A_lil = spsp.lil_matrix(A)"
     ],
     "language": "python",
     "metadata": {},
     "outputs": [],
     "prompt_number": 35
    },
    {
     "cell_type": "markdown",
     "metadata": {},
     "source": [
      "* They can cast to a specific sparse format another sparse matrix in another sparse format."
     ]
    },
    {
     "cell_type": "code",
     "collapsed": false,
     "input": [
      "In [14]: A_csr = spsp.csr_matrix(A_coo)"
     ],
     "language": "python",
     "metadata": {},
     "outputs": [],
     "prompt_number": 36
    },
    {
     "cell_type": "markdown",
     "metadata": {},
     "source": [
      "* Empty sparse matrices of any shape can be constructed by indicating `shape` and `dtype`."
     ]
    },
    {
     "cell_type": "code",
     "collapsed": false,
     "input": [
      "In [15]: M_bsr = spsp.bsr_matrix((100,100), dtype=int)"
     ],
     "language": "python",
     "metadata": {},
     "outputs": [],
     "prompt_number": 37
    },
    {
     "cell_type": "markdown",
     "metadata": {},
     "source": [
      "They all have several different extra input methods, each specific to their storage format.\n",
      "* Fancy indexing.  As we would do with any generic matrix.  This is only possible with `LIL` or `DOK` formats."
     ]
    },
    {
     "cell_type": "code",
     "collapsed": false,
     "input": [
      "In [16]: M_lil = spsp.lil_matrix((100,100), dtype=int)\n",
      "In [17]: M_lil[25:75, 25:75] = 1\n",
      "In [18]: M_bsr[25:75, 25:75] = 1"
     ],
     "language": "python",
     "metadata": {},
     "outputs": [
      {
       "ename": "NotImplementedError",
       "evalue": "",
       "output_type": "pyerr",
       "traceback": [
        "\u001b[0;31m---------------------------------------------------------------------------\u001b[0m\n\u001b[0;31mNotImplementedError\u001b[0m                       Traceback (most recent call last)",
        "\u001b[0;32m<ipython-input-38-b848d61c0616>\u001b[0m in \u001b[0;36m<module>\u001b[0;34m()\u001b[0m\n\u001b[1;32m      1\u001b[0m \u001b[0mM_lil\u001b[0m \u001b[0;34m=\u001b[0m \u001b[0mspsp\u001b[0m\u001b[0;34m.\u001b[0m\u001b[0mlil_matrix\u001b[0m\u001b[0;34m(\u001b[0m\u001b[0;34m(\u001b[0m\u001b[0;36m100\u001b[0m\u001b[0;34m,\u001b[0m\u001b[0;36m100\u001b[0m\u001b[0;34m)\u001b[0m\u001b[0;34m,\u001b[0m \u001b[0mdtype\u001b[0m\u001b[0;34m=\u001b[0m\u001b[0mint\u001b[0m\u001b[0;34m)\u001b[0m\u001b[0;34m\u001b[0m\u001b[0m\n\u001b[1;32m      2\u001b[0m \u001b[0mM_lil\u001b[0m\u001b[0;34m[\u001b[0m\u001b[0;36m25\u001b[0m\u001b[0;34m:\u001b[0m\u001b[0;36m75\u001b[0m\u001b[0;34m,\u001b[0m \u001b[0;36m25\u001b[0m\u001b[0;34m:\u001b[0m\u001b[0;36m75\u001b[0m\u001b[0;34m]\u001b[0m \u001b[0;34m=\u001b[0m \u001b[0;36m1\u001b[0m\u001b[0;34m\u001b[0m\u001b[0m\n\u001b[0;32m----> 3\u001b[0;31m \u001b[0mM_bsr\u001b[0m\u001b[0;34m[\u001b[0m\u001b[0;36m25\u001b[0m\u001b[0;34m:\u001b[0m\u001b[0;36m75\u001b[0m\u001b[0;34m,\u001b[0m \u001b[0;36m25\u001b[0m\u001b[0;34m:\u001b[0m\u001b[0;36m75\u001b[0m\u001b[0;34m]\u001b[0m \u001b[0;34m=\u001b[0m \u001b[0;36m1\u001b[0m\u001b[0;34m\u001b[0m\u001b[0m\n\u001b[0m",
        "\u001b[0;32m//anaconda/lib/python2.7/site-packages/scipy/sparse/bsr.pyc\u001b[0m in \u001b[0;36m__setitem__\u001b[0;34m(self, key, val)\u001b[0m\n\u001b[1;32m    300\u001b[0m \u001b[0;34m\u001b[0m\u001b[0m\n\u001b[1;32m    301\u001b[0m     \u001b[0;32mdef\u001b[0m \u001b[0m__setitem__\u001b[0m\u001b[0;34m(\u001b[0m\u001b[0mself\u001b[0m\u001b[0;34m,\u001b[0m\u001b[0mkey\u001b[0m\u001b[0;34m,\u001b[0m\u001b[0mval\u001b[0m\u001b[0;34m)\u001b[0m\u001b[0;34m:\u001b[0m\u001b[0;34m\u001b[0m\u001b[0m\n\u001b[0;32m--> 302\u001b[0;31m         \u001b[0;32mraise\u001b[0m \u001b[0mNotImplementedError\u001b[0m\u001b[0;34m\u001b[0m\u001b[0m\n\u001b[0m\u001b[1;32m    303\u001b[0m \u001b[0;34m\u001b[0m\u001b[0m\n\u001b[1;32m    304\u001b[0m     \u001b[0;31m######################\u001b[0m\u001b[0;34m\u001b[0m\u001b[0;34m\u001b[0m\u001b[0m\n",
        "\u001b[0;31mNotImplementedError\u001b[0m: "
       ]
      }
     ],
     "prompt_number": 38
    },
    {
     "cell_type": "markdown",
     "metadata": {},
     "source": [
      "* Dictionary of keys. This input system is most effective when we create, update or search each element one at a time.  It is efficient for `LIL` and `DOK` formats only."
     ]
    },
    {
     "cell_type": "code",
     "collapsed": false,
     "input": [
      "In [19]: M_dok = spsp.dok_matrix((100,100), dtype=int)\n",
      "In [20]: position = lambda i, j: ((i<j) & ((i+j)%10==0))\n",
      "In [21]: for i in range(100):\n",
      "   ....:     for j in range(100):\n",
      "   ....:         M_dok[i,j] = position(i,j)"
     ],
     "language": "python",
     "metadata": {},
     "outputs": [],
     "prompt_number": 39
    },
    {
     "cell_type": "markdown",
     "metadata": {},
     "source": [
      "* Data, rows and columns. This is common to four formats: `BSR`, `COO`, `CSC` and `CSR`.  This is the method of choice to import sparse matrices from Matrix Market Exchange format, as we illustrated at the beginning of the chapter\n",
      "\n",
      ">With the *data, rows, columns* input method it is a good idea to always include the option shape in the construction.  In case this is not provided, the size of the matrix will be inferred from the largest coordinates from rows and cols, resulting possibly in a matrix of smaller size than required.\n",
      "\n",
      "* Data, indices, pointers. This is common to three formats: `BSR`, `CSC` and `CSR`.  It is the method of choice to import sparse matrices from Rutherford-Boeing Exchange format.   \n",
      "\n",
      ">The Rutherford-Boeing Exchange format is an updated version of the Harwell-Boeing format.  It stores the matrix as three vectors: `pointers_v`, `indices_v`, `data`.  The row indices of the entries of the j-th column are located in positions `pointers_v(j)`  through `pointers_v(j+1)-1` of the vector `indices_v`.  The corresponding values of the matrix are located at the same positions, in the vector data.\n",
      "\n",
      "Let us show by example how to read an interesting matrix in Rutherford-Boeing matrix exchange format: `Pajek/football`. This 35-by-35 matrix with 118 non-zero entries can be found in the Collection at \n",
      "\n",
      "[www.cise.ufl.edu/research/sparse/matrices/Pajek/football.html](www.cise.ufl.edu/research/sparse/matrices/Pajek/football.html).  \n",
      "\n",
      "It is an adjacency matrix for a network of all the national football teams that attended the FIFA World Cup celebrated in France in 1998.  Each node in the network represents one country (or national football team) and the links show which country exported players to another country. \n",
      "This is a printout of the file `football.rb`"
     ]
    },
    {
     "cell_type": "code",
     "collapsed": false,
     "input": [
      "! cat football.rb"
     ],
     "language": "python",
     "metadata": {},
     "outputs": [
      {
       "output_type": "stream",
       "stream": "stdout",
       "text": [
        "Pajek/football; 1998; L. Krempel; ed: V. Batagelj                      |1474    \r\n",
        "            12             2             5             5\r\n",
        "iua                       35            35           118             0\r\n",
        "(20I4)          (26I3)          (26I3)              \r\n",
        "   1   3   6   8   8  10  12  12  12  12  28  28  46  59  71  74  74  74  90  90\r\n",
        "  94  94  94  95  95 101 101 105 105 105 107 108 115 118 118 119\r\n",
        "  7  9  8 16 35 24 29  9 28 24 35  2  3  4  8 11 16 17 22 24 25 26 29 31 33 34\r\n",
        " 35  1  2  4  5  8  9 10 11 16 18 22 24 25 26 28 29 34 35  2  3  5  8 10 18 21\r\n",
        " 22 24 30 31 34 35  2 11 16 18 19 25 26 29 30 33 34 35  8 26 29  1  2  3  5  7\r\n",
        "  8  9 10 11 16 22 24 25 26 34 35  5  8 21 34 28  3 11 24 29 33 35  4  5  8 22\r\n",
        " 11 26 22  4  8 11 16 24 29 35  7  9 24 24\r\n",
        "  1  3  1  1  1  2  1  2 10  1  1  7  2  4  1  3  2  3  3  1  1  3  2  2  2  1\r\n",
        "  2  4  1  1  4  2  1  1  1  4  2  4  4  5  1  2  6  9  2  1  2  1  7  1  1  1\r\n",
        "  1  3  1  3  1  1  1  6  2  2  7  4 12  2  7  2  1  4  1  2  2  9  1  2  5  1\r\n",
        "  2  1  2  1  4  1  2  2  1  7  1  1  2  4  2  1  2  1  3  1  1  2  1  1  2  3\r\n",
        "  3  3  1  4  2  1  1  3  4  3  1  2  1  1\r\n"
       ]
      }
     ],
     "prompt_number": 40
    },
    {
     "cell_type": "markdown",
     "metadata": {},
     "source": [
      "The header of the file (the first four lines) contains important information:\n",
      "* The first line provides us with the title of the matrix,  `Pajek/football;1998; L. Krempel; ed: V. Batagelj`, and a numerical key for identification purposes `MTRXID=1474`.\n",
      "* The second line contains four integer values: `TOTCRD=12` (lines containing significant data after the header; see `In [24]`), `PTRCRD=2` (number of lines containing pointer data), `INDCRD=5` (number of lines containing indices data), and `VALCRD=2` (number of lines containing the non-zero values of the matrix). Note that it must be `TOTCRD = PTRCRD + INDCRD + VALCRD`\n",
      "* The third line indicates the matrix type `MXTYPE=(iua)`, which in this case stands for integer matrix, unsymmetric, compressed column form.  It also indicates number of rows and columns (`NROW=35`, `NCOL=35`), and number of non-zero entries (`NNZERO=118`).  The last entry is not used in the case of compressed column form, and it is usually set to zero.\n",
      "* The fourth column contains the Fortran formats for the data in the following columns.  `PTRFMT=(20I4)` for the pointers, `INDFMT=(26I3)` for the indices, and `VALFMT=(26I3)` for the non-zero values.\n",
      "\n",
      "We proceed to opening the file for reading, storing each line after the header in a `python` list, and extracting from the relevant lines of the file, the data we require to populate the vectors `indptr`, `indices` and `data`.  We finish by creating the corresponding sparse matrix `football` in `CSR` format, with the *Data, Indices, Pointers* method."
     ]
    },
    {
     "cell_type": "code",
     "collapsed": false,
     "input": [
      "In [22]: f = open(\"football.rb\", 'r'); \\\n",
      "   ....: football_list = list(f); \\\n",
      "   ....: f.close()\n",
      "In [23]: football_data = np.array([])\n",
      "In [24]: for line in range(4, 4+12):\n",
      "   ....:     newdata = np.fromstring(football_list[line], \\\n",
      "   ....:     sep=\" \")\n",
      "   ....:     football_data = np.append(football_data, newdata)\n",
      "In [25]: indptr  = football_data[:35+1] - 1; \\\n",
      "   ....: indices = football_data[35+1:35+1+118] - 1; \\\n",
      "   ....: data    = football_data[35+1+118:]\n",
      "In [26]: football = spsp.csr_matrix((data, indices, indptr), \\\n",
      "   ....: shape=(35,35))"
     ],
     "language": "python",
     "metadata": {},
     "outputs": [],
     "prompt_number": 43
    },
    {
     "cell_type": "markdown",
     "metadata": {},
     "source": [
      "At this point, it is possible to visualize the network with its associated graph, with the help of the `python` module `networkx`.  We obtain a diagram as the following:\n",
      "\n",
      "image::4749_01_05.png[align=\"center\"]\n",
      "\n",
      ">`networkx` is a python module to deal with complex networks.  For more information, visit their `github` project pages at `networkx.github.io`\n",
      "\n",
      "One way to accomplish this task is as follows:"
     ]
    },
    {
     "cell_type": "code",
     "collapsed": false,
     "input": [
      "In [27]: import networkx\n",
      "In [28]: G = networkx.DiGraph(football)\n",
      "In [29]: f = open(\"football_nodename.txt\"); \\\n",
      "   ....: m = list(f); \\\n",
      "   ....: f.close()\n",
      "In [30]: rename = lambda x: m[x]\n",
      "In [31]: networkx.relabel_nodes(G, rename, copy=False)\n",
      "In [32]: pos = networkx.spring_layout(G)  \n",
      "In [33]: plt.figure(figsize=(8,8))\n",
      "   ....: networkx.draw(G, pos, alpha=0.2, node_color='k', edge_color='b'); \\\n",
      "   ....: plt.show()"
     ],
     "language": "python",
     "metadata": {},
     "outputs": [
      {
       "metadata": {},
       "output_type": "display_data",
       "png": "[encoded data removed]",
       "text": [
        "<matplotlib.figure.Figure at 0x10a73f290>"
       ]
      }
     ],
     "prompt_number": 63
    },
    {
     "cell_type": "markdown",
     "metadata": {},
     "source": [
      "The module scipy.sparse borrows from numpy some interesting concepts to create constructors and special matrices:\n",
      "\n",
      "<table>\n",
      "<tr><td> `scipy.sparse.diags(diagonals, offsets)` </td><td>\n",
      "Sparse matrix from diagonals </td></tr>\n",
      "<tr><td> `scipy.sparse.rand(m, n, density)` </td><td>\n",
      "Random sparse matrix of prescribed density </td></tr>\n",
      "<tr><td> `scipy.sparse.eye(m)` </td><td>\n",
      "Sparse matrix with ones in main diagonal </td></tr>\n",
      "<tr><td> `scipy.sparse.identity(n)` </td><td>\n",
      "Identity sparse matrix of size n-by-n </td></tr>\n",
      "</table>\n",
      "\n",
      "Both functions `diags` and `rand` deserve examples to show their syntax.  We will start with a sparse matrix of size 14-by-14 with two diagonals: the main diagonal contains 1's, and the diagonal below contains 2's.  We also create a random matrix with the function `scipy.sparse.rand`. This matrix has size 5-by-5, with 25% non-zero elements (`density=0.25`), and is crafted in `LIL` format."
     ]
    },
    {
     "cell_type": "code",
     "collapsed": false,
     "input": [
      "In [34]: diagonals = [[1]*14, [2]*13]\n",
      "In [35]: print spsp.diags(diagonals, [0,-1]).todense()"
     ],
     "language": "python",
     "metadata": {},
     "outputs": [
      {
       "output_type": "stream",
       "stream": "stdout",
       "text": [
        "[[ 1.  0.  0.  0.  0.  0.  0.  0.  0.  0.  0.  0.  0.  0.]\n",
        " [ 2.  1.  0.  0.  0.  0.  0.  0.  0.  0.  0.  0.  0.  0.]\n",
        " [ 0.  2.  1.  0.  0.  0.  0.  0.  0.  0.  0.  0.  0.  0.]\n",
        " [ 0.  0.  2.  1.  0.  0.  0.  0.  0.  0.  0.  0.  0.  0.]\n",
        " [ 0.  0.  0.  2.  1.  0.  0.  0.  0.  0.  0.  0.  0.  0.]\n",
        " [ 0.  0.  0.  0.  2.  1.  0.  0.  0.  0.  0.  0.  0.  0.]\n",
        " [ 0.  0.  0.  0.  0.  2.  1.  0.  0.  0.  0.  0.  0.  0.]\n",
        " [ 0.  0.  0.  0.  0.  0.  2.  1.  0.  0.  0.  0.  0.  0.]\n",
        " [ 0.  0.  0.  0.  0.  0.  0.  2.  1.  0.  0.  0.  0.  0.]\n",
        " [ 0.  0.  0.  0.  0.  0.  0.  0.  2.  1.  0.  0.  0.  0.]\n",
        " [ 0.  0.  0.  0.  0.  0.  0.  0.  0.  2.  1.  0.  0.  0.]\n",
        " [ 0.  0.  0.  0.  0.  0.  0.  0.  0.  0.  2.  1.  0.  0.]\n",
        " [ 0.  0.  0.  0.  0.  0.  0.  0.  0.  0.  0.  2.  1.  0.]\n",
        " [ 0.  0.  0.  0.  0.  0.  0.  0.  0.  0.  0.  0.  2.  1.]]\n"
       ]
      }
     ],
     "prompt_number": 64
    },
    {
     "cell_type": "code",
     "collapsed": false,
     "input": [
      "In [36]: S_25_lil = spsp.rand(5, 5, density=0.25, format='lil')  \n",
      "In [37]: S_25_lil"
     ],
     "language": "python",
     "metadata": {},
     "outputs": [
      {
       "metadata": {},
       "output_type": "pyout",
       "prompt_number": 65,
       "text": [
        "<5x5 sparse matrix of type '<type 'numpy.float64'>'\n",
        "\twith 6 stored elements in LInked List format>"
       ]
      }
     ],
     "prompt_number": 65
    },
    {
     "cell_type": "code",
     "collapsed": false,
     "input": [
      "In [38]: print S_25_lil"
     ],
     "language": "python",
     "metadata": {},
     "outputs": [
      {
       "output_type": "stream",
       "stream": "stdout",
       "text": [
        "  (0, 3)\t0.217567652723\n",
        "  (1, 1)\t0.272456994812\n",
        "  (2, 3)\t0.653993994575\n",
        "  (2, 4)\t0.198837283833\n",
        "  (3, 1)\t0.486090353197\n",
        "  (4, 3)\t0.695945249526\n"
       ]
      }
     ],
     "prompt_number": 66
    },
    {
     "cell_type": "code",
     "collapsed": false,
     "input": [
      "In [39]: print S_25_lil.todense()"
     ],
     "language": "python",
     "metadata": {},
     "outputs": [
      {
       "output_type": "stream",
       "stream": "stdout",
       "text": [
        "[[ 0.     0.     0.     0.218  0.   ]\n",
        " [ 0.     0.272  0.     0.     0.   ]\n",
        " [ 0.     0.     0.     0.654  0.199]\n",
        " [ 0.     0.486  0.     0.     0.   ]\n",
        " [ 0.     0.     0.     0.696  0.   ]]\n"
       ]
      }
     ],
     "prompt_number": 67
    },
    {
     "cell_type": "markdown",
     "metadata": {},
     "source": [
      "In a similar fashion to the way we combined `ndarray` instances, we have some clever ways to combine sparse matrices to construct more complex objects:\n",
      "\n",
      "<table>\n",
      "<tr><td> `scipy.sparse.bmat(blocks)` </td><td>\n",
      "Sparse matrix from sparse sub-blocks </td></tr>\n",
      "<tr><td> `scipy.sparse.hstack(blocks)` </td><td>\n",
      "Stack sparse matrices horizontally </td></tr>\n",
      "<tr><td> `scipy.sparse.vstack(blocks)` </td><td>\n",
      "Stack sparse matrices vertically </td></tr>\n",
      "</table>\n",
      "\n",
      "### Linear Operators\n",
      "\n",
      "<table>\n",
      "<tr><td> `scipy.sparse.linalg.LinearOperator(shape, matvec)` </td><td>\n",
      "Common interface for performing matrix vector products </td></tr>\n",
      "<tr><td> `scipy.sparse.linalg.aslinearoperator(A)` </td><td>\n",
      "Return A as a LinearOperator </td></tr>\n",
      "</table>\n",
      "\n",
      "A linear operator is basically a function that takes as input a column vector and outputs another column vector, by left multiplication of the input with a matrix.  Although technically we could represent these objects just by handling the corresponding  matrix, there are better ways to do so.  \n",
      "\n",
      "In the module `scipy.sparse.linalg` we have a common interface that handles these objects: the class `LinearOperator`.  This class has only two attributes and three methods:\n",
      "* `shape`, the shape of the representing matrix.\n",
      "* `dtype`, the data type of the matrix.\n",
      "* `matvec`, to perform multiplication of a matrix with a vector. \n",
      "* `rmatvec`, to perform multiplication by the conjugate transpose of a matrix with a vector. \n",
      "* `matmat`, to perform multiplication of a matrix with another matrix.  \n",
      "\n",
      "Its usage is best explained through an example.  Consider two functions that take vectors of size 3, and output vectors of size 4, by left multiplication with two respective matrices of size 4-by-3.  We could very well define these functions with `lambda` predicates:"
     ]
    },
    {
     "cell_type": "code",
     "collapsed": false,
     "input": [
      "In [40]: H1 = np.matrix(\"1,3,5; 2,4,6; 6,4,2; 5,3,1\"); \\\n",
      "   ....: H2 = np.matrix(\"1,2,3; 1,3,2; 2,1,3; 2,3,1\") \n",
      "In [41]: L1 = lambda x: H1.dot(x); L2 = lambda x: H2.dot(x)\n",
      "In [42]: print L1(np.ones(3))"
     ],
     "language": "python",
     "metadata": {},
     "outputs": [
      {
       "output_type": "stream",
       "stream": "stdout",
       "text": [
        "[[  9.  12.  12.   9.]]\n"
       ]
      }
     ],
     "prompt_number": 69
    },
    {
     "cell_type": "code",
     "collapsed": false,
     "input": [
      "In [43]: print L2(np.tri(3,3))"
     ],
     "language": "python",
     "metadata": {},
     "outputs": [
      {
       "output_type": "stream",
       "stream": "stdout",
       "text": [
        "[[ 6.  5.  3.]\n",
        " [ 6.  5.  2.]\n",
        " [ 6.  4.  3.]\n",
        " [ 6.  4.  1.]]\n"
       ]
      }
     ],
     "prompt_number": 70
    },
    {
     "cell_type": "markdown",
     "metadata": {},
     "source": [
      "Now one issue arises when we try to add/subtract these two functions, or multiply any of them by a scalar.  Technically it should be as easy as adding/subtracting the corresponding matrices, or multiplying them by any number, and then performing the required left multiplication again.  But that is not the case.\n",
      "\n",
      "For instance, we would like to write `(L1+L2)(v)` instead of `L1(v) + L2(v)`.   Unfortunately, doing so will raise an error:"
     ]
    },
    {
     "cell_type": "code",
     "collapsed": false,
     "input": [
      "L1 + L2"
     ],
     "language": "python",
     "metadata": {},
     "outputs": [
      {
       "ename": "TypeError",
       "evalue": "unsupported operand type(s) for +: 'function' and 'function'",
       "output_type": "pyerr",
       "traceback": [
        "\u001b[0;31m---------------------------------------------------------------------------\u001b[0m\n\u001b[0;31mTypeError\u001b[0m                                 Traceback (most recent call last)",
        "\u001b[0;32m<ipython-input-73-f6d33c5f3d43>\u001b[0m in \u001b[0;36m<module>\u001b[0;34m()\u001b[0m\n\u001b[0;32m----> 1\u001b[0;31m \u001b[0mL1\u001b[0m \u001b[0;34m+\u001b[0m \u001b[0mL2\u001b[0m\u001b[0;34m\u001b[0m\u001b[0m\n\u001b[0m",
        "\u001b[0;31mTypeError\u001b[0m: unsupported operand type(s) for +: 'function' and 'function'"
       ]
      }
     ],
     "prompt_number": 73
    },
    {
     "cell_type": "markdown",
     "metadata": {},
     "source": [
      "Instead, we may instantiate the corresponding linear operators, and manipulate them at will, as follows:"
     ]
    },
    {
     "cell_type": "code",
     "collapsed": false,
     "input": [
      "In [44]: Lo1 = spspla.aslinearoperator(H1); \\\n",
      "   ....: Lo2 = spspla.aslinearoperator(H2)\n",
      "In [45]: Lo1 - 6 * Lo2"
     ],
     "language": "python",
     "metadata": {},
     "outputs": [
      {
       "metadata": {},
       "output_type": "pyout",
       "prompt_number": 74,
       "text": [
        "<4x3 _SumLinearOperator with dtype=int64>"
       ]
      }
     ],
     "prompt_number": 74
    },
    {
     "cell_type": "code",
     "collapsed": false,
     "input": [
      "In [46]: print Lo1 * np.ones(3)"
     ],
     "language": "python",
     "metadata": {},
     "outputs": [
      {
       "output_type": "stream",
       "stream": "stdout",
       "text": [
        "[  9.  12.  12.   9.]\n"
       ]
      }
     ],
     "prompt_number": 75
    },
    {
     "cell_type": "code",
     "collapsed": false,
     "input": [
      "In [47]: print (Lo1-6*Lo2) * np.tri(3,3)"
     ],
     "language": "python",
     "metadata": {},
     "outputs": [
      {
       "output_type": "stream",
       "stream": "stdout",
       "text": [
        "[[-27. -22. -13.]\n",
        " [-24. -20.  -6.]\n",
        " [-24. -18. -16.]\n",
        " [-27. -20.  -5.]]\n"
       ]
      }
     ],
     "prompt_number": 76
    },
    {
     "cell_type": "markdown",
     "metadata": {},
     "source": [
      "Linear operators are a great advantage when the amount of information needed to describe the product with the related matrix is less than the amount of memory needed to store the non-zero elements of the matrix.\n",
      "\n",
      "For instance, a **permutation matrix** is a square binary matrix (ones and zeros) that has exactly one entry 1 in each row and each column.  Consider a large permutation matrix, say 1024-by-1024, formed by four blocks of size 512-by-512: a zero block followed horizontally by an identity block, on top of an identity block followed horizontally by another zero block.  We may store this matrix in three different ways:"
     ]
    },
    {
     "cell_type": "code",
     "collapsed": false,
     "input": [
      "In [47]: P_sparse = spsp.diags([[1]*512, [1]*512], [512,-512], \\\n",
      "   ....: dtype=int)\n",
      "In [48]: P_dense = P_sparse.todense()\n",
      "In [49]: mv = lambda v: np.roll(v, len(v)/2)\n",
      "In [50]: P_lo = spspla.LinearOperator((1024,1024), matvec=mv, \\\n",
      "   ....: matmat=mv, dtype=int) "
     ],
     "language": "python",
     "metadata": {},
     "outputs": [],
     "prompt_number": 77
    },
    {
     "cell_type": "markdown",
     "metadata": {},
     "source": [
      "In the sparse case, `P_sparse`, we may think of this as the storage of just 1024 integer numbers.  In the dense case, `P_dense`, we are technically storing 1048576 integer values.  In the case of the linear operator, it actually looks like we are not  storing anything!  The function `mv` that indicates how to perform the multiplications has a much smaller footprint than any of the related matrices.  This is also reflected in the time of execution of the multiplications with these objects:"
     ]
    },
    {
     "cell_type": "code",
     "collapsed": false,
     "input": [
      "In [51]: %timeit P_sparse * np.ones(1024)\n",
      "In [52]: %timeit P_dense.dot(np.ones(1024))\n",
      "In [53]: %timeit P_lo * np.ones(1024)"
     ],
     "language": "python",
     "metadata": {},
     "outputs": [
      {
       "output_type": "stream",
       "stream": "stdout",
       "text": [
        "100000 loops, best of 3: 11.7 \u00b5s per loop\n",
        "1000 loops, best of 3: 1.35 ms per loop"
       ]
      },
      {
       "output_type": "stream",
       "stream": "stdout",
       "text": [
        "\n",
        "100000 loops, best of 3: 14.5 \u00b5s per loop"
       ]
      },
      {
       "output_type": "stream",
       "stream": "stdout",
       "text": [
        "\n"
       ]
      }
     ],
     "prompt_number": 78
    },
    {
     "cell_type": "markdown",
     "metadata": {},
     "source": [
      "## Basic matrix manipulation\n",
      "\n",
      "The emphasis of the second part of this chapter is on mastering the following operations:\n",
      "* Scalar multiplication, matrix addition and matrix multiplication\n",
      "* Traces and Determinants\n",
      "* Transposes and Inverses\n",
      "* Norms and Condition Numbers\n",
      "\n",
      "### Scalar multiplication, matrix addition and matrix multiplication\n",
      "\n",
      "Let us start with matrices stored with the `ndarray` class. We accomplish scalar multiplication with the `*` operator, and matrix addition with the `+` operator. But for matrix multiplication we need the instance method `dot()`, or the `numpy.dot` function, since the `*` operator is reserved for element-wise multiplication."
     ]
    },
    {
     "cell_type": "code",
     "collapsed": false,
     "input": [
      "In [54]: 2*A"
     ],
     "language": "python",
     "metadata": {},
     "outputs": [
      {
       "metadata": {},
       "output_type": "pyout",
       "prompt_number": 79,
       "text": [
        "array([[ 2,  4],\n",
        "       [ 8, 32]])"
       ]
      }
     ],
     "prompt_number": 79
    },
    {
     "cell_type": "code",
     "collapsed": false,
     "input": [
      "In [55]: A + 2*A"
     ],
     "language": "python",
     "metadata": {},
     "outputs": [
      {
       "metadata": {},
       "output_type": "pyout",
       "prompt_number": 80,
       "text": [
        "array([[ 3,  6],\n",
        "       [12, 48]])"
       ]
      }
     ],
     "prompt_number": 80
    },
    {
     "cell_type": "code",
     "collapsed": false,
     "input": [
      "In [56]: A.dot(2*A)"
     ],
     "language": "python",
     "metadata": {},
     "outputs": [
      {
       "metadata": {},
       "output_type": "pyout",
       "prompt_number": 81,
       "text": [
        "array([[ 18,  68],\n",
        "       [136, 528]])"
       ]
      }
     ],
     "prompt_number": 81
    },
    {
     "cell_type": "code",
     "collapsed": false,
     "input": [
      "In [56]: np.dot(A, 2*A)"
     ],
     "language": "python",
     "metadata": {},
     "outputs": [
      {
       "metadata": {},
       "output_type": "pyout",
       "prompt_number": 82,
       "text": [
        "array([[ 18,  68],\n",
        "       [136, 528]])"
       ]
      }
     ],
     "prompt_number": 82
    },
    {
     "cell_type": "code",
     "collapsed": false,
     "input": [
      "In [57]: A.dot(B)"
     ],
     "language": "python",
     "metadata": {},
     "outputs": [
      {
       "ename": "ValueError",
       "evalue": "shapes (2,2) and (3,2) not aligned: 2 (dim 1) != 3 (dim 0)",
       "output_type": "pyerr",
       "traceback": [
        "\u001b[0;31m---------------------------------------------------------------------------\u001b[0m\n\u001b[0;31mValueError\u001b[0m                                Traceback (most recent call last)",
        "\u001b[0;32m<ipython-input-83-7fbaa337fd94>\u001b[0m in \u001b[0;36m<module>\u001b[0;34m()\u001b[0m\n\u001b[0;32m----> 1\u001b[0;31m \u001b[0mA\u001b[0m\u001b[0;34m.\u001b[0m\u001b[0mdot\u001b[0m\u001b[0;34m(\u001b[0m\u001b[0mB\u001b[0m\u001b[0;34m)\u001b[0m\u001b[0;34m\u001b[0m\u001b[0m\n\u001b[0m",
        "\u001b[0;31mValueError\u001b[0m: shapes (2,2) and (3,2) not aligned: 2 (dim 1) != 3 (dim 0)"
       ]
      }
     ],
     "prompt_number": 83
    },
    {
     "cell_type": "code",
     "collapsed": false,
     "input": [
      "In [58]: B.dot(A)"
     ],
     "language": "python",
     "metadata": {},
     "outputs": [
      {
       "metadata": {},
       "output_type": "pyout",
       "prompt_number": 84,
       "text": [
        "array([[ -9, -34],\n",
        "       [  0,   0],\n",
        "       [  9,  34]])"
       ]
      }
     ],
     "prompt_number": 84
    },
    {
     "cell_type": "code",
     "collapsed": false,
     "input": [
      "In [58]: np.dot(B, A)"
     ],
     "language": "python",
     "metadata": {},
     "outputs": [
      {
       "metadata": {},
       "output_type": "pyout",
       "prompt_number": 85,
       "text": [
        "array([[ -9, -34],\n",
        "       [  0,   0],\n",
        "       [  9,  34]])"
       ]
      }
     ],
     "prompt_number": 85
    },
    {
     "cell_type": "markdown",
     "metadata": {},
     "source": [
      "The `matrix` class makes matrix multiplication more intuitive: the operator `*` can be used instead of the `dot()` method. Note also how matrix multiplication between different instance classes `ndarray` and a matrix is always casted to a `matrix` instance class:"
     ]
    },
    {
     "cell_type": "code",
     "collapsed": false,
     "input": [
      "In [59]: C * B"
     ],
     "language": "python",
     "metadata": {},
     "outputs": [
      {
       "ename": "ValueError",
       "evalue": "shapes (2,2) and (3,2) not aligned: 2 (dim 1) != 3 (dim 0)",
       "output_type": "pyerr",
       "traceback": [
        "\u001b[0;31m---------------------------------------------------------------------------\u001b[0m\n\u001b[0;31mValueError\u001b[0m                                Traceback (most recent call last)",
        "\u001b[0;32m<ipython-input-86-dc6575066c4f>\u001b[0m in \u001b[0;36m<module>\u001b[0;34m()\u001b[0m\n\u001b[0;32m----> 1\u001b[0;31m \u001b[0mC\u001b[0m \u001b[0;34m*\u001b[0m \u001b[0mB\u001b[0m\u001b[0;34m\u001b[0m\u001b[0m\n\u001b[0m",
        "\u001b[0;32m//anaconda/lib/python2.7/site-packages/numpy/matrixlib/defmatrix.pyc\u001b[0m in \u001b[0;36m__mul__\u001b[0;34m(self, other)\u001b[0m\n\u001b[1;32m    339\u001b[0m         \u001b[0;32mif\u001b[0m \u001b[0misinstance\u001b[0m\u001b[0;34m(\u001b[0m\u001b[0mother\u001b[0m\u001b[0;34m,\u001b[0m \u001b[0;34m(\u001b[0m\u001b[0mN\u001b[0m\u001b[0;34m.\u001b[0m\u001b[0mndarray\u001b[0m\u001b[0;34m,\u001b[0m \u001b[0mlist\u001b[0m\u001b[0;34m,\u001b[0m \u001b[0mtuple\u001b[0m\u001b[0;34m)\u001b[0m\u001b[0;34m)\u001b[0m \u001b[0;34m:\u001b[0m\u001b[0;34m\u001b[0m\u001b[0m\n\u001b[1;32m    340\u001b[0m             \u001b[0;31m# This promotes 1-D vectors to row vectors\u001b[0m\u001b[0;34m\u001b[0m\u001b[0;34m\u001b[0m\u001b[0m\n\u001b[0;32m--> 341\u001b[0;31m             \u001b[0;32mreturn\u001b[0m \u001b[0mN\u001b[0m\u001b[0;34m.\u001b[0m\u001b[0mdot\u001b[0m\u001b[0;34m(\u001b[0m\u001b[0mself\u001b[0m\u001b[0;34m,\u001b[0m \u001b[0masmatrix\u001b[0m\u001b[0;34m(\u001b[0m\u001b[0mother\u001b[0m\u001b[0;34m)\u001b[0m\u001b[0;34m)\u001b[0m\u001b[0;34m\u001b[0m\u001b[0m\n\u001b[0m\u001b[1;32m    342\u001b[0m         \u001b[0;32mif\u001b[0m \u001b[0misscalar\u001b[0m\u001b[0;34m(\u001b[0m\u001b[0mother\u001b[0m\u001b[0;34m)\u001b[0m \u001b[0;32mor\u001b[0m \u001b[0;32mnot\u001b[0m \u001b[0mhasattr\u001b[0m\u001b[0;34m(\u001b[0m\u001b[0mother\u001b[0m\u001b[0;34m,\u001b[0m \u001b[0;34m'__rmul__'\u001b[0m\u001b[0;34m)\u001b[0m \u001b[0;34m:\u001b[0m\u001b[0;34m\u001b[0m\u001b[0m\n\u001b[1;32m    343\u001b[0m             \u001b[0;32mreturn\u001b[0m \u001b[0mN\u001b[0m\u001b[0;34m.\u001b[0m\u001b[0mdot\u001b[0m\u001b[0;34m(\u001b[0m\u001b[0mself\u001b[0m\u001b[0;34m,\u001b[0m \u001b[0mother\u001b[0m\u001b[0;34m)\u001b[0m\u001b[0;34m\u001b[0m\u001b[0m\n",
        "\u001b[0;31mValueError\u001b[0m: shapes (2,2) and (3,2) not aligned: 2 (dim 1) != 3 (dim 0)"
       ]
      }
     ],
     "prompt_number": 86
    },
    {
     "cell_type": "code",
     "collapsed": false,
     "input": [
      "In [60]: B * C"
     ],
     "language": "python",
     "metadata": {},
     "outputs": [
      {
       "metadata": {},
       "output_type": "pyout",
       "prompt_number": 87,
       "text": [
        "matrix([[ -9, -34],\n",
        "        [  0,   0],\n",
        "        [  9,  34]])"
       ]
      }
     ],
     "prompt_number": 87
    },
    {
     "cell_type": "markdown",
     "metadata": {},
     "source": [
      "For sparse matrices, both scalar multiplication and addition work well with the obvious operators, even if the two sparse classes are not the same. Note the resulting class casting after each operation:"
     ]
    },
    {
     "cell_type": "code",
     "collapsed": false,
     "input": [
      "In [61]: S_10_coo = spsp.rand(5, 5, density=0.1, format='coo')\n",
      "In [62]: S_25_lil + S_10_coo"
     ],
     "language": "python",
     "metadata": {},
     "outputs": [
      {
       "metadata": {},
       "output_type": "pyout",
       "prompt_number": 88,
       "text": [
        "<5x5 sparse matrix of type '<type 'numpy.float64'>'\n",
        "\twith 7 stored elements in Compressed Sparse Row format>"
       ]
      }
     ],
     "prompt_number": 88
    },
    {
     "cell_type": "code",
     "collapsed": false,
     "input": [
      "In [63]: S_25_lil * S_10_coo"
     ],
     "language": "python",
     "metadata": {},
     "outputs": [
      {
       "metadata": {},
       "output_type": "pyout",
       "prompt_number": 89,
       "text": [
        "<5x5 sparse matrix of type '<type 'numpy.float64'>'\n",
        "\twith 2 stored elements in Compressed Sparse Row format>"
       ]
      }
     ],
     "prompt_number": 89
    },
    {
     "cell_type": "markdown",
     "metadata": {},
     "source": [
      "`numpy.dot` does not work well for matrix multiplication of a sparse matrix with a generic.  We must use the operator `*` instead."
     ]
    },
    {
     "cell_type": "code",
     "collapsed": false,
     "input": [
      "In [64]: S_100_coo = spsp.rand(2, 2, density=1, format='coo')\n",
      "In [65]: np.dot(A, S_100_coo) "
     ],
     "language": "python",
     "metadata": {},
     "outputs": [
      {
       "output_type": "stream",
       "stream": "stderr",
       "text": [
        "//anaconda/lib/python2.7/site-packages/scipy/sparse/compressed.py:232: SparseEfficiencyWarning: Comparing sparse matrices using == is inefficient, try using != instead.\n",
        "  \" != instead.\", SparseEfficiencyWarning)\n"
       ]
      },
      {
       "metadata": {},
       "output_type": "pyout",
       "prompt_number": 91,
       "text": [
        "array([[ <2x2 sparse matrix of type '<type 'numpy.float64'>'\n",
        "\twith 4 stored elements in COOrdinate format>,\n",
        "        <2x2 sparse matrix of type '<type 'numpy.float64'>'\n",
        "\twith 4 stored elements in COOrdinate format>],\n",
        "       [ <2x2 sparse matrix of type '<type 'numpy.float64'>'\n",
        "\twith 4 stored elements in COOrdinate format>,\n",
        "        <2x2 sparse matrix of type '<type 'numpy.float64'>'\n",
        "\twith 4 stored elements in COOrdinate format>]], dtype=object)"
       ]
      }
     ],
     "prompt_number": 91
    },
    {
     "cell_type": "code",
     "collapsed": false,
     "input": [
      "In [66]: A * S_100_coo"
     ],
     "language": "python",
     "metadata": {},
     "outputs": [
      {
       "metadata": {},
       "output_type": "pyout",
       "prompt_number": 92,
       "text": [
        "array([[  1.367,   2.065],\n",
        "       [  8.043,  13.635]])"
       ]
      }
     ],
     "prompt_number": 92
    },
    {
     "cell_type": "markdown",
     "metadata": {},
     "source": [
      "### Traces and Determinants\n",
      "\n",
      "The traces of a matrix are the sums of the elements on the diagonals (assuming always increasing indices in both dimensions).  For generic matrices, we compute them with the instance method `trace()`, or with the function `numpy.trace`:"
     ]
    },
    {
     "cell_type": "code",
     "collapsed": false,
     "input": [
      "In [67]: A.trace()"
     ],
     "language": "python",
     "metadata": {},
     "outputs": [
      {
       "metadata": {},
       "output_type": "pyout",
       "prompt_number": 93,
       "text": [
        "17"
       ]
      }
     ],
     "prompt_number": 93
    },
    {
     "cell_type": "code",
     "collapsed": false,
     "input": [
      "In [68]: C.trace()"
     ],
     "language": "python",
     "metadata": {},
     "outputs": [
      {
       "metadata": {},
       "output_type": "pyout",
       "prompt_number": 94,
       "text": [
        "matrix([[17]])"
       ]
      }
     ],
     "prompt_number": 94
    },
    {
     "cell_type": "code",
     "collapsed": false,
     "input": [
      "In [69]: B.trace()"
     ],
     "language": "python",
     "metadata": {},
     "outputs": [
      {
       "metadata": {},
       "output_type": "pyout",
       "prompt_number": 95,
       "text": [
        "-1"
       ]
      }
     ],
     "prompt_number": 95
    },
    {
     "cell_type": "code",
     "collapsed": false,
     "input": [
      "In [70]: np.trace(B, offset=-1)"
     ],
     "language": "python",
     "metadata": {},
     "outputs": [
      {
       "metadata": {},
       "output_type": "pyout",
       "prompt_number": 96,
       "text": [
        "2"
       ]
      }
     ],
     "prompt_number": 96
    },
    {
     "cell_type": "markdown",
     "metadata": {},
     "source": [
      "In order to compute the determinant of generic square matrices, we need the function `det` in the module `scipy.linalg`."
     ]
    },
    {
     "cell_type": "code",
     "collapsed": false,
     "input": [
      "In [71]: spla.det(C)"
     ],
     "language": "python",
     "metadata": {},
     "outputs": [
      {
       "metadata": {},
       "output_type": "pyout",
       "prompt_number": 97,
       "text": [
        "8.0"
       ]
      }
     ],
     "prompt_number": 97
    },
    {
     "cell_type": "markdown",
     "metadata": {},
     "source": [
      "### Transposes and Inverses\n",
      "\n",
      "Transposes can be computed with any of the two instance methods `transpose()` or `T`, for any of the two classes of generic matrices."
     ]
    },
    {
     "cell_type": "code",
     "collapsed": false,
     "input": [
      "In [72]: B.transpose()"
     ],
     "language": "python",
     "metadata": {},
     "outputs": [
      {
       "metadata": {},
       "output_type": "pyout",
       "prompt_number": 98,
       "text": [
        "array([[-1,  0,  1],\n",
        "       [-2,  0,  2]])"
       ]
      }
     ],
     "prompt_number": 98
    },
    {
     "cell_type": "code",
     "collapsed": false,
     "input": [
      "In [73]: C.T"
     ],
     "language": "python",
     "metadata": {},
     "outputs": [
      {
       "metadata": {},
       "output_type": "pyout",
       "prompt_number": 99,
       "text": [
        "matrix([[ 1,  4],\n",
        "        [ 2, 16]])"
       ]
      }
     ],
     "prompt_number": 99
    },
    {
     "cell_type": "markdown",
     "metadata": {},
     "source": [
      "Hermitian transposes can be computed for the matrix class with the instance method `H`."
     ]
    },
    {
     "cell_type": "code",
     "collapsed": false,
     "input": [
      "In [74]: D = C * np.diag((1j,4)); print D"
     ],
     "language": "python",
     "metadata": {},
     "outputs": [
      {
       "output_type": "stream",
       "stream": "stdout",
       "text": [
        "[[  0.+1.j   8.+0.j]\n",
        " [  0.+4.j  64.+0.j]]\n"
       ]
      }
     ],
     "prompt_number": 100
    },
    {
     "cell_type": "code",
     "collapsed": false,
     "input": [
      "In [75]: print D.H"
     ],
     "language": "python",
     "metadata": {},
     "outputs": [
      {
       "output_type": "stream",
       "stream": "stdout",
       "text": [
        "[[  0.-1.j   0.-4.j]\n",
        " [  8.-0.j  64.-0.j]]\n"
       ]
      }
     ],
     "prompt_number": 101
    },
    {
     "cell_type": "markdown",
     "metadata": {},
     "source": [
      "Inverses of non-singular square matrices are computed for the `ndarray` class with the function `inv` in the module `scipy.linalg`. For the `matrix` class, we may also use the instance method `I`. For non-singular square sparse matrices, we may use the function `inv` in the module `scipy.sparse.linalg`.\n",
      "\n",
      "Inverses of sparse matrices are seldom sparse.  For this reason, it is not recommended to perform this operation with the `scipy.sparse.inv` function.  One possible way to go around this issue is to convert the matrix to generic with the `todense()` instance method, and use `scipy.linear.inv` instead.\n",
      "\n",
      "But due to the difficulty of inverting large matrices, it is often beneficial to compute approximations to the inverse, instead.  The function `spilu` in the module `scipy.sparse.linalg` provides us with a very fast algorithm to perform this computation for square sparse matrices in `CSC` format.  This algorithm is based on `LU` decompositions, and coded internally as a wrapper of a function from the library `SuperLU`.  Its use is rather complex, and we are going to postpone its study until we explore matrix factorizations."
     ]
    },
    {
     "cell_type": "code",
     "collapsed": false,
     "input": [
      "In [76]: E = spsp.rand(512, 512, density=1).todense()\n",
      "In [77]: S_100_csc = spsp.rand(512, 512, density=1, format='csc')\n",
      "In [78]: %timeit E.I\n",
      "In [79]: %timeit spspla.inv(S_100_csc)"
     ],
     "language": "python",
     "metadata": {},
     "outputs": [
      {
       "output_type": "stream",
       "stream": "stdout",
       "text": [
        "100 loops, best of 3: 6.02 ms per loop\n",
        "1 loops, best of 3: 875 ms per loop"
       ]
      },
      {
       "output_type": "stream",
       "stream": "stdout",
       "text": [
        "\n"
       ]
      }
     ],
     "prompt_number": 107
    },
    {
     "cell_type": "markdown",
     "metadata": {},
     "source": [
      ">In the execution of sparse inverses, if the input matrix is not in `CSC` or `CSR` formats, we will get a warning:"
     ]
    },
    {
     "cell_type": "code",
     "collapsed": false,
     "input": [
      "In [80]: spspla.inv(S_100_coo)"
     ],
     "language": "python",
     "metadata": {},
     "outputs": [
      {
       "metadata": {},
       "output_type": "pyout",
       "prompt_number": 108,
       "text": [
        "<2x2 sparse matrix of type '<type 'numpy.float64'>'\n",
        "\twith 4 stored elements in Compressed Sparse Column format>"
       ]
      }
     ],
     "prompt_number": 108
    },
    {
     "cell_type": "markdown",
     "metadata": {},
     "source": [
      "The **Moore-Penrose pseudo-inverse** can be computed for any kind of matrix (not necessarily square) with either routines `pinv` or `pinv2` in the module scipy.linalg.  The first method, `pinv`, resorts to solving a least-squares problem to compute the pseudo-inverse.  The function `pinv2` computes the pseudo-inverse by a method based on singular value decompositions.  For hermitian matrices, or matrices which are symmetric with no complex coefficients, we also have a third function `pinvh` based on eigenvalue decompositions.\n",
      "\n",
      "It is known that in case of square non-singular matrices, the inverse and pseudo-inverse are the same.  This simple example shows times of computation of inverses of a large generic symmetric matrix with the five methods described:"
     ]
    },
    {
     "cell_type": "code",
     "collapsed": false,
     "input": [
      "In [81]: F = E + E.T     # F is symmetric\n",
      "In [82]: %timeit F.I\n",
      "In [83]: %timeit spla.inv(F)\n",
      "In [84]: %timeit spla.pinvh(E)\n",
      "In [85]: %timeit spla.pinv2(E)\n",
      "In [86]: %timeit spla.pinv(F)"
     ],
     "language": "python",
     "metadata": {},
     "outputs": [
      {
       "output_type": "stream",
       "stream": "stdout",
       "text": [
        "100 loops, best of 3: 6.13 ms per loop\n",
        "100 loops, best of 3: 5.94 ms per loop"
       ]
      },
      {
       "output_type": "stream",
       "stream": "stdout",
       "text": [
        "\n",
        "10 loops, best of 3: 49.8 ms per loop"
       ]
      },
      {
       "output_type": "stream",
       "stream": "stdout",
       "text": [
        "\n",
        "10 loops, best of 3: 99.3 ms per loop"
       ]
      },
      {
       "output_type": "stream",
       "stream": "stdout",
       "text": [
        "\n",
        "1 loops, best of 3: 2.02 s per loop"
       ]
      },
      {
       "output_type": "stream",
       "stream": "stdout",
       "text": [
        "\n"
       ]
      }
     ],
     "prompt_number": 109
    },
    {
     "cell_type": "markdown",
     "metadata": {},
     "source": [
      "### Norms and Condition Numbers\n",
      "\n",
      "For generic matrices, we have seven different standard norms in `scipy.linalg`.  We summarize them in the following table:\n",
      "\n",
      "<table>\n",
      "<tr><td> `norm(A,numpy.inf)` </td><td>\n",
      "Sum absolute values of entries on each row. Pick the largest value </td></tr>\n",
      "<tr><td> `norm(A,-numpy.inf)` </td><td>\n",
      "Sum absolute values of entries on each row. Pick the smallest value </td></tr>\n",
      "<tr><td> `norm(A,1)` </td><td>\n",
      "Sum absolute values of entries on each column.  Pick the largest value </td></tr>\n",
      "<tr><td> `norm(A,-1)` </td><td>\n",
      "Sum absolute values of entries on each column. Pick the smallest value </td></tr>\n",
      "<tr><td> `norm(A,2)` </td><td>\n",
      "Largest eigenvalue of the matrix </td></tr>\n",
      "<tr><td> `norm(A,-2)` </td><td>\n",
      "Smallest eigenvalue of the matrix </td></tr>\n",
      "<tr><td> `norm(A,'fro') or norm(A,'f')` </td><td>\n",
      "Frobenius norm: the square-root of the trace of the product $A^H \\cdot A$ </td></tr>\n",
      "</table>"
     ]
    },
    {
     "cell_type": "code",
     "collapsed": false,
     "input": [
      "In [87]: [spla.norm(A,s) for s in (np.inf,-np.inf,-1,1,-2,2,'fro')]"
     ],
     "language": "python",
     "metadata": {},
     "outputs": [
      {
       "metadata": {},
       "output_type": "pyout",
       "prompt_number": 110,
       "text": [
        "[20, 3, 5, 18, 0.48087417361008861, 16.636368595013604, 16.643316977093239]"
       ]
      }
     ],
     "prompt_number": 110
    },
    {
     "cell_type": "markdown",
     "metadata": {},
     "source": [
      ">For sparse matrices, we can always compute norms by applying the `todense()` instance method prior to computation. But when the sizes of the matrices are too large, this is very impractical. In those cases, the best we can get for the 1-norm is a lower bound, thanks to the function `onenormest` in the module `scipy.sparse.linalg`"
     ]
    },
    {
     "cell_type": "code",
     "collapsed": false,
     "input": [
      "In [88]: spla.norm(S_100_csc.todense(), 1) - spspla.onenormest(S_100_csc)"
     ],
     "language": "python",
     "metadata": {},
     "outputs": [
      {
       "metadata": {},
       "output_type": "pyout",
       "prompt_number": 111,
       "text": [
        "1.7053025658242404e-13"
       ]
      }
     ],
     "prompt_number": 111
    },
    {
     "cell_type": "markdown",
     "metadata": {},
     "source": [
      ">As for the 2-norms, we may find the values of the smallest and largest eigenvalue, but only for square matrices.  We have two algorithms in the module `scipy.sparse.linalg` that perform this task: `eigs` (for generic square matrices), and `eigsh` for real symmetric matrices.  We will explore them in detail when we discuss matrix decompositions.\n",
      "\n",
      "Note the subtle difference between the norm computations from `scipy` and `numpy`:  For example, in the case of the Frobenius norm, `scipy.linalg.norm` is based directly on the `BLAS` function `NRM2`, while `numpy.linalg.norm` is equivalent to a purely straightforward computation of the form `sqrt(add.reduce((x.conj() * x).real))`.  The advantage of the code based on `BLAS`, besides being much faster, is clear when some of the data is too large or too small in single precision arithmetic, as the following example shows:"
     ]
    },
    {
     "cell_type": "code",
     "collapsed": false,
     "input": [
      "In [89]: a = np.float64([1e20]); \\\n",
      "   ....: b = np.float32([1e20])\n",
      "In [90]: [np.linalg.norm(a), spla.norm(a)]"
     ],
     "language": "python",
     "metadata": {},
     "outputs": [
      {
       "metadata": {},
       "output_type": "pyout",
       "prompt_number": 112,
       "text": [
        "[1e+20, 1e+20]"
       ]
      }
     ],
     "prompt_number": 112
    },
    {
     "cell_type": "code",
     "collapsed": false,
     "input": [
      "In [91]: np.linalg.norm(b)"
     ],
     "language": "python",
     "metadata": {},
     "outputs": [
      {
       "metadata": {},
       "output_type": "pyout",
       "prompt_number": 113,
       "text": [
        "inf"
       ]
      }
     ],
     "prompt_number": 113
    },
    {
     "cell_type": "code",
     "collapsed": false,
     "input": [
      "In [92]: spla.norm(b)"
     ],
     "language": "python",
     "metadata": {},
     "outputs": [
      {
       "metadata": {},
       "output_type": "pyout",
       "prompt_number": 114,
       "text": [
        "1.0000000200408773e+20"
       ]
      }
     ],
     "prompt_number": 114
    },
    {
     "cell_type": "markdown",
     "metadata": {},
     "source": [
      "This brings us inevitably to a discussion about the computation of the condition number of a non-singular square matrix $A$.  This value measures how much will change the output of the solution to the linear equation $A \\cdot x = b$ when we perform small changes in the input argument $b$.  If this value is close to one, we can rest assured that the solution is going to change very little (we say then that the system is well-conditioned).  If the condition number is large, we know that there might be issues with the computed solutions of the system (and we say then that it is ill-conditioned).\n",
      "\n",
      "The computation of this condition number is performed by multiplying the norm of $A$, with the norm of its inverse.   Note that there are different condition numbers, depending on the norm we choose for the computation.  These values can also be computed for each of the pre-defined norms with the function `numpy.linalg.cond`, although we need to be aware of its obvious limitations."
     ]
    },
    {
     "cell_type": "code",
     "collapsed": false,
     "input": [
      "In [93]: np.linalg.cond(C, -np.inf)"
     ],
     "language": "python",
     "metadata": {},
     "outputs": [
      {
       "metadata": {},
       "output_type": "pyout",
       "prompt_number": 116,
       "text": [
        "1.875"
       ]
      }
     ],
     "prompt_number": 116
    },
    {
     "cell_type": "markdown",
     "metadata": {},
     "source": [
      "## Matrix Functions\n",
      "scipy.linalg.funm(A, func, disp)\n",
      "Extension of a scalar-valued function func to a matrix\n",
      "scipy.linalg.fractional_matrix_power(A, t)\n",
      "Fractional matrix power\n",
      "scipy.linalg.expm(A) or scipy.sparse.linalg.expm(A)\n",
      "Matrix exponential\n",
      "scipy.sparse.linalg.expm_multiply(A,B)\n",
      "Action of the matrix exponential of A on B\n",
      "scipy.linalg.expm_frechet(A, E)\n",
      "Frechet derivative of the matrix exponential in the direction E\n",
      "scipy.linalg.cosm(A)\n",
      "Matrix cosine\n",
      "scipy.linalg.sinm(A)\n",
      "Matrix sine\n",
      "scipy.linalg.tanm(A)\n",
      "Matrix tangent\n",
      "scipy.linalg.coshm(A)\n",
      "Hyperbolic matrix cosine\n",
      "scipy.linalg.sinhm(A)\n",
      "Hyperbolic matrix sine\n",
      "scipy.linalg.tanhm(A)\n",
      "Hyperbolic matrix tangent\n",
      "scipy.linalg.signm(A)\n",
      "Matrix sign function\n",
      "scipy.linalg.sqrtm(A, disp, blocksize)\n",
      "Matrix square root\n",
      "scipy.linalg.logm(A, disp)\n",
      "Matrix logarithm\n",
      "\n",
      "A matrix function is a function that maps a square matrix to another square matrix via power series.  These should not be confused with vectorizations: the application of any given function of one variable to each element of a matrix.  For example, it is not the same to compute the square of a square matrix, A.dot(A) (example In [8]), than a matrix with all the elements of A squared (examples In [5] through In [7]).  \n",
      "To make the proper distinction in notation, we will write A^2 to denote the actual square of a square matrix, and A^n subsequent powers (for all positive integers n).\n",
      "In [1]: import numpy as np, scipy as sp; \\\n",
      "   ...: import scipy.linalg as spla\n",
      "In [2]: np.set_printoptions(suppress=True, precision=3)\n",
      "In [3]: square = lambda x: x**2\n",
      "In [4]: A = spla.hilbert(4); print A\n",
      "[[ 1.     0.5    0.333  0.25 ]\n",
      " [ 0.5    0.333  0.25   0.2  ] \n",
      " [ 0.333  0.25   0.2    0.167] \n",
      " [ 0.25   0.2    0.167  0.143]] \n",
      "In [5]: print square(A)\n",
      "[[ 1.     0.25   0.111  0.062]\n",
      " [ 0.5    0.333  0.25   0.2  ]\n",
      " [ 0.333  0.25   0.2    0.167]\n",
      " [ 0.25   0.2    0.167  0.143]]\n",
      "In [6]: print A*A \n",
      "[[ 1.     0.25   0.111  0.062] \n",
      " [ 0.25   0.111  0.062  0.04 ] \n",
      " [ 0.111  0.062  0.04   0.028] \n",
      " [ 0.062  0.04   0.028  0.02 ]] \n",
      "In [7]: print A**2\n",
      "[[ 1.     0.25   0.111  0.062]\n",
      " [ 0.25   0.111  0.062  0.04 ]\n",
      " [ 0.111  0.062  0.04   0.028]\n",
      " [ 0.062  0.04   0.028  0.02 ]]\n",
      "In [8]: print A.dot(A)\n",
      "[[ 1.424  0.8    0.567  0.441]\n",
      " [ 0.8    0.464  0.333  0.262]\n",
      " [ 0.567  0.333  0.241  0.19 ]\n",
      " [ 0.441  0.262  0.19   0.151]]\n",
      "The actual powers A^n of a matrix is the starting point for the definition of any matrix function.   In the module numpy.linalg we have the routine matrix_power to perform this operation.  We can also achieve this result with the generic function funm, or with the function fractional_matrix_power, both of them in the module scipy.linalg.\n",
      "In [9]: print np.linalg.matrix_power(A, 2)\n",
      "[[ 1.424  0.8    0.567  0.441]\n",
      " [ 0.8    0.464  0.333  0.262]\n",
      " [ 0.567  0.333  0.241  0.19 ]\n",
      " [ 0.441  0.262  0.19   0.151]]\n",
      "In [10]: print spla.fractional_matrix_power(A, 2) \n",
      "[[ 1.424  0.8    0.567  0.441]\n",
      " [ 0.8    0.464  0.333  0.262]\n",
      " [ 0.567  0.333  0.241  0.19 ]\n",
      " [ 0.441  0.262  0.19   0.151]] \n",
      "In [11]: print spla.funm(A, square)\n",
      "[[ 1.424  0.8    0.567  0.441]\n",
      " [ 0.8    0.464  0.333  0.262]\n",
      " [ 0.567  0.333  0.241  0.19 ]\n",
      " [ 0.441  0.262  0.19   0.151]]\n",
      "To compute any matrix function, theoretically we first express the function as a power series, by means of its Taylor expansion.  Then we apply the input matrix into an approximation to that expansion (since it is impossible to add matrices ad infinitum).   Most matrix functions necessarily carry an error of computation, for this reason. In the module scipy.linalg we have the following matrix functions computed with this idea (but not necessarily with this algorithm!).\n",
      "Note that there are three functions with an optional Boolean parameter disp.  To understand the usage of this parameter, we must remember that most matrix functions compute approximations, with an error of computation.  The parameter disp is set to True by default, and it produces a warning if the error of approximation is large.  If we set disp to False, instead of a warning we will obtain the 1-norm of the estimated error.\n",
      "The algorithms behind the functions expm, the action of an exponential over a matrix, expm_multiply, and the Frechet derivative of an exponential, expm_frechet, use Pade approximations instead of Taylor expansions.  This allows more robust and accurate calculations.  All the trigonometric and hyperbolic trigonometric functions base their algorithm in easy computations involving expm.\n",
      "The generic matrix function funm and the square-root function sqrtm apply clever algorithms that play with the Schur decomposition of the input matrix, and proper algebraic manipulations with the corresponding eigenvalues.  They are still prone to roundoff errors, but much faster and accurate than any algorithm based on Taylor expansions.\n",
      "The matrix sign function signm is initially an application of funm with the appropriate function but, should this approach fail, the algorithm takes a different approach based on iterations that converges to a decent approximation to the solution.\n",
      "The functions logm and fractional_matrix_power (when the latter is applied to non- integer powers) both use a very complex combination (and improvement!) of Pade approximations and Schur decompositions.  \n",
      "We will explore Schur decompositions when we deal with matrix factorizations related to eigenvalues.  In the meantime, if interested in learning the particular of these clever algorithms, read their descriptions in Golub and Van Loan,  \"Matrix Computations\" 4 ed., Johns Hopkins Studies in the Mathematical Sciences, vol.3.\n",
      "For details on the improvements to Schur-Pade algorithms, as well as the algorithm behind Frechet derivatives of the exponential, refer to:\n",
      "Nicholas J. Higham and Lijing Lin \"An Improved Schur-Pade Algorithm for Fractional Powers of a matrix and their Frechet derivatives\"\n",
      "Awad H. Al-Mohy and Nicholas J. Higham \"Improved Inverse Scaling and Squaring Algorithms for the Matrix Logarithm,\" in SIAM Journal on Scientific Computing, 34 (4).\n",
      "Matrix Factorizations related to solving matrix equations\n",
      "The concept of matrix decompositions is what makes Numerical Linear Algebra an efficient tool in Scientific Computing: If the matrix representing a problem is simple enough, any basic generic algorithm can find the solutions optimally (that is: fast, with minimal storage of data, and without significant roundoff error).  But in real life this situation seldom occurs.  What we do in the general case is to find a suitable matrix factorization, and tailor an algorithm that is optimal on each factor, thus gaining on each step obvious advantage.  In this section we explore the different factorizations included in the modules scipy.linalg and scipy.sparse.linalg that help us achieve robust solution to matrix equations.\n",
      "Relevant Factorizations\n",
      "We have the following factorizations in this category:\n",
      "Pivoted LU decomposition\n",
      "It is always possible to perform a factorization of a square matrix A as a product A = P * L * U of a permutation matrix P (which performs a permutation of the rows of A), a lower triangular matrix L, and an upper triangular matrix U: \n",
      "scipy.linalg.lu(A)\n",
      "Pivoted LU decomposition\n",
      "scipy.linalg.lu_factor(A)\n",
      "Pivoted LU decompositions\n",
      "scipy.sparse.linalg.splu(A)\n",
      "Pivoted LU decomposition \n",
      "scipy.sparse.linalg.spilu(A)\n",
      "Incomplete Pivoted LU decomposition \n",
      "Cholesky decomposition\n",
      "For a square, symmetric and positive definite matrix A, we can realize the matrix as the product A = U.T * U of an upper triangular matrix U with its transpose, or as the product A = L.T * L of a lower triangular matrix L with its transpose.  All the diagonal entries of U or L are strictly positive numbers.\n",
      "scipy.linalg.cholesky(A)\n",
      "Cholesky decomposition \n",
      "scipy.linalg.cholesky_banded(AB)\n",
      "Cholesky decomposition for Hermitian positive-definite banded matrices\n",
      "QR decomposition\n",
      "We can realize any matrix of size `m`-by-`n` as the product `A=Q*R` of a square  orthogonal matrix `Q` of size `m`-by-`m`, with an upper triangular matrix `R` of the same size as `A`.\n",
      "scipy.linalg.qr(A)\n",
      "QR decomposition of a matrix\n",
      "Singular Value decomposition\n",
      "We can realize any matrix A as the product A = U * D * V.H of a unitary matrix U with a diagonal matrix D (where all entries in the diagonal are positive numbers), and the Hermitian transpose of another unitary matrix V.  The values on the diagonal of D are called the singular values of A.\n",
      "scipy.linalg.svd(A)\n",
      "SVD decomposition\n",
      "scipy.linalg.svdvals(A)\n",
      "Singular values \n",
      "scipy.linalg.diagsvd(s, m, n)\n",
      "Diagonal matrix of an SVD, from singular values `s` and prescribed size\n",
      "scipy.sparse.linalg.svds(A)\n",
      "Largest k singular values/vectors of a sparse matrix\n",
      "Matrix Equations  \n",
      "In scipy we have robust algorithms to solve any matrix equation based on the following cases:\n",
      "* Given a square matrix A, and a right-hand side b (which can be a one-dimensional vector, or another matrix with the same number of rows as A), any of the basic systems \n",
      "o A * x = b\n",
      "o A.T * x = b \n",
      "o A.H * x = b\n",
      "* Given any matrix A (not necessarily square) and right-hand side vector/matrix b of appropriate size, the least squares solution to the equation A * x = b.  This is, finding a vector x that minimizes the Frobenius norm of the expression A * x - b.\n",
      "* For the same case as before, and an extra damping coefficient d, the regularized least squares solution to the equation A * x = b that minimizes the functional \n",
      "norm(A * x - b, 'f')**2 + d^2 * norm(x, 'f')**2.\n",
      "* Given square matrices A, B and a right-hand side matrix Q with appropriate sizes, the Sylvester system A * X + X * B = Q.\n",
      "* For a square matrix A and matrix Q of appropriate size, the Continuous Lyapunov equation A * X + X * A.H = Q.\n",
      "* For matrices A and Q as in the previous case, the Discrete Lyapunov equation X - A * X * A.H = Q.\n",
      "* Given square matrices A, Q, R and another matrix B with appropriate size, the Continuous Algebraic Riccati equation \n",
      "A.T * X + X * A - X * B * R.I * B.T * X + Q = 0\n",
      "* For matrices as in the previous case, the Discrete Algebraic Riccati equation \n",
      "X = A.T*X*A - (A.T*X*B)*(R+B.T*X*B).I*(B.T*X*A) + Q.\n",
      "In any case, mastering matrix equations with scipy basically means identifying the matrices involved, and choosing the most adequate algorithm in the libraries to perform the requested operations.  Besides being able to compute a solution with the least possible amount of roundoff error, we need to do so in the fastest possible way, and using as little memory resources as possible.\n",
      "Back and Forward Substitution\n",
      "Let us start with the easiest possible case: The basic system of linear equations A*x = b (or the other two variants), where A is a generic lower or upper triangular square matrix. In theory, these systems are easily solved by forward substitution (for lower triangular matrices) or back substitution (for upper).  In scipy, we accomplish this task with the function solve_triangular in the module scipy.linalg.\n",
      "For this initial example, we will construct A as a lower triangular Pascal matrix of size 1024-by-1024, where the non-zero values have been filtered: odd values are turned to ones, while even values are turned to zeros.  The right-hand side b is a vector with 1024 ones.\n",
      "In [1]: import numpy as np, \\\n",
      "   ...: scipy.linalg as spla, scipy.sparse as spsp, \\\n",
      "   ...: scipy.sparse.linalg as spspla\n",
      "In [2]: A = (spla.pascal(1024, kind='lower')%2 != 0)\n",
      "In [3]: %timeit spla.solve_triangular(A, np.ones(1024))\n",
      "10 loops, best of 3: 6.64 ms per loop\n",
      "To solve the other related systems that involve the matrix A, we employ the optional parameter trans (by default set to 0 or 'N', giving the basic system A * x = b).  If trans is set to  'T' or 1, we solve the system A.T * x = b instead.   If trans is set to  'C' or 2, we solve A.H * x = b instead.\n",
      "The function solve_triangular is a wrapper for the LAPACK function TRTRS.\n",
      "Basic Systems: Banded Matrices\n",
      "The next cases in terms of algorithm simplicity are those of basic systems A * x = b where A is a square banded matrix.  We use the routines solve_banded (for a generic banded matrix) or solveh_banded (for a generic real symmetric of complex Hermitian banded matrix). Both of them belong to the module scipy.linalg.\n",
      "The functions solve_banded and solveh_banded are wrappers for the LAPACK functions GBSV, and PBSV, respectively.\n",
      "Neither function accepts a matrix in the usual format.  For example, since solveh_banded expects a symmetric banded matrix, the function requires as input only the elements of the diagonals on and under/over the main diagonal, stored sequentially from top to bottom.  \n",
      "This input method is best explained through a concrete example.  Take the following symmetric banded matrix:\n",
      " 2 -1  0  0  0  0\n",
      "-1  2 -1  0  0  0\n",
      " 0 -1  2 -1  0  0\n",
      " 0  0 -1  2 -1  0\n",
      " 0  0  0 -1  2 -1\n",
      " 0  0  0  0 -1  2  \n",
      "The size of the matrix is 6-by-6, and there are only 3 non-zero diagonals, two of which are identical due to symmetry.  We collect the two relevant non-zero diagonals in an ndarray of size 2-by-6 in one of two ways, as follows:\n",
      "* If we decide to input the entries from the upper triangular matrix, we collect first the diagonals from top to bottom (ending in the main diagonal), right justified: \n",
      "* -1 -1 -1 -1 -1\n",
      "2  2  2  2  2  2\n",
      "* If we decide to input the entries from the lower triangular matrix, we collect the diagonals from top to bottom (starting from the main diagonal), left justified: \n",
      " 2  2  2  2  2  2\n",
      "-1 -1 -1 -1 -1  *\n",
      "In [4]: B_banded = np.zeros((2,6)); \\\n",
      "   ...: B_banded[0,1:] = -1; \\\n",
      "   ...: B_banded[1,:] = 2\n",
      "In [5]: spla.solveh_banded(B_banded, np.ones(6))\n",
      "Out[5]: array([ 3.,  5.,  6.,  6.,  5.,  3.])\n",
      "For a non-symmetric banded square matrix, we use solve_banded instead, and the input matrix also needs to be stored in this special way:\n",
      "* Count the number of non-zero diagonals under the main diagonal (set that to l).  Count the number of non-zero diagonals over the main diagonal (set that to u).  Set r = l + u + 1.\n",
      "* If the matrix has size n-by-n, create an ndarray with n columns, and r rows.  We refer to this storage as a matrix in AB form, or an AB matrix, for short.\n",
      "* Store in the AB matrix only the relevant non-zero diagonals, from top to bottom, in order.  Diagonals over the main diagonal are right justified; diagonals under the main diagonal are left justified.\n",
      "Let us illustrate this process with another example.  We input the following matrix:\n",
      " 2 -1  0  0  0  0\n",
      "-1  2 -1  0  0  0\n",
      " 3 -1  2 -1  0  0\n",
      " 0  3 -1  2 -1  0\n",
      " 0  0  3 -1  2 -1\n",
      " 0  0  0  3 -1  2 \n",
      "In [6]: C_banded = np.zeros((4,6)); \\\n",
      "   ...: C_banded[0,1:] = -1; \\\n",
      "   ...: C_banded[1,:] = 2; \\\n",
      "   ...: C_banded[2,:-1] = -1; \\\n",
      "   ...: C_banded[3,:-2] = 3; \\\n",
      "   ...: print C_banded\n",
      "[[ 0. -1. -1. -1. -1. -1.]\n",
      " [ 2.  2.  2.  2.  2.  2.]\n",
      " [-1. -1. -1. -1. -1.  0.]\n",
      " [ 3.  3.  3.  3.  0.  0.]]\n",
      "To call the solver, we need to input manually the number of diagonals over and under the diagonal, together with the AB matrix and the right-hand side of the system:\n",
      "In [7]: spla.solve_banded((2,1), C_banded, np.ones(6))\n",
      "Out[7]: \n",
      "array([ 0.86842105,  0.73684211, -0.39473684,  0.07894737,  \n",
      "        1.76315789,  1.26315789])\n",
      "Let us examine the optional parameters that we can include in the call of these two functions:\n",
      "l_and_u\n",
      "(int, int)\n",
      "Number of non-zero lower/upper diagonals\n",
      "AB\n",
      "Matrix in AB format\n",
      "A banded square matrix\n",
      "b\n",
      "ndarray\n",
      "Right-hand side\n",
      "overwrite_ab\n",
      "Boolean\n",
      "Discard data in AB\n",
      "overwrite_b\n",
      "Boolean\n",
      "Discard data in b\n",
      "check_finite\n",
      "Boolean\n",
      "Whether to check that input matrices contain finite numbers\n",
      "All the functions in the module scipy.linalg that require matrices as input, and output either a solution to a system of equations, or a factorization, have two optional parameters with which we need to familiarize: overwrite_x (for each matrix/vector in the input) and check_finite.  They are both Boolean.  \n",
      "The overwrite options are set to False by default.  If we do not care about retaining the values of the input matrices, we may use the same object in memory to perform operations, rather than creating another object with the same size in memory.  We gain speed and use fewer resources in that case.\n",
      "The check_finite option is set to True by default.  In the algorithms where present, there are optional checks for the integrity of the data.  If at a given moment any of the values is a (+/-)numpy.inf or a NaN, the process is halted, and an exception is raised.  We may turn this option off, thus resulting in much faster solutions, but the code might crash if the data is corrupted at any point in the computations.\n",
      "The function solveh_banded has an extra optional Boolean parameter, lower, initially set to False.  If set to True, we must input the lower triangular matrix of the target AB matrix instead of the upper one (with the same input convention as before.)\n",
      "Basic Systems: Generic Square Matrices\n",
      "For solutions of basic systems where A is a generic square matrix, a good idea is to factorize A so that some (or all) of the factors are triangular, and then apply back and forward substitution where appropriate.  This is the idea behind pivoted LU, and Cholesky decompositions.\n",
      "If the matrix A is real symmetric (or complex Hermitian) and positive definite, the optimal strategy goes through applying any of the two possible Cholesky decompositions A = U.H * U, or A = L * L.H with U and L upper/lower triangular matrices.\n",
      "For example, if we use the form with the upper triangular matrices, the solution of the basic system of equations A * x = b turns into U.H * U * x = b.  Set y = U * x and solve the system U.H * y = b for y by forward substitution.  We have now a new triangular system U * x = y that we solve for x, by back substitution.\n",
      "To perform the solution of such a system with this technique, we first compute the factorization using any of the functions cholesky, cho_factor or cholesky_banded.  The output is then used in the solver cho_solve.\n",
      "For Cholesky decompositions, the three relevant functions cholesky, cho_factor and cholesky_banded have a set of options similar to those of solveh_banded.  They admit an extra Boolean option lower (set by default to False) that decides whether to output a lower or an upper triangular factorization.  The function cholesky_banded requires a matrix in AB format as input.\n",
      "Let us test the Cholesky decomposition of the matrix B with all three methods:\n",
      "In [8]: B = spsp.diags([[-1]*5, [2]*6, [-1]*5], [-1,0,1]).todense()\n",
      "   ...: print B\n",
      "[[ 2. -1.  0.  0.  0.  0.]\n",
      " [-1.  2. -1.  0.  0.  0.]\n",
      " [ 0. -1.  2. -1.  0.  0.]\n",
      " [ 0.  0. -1.  2. -1.  0.]\n",
      " [ 0.  0.  0. -1.  2. -1.]\n",
      " [ 0.  0.  0.  0. -1.  2.]]\n",
      "In [9]: np.set_printoptions(suppress=True, precision=3)\n",
      "In [10]: print spla.cholesky(B)\n",
      "[[ 1.414 -0.707  0.     0.     0.     0.   ]\n",
      " [ 0.     1.225 -0.816  0.     0.     0.   ]\n",
      " [ 0.     0.     1.155 -0.866  0.     0.   ]\n",
      " [ 0.     0.     0.     1.118 -0.894  0.   ]\n",
      " [ 0.     0.     0.     0.     1.095 -0.913]\n",
      " [ 0.     0.     0.     0.     0.     1.08 ]]\n",
      "In [11]: print spla.cho_factor(B)[0]\n",
      "[[ 1.414 -0.707  0.     0.     0.     0.   ]\n",
      " [-1.     1.225 -0.816  0.     0.     0.   ]\n",
      " [ 0.    -1.     1.155 -0.866  0.     0.   ]\n",
      " [ 0.     0.    -1.     1.118 -0.894  0.   ]\n",
      " [ 0.     0.     0.    -1.     1.095 -0.913]\n",
      " [ 0.     0.     0.     0.    -1.     1.08 ]]\n",
      "In [12]: print spla.cholesky_banded(B_banded)\n",
      "[[ 0.    -0.707 -0.816 -0.866 -0.894 -0.913]\n",
      " [ 1.414  1.225  1.155  1.118  1.095  1.08 ]]\n",
      "The output of cho_factor is a tuple: the second element is the Boolean lower.  The first element is an ndarray representing a square matrix.  If lower is set to True, the lower triangular sub-matrix of this ndarray is L in the Cholesky factorization of A.  If lower is set to False, the upper triangular sub-matrix is U in the factorization of A.  The remaining elements in the matrix are random, instead of zeros, since they are not used by cho_solve.  In a similar way, we can call cho_solve_banded with the output of cho_banded to solve the appropriate system.\n",
      "Both cholesky and cho_factor are wrappers to the same LAPACK function POTRF, with different output options. cholesky_banded calls PBTRF.  The function cho_solve is a wrapper for POTRS, and cho_solve_banded calls PBTRS.\n",
      "We are then ready to solve the system, with either of the two options:\n",
      "In [13]: spla.cho_solve((spla.cholesky(B), False), np.ones(6))\n",
      "Out[13]: array([ 3.,  5.,  6.,  6.,  5.,  3.])\n",
      "In [13]: spla.cho_solve(spla.cho_factor(B), np.ones(6))\n",
      "Out[13]: array([ 3.,  5.,  6.,  6.,  5.,  3.])\n",
      "For any other kind of generic square matrix A, the next-best method to solve the basic system A * x = b is by Pivoted LU factorization.  This is equivalent to finding a permutation matrix P, and triangular matrices U (upper) and L (lower) so that \n",
      "P * A = L * U.  In that case, a permutation of the rows in the system according to P gives the equivalent equation (P * A) * x = P * b.  Set c = P * b, y = U * x, and solve for y in the system L * y = c using forward substitution.  Then solve for x in the system U * x = y with back substitution.\n",
      "The relevant functions to perform this operation are lu, lu_factor (for factorization), and lu_solve (for solution) in the module scipy.linalg.  For sparse matrices we have splu, and spilu, in the module scipy.sparse.linalg.\n",
      "Let us start experimenting with factorizations first.  We use a large circulant matrix (non-symmetric) for this example:\n",
      "In [14]: D = spla.circulant(np.arange(4096))\n",
      "In [15]: %timeit spla.lu(D)\n",
      "1 loops, best of 3: 7.04 s per loop\n",
      "In [16]: %timeit spla.lu_factor(D)\n",
      "1 loops, best of 3: 5.48 s per loop\n",
      "The function lu_factor is a wrapper to all *GETRF routines from LAPACK.  The function lu_solve is a wrapper for GETRS.\n",
      "The function lu has an extra Boolean option: permute_l (set to False by default).  If set to True, the function outputs only two matrices: PL = P * L (the properly permuted lower triangular matrix), and U.  Otherwise, the output is the triple P, L, U, in that order.\n",
      "In [17]: P, L, U = spla.lu(D)\n",
      "In [17]: PL, U = spla.lu(D, permute_l=True)\n",
      "The outputs of the function lu_factor are resource-efficient: We obtain a matrix LU, with upper triangle U, and lower triangle L.  We also obtain a one-dimensional ndarray of integer dtype, piv, indicating the pivot indices representing the permutation matrix P.\n",
      "In [18]: LU, piv = spla.lu_factor(D)\n",
      "The solver lu_solve takes the two outputs from lu_factor, a right-hand side b, and the optional indicator trans to the kind of basic system to solve.\n",
      "In [19]: spla.lu_solve(spla.lu_factor(D), np.ones(4096))\n",
      "Out[19]: array([ 0.,  0.,  0., ...,  0.,  0.,  0.])\n",
      "At this point we must comment on the general function solve in the module scipy.linalg:  It is a wrapper to both LAPACK functions POSV and GESV.  It allows us to input the matrix A, right-hand side b, and indicate whether A is symmetric and positive-definite.  In any case, the routine internally decides which of the two factorizations to use (Cholesky or Pivoted LU), and computes a solution accordingly.\n",
      "For large sparse matrices, provided they are stored in CSC format, Pivoted LU decomposition is more efficiently performed with either functions splu or spilu from the module scipy.sparse.linalg. Both functions use the SuperLU library directly.  Their output is not a set of matrices, but a python object \n",
      "scipy.sparse.linalg.dsolve._superlu.SciPyLUType`.  \n",
      "This object has four attributes and one instance method:\n",
      "* shape: A 2-tuple containing the shape of matrix A.\n",
      "* nnz: The number of non-zero entries of the matrix A.\n",
      "* perm_c, perm_r: The permutations applied to the columns and rows (respectively) to the matrix A to obtain the computed LU decomposition.\n",
      "* solve: An instance method that converts the object into a function object.solve(b,trans) accepting an ndarray b, and the optional description string trans.\n",
      "The big idea is that, dealing with large amounts of data, the actual matrices in the LU decomposition are not as important as the main application behind the factorization: the solution of the system.  All the relevant information to perform this operation is optimally stored in the object's method solve.\n",
      "The main difference between splu and spilu is that the latter computes an incomplete decomposition.  With it, we can obtain really good approximations to the inverse of the matrix A, and use matrix multiplication to compute the solution of large systems, in a fraction of the time it would take to calculate the actual solution.\n",
      "The usage of these two functions is rather complex: The purpose is to compute a factorization of the form Pr*Dr*A*Dc*Pc = L*U with diagonal matrices Dr and Dc, and permutation matrices Pr and Pc. The idea is to equilibrate the matrix A manually, so that the product B = Dr*A*Dc is better conditioned than A.  In case of the possibility of solving this problem in a parallel architecture, we are allowed to help by rearranging the rows and columns optimally.  The permutation matrices Pr and Pc are then manually input to pre-order the rows and columns of B.  All of these options can be fed to either splu or spilu.\n",
      "The algorithm exploits the idea of relaxing supernodes to reduce inefficient indirect addressing and symbolic time (besides permitting the use of higher level BLAS operations).  We are given the option to determine the degree of these objects, to tailor the algorithm to the matrix at hand.\n",
      "For a complete explanation of the algorithms and all the different options, the best reference is SuperLU User's Guide, which can be found online at\n",
      "crd-legacy.lbl.gov/~xiaoye/SuperLU/superlu_ug.pdf\n",
      "Let us illustrate with a simple example, where permutation of rows or columns are not needed:  From a large lower triangular Pascal matrix, turn to zero all the even-valued entries, and to ones all the odd-valued entries.  Use this as the matrix A.  For the right-hand side, use a vector of ones.\n",
      "In [20]: A_csc = spsp.csc_matrix(A, dtype=np.float64)   \n",
      "In [21]: invA = spspla.splu(A_csc)\n",
      "In [22]: %time invA.solve(np.ones(1024))\n",
      "CPU times: user: 4.32 ms, sys: 105 \u00b5s, total: 4.42 ms\n",
      "Wall time: 4.44 ms\n",
      "Out[22]: array([ 1., -0.,  0., ..., -0.,  0.,  0.])\n",
      "In [23]: invA = spspla.spilu(A_csc)\n",
      "In [24]: %time invA.solve(np.ones(1024))\n",
      "CPU times: user 656 \u00b5s, sys: 22 \u00b5s, total: 678 \u00b5s\n",
      "Wall time: 678 \u00b5s\n",
      "Out[24]: array([ 1.,  0.,  0., ...,  0.,  0.,  0.])  \n",
      "Compare the time of execution of the procedures on sparse matrices, with the initial solve_triangular procedure on the corresponding matrix A at the beginning of the section.  Which process is faster?\n",
      "But in general, if a basic system must be solved and the matrix A is large and sparse, we prefer to use iterative methods with fast convergence to the actual solutions.  When they converge, they are consistently less sensitive to rounding errors, and thus more suitable when the number of computations is extremely high.\n",
      "In the module scipy.sparse.linalg, we have eight different iterative methods, all of which accept as parameters the following:\n",
      "* Matrix A in any format (matrix, ndarray, sparse matrix or even a linear operator!), and right-hand side vector/matrix b as an ndarray.\n",
      "* Initial guess x0, as an ndarray.\n",
      "* Tolerance tol, a floating point number.  If the difference of successive iterations is less than this value, the code stops and the last computed values are output as solution.\n",
      "* Maximum number of iterations allowed, maxiter, an integer.\n",
      "* A preconditioner sparse matrix M that should approximate the inverse of A.\n",
      "* A callback function of the current solution vector xk, called after each iteration.\n",
      "bicg\n",
      "Biconjugate Gradient Iteration\n",
      "bicgstab\n",
      "Biconjugate Gradient Stabilized Iteration\n",
      "cg\n",
      "Conjugate Gradient Iteration\n",
      "cgs\n",
      "Conjugate Gradient Squared Iteration\n",
      "gmres\n",
      "Generalized Minimal Residual Iteration\n",
      "lgmres\n",
      "LGMRES Iteration\n",
      "minres\n",
      "Minimum Residual Iteration\n",
      "qmr\n",
      "Quasi-minimal Residual Iteration\n",
      "\n",
      "Choosing the right iterative method, a good initial guess, and especially a successful preconditioner is an art in itself.  It involves learning about topics such as operators in Functional Analysis, or Krylov subspace methods, which are far beyond the scope of this book.   At this point we are content with showing a few simple examples for comparison.\n",
      "In [25]: spspla.cg(A_csc, np.ones(1024), x0=np.zeros(1024))\n",
      "Out[25]: (array([ nan,  nan,  nan, ...,  nan,  nan,  nan]), 1)\n",
      "In [26]: %time spspla.gmres(A_csc, np.ones(1024), x0=np.zeros(1024))\n",
      "CPU times: user 4.26 ms, sys: 712 \u00b5s, total: 4.97 ms\n",
      "Wall time: 4.45 ms\n",
      "Out[26]: (array([ 1.,  0.,  0., ..., -0., -0.,  0.]), 0)\n",
      "In [27]: Nsteps = 1\n",
      "   ....: def callbackF(xk):\n",
      "   ....:     global Nsteps\n",
      "   ....:     print'{0:4d}  {1:3.6f}  {2:3.6f}'.format(Nsteps, \\\n",
      "   ....:     xk[0],xk[1])\n",
      "   ....:     Nsteps += 1\n",
      "   ....:\n",
      "In [28]: print '{0:4s}  {1:9s}  {1:9s}'format('Iter', \\\n",
      "   ....: 'X[0]','X[1]'); \\\n",
      "   ....: spspla.bicg(A_csc, np.ones(1024), x0=np.zeros(1024), \\\n",
      "   ....: callback=callbackF)\n",
      "Iter  X[0]       X[1]\n",
      "   1  0.017342  0.017342\n",
      "   2  0.094680  0.090065\n",
      "   3  0.258063  0.217858\n",
      "   4  0.482973  0.328061\n",
      "   5  0.705223  0.337023\n",
      "   6  0.867614  0.242590\n",
      "   7  0.955244  0.121250\n",
      "   8  0.989338  0.040278\n",
      "   9  0.998409  0.008022\n",
      "  10  0.999888  0.000727\n",
      "  11  1.000000  -0.000000\n",
      "  12  1.000000  -0.000000\n",
      "  13  1.000000  -0.000000\n",
      "  14  1.000000  -0.000000\n",
      "  15  1.000000  -0.000000\n",
      "  16  1.000000  0.000000\n",
      "  17  1.000000  0.000000\n",
      "Out[28]: (array([ 1.,  0.,  0., ...,  0.,  0., -0.]), 0)\n",
      "Least Squares\n",
      "Given a generic matrix A (not necessarily square) and a right-hand side vector/matrix b, we look for a vector/matrix x such that the Frobenius norm of the expression A * x - b is minimized.  \n",
      "The main three methods to solve this problem numerically are contemplated in scipy:\n",
      "* Normal equations.\n",
      "* QR factorization\n",
      "* Singular Value Decomposition.\n",
      "Normal equations reduces the least square problem to solving a basic system of linear equations, with a symmetric (not-necessarily positive-definite) matrix.  It is very fast, but can be inaccurate due to presence of roundoff error.  Basically, it amounts to solving the system (A.H * A) * x = A.H * b.  This is equivalent to solving \n",
      "x = (A.H * A).I * A.H * b = pinv(A) * b.\n",
      "Let us show by example:\n",
      "In [29]: E = D[:512,:256]; b = np.ones(512)\n",
      "In [30]: sol1 = np.dot(spla.pinv2(E), b)\n",
      "In [31]: sol2 = spla.solve(np.dot(F.T, F), np.dot(F.T, b))\n",
      "The QR factorization turns any matrix into the product A = Q * R of an orthogonal/unitary matrix Q with a square upper triangular matrix R.  This allows us to solve without the need to invert any matrix (since Q.H = Q.I), and thus, A * x = b turns into R * x = Q.H * b, easily solvable by back substitution.  Note that the two methods below are equivalent, since the mode economic reports the sub-matrices of maximum rank.\n",
      "In [32]: Q, R = spla.qr(E); \\\n",
      "   ....: RR = R[:256, :256]; BB = np.dot(Q.T, b)[:256]; \\\n",
      "   ....: sol3 = spla.solve_triangular(RR, BB)\n",
      "In [32]: Q, R = spla.qr(E, mode='economic'); \\\n",
      "   ....: sol3 = spla.solve_triangular(R, np.dot(Q.T, b))\n",
      "Both methods of Normal Equations and QR factorization work fast and are reliable only when the rank of A is full.  If this is not the case, we must use singular value decomposition: A = U * D * V.H with unitary matrices U, V and a diagonal matrix D where all the entries in the diagonal are positive values.  This allows a fast solution \n",
      "x = V * D.I * U.H * b.\n",
      "Note tat the two methods below are equivalent, since the option full_matrices set to False reports the sub-matrices of minimum possible size:\n",
      "In [33]: U, s, Vh = spla.svd(E); \\\n",
      "   ....: Uh = U.T; Si = spla.diagsvd(1./s, 256, 256); V = Vh.T; \\\n",
      "   ....: sol4 = np.dot(V, Si).dot(np.dot(Uh, b)[:256])   \n",
      "In [33]: U, s, Vh = spla.svd(E, full_matrices=False); \n",
      "   ....: Uh = U.T; Si = spla.diagsvd(1./s, 256, 256); V = Vh.T; \\\n",
      "   ....: sol4 = np.dot(V, Si).dot(np.dot(Uh, b))\n",
      "The module scipy.linalg has one function that actually performs least squares with the SVD method: lstsq.  There is no need to manually transpose, invert and multiply all the required matrices.  It is a wrapper to the LAPACK function GELSS.  It outputs the desired solution, together with the residues of computation, the effective rank, and the singular values of the input matrix A.\n",
      "In [34]: sol5, residue, rank, s = spla.lstsq(E, b)\n",
      "Note how all the computations we have carried offer solutions that are very close to each other (if not equal!):\n",
      "In [35]: map( lambda x: np.allclose(sol5, x), \\\n",
      "   ....: [sol1, sol2, sol3, sol4])\n",
      "Out[35]: [True, True, True, True]\n",
      "Regularized Least Squares\n",
      "The module scipy.sparse.linalg has two iterative methods for least squares in the context of large sparse matrices: lsqr and lsmr, which allow a more generalized version with a damping factor d for regularization.  We seek to minimize the functional \n",
      "norm(A * x - b, 'f')**2 + d^2 * norm(x, 'f')**2`.  \n",
      "The usage and parameters are very similar to the iterative functions we studied before.\n",
      "Other Matrix Equation Solvers\n",
      "The rest of matrix equation solvers are summarized in the following table.  None of these routines enjoy any parameters to play around with performance, memory management, or check for integrity of data.\n",
      "solve_sylvester(A, B, Q)\n",
      "Sylvester Equation\n",
      "solve_continuous_are(A, B, Q, R)\n",
      "Continuous Algebraic Riccati Equation\n",
      "solve_discrete_are(A, B, Q, R)\n",
      "Discrete Algebraic Riccati Equation\n",
      "solve_lyapunov(A, Q)\n",
      "Continuous Lyapunov Equation\n",
      "solve_discrete_lyapunov(A, Q)\n",
      "Discrete Lyapunov Equation\n",
      "Matrix Factorizations based on Eigenvalues\n",
      "In this category, we have two kinds of factorizations on square matrices: Spectral and Schur decompositions (although, technically, a spectral decomposition is a special case of Schur decomposition).  The objective of both is initially to present eigenvalues of one or several matrices simultaneously, although they have quite different applications.  \n",
      "Spectral decomposition\n",
      "We consider four cases:\n",
      "* Given a square matrix A, we seek all vectors v (right eigenvectors) that satisfy A*v=m*v for some real or complex value m (the corresponding eigenvalues).  If all eigenvectors are different, we collect them as the columns of a matrix V (that happens to be invertible).  Their corresponding eigenvalues are stored in the same order as the diagonal entries of a diagonal matrix D.  We can then realize A as the product A = V*D*V.I.  We refer to this decomposition as an ordinary eigenvalue problem.\n",
      "* Given a square matrix A, we seek all vectors v (left eigenvectors) that satisfy v*A=m*v for the eigenvalues m. As before, if all eigenvectors are different, they are collected in a matrix V; their corresponding eigenvalues are collected in the diagonal matrix D. The matrix A can then be decomposed as the product A = V*D*V.I.  We also refer to this factorization as an ordinary eigenvalue problem.  The eigenvalues are the same as in the previous case.\n",
      "* Given square matrices A and B with the same size, we seek all vectors v (generalized right eigenvectors) that satisfy m*A*v=n*B*v for some real or complex values m and n.  The ratios r=n/m, when they are computable, are called generalized eigenvalues.  The eigenvectors are collected as columns of a matrix V, and their corresponding generalized eigenvalues r collected in a diagonal matrix D.  We can then realize the relation between A and B by the identity A = B*V*D*V.I. We refer to this identity as a generalized eigenvalue problem.\n",
      "* For the same case as before, if we seek vectors v (generalized left eigenvectors) and values m, n that satisfy m*v*A=n*v*B, we have then another similar decomposition. We again refer to this factorization as a generalized eigenvalue problem.\n",
      "The following functions in the modules scipy.linalg and scipy.sparse.linalg help us compute eigenvalues and eigenvectors:\n",
      "scipy.linear.eig(A[, B])\n",
      "Ordinary/generalized eigenvalue problem\n",
      "scipy.linalg.eigvals(A[, B])\n",
      "Eigenvalues for ordinary/generalized eigenvalue problem\n",
      "scipy.linalg.eigh(A[, B])\n",
      "Ordinary/generalized eigenvalue problem. Hermitian/symmetric matrix\n",
      "scipy.linalg.eigvalsh(A[, B])\n",
      "Eigenvalues for ordinary/generalized eigenvalue problem. Hermitian/symmetric matrix\n",
      "scipy.linalg.eig_banded(AB)\n",
      "Ordinary eigenvalue problem Hermitian/symmetric band matrix\n",
      "scipy.linalg.eigvals_banded(AB)\n",
      "Eigenvalues for ordinary eigenvalue problem.  Hermitian/symmetric band matrix\n",
      "scipy.sparse.linalg.eigs(A, k)\n",
      "Find k eigenvalues and eigenvectors \n",
      "scipy.sparse.linalg.eigsh(A, k)\n",
      "Find k eigenvalues and eigenvectors.  Real symmetric matrix\n",
      "scipy.sparse.linalg.lobpcg(A, X)\n",
      "Ordinary/generalized eigenvalue problem with optional preconditioning. A symmetric\n",
      "\n",
      "For any kind of eigenvalue problem where the matrices are not symmetric or banded, we use the function eig, which is a wrapper for the LAPACK routines GEEV and GGEV (the latter for generalized eigenvalue problems).  The function eigvals is syntactic sugar for a case of eig that only outputs the eigenvalues, but not the eigenvectors.  To report whether we require left of right eigenvectors, we use the optional Boolean parameters left and right.  By default, left is set to False and right to True, hence offering right eigenvectors.\n",
      "For eigenvalue problems with non-banded real symmetric or Hermitian matrices, we use the function eigh, which is a wrapper for the LAPACK routines: *EVR, *GVD, and *GV. We are given the choice to output as many eigenvalues as we want, with the optional parameter eigvals.  This is a tuple of integers that indicate the indices of the lowest and highest eigenvalues required.  If omitted, all eigenvalues are returned.  And in that case, it is possible to perform the computation with a much faster algorithm based on divide and conquer.  We may indicate that choice with the optional Boolean parameter turbo (by default set to False).\n",
      "If we desire to report only eigenvalues, we can set the optional parameter eigvals_only to True, or use instead the corresponding syntactic sugar eighvals.\n",
      "The last case we contemplate in the scipy.linalg module is that of the eigenvalue problem of a banded real symmetric or Hermitian matrix.  We use then the function eig_banded, making sure that the input matrices are in AB format.  This function is a wrapper for the LAPACK routines *EVX.\n",
      "For extremely large matrices, the computation of eigenvalues is often computationally impossible.  If these large matrices are sparse, it is possible to calculate a few eigenvalues with two iterative algorithms: the Implicitly Restarted Arnoldi, and the Implicitly Restarted Lanczos methods (the latter for symmetric or Hermitian matrices).  The module scipy.sparse.linalg has two functions, eigs and eigsh, which are wrappers to the ARPACK routines *EUPD that perform them.  We also have the function lobpcg that performs another iterative algorithm, the Locally Optimal Block Preconditioned Conjugate Gradient Method.  This function accepts a preconditioner, and has thus the potential to converge more rapidly to the desired eigenvalues.\n",
      "We will illustrate the usage of all these functions with an interesting matrix: Andrews.  It was created in 2003 precisely to benchmark memory-efficient algorithms for eigenvalue problems.  It is a real symmetric sparse matrix with size 60,000-by-60,000 and 760,154 non-zero entries.  It can be downloaded from the Sparse Matrix Collection at www.cise.ufl.edu/research/sparse/matrices/Andrews/Andrews.html.\n",
      "For this example, we downloaded the matrix in Matrix Market format: Andrews.mtx.  Note that the matrix is symmetric, and the file only provide data on are below the main diagonal.  After collecting all this information, we make sure to populate the upper triangle too.\n",
      "In [1]: import numpy as np, scipy.sparse as spsp, \\\n",
      "   ...: scipy.sparse.linalg as spspla\n",
      "In [2]: np.set_printoptions(suppress=True, precision=6)\n",
      "In [3]: rows, cols, data = np.loadtxt(\"Andrews.mtx\", skiprows=14, \\\n",
      "   ...: unpack=True); rows-=1; cols-=1\n",
      "In [4]: A = spsp.csc_matrix((data, (rows, cols)), \\\n",
      "   ...: shape=(60000,60000)); A = A + spsp.tril(A, k=1).transpose()\n",
      "We compute first the top largest five eigenvalues in absolute value.  We call the function eigsh, with the option which='LM'.\n",
      "In [5]: %time eigvals, v = spspla.eigsh(A, 5, which='LM')\n",
      "CPU times: user 3.59 s, sys: 104 ms, total: 3.69 s\n",
      "Wall time: 3.13 s\n",
      "In [6]: print eigvals\n",
      "[ 69.202683  69.645958  70.801108  70.815224  70.830983]\n",
      "We may compute the smallest eigenvalues in absolute value too, by switching to the option which='SM'.  \n",
      "In [7]: %time eigvals, v = spspla.eigsh(A, 5, which='SM')\n",
      "CPU times: user 19.3 s, sys: 532 ms, total: 19.8 s\n",
      "Wall time: 16.7 s\n",
      "In [8]: print eigvals\n",
      "[ 10.565523  10.663114  10.725135  10.752737  10.774503]\n",
      "The routines in ARPACK are not that efficient at finding small eigenvalues.  It is usually preferred to apply the shift-invert mode in this case for better performance.  For information about this procedure, read the description in www.caam.rice.edu/software/ARPACK/UG/node33.html , or the article by R. B. Lehoucq, D. C. Sorensen, and C. Yang, \"ARPACK USERS GUIDE: Solution of Large Scale Eigenvalue Problems by Implicitly Restarted Arnoldi Methods.\" SIAM, Philadelphia, PA, 1998.\n",
      "The function eigsh allows us to perform shift-invert mode by indicating a value close to the required eigenvalues.  If we have a good guess, as offered by the previous step, we may apply this procedure with the option sigma, and a strategy with the option mode.  In this case, we also need to provide a linear operator instead of a matrix.  The time of execution is much slower, but the results are much more precise in general (although the given example would not suggest so!).\n",
      "In [9]: A = spspla.aslinearoperator(A)\n",
      "In [10]: %time spspla.eigsh(A, 5, sigma=10.0, mode='cayley')\n",
      "CPU times: user 2min 5s, sys: 916 ms, total: 2min 6s\n",
      "Wall time: 2min 6s\n",
      "In [11]: print eigvals\n",
      "[ 10.565523  10.663114  10.725135  10.752737  10.774503]\n",
      "Schur decomposition\n",
      "There are four cases:\n",
      "* Complex Schur decomposition for a square matrix A with complex coefficients: We can realize A as the product A = U*T*U.H of a unitary matrix U with an upper triangular matrix T, and the Hermitian transpose of U.  We call T the complex Schur form of A.  The entries in the diagonal of T are the eigenvalues of A.\n",
      "* Real Schur decomposition for a square matrix A with real coefficients.  If all the eigenvalues of the matrix are real valued, then we may realize the matrix as the product A = V*S*V.T of an orthonormal matrix V with a block-upper triangular matrix S, and the transpose of V.  The blocks in S are either of size 1-by-1 or 2-by-2.  If the block is 1-by-1, the value is one of the real eigenvalues of A.  Any 2-by-2 block represents a pair of complex conjugate eigenvalues of A.  We call S the real Schur form of A.\n",
      "* Complex Generalized Schur decomposition of two square matrices A and B.  We can simultaneously factorize them both in the form A = Q*S*Z.H and B = Q*T*Z.H with the same unitary matrices Q and Z.  The matrices S and T are both upper triangular, and the ratios of their diagonal elements are precisely the generalized eigenvalues of A and B.\n",
      "* Real Generalized Schur decomposition of two real-valued square matrices A and B.  Simultaneous factorization of both can be achieved in the form A = Q*S*Z.T and B = Q*T*Z.T for the same orthogonal matrices Q and Z.  The matrices S and T are block-upper triangular, with blocks of size 1-by-1 and 2-by-2.  With the aid of these blocks, we can find the generalized eigenvalues of A and B.\n",
      "There are four functions in the module scipy.linalg that provide us with tools to compute any of these decompositions.\n",
      "scipy.linalg.schur(A)\n",
      "Schur decomposition of a matrix\n",
      "scipy.linalg.rsf2csf(T, Z)\n",
      "Convert real Schur form to complex Schur form\n",
      "scipy.linalg.qz(A, B)\n",
      "Generalized Schur decomposition of two matrices\n",
      "scipy.linalg.hessenberg(A)\n",
      "Hessenberg form of a matrix\n",
      "\n",
      "The function hessenberg gives us the first step in the computation of any Schur decomposition.  This is a factorization of any square matrix A in the form A = Q * U * Q.H, where Q is unitary, and U is an upper Hessenberg matrix (all entries are zero below the sub-diagonal).   The algorithm is based on the combination of the LAPACK routines GEHRD, GEBAL (to compute U), and the BLAS routines GER, GEMM (to compute Q).\n",
      "The functions schur and qz are wrappers to the LAPACK routines GEES and GGES, to compute the normal and generalized Schur decompositions (respectively) of square matrices.  The way we choose whether to report complex or real decompositions is with the optional parameter output (which we set to 'real' or 'complex').  We also have the possibility of sorting the eigenvalues in the matrix representation.  We do so with the optional parameter sort, with the following possibilities:\n",
      "* None: If we do not require any sorting.  This is the default.\n",
      "* 'lhp': In the left-hand plane.  \n",
      "* 'rhp': In the right-hand plane\n",
      "* 'iuc': Inside the unit circle\n",
      "* 'ouc': Outside the unit circle\n",
      "* func: Any callable function func can be used to provide the users with their own sorting.\n",
      "Summary\n",
      "We have explored in this chapter the basic principles of Numerical Linear Algebra, the core of all procedures in Scientific Computing.  The emphasis was first placed in storage and basic manipulation of matrices and linear operators.  We explored in detail all different factorizations, focusing on their usage to solution of matrix equations, or eigenvalue problems.  All through the chapter, we made a point of linking the functions from the modules scipy.linalg and scipy.sparse to their corresponding routines in the libraries BLAS, LAPACK, ARPACK and SuperLU.  For our experiments, we always chose interesting matrices from real-life problems that we gathered from the extensive Sparse Matrix Collection hosted by the University of Florida.\n",
      "In the next chapter, we will master approximations, interpolations and extrapolations.\n",
      "24\n",
      "\n",
      "\n",
      "\n",
      "\n",
      "25"
     ]
    }
   ],
   "metadata": {}
  }
 ]
}