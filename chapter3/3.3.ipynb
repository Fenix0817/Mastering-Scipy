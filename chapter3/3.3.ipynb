{
 "cells": [
  {
   "cell_type": "markdown",
   "metadata": {},
   "source": [
    "## Integration \n",
    "\n",
    "The definite integral of a polynomial function on a finite domain $[a,b]$ can be computed very accurately via the _Fundamental Theorem of Calculus_, through the module `numpy.polynomial`.  For instance, to calculate the integral of the polynomial $p(x) = x^5$ on the interval $[-1,1]$, we could issue:\n"
   ]
  },
  {
   "cell_type": "code",
   "execution_count": null,
   "metadata": {
    "collapsed": false
   },
   "outputs": [],
   "source": [
    "import numpy as np\n",
    "\n",
    "p = np.poly1d([1,0,0,0,0,0])\n",
    "print p\n",
    "print p.integ()\n",
    "\n",
    "p.integ()(1.0) - p.integ()(-1.0)"
   ]
  },
  {
   "cell_type": "code",
   "execution_count": null,
   "metadata": {
    "collapsed": false
   },
   "outputs": [],
   "source": [
    "from sympy import integrate, symbols\n",
    "\n",
    "x, y = symbols('x y', real=True)\n",
    "\n",
    "print integrate(x**5, x)\n",
    "\n",
    "print integrate(x**5, (x, -1, 1))"
   ]
  },
  {
   "cell_type": "markdown",
   "metadata": {},
   "source": [
    "Let us try something more complicated.  The definite integral of $f(x) = e^{-x}  sin(x)$ on the interval $[0,1]$:"
   ]
  },
  {
   "cell_type": "code",
   "execution_count": null,
   "metadata": {
    "collapsed": false
   },
   "outputs": [],
   "source": [
    "from sympy import N, exp as Exp, sin as Sin\n",
    "\n",
    "print integrate(Exp(-x) * Sin(x), x)\n",
    "\n",
    "print integrate(Exp(-x) * Sin(x), (x, 0, 1))\n",
    "\n",
    "print N(_)"
   ]
  },
  {
   "cell_type": "code",
   "execution_count": null,
   "metadata": {
    "collapsed": false
   },
   "outputs": [],
   "source": [
    "print integrate(Sin(x) / x, x)\n",
    "\n",
    "print integrate(Sin(x) / x, (x, 0, 1))\n",
    "\n",
    "print N(_)\n",
    "\n",
    "print integrate(x**(1/x), (x, 0, 1))"
   ]
  },
  {
   "cell_type": "code",
   "execution_count": null,
   "metadata": {
    "collapsed": false
   },
   "outputs": [],
   "source": [
    "from sympy import oo\n",
    "\n",
    "integrate(Exp(-x**2), (x,0,+oo))"
   ]
  },
  {
   "cell_type": "code",
   "execution_count": null,
   "metadata": {
    "collapsed": false
   },
   "outputs": [],
   "source": [
    "integrate(Exp(-x**2-y**2), (x, -oo, +oo), (y, -oo, +oo))"
   ]
  },
  {
   "cell_type": "code",
   "execution_count": null,
   "metadata": {
    "collapsed": false
   },
   "outputs": [],
   "source": [
    "print integrate(Sin(x)**Sin(x), x)\n",
    "\n",
    "print integrate(Sin(x)**Sin(x), (x, 0, 1))"
   ]
  },
  {
   "cell_type": "code",
   "execution_count": null,
   "metadata": {
    "collapsed": false
   },
   "outputs": [],
   "source": [
    "from scipy.integrate import cumtrapz, simps\n",
    "\n",
    "def f(x): return x**5\n",
    "\n",
    "nodes = np.linspace(-1, 1, 100)\n",
    "\n",
    "print simps(f(nodes), nodes)\n",
    "\n",
    "print cumtrapz(f(nodes), nodes)"
   ]
  },
  {
   "cell_type": "code",
   "execution_count": null,
   "metadata": {
    "collapsed": false
   },
   "outputs": [],
   "source": [
    "cumtrapz(f(nodes), nodes)[-1]"
   ]
  },
  {
   "cell_type": "code",
   "execution_count": null,
   "metadata": {
    "collapsed": false
   },
   "outputs": [],
   "source": [
    "from scipy.integrate import newton_cotes\n",
    "\n",
    "coefficients, absolute_error = newton_cotes(3, equal=True)\n",
    "nodes = np.linspace(-1, 1, 4)\n",
    "print coefficients"
   ]
  },
  {
   "cell_type": "code",
   "execution_count": null,
   "metadata": {
    "collapsed": false
   },
   "outputs": [],
   "source": [
    "integral = (coefficients * f(nodes)).sum()\n",
    "print integral"
   ]
  },
  {
   "cell_type": "code",
   "execution_count": null,
   "metadata": {
    "collapsed": false
   },
   "outputs": [],
   "source": [
    "from math import fsum\n",
    "\n",
    "integral = fsum(coefficients * f(nodes))\n",
    "print integral"
   ]
  },
  {
   "cell_type": "code",
   "execution_count": null,
   "metadata": {
    "collapsed": false
   },
   "outputs": [],
   "source": [
    "from scipy.integrate import romb\n",
    "\n",
    "nodes = np.linspace(-1, 1, 65)\n",
    "\n",
    "romb(f(nodes), dx=1./32)"
   ]
  },
  {
   "cell_type": "code",
   "execution_count": null,
   "metadata": {
    "collapsed": false
   },
   "outputs": [],
   "source": [
    "romb(f(nodes), dx=1./32, show=True)"
   ]
  },
  {
   "cell_type": "code",
   "execution_count": null,
   "metadata": {
    "collapsed": false
   },
   "outputs": [],
   "source": [
    "from scipy.integrate import romberg\n",
    "\n",
    "romberg(f, -1, 1, show=True)"
   ]
  },
  {
   "cell_type": "code",
   "execution_count": null,
   "metadata": {
    "collapsed": false
   },
   "outputs": [],
   "source": [
    "from scipy.integrate import quadrature, fixed_quad\n",
    "\n",
    "value, absolute_error = quadrature(f, -1, 1, tol=1.49e-8)\n",
    "print value"
   ]
  },
  {
   "cell_type": "code",
   "execution_count": null,
   "metadata": {
    "collapsed": false
   },
   "outputs": [],
   "source": [
    "value, absolute_error = fixed_quad(f, -1, 1, n=4)\n",
    "print value                                     # four nodes"
   ]
  },
  {
   "cell_type": "code",
   "execution_count": null,
   "metadata": {
    "collapsed": false
   },
   "outputs": [],
   "source": [
    "from scipy.integrate import quad\n",
    "\n",
    "value, absolute_error = quad(f, -1, 1)\n",
    "print value"
   ]
  },
  {
   "cell_type": "code",
   "execution_count": null,
   "metadata": {
    "collapsed": false
   },
   "outputs": [],
   "source": [
    "value, absolute_error, info = quad(f, -1, 1, full_output=True)\n",
    "\n",
    "info.keys()"
   ]
  },
  {
   "cell_type": "code",
   "execution_count": null,
   "metadata": {
    "collapsed": false
   },
   "outputs": [],
   "source": [
    "print \"{0} function evaluations\".format(info['neval'])\n",
    "\n",
    "print \"Domain broken into {0} subintervals\".format(info['last'])"
   ]
  },
  {
   "cell_type": "code",
   "execution_count": null,
   "metadata": {
    "collapsed": false
   },
   "outputs": [],
   "source": [
    "np.set_printoptions(precision=2, suppress=True)\n",
    "\n",
    "print info['rlist']  # integral approximations on the subintervals"
   ]
  },
  {
   "cell_type": "code",
   "execution_count": null,
   "metadata": {
    "collapsed": false
   },
   "outputs": [],
   "source": [
    "print info['elist']  # absolute error estimates on the subintervals"
   ]
  },
  {
   "cell_type": "code",
   "execution_count": null,
   "metadata": {
    "collapsed": false
   },
   "outputs": [],
   "source": [
    "print info['alist']   # left end points of the subintervals "
   ]
  },
  {
   "cell_type": "code",
   "execution_count": null,
   "metadata": {
    "collapsed": false
   },
   "outputs": [],
   "source": [
    "print info['blist']   # right end points of the subintervals "
   ]
  },
  {
   "cell_type": "markdown",
   "metadata": {},
   "source": [
    "> It is possible to impose a different number of Chebyshev moments to be used.  We do so with the optional parameter `maxp1`, which imposes an upper bound to this number (rather than fixing it, for optimal results). \n",
    "\n",
    "Oscillatory integrals of the form $f(x) \\cos(wx)$ or $f(x) \\sin(wx)$, even when $f(x)$ is smooth, are especially tricky.  The integrator `quad` can tackle these integrals by calling the routine `QAWO` in `QUADPACK`.  We do so by specifying the arguments `weight='cos'` or `weight='sin'`, with `wvar=w`.\n",
    "\n",
    "For example, for the integral of $g(x) = e^x \\sin(x)$ on the interval $[-10,10]$, we compare this method with a basic `quad`:"
   ]
  },
  {
   "cell_type": "code",
   "execution_count": null,
   "metadata": {
    "collapsed": false
   },
   "outputs": [],
   "source": [
    "def f(x): return np.sin(x) * np.exp(x)\n",
    "g = np.exp\n",
    "\n",
    "print quad(g, -10, 10, weight='sin', wvar=1)\n",
    "\n",
    "print quad(f, -10, 10)"
   ]
  },
  {
   "cell_type": "markdown",
   "metadata": {},
   "source": [
    "Note the significant gain in absolute error.\n",
    "\n",
    ">For details and theory behind all the quadrature formulas that we have explored, a good reference is _chapter 3_ (Numerical Differentiation and Integration) of Walter Gautchi's _Numerical Analysis_.\n",
    "\n",
    "### Functions with singularities on bounded domains\n",
    "\n",
    "The second case of integration is that of definite integrals on a finite interval `[a,b]` of functions with singularities.  We contemplate two cases: _weighted functions_, and _generic functions with singularities_.\n",
    "\n",
    "#### Weighted Functions\n",
    "\n",
    "Weighted functions can be realized as products of the kind $f(x) w(x)$ for some smooth function $f(x)$ with a non-negative weight function $w(x)$ containing singularities.  An illustrative example is given by $\\cos(\\pi x/2)/\\sqrt{x}$.  We may regard this case as the product of $\\cos(\\pi x/2)$ with $w(x)=1/\\sqrt{x}$.  The weight presents a single singularity at $x=0$, and is smooth otherwise.\n",
    "\n",
    "The usual way to treat these integrals is by means of  _weighted Gaussian quadrature formulas_.\n",
    "\n",
    "For example, to perform _principal value integrals_ of functions of the form $f(x)/(x-c)$, we issue `quad` with the arguments `weight='cauchy'` and `wvar=c`.  This calls the routine `QAWC` from `QUADPACK`.\n",
    "\n",
    "Let us experiment with the Fresnel-type sine integral of $g(x) = \\sin(x)/x$ on the interval $[-1,1]$, and compare with `romberg`:"
   ]
  },
  {
   "cell_type": "code",
   "execution_count": null,
   "metadata": {
    "collapsed": false
   },
   "outputs": [],
   "source": [
    "value, absolute_error = quad(f, -1, 1, weight='cauchy', wvar=0)\n",
    "print value\n",
    "\n",
    "print romberg(g, -1, 1)"
   ]
  },
  {
   "cell_type": "markdown",
   "metadata": {},
   "source": [
    "For the case of integrals of functions of the form $f(x) (x-a)^\\alpha (b-x)^\\beta$, where $a$ and $b$ are the endpoints of the domain of integration, and both $\\alpha$, $\\beta$ are greater than -1, we issue `quad` with the arguments `weight='alg'` and `wvar=(alpha, beta)`.  This calls the routine `QAWS` from `QUADPACK`.  \n",
    "\n",
    "Let us experiment with the Fresnel-type cosine integral of $g(x) = \\cos(\\pi x/2)/\\sqrt{x}$ on the interval $[0,1]$, and compare with `quadrature`: "
   ]
  },
  {
   "cell_type": "code",
   "execution_count": null,
   "metadata": {
    "collapsed": false
   },
   "outputs": [],
   "source": [
    "def f(x): return np.cos(np.pi * x * 0.5)\n",
    "    \n",
    "def g(x): return np.cos(np.pi * x * 0.5) / np.sqrt(x)\n",
    "\n",
    "value, absolute_error = quad(f, 0, 1, weight='alg', wvar=(-0.5,0))\n",
    "print value\n",
    "\n",
    "print quadrature(g, 0, 1)"
   ]
  },
  {
   "cell_type": "markdown",
   "metadata": {},
   "source": [
    "If the weight function has the form $w(x) = (x-a)^\\alpha  (b-x)^\\beta  \\ln(x-a)$, or $w(x) = (x-a)^\\alpha  (b-x)^\\beta \\ln(b-x)$, or $w(x) = (x-a)^\\alpha  (b-x)^\\beta  \\ln(x-a)  \\ln(b-x)$, we issue `quad` with the arguments `weight='alg-loga'`, `weight='alg-logb'`, or `weight='alg-log'` respectively, and on each case, `wvar=(alpha, beta)`.\n",
    "\n",
    "For example, for the function $g(x) = x^2  \\ln(x)$ on the interval $[0,1]$, we could issue:"
   ]
  },
  {
   "cell_type": "code",
   "execution_count": null,
   "metadata": {
    "collapsed": false
   },
   "outputs": [],
   "source": [
    "def f(x): return x**2\n",
    "    \n",
    "def g(x): return x**2 * np.log(x)\n",
    "\n",
    "value, absolute_error = quad(f, 0, 1, weight='alg-loga', wvar=(0,0))\n",
    "print value"
   ]
  },
  {
   "cell_type": "markdown",
   "metadata": {},
   "source": [
    "#### General functions with singularities\n",
    "\n",
    "In general, we may be handling functions with singularities that do not conform to the nice form $f(x) w(x)$.  In that case, if we are aware of the locations of the singularities, we may indicate so to the integrator `quad` with the optional argument `points`.   In this case, `quad` calls the routine `QAGP` in `QUADPACK`.\n",
    "\n",
    "For example, for the function $g(x) = \\lfloor x\\rfloor  \\ln(x)$ that observes a singularity on each integer number, to integrate in the interval $[1,8]$ we could issue:"
   ]
  },
  {
   "cell_type": "code",
   "execution_count": null,
   "metadata": {
    "collapsed": false
   },
   "outputs": [],
   "source": [
    "def g(x): return np.floor(x) * np.log(x)\n",
    "\n",
    "quad(g, 1, 8, points=np.arange(8)+1)"
   ]
  },
  {
   "cell_type": "markdown",
   "metadata": {},
   "source": [
    "Compare to a simple `quad` computation without indicating singularities:"
   ]
  },
  {
   "cell_type": "code",
   "execution_count": null,
   "metadata": {
    "collapsed": false
   },
   "outputs": [],
   "source": [
    "quad(g, 1, 8)"
   ]
  },
  {
   "cell_type": "code",
   "execution_count": null,
   "metadata": {
    "collapsed": false
   },
   "outputs": [],
   "source": [
    "def f(x): return 2 * np.exp(-x**2) / np.sqrt(np.pi)\n",
    "\n",
    "value, absolute_error = quad(f, 0, np.inf)\n",
    "print value                                  # Compare with similar result in previous section"
   ]
  },
  {
   "cell_type": "code",
   "execution_count": null,
   "metadata": {
    "collapsed": false
   },
   "outputs": [],
   "source": [
    "def f(x): return np.sin(x)/x\n",
    "\n",
    "value, absolute_error = quad(f, 0, np.inf)\n",
    "print value"
   ]
  },
  {
   "cell_type": "code",
   "execution_count": null,
   "metadata": {
    "collapsed": false
   },
   "outputs": [],
   "source": [
    "print integrate(Sin(x)/x, (x, 0, oo))"
   ]
  },
  {
   "cell_type": "markdown",
   "metadata": {},
   "source": [
    "For the case of oscillatory integrals in unbounded domains, besides issuing `quad` with the argument `weight='cos'` or `weight='sin'`, and the corresponding `wvar` parameter, we may also place an upper bound on the number of cycles to use internally.  We do so by setting the optional argument `limlst` to the desired bound.  It is usually a good idea to set it to something larger than 3.  \n",
    "\n",
    "For example, for the Fourier-like integral of the sinc function in the interval $[1, \\infty]$, we could issue"
   ]
  },
  {
   "cell_type": "code",
   "execution_count": null,
   "metadata": {
    "collapsed": false
   },
   "outputs": [],
   "source": [
    "def f(x): return 1./x\n",
    "\n",
    "print quad(f, 1, np.inf, weight='sin', wvar=1, limlst=5)\n",
    "    \n",
    "print quad(f, 1, np.inf, weight='sin', wvar=1, limlst=50)"
   ]
  },
  {
   "cell_type": "code",
   "execution_count": null,
   "metadata": {
    "collapsed": false
   },
   "outputs": [],
   "source": [
    "def f(x, y): return np.exp(-x**2 - y**2)\n",
    "\n",
    "from scipy.integrate import dblquad\n",
    "\n",
    "dblquad(f, 0, np.inf, lambda x:0, lambda x:np.inf)"
   ]
  },
  {
   "cell_type": "code",
   "execution_count": null,
   "metadata": {
    "collapsed": true
   },
   "outputs": [],
   "source": []
  }
 ],
 "metadata": {
  "kernelspec": {
   "display_name": "Python 2",
   "language": "python",
   "name": "python2"
  },
  "language_info": {
   "codemirror_mode": {
    "name": "ipython",
    "version": 2
   },
   "file_extension": ".py",
   "mimetype": "text/x-python",
   "name": "python",
   "nbconvert_exporter": "python",
   "pygments_lexer": "ipython2",
   "version": "2.7.10"
  }
 },
 "nbformat": 4,
 "nbformat_minor": 0
}
