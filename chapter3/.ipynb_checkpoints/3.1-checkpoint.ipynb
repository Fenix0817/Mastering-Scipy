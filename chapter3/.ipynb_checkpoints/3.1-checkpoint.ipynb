{
 "cells": [
  {
   "cell_type": "markdown",
   "metadata": {},
   "source": [
    "# Chapter 3:  Differentiation and Integration\n",
    "\n",
    "Common to the design of railway or road building (especially for highway exits), as well as those crazy loops in many roller-coasters, is the solution of differential equations in two or three dimensions that address the effect of curvature and centripetal acceleration on moving bodies.  In the 1970s, Werner Stengel studied and applied several models to attack this problem and, among the many solutions he found, one stroke as particularly brilliant: the employment of _clothoid loops_ (based on sections of Cornu's spiral).  The first looping coaster designed with this paradigm was constructed in 1976 in the Baja Ridge area of Six Flags Magic Mountain, in Valencia  (California, USA).  It was coined _the Great American Revolution_, and it featured the very first vertical loop, together with two _corkscrews_, for a total of three inversions.\n",
    "\n",
    "<img src=\"Revolution05.jpg\">\n",
    "\n",
    "The tricky part of the design was based on a system of differential equations, whose solution depended on the integration of Fresnel-type sine and cosine integrals, and then selecting the appropriate sections of the resulting curve.   Let us show the computation and plot of these interesting functions:"
   ]
  },
  {
   "cell_type": "code",
   "execution_count": 1,
   "metadata": {
    "collapsed": false
   },
   "outputs": [
    {
     "name": "stdout",
     "output_type": "stream",
     "text": [
      "fresnel(x[, out1, out2])\n",
      "\n",
      "fresnel(z)\n",
      "\n",
      "Fresnel sin and cos integrals\n",
      "\n",
      "Defined as::\n",
      "\n",
      "    ssa = integral(sin(pi/2 * t**2),t=0..z)\n",
      "    csa = integral(cos(pi/2 * t**2),t=0..z)\n",
      "\n",
      "Parameters\n",
      "----------\n",
      "z : float or complex array_like\n",
      "    Argument\n",
      "\n",
      "Returns\n",
      "-------\n",
      "ssa, csa\n",
      "    Fresnel sin and cos integral values\n"
     ]
    }
   ],
   "source": [
    "import numpy as np, matplotlib.pyplot as plt\n",
    "from scipy.special import fresnel\n",
    "\n",
    "%matplotlib inline\n",
    "\n",
    "np.info(fresnel)"
   ]
  },
  {
   "cell_type": "code",
   "execution_count": 2,
   "metadata": {
    "collapsed": false
   },
   "outputs": [
    {
     "data": {
      "image/png": "[encoded data removed]",
      "text/plain": [
       "<matplotlib.figure.Figure at 0x108cd1ed0>"
      ]
     },
     "metadata": {},
     "output_type": "display_data"
    }
   ],
   "source": [
    "ssa, cca = fresnel(np.linspace(-4, 4, 1000))\n",
    "\n",
    "plt.plot(ssa, cca, 'b-')\n",
    "plt.axes().set_aspect('equal')\n",
    "plt.show()"
   ]
  },
  {
   "cell_type": "code",
   "execution_count": null,
   "metadata": {
    "collapsed": true
   },
   "outputs": [],
   "source": []
  }
 ],
 "metadata": {
  "kernelspec": {
   "display_name": "Python 2",
   "language": "python",
   "name": "python2"
  },
  "language_info": {
   "codemirror_mode": {
    "name": "ipython",
    "version": 2
   },
   "file_extension": ".py",
   "mimetype": "text/x-python",
   "name": "python",
   "nbconvert_exporter": "python",
   "pygments_lexer": "ipython2",
   "version": "2.7.10"
  }
 },
 "nbformat": 4,
 "nbformat_minor": 0
}
