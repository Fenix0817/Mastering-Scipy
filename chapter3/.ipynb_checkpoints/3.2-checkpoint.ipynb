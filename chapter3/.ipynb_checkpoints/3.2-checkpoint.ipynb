{
 "cells": [
  {
   "cell_type": "code",
   "execution_count": null,
   "metadata": {
    "collapsed": false
   },
   "outputs": [],
   "source": [
    "import numpy as np\n",
    "\n",
    "from scipy.misc import derivative\n",
    "\n",
    "def f(x): return x**5\n",
    "\n",
    "derivative(f, 1.0, dx=1e-6, order=15)\n",
    "\n",
    "derivative(f, 1.0, dx=1e-6, order=15, n=2)"
   ]
  },
  {
   "cell_type": "code",
   "execution_count": null,
   "metadata": {
    "collapsed": false
   },
   "outputs": [],
   "source": [
    "p = np.poly1d([1,0,0,0,0,0])\n",
    "print p"
   ]
  },
  {
   "cell_type": "code",
   "execution_count": null,
   "metadata": {
    "collapsed": false
   },
   "outputs": [],
   "source": [
    "print np.polyder(p,1)(1.0)\n",
    "print p.deriv()(1.0)"
   ]
  },
  {
   "cell_type": "code",
   "execution_count": null,
   "metadata": {
    "collapsed": false
   },
   "outputs": [],
   "source": [
    "print np.polyder(p,2)(1.0)             \n",
    "print p.deriv(2)(1.0)"
   ]
  },
  {
   "cell_type": "code",
   "execution_count": null,
   "metadata": {
    "collapsed": false
   },
   "outputs": [],
   "source": [
    "from sympy import diff, symbols\n",
    "\n",
    "x = symbols('x', real=True)\n",
    "\n",
    "print diff(x**5, x)                   \n",
    "print diff(x**5, x, x)\n",
    "print diff(x**5, x).subs(x, 1.0)       \n",
    "print diff(x**5, x, x).subs(x, 1.0)"
   ]
  },
  {
   "cell_type": "markdown",
   "metadata": {},
   "source": [
    "Note the slight improvement (both in notation and simplicity of coding) when we differentiate more involved functions than simple polynomials.  For example, for $g(x) = e^{-x} \\sin(x)$ at $x=1$:"
   ]
  },
  {
   "cell_type": "code",
   "execution_count": null,
   "metadata": {
    "collapsed": false
   },
   "outputs": [],
   "source": [
    "def g(x): return np.exp(-x) * np.sin(x)\n",
    "\n",
    "print derivative(g, 1.0, dx=1e-6, order=101)\n",
    "\n",
    "from sympy import sin as Sin, exp as Exp\n",
    "\n",
    "print diff(Exp(-x) * Sin(x), x).subs(x, 1.0)"
   ]
  },
  {
   "cell_type": "code",
   "execution_count": null,
   "metadata": {
    "collapsed": false
   },
   "outputs": [],
   "source": [
    "from FuncDesigner import oovar, exp as EXP, sin as SIN\n",
    "\n",
    "X = oovar('X')\n",
    "G = EXP(-X) * SIN(X)\n",
    "\n",
    "G.D({X: 1.0}, X)"
   ]
  },
  {
   "cell_type": "markdown",
   "metadata": {},
   "source": [
    "The result is obviously more accurate than the one obtained with numerical differentiation. Also, there was no need to provide any extra parameters to fine-tune the quality of the output.\n",
    "\n",
    "A great advantage of symbolic differentiation over numerical or automatic, is the possibility to compute partial derivatives with extreme ease.  Let us illustrate this point by calculating a fourth partial derivative of the multivariate function $h(x,y,z) = e^{xyz}$ at $x=1, y=1, z=2$."
   ]
  },
  {
   "cell_type": "code",
   "execution_count": null,
   "metadata": {
    "collapsed": false
   },
   "outputs": [],
   "source": [
    "y, z = symbols('y z', real=True)\n",
    "\n",
    "diff(Exp(x * y * z), z, z, y, x).subs({x:1.0, y:1.0, z:2.0})"
   ]
  },
  {
   "cell_type": "code",
   "execution_count": null,
   "metadata": {
    "collapsed": true
   },
   "outputs": [],
   "source": []
  }
 ],
 "metadata": {
  "kernelspec": {
   "display_name": "Python 2",
   "language": "python",
   "name": "python2"
  },
  "language_info": {
   "codemirror_mode": {
    "name": "ipython",
    "version": 2
   },
   "file_extension": ".py",
   "mimetype": "text/x-python",
   "name": "python",
   "nbconvert_exporter": "python",
   "pygments_lexer": "ipython2",
   "version": "2.7.10"
  }
 },
 "nbformat": 4,
 "nbformat_minor": 0
}
