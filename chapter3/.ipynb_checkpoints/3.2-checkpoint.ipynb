{
 "cells": [
  {
   "cell_type": "markdown",
   "metadata": {},
   "source": [
    "## Differentiation\n",
    "\n",
    "The most basic scheme for numerical differentiation is performed with the _central difference formula_ with uniform spaced nodes.  For symmetry reasons, an odd number of nodes is required to guarantee smaller roundoff-errors.  An implementation of this simple algorithm is available in the `scipy.misc` module.\n",
    "\n",
    "For example, to approximate the first and second derivatives of the polynomial function $f(x) = x^5$ at $x=1$ with 15 equally spaced nodes (centered at $x=1$), at distance $dx=10^{-6}$, we could issue"
   ]
  },
  {
   "cell_type": "code",
   "execution_count": 1,
   "metadata": {
    "collapsed": false
   },
   "outputs": [
    {
     "data": {
      "text/plain": [
       "19.998683310705456"
      ]
     },
     "execution_count": 1,
     "metadata": {},
     "output_type": "execute_result"
    }
   ],
   "source": [
    "import numpy as np\n",
    "\n",
    "from scipy.misc import derivative\n",
    "\n",
    "def f(x): return x**5\n",
    "\n",
    "derivative(f, 1.0, dx=1e-6, order=15)\n",
    "\n",
    "derivative(f, 1.0, dx=1e-6, order=15, n=2)"
   ]
  },
  {
   "cell_type": "markdown",
   "metadata": {},
   "source": [
    "Somewhat accurate, yet still dissapointing since the actual values are 5 and 20, respectively.  \n",
    "\n",
    "> Another flaw of this method (at least with respect to the implementation coded in `scipy`) is the fact that the result relies on possibly large sums, and these are not stable.  As users, we could improve matters by modifying the loop in the source of `scipy.misc.derivative` with Shewchuk algorithm, for instance.\n",
    "\n",
    "Exact differentiation for polynomials can be achieved through the `numpy.polynomial` module:"
   ]
  },
  {
   "cell_type": "code",
   "execution_count": 3,
   "metadata": {
    "collapsed": false
   },
   "outputs": [
    {
     "name": "stdout",
     "output_type": "stream",
     "text": [
      "   5\n",
      "1 x\n"
     ]
    }
   ],
   "source": [
    "p = np.poly1d([1,0,0,0,0,0])\n",
    "print p"
   ]
  },
  {
   "cell_type": "code",
   "execution_count": 4,
   "metadata": {
    "collapsed": false
   },
   "outputs": [
    {
     "name": "stdout",
     "output_type": "stream",
     "text": [
      "5.0\n",
      "5.0\n"
     ]
    }
   ],
   "source": [
    "print np.polyder(p,1)(1.0)\n",
    "print p.deriv()(1.0)"
   ]
  },
  {
   "cell_type": "code",
   "execution_count": 5,
   "metadata": {
    "collapsed": false
   },
   "outputs": [
    {
     "name": "stdout",
     "output_type": "stream",
     "text": [
      "20.0\n",
      "20.0\n"
     ]
    }
   ],
   "source": [
    "print np.polyder(p,2)(1.0)             \n",
    "print p.deriv(2)(1.0)"
   ]
  },
  {
   "cell_type": "markdown",
   "metadata": {},
   "source": [
    "Symbolic differentiation is another way to achieve exact results."
   ]
  },
  {
   "cell_type": "code",
   "execution_count": 6,
   "metadata": {
    "collapsed": false
   },
   "outputs": [
    {
     "name": "stdout",
     "output_type": "stream",
     "text": [
      "5*x**4\n",
      "20*x**3\n",
      "5.00000000000000\n",
      "20.0000000000000\n"
     ]
    }
   ],
   "source": [
    "from sympy import diff, symbols\n",
    "\n",
    "x = symbols('x', real=True)\n",
    "\n",
    "print diff(x**5, x)                   \n",
    "print diff(x**5, x, x)\n",
    "print diff(x**5, x).subs(x, 1.0)       \n",
    "print diff(x**5, x, x).subs(x, 1.0)"
   ]
  },
  {
   "cell_type": "markdown",
   "metadata": {},
   "source": [
    "Note the slight improvement (both in notation and simplicity of coding) when we differentiate more involved functions than simple polynomials.  For example, for $g(x) = e^{-x} \\sin(x)$ at $x=1$:"
   ]
  },
  {
   "cell_type": "code",
   "execution_count": 9,
   "metadata": {
    "collapsed": false
   },
   "outputs": [
    {
     "name": "stdout",
     "output_type": "stream",
     "text": [
      "-0.110793765292\n",
      "-0.110793765306699\n"
     ]
    }
   ],
   "source": [
    "def g(x): return np.exp(-x) * np.sin(x)\n",
    "\n",
    "print derivative(g, 1.0, dx=1e-6, order=101)\n",
    "\n",
    "In [17]: from sympy import sin as Sin, exp as Exp\n",
    "\n",
    "In [18]: print diff(Exp(-x) * Sin(x), x).subs(x, 1.0)\n"
   ]
  },
  {
   "cell_type": "markdown",
   "metadata": {},
   "source": [
    "The third method employs automatic differentiation.  For this example, we will use the library `FuncDesigner`:\n"
   ]
  },
  {
   "cell_type": "code",
   "execution_count": 11,
   "metadata": {
    "collapsed": false
   },
   "outputs": [
    {
     "name": "stdout",
     "output_type": "stream",
     "text": [
      "\n",
      "    Seems like you are using OpenOpt from \n",
      "    commercial Enthought Python Distribution;\n",
      "    consider using free GPL-licensed alternatives\n",
      "    PythonXY (http://www.pythonxy.com) or\n",
      "    Sage (http://sagemath.org) instead.\n",
      "    \n"
     ]
    },
    {
     "data": {
      "text/plain": [
       "-0.11079376530669924"
      ]
     },
     "execution_count": 11,
     "metadata": {},
     "output_type": "execute_result"
    }
   ],
   "source": [
    "In [19]: from FuncDesigner import oovar, exp as EXP, sin as SIN\n",
    "\n",
    "In [20]: X = oovar('X'); \\\n",
    "   ....: G = EXP(-X) * SIN(X)\n",
    "\n",
    "In [21]: G.D({X: 1.0}, X)"
   ]
  },
  {
   "cell_type": "markdown",
   "metadata": {},
   "source": [
    "The result is obviously more accurate than the one obtained with numerical differentiation. Also, there was no need to provide any extra parameters to fine-tune the quality of the output.\n",
    "\n",
    "A great advantage of symbolic differentiation over numerical or automatic, is the possibility to compute partial derivatives with extreme ease.  Let us illustrate this point by calculating a fourth partial derivative of the multivariate function $h(x,y,z) = e^{xyz}$ at $x=1, y=1, z=2$."
   ]
  },
  {
   "cell_type": "code",
   "execution_count": 12,
   "metadata": {
    "collapsed": false
   },
   "outputs": [
    {
     "data": {
      "text/plain": [
       "133.003009780752"
      ]
     },
     "execution_count": 12,
     "metadata": {},
     "output_type": "execute_result"
    }
   ],
   "source": [
    "In [22]: y, z = symbols('y z', real=True)\n",
    "\n",
    "In [23]: diff(Exp(x * y * z), z, z, y, x).subs({x:1.0, y:1.0, z:2.0})\n"
   ]
  },
  {
   "cell_type": "code",
   "execution_count": null,
   "metadata": {
    "collapsed": true
   },
   "outputs": [],
   "source": []
  }
 ],
 "metadata": {
  "kernelspec": {
   "display_name": "Python 2",
   "language": "python",
   "name": "python2"
  },
  "language_info": {
   "codemirror_mode": {
    "name": "ipython",
    "version": 2
   },
   "file_extension": ".py",
   "mimetype": "text/x-python",
   "name": "python",
   "nbconvert_exporter": "python",
   "pygments_lexer": "ipython2",
   "version": "2.7.10"
  }
 },
 "nbformat": 4,
 "nbformat_minor": 0
}
