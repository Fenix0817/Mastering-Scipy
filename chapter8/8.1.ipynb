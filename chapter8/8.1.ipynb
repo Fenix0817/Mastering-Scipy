{
 "cells": [
  {
   "cell_type": "markdown",
   "metadata": {},
   "source": [
    "## Statistical Inference\n",
    "\n",
    "The different techniques of descriptive statistics that we have covered give us a straightforward presentation of facts from the data.  *Inference* is the process of making propositions and drawing conclusions about a larger population than the sample data represents.  We have three types of inference \n",
    "\n",
    "* _Estimation_ of the most appropriate single value of a parameter.\n",
    "* _Interval estimation_ to assess what region of parameter values is most consistent with the given data.\n",
    "* _Hypothesis testing_ to decide between two options, what parameter values are most consistent with the data.\n",
    "\n",
    "There are mainly three approaches to attacking these problems.\n",
    "\n",
    "* *Frequentist*: Inference is judged based upon performance in repeated sampling.\n",
    "* *Bayesian*: Inference must be subjective.  A prior distribution is chosen for the parameter we seek, and we combine the density of the data with the prior to obtain a joint distribution.  A further application of Bayes Theorem gives us a distribution of the parameter, given the data.  To perform computations in this setting, we use the package `PyMC`.\n",
    "* *Likelihood*: Inference is based on the fact that all information about the parameter may be obtained by inspection of a _likelihood_ function, which is proportional to the probability density function.\n",
    "\n",
    "In this section we will briefly illustrate the three approaches to each of the three inference types.  We go back to the previous example of ratios of daily complaints of mortgages against credit cards."
   ]
  },
  {
   "cell_type": "code",
   "execution_count": 1,
   "metadata": {
    "collapsed": false
   },
   "outputs": [
    {
     "data": {
      "text/plain": [
       "count    1001.000000\n",
       "mean        2.939686\n",
       "std         1.341827\n",
       "min         0.203947\n",
       "25%         1.985507\n",
       "50%         2.806452\n",
       "75%         3.729167\n",
       "max        12.250000\n",
       "dtype: float64"
      ]
     },
     "execution_count": 1,
     "metadata": {},
     "output_type": "execute_result"
    }
   ],
   "source": [
    "import numpy as np, pandas as pd, matplotlib.pyplot as plt\n",
    "\n",
    "%matplotlib inline\n",
    "\n",
    "data = pd.read_csv(\"Consumer_Complaints.csv\", low_memory=False, parse_dates=[8,9])\n",
    "\n",
    "df = data.groupby(['Date received', 'Product']).size().unstack()\n",
    "ratios = df['Mortgage'] / df['Credit card']\n",
    "\n",
    "ratios.describe()"
   ]
  },
  {
   "cell_type": "markdown",
   "metadata": {},
   "source": [
    "By visual inspection of the histogram, we could very well assume that this data is a random sample from a normal distribution with parameters $\\mu$ (average) and $\\sigma$ (standard deviation).  We further assume, for simplicity, that the scale parameter $\\sigma$ is known, and its value is `1.3`.  \n",
    "\n",
    "> Later in this section, we will actually explore what tools we have in the `scipy` stack to determine more precisely the distribution of data.\n",
    "\n",
    "### Estimation of parameters\n",
    "\n",
    "In this setting, the problem we want to solve is an estimation of the average $\\mu$ using the data obtained.\n",
    "\n",
    "#### Frequentist Approach\n",
    "\n",
    "This is the simplest setting.  The frequentist approach uses as estimate the computed mean of the data.\n"
   ]
  },
  {
   "cell_type": "code",
   "execution_count": 2,
   "metadata": {
    "collapsed": false
   },
   "outputs": [
    {
     "data": {
      "text/plain": [
       "2.9396857495543731"
      ]
     },
     "execution_count": 2,
     "metadata": {},
     "output_type": "execute_result"
    }
   ],
   "source": [
    "ratios.mean()"
   ]
  },
  {
   "cell_type": "code",
   "execution_count": 3,
   "metadata": {
    "collapsed": false
   },
   "outputs": [
    {
     "data": {
      "text/plain": [
       "0.042411109594665049"
      ]
     },
     "execution_count": 3,
     "metadata": {},
     "output_type": "execute_result"
    }
   ],
   "source": [
    "from scipy.stats import sem  # Standard error\n",
    "\n",
    "sem(ratios.dropna())"
   ]
  },
  {
   "cell_type": "markdown",
   "metadata": {},
   "source": [
    "A frequentist would then say: \"The estimated value of the parameter $\\mu$ is `2.9396857495543731` with standard error `0.042411109594665049`.\"\n",
    "\n",
    "#### Bayesian Approach\n",
    "\n",
    "For the Bayesian approach, we select a prior distribution for $\\mu$, which we conveniently assume it is Normal with standard deviation 1.3.  The average $\\mu$ is regarded as a variable, and initially we assume that its value could be anywhere in the range of the data (with Uniform distribution).  We then use Bayes Theorem to compute a *posterior distribution* for $\\mu$.  Our estimated parameter is then the average of the posterior distribution of $\\mu$."
   ]
  },
  {
   "cell_type": "code",
   "execution_count": 4,
   "metadata": {
    "collapsed": true
   },
   "outputs": [],
   "source": [
    "import pymc as pm\n",
    "\n",
    "mu = pm.Uniform('mu', lower=ratios.min(), upper=ratios.max())\n",
    "\n",
    "observation = pm.Normal('obs', mu=mu, tau=1./1.3**2, value=ratios.dropna(), observed=True)\n",
    "\n",
    "model = pm.Model([observation, mu])"
   ]
  },
  {
   "cell_type": "markdown",
   "metadata": {},
   "source": [
    "> Note how, in `PyMC`, the definition of a Normal distribution requires an average parameter $\\mu$, but instead of standard deviation or variance, it expects the *precission* $\\tau = 1/\\sigma^2$.\n",
    "\n",
    "> The variable `observation` combines our data with our proposed data-generation scheme, given by the variable $\\mu$, through the option `value=ratios.dropna()`.  To make sure that this stays fixed during the analysis, we impose `observed=True`. \n",
    "\n",
    "In the learning step, we employ *Markov Chain MonteCarlo* (*MCMC*) to return a large amount of random variables for the posterior distribution of $\\mu$. \n"
   ]
  },
  {
   "cell_type": "code",
   "execution_count": 5,
   "metadata": {
    "collapsed": false
   },
   "outputs": [
    {
     "name": "stdout",
     "output_type": "stream",
     "text": [
      " [-----------------100%-----------------] 40000 of 40000 complete in 1.8 sec"
     ]
    }
   ],
   "source": [
    "In [12]: mcmc = pm.MCMC(model)\n",
    "\n",
    "In [13]: mcmc.sample(40000, 10000, 1)"
   ]
  },
  {
   "cell_type": "code",
   "execution_count": 6,
   "metadata": {
    "collapsed": false
   },
   "outputs": [
    {
     "data": {
      "text/plain": [
       "{'mu': {'95% HPD interval': array([ 2.85648587,  3.01990866]),\n",
       "  'mc error': 0.00062534322210217302,\n",
       "  'mean': 2.9387778836659262,\n",
       "  'n': 30000,\n",
       "  'quantiles': {2.5: 2.8564187259554275,\n",
       "   25: 2.9102063809898988,\n",
       "   50: 2.9389237984040997,\n",
       "   75: 2.968469730479796,\n",
       "   97.5: 3.0199086619014399},\n",
       "  'standard deviation': 0.042104885405384054}}"
      ]
     },
     "execution_count": 6,
     "metadata": {},
     "output_type": "execute_result"
    }
   ],
   "source": [
    "mcmc.stats()"
   ]
  },
  {
   "cell_type": "code",
   "execution_count": 7,
   "metadata": {
    "collapsed": false
   },
   "outputs": [
    {
     "name": "stdout",
     "output_type": "stream",
     "text": [
      "\n",
      "mu:\n",
      " \n",
      "\tMean             SD               MC Error        95% HPD interval\n",
      "\t------------------------------------------------------------------\n",
      "\t2.939            0.042            0.001            [ 2.856  3.02 ]\n",
      "\t\n",
      "\t\n",
      "\tPosterior quantiles:\n",
      "\t\n",
      "\t2.5             25              50              75             97.5\n",
      "\t |---------------|===============|===============|---------------|\n",
      "\t2.856            2.91            2.939          2.968         3.02\n",
      "\t\n"
     ]
    }
   ],
   "source": [
    "mcmc.summary()"
   ]
  },
  {
   "cell_type": "code",
   "execution_count": 8,
   "metadata": {
    "collapsed": false
   },
   "outputs": [
    {
     "name": "stdout",
     "output_type": "stream",
     "text": [
      "Plotting mu\n"
     ]
    },
    {
     "name": "stderr",
     "output_type": "stream",
     "text": [
      "//anaconda/lib/python2.7/site-packages/numpy/core/fromnumeric.py:2507: VisibleDeprecationWarning: `rank` is deprecated; use the `ndim` attribute or function instead. To find the rank of a matrix see `numpy.linalg.matrix_rank`.\n",
      "  VisibleDeprecationWarning)\n"
     ]
    },
    {
     "data": {
      "image/png": "[encoded data removed]",
      "text/plain": [
       "<matplotlib.figure.Figure at 0x1123b9650>"
      ]
     },
     "metadata": {},
     "output_type": "display_data"
    }
   ],
   "source": [
    "from pymc.Matplot import plot as mcplot\n",
    "\n",
    "mcplot(mcmc)\n",
    "plt.show()"
   ]
  },
  {
   "cell_type": "markdown",
   "metadata": {},
   "source": [
    "The estimated value of the parameter is `2.9396811517572554`.  The standard deviation of the posterior distribution of $\\mu$ is `0.041412844137324857`. \n",
    "\n",
    "#### Likelihood Approach\n",
    "\n",
    "We have a convenient method to perform the likelihood approach for estimation of parameters of any distribution represented as a class in the submodule `scipy.stats`.  In our case, since we are fixing the standard deviation (the `scale` as parameter of the normal distribution for this particular class), we would issue"
   ]
  },
  {
   "cell_type": "code",
   "execution_count": 9,
   "metadata": {
    "collapsed": false
   },
   "outputs": [
    {
     "data": {
      "text/plain": [
       "(2.9396857495543736, 1.3)"
      ]
     },
     "execution_count": 9,
     "metadata": {},
     "output_type": "execute_result"
    }
   ],
   "source": [
    "from scipy.stats import norm as NormalDistribution\n",
    "\n",
    "NormalDistribution.fit(ratios.dropna(), fscale=1.3)"
   ]
  },
  {
   "cell_type": "markdown",
   "metadata": {},
   "source": [
    "\n",
    "Giving us a similar value for the mean.  The graph of the (non-negative log) likelihood function for `mu` may be obtained as follows"
   ]
  },
  {
   "cell_type": "code",
   "execution_count": 10,
   "metadata": {
    "collapsed": false
   },
   "outputs": [
    {
     "data": {
      "image/png": "[encoded data removed]",
      "text/plain": [
       "<matplotlib.figure.Figure at 0x1127b21d0>"
      ]
     },
     "metadata": {},
     "output_type": "display_data"
    }
   ],
   "source": [
    "nnlf = lambda t: NormalDistribution.nnlf([t, 1.3], ratios.dropna())\n",
    "nnlf = np.vectorize(nnlf)\n",
    "\n",
    "x = np.linspace(0, 14)\n",
    "plt.plot(x, nnlf(x), lw=2, color='r', label='Non-negative log-likely function for $\\mu$')\n",
    "plt.legend()\n",
    "plt.annotate('Minimum', xy=(2.9, nnlf(2.9)), xytext=(0,20),\n",
    "             textcoords='offset points', ha='right', va='bottom',\n",
    "             bbox=dict(boxstyle='round,pad=0.5', fc='yellow',\n",
    "                       color='k', alpha=1),\n",
    "             arrowprops=dict(arrowstyle='->', color='k',\n",
    "                             connectionstyle='arc3,rad=0'))\n",
    "plt.show()"
   ]
  },
  {
   "cell_type": "markdown",
   "metadata": {},
   "source": [
    "In any case, the result is visually what we would expect"
   ]
  },
  {
   "cell_type": "code",
   "execution_count": 11,
   "metadata": {
    "collapsed": false
   },
   "outputs": [
    {
     "data": {
      "image/png": "[encoded data removed]",
      "text/plain": [
       "<matplotlib.figure.Figure at 0x10c5a1c10>"
      ]
     },
     "metadata": {},
     "output_type": "display_data"
    }
   ],
   "source": [
    "distribution = NormalDistribution(loc=2.9396857495543736, scale=1.3)\n",
    "\n",
    "plt.plot(x, distribution.pdf(x), 'r-', lw=2, label='Computed Probability Density Function')\n",
    "ratios.hist(bins=50, alpha=0.2, normed=True, label='Histogram of data (normalized)')\n",
    "plt.legend()\n",
    "plt.show()"
   ]
  },
  {
   "cell_type": "markdown",
   "metadata": {},
   "source": [
    "### Interval Estimation\n",
    "\n",
    "In this setting, we seek an interval of values for $\\mu$ which are supported by the data.\n",
    "\n",
    "#### Frequentist Approach\n",
    "\n",
    "In the frequentist approach, we start by providing a small *confidence coefficient* $\\alpha$, and proceed to find an interval so that the probability of including the parameter $\\mu$ is $1-\\alpha$.  In our example, we set $\\alpha = 0.05$ (hence, the probability we impose is `0.95`), and proceed to compute the interval with the method `interval` of any class defining a continuous distribution in the module `scipy.stats`."
   ]
  },
  {
   "cell_type": "code",
   "execution_count": 12,
   "metadata": {
    "collapsed": false
   },
   "outputs": [
    {
     "data": {
      "text/plain": [
       "(2.8565615022044484, 3.0228099969042979)"
      ]
     },
     "execution_count": 12,
     "metadata": {},
     "output_type": "execute_result"
    }
   ],
   "source": [
    "loc = ratios.mean()\n",
    "scale= ratios.sem()\n",
    "NormalDistribution.interval(0.95, scale=scale, loc=loc)"
   ]
  },
  {
   "cell_type": "markdown",
   "metadata": {},
   "source": [
    "According to this method, values of the average $\\mu$ between `2.8565615022044484` and `3.0228099969042979` are consistent with the data based on a 95% confidence interval. \n",
    "\n",
    "#### Bayesian Approach\n",
    "\n",
    "In the Bayesian Approach, the equivalent to the confidence interval is called a *credible region* (or interval), and is associated to the *highest posterior density region*---the set of most probably values of the parameter that, in total, constitute $100*(1-\\alpha)$ of the posterior mass.  \n",
    "\n",
    "Recall that when using a Markov chain Montecarlo, after a sampling we obtained the credible region for $\\alpha = 0.05$.\n",
    "\n",
    "To obtain credible intervals for other values of alpha, we use the routine `hpd` in the submodule `pymc.utils` directly.  For example, the highest posterior density region for $\\alpha=0.01$ is computed as follows.\n"
   ]
  },
  {
   "cell_type": "code",
   "execution_count": 13,
   "metadata": {
    "collapsed": false
   },
   "outputs": [
    {
     "data": {
      "text/plain": [
       "array([ 2.83680427,  3.04834305])"
      ]
     },
     "execution_count": 13,
     "metadata": {},
     "output_type": "execute_result"
    }
   ],
   "source": [
    "pm.utils.hpd(mcmc.trace('mu')[:], 1-.99)"
   ]
  },
  {
   "cell_type": "markdown",
   "metadata": {},
   "source": [
    "#### Likelihood Approach\n",
    "\n",
    "This is also done with the aid of the method `nnlf` of any distribution.  In this setting, we need to determine the interval of parameter values for which the likelihood exceeds $1/k$ where $k$ is either 8 (strong evidence) or 32 (very strong evidence).\n",
    "\n",
    "The estimation of the corresponding interval is then a simple application of optimization.  We leave this as an exercise."
   ]
  },
  {
   "cell_type": "markdown",
   "metadata": {},
   "source": [
    "\n"
   ]
  },
  {
   "cell_type": "code",
   "execution_count": null,
   "metadata": {
    "collapsed": true
   },
   "outputs": [],
   "source": []
  }
 ],
 "metadata": {
  "kernelspec": {
   "display_name": "Python 2",
   "language": "python",
   "name": "python2"
  },
  "language_info": {
   "codemirror_mode": {
    "name": "ipython",
    "version": 2
   },
   "file_extension": ".py",
   "mimetype": "text/x-python",
   "name": "python",
   "nbconvert_exporter": "python",
   "pygments_lexer": "ipython2",
   "version": "2.7.10"
  }
 },
 "nbformat": 4,
 "nbformat_minor": 0
}
