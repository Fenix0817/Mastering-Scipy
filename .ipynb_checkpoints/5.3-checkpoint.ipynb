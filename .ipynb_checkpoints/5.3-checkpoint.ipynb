{
 "cells": [
  {
   "cell_type": "markdown",
   "metadata": {},
   "source": [
    "## Discrete-Variable Methods\n",
    "\n",
    "In discrete-variable methods, we are concerned with finding approximations to the solutions, but only at a discrete set of points in the domain.  These points may be predetermined before solving, or we could generate them dynamically as part of the integration, to better suit the properties of the functions involved.  This is specially useful when the solutions present singularities, for example.  Once a discrete set of points are generated, we may of course compute a nice analytic approximation to the solutions, by a simple process of interpolation.\n",
    "\n",
    "We have two schema for discrete-variable methods:\n",
    "\n",
    "* *One-step methods*: The value of the solution at one point is computed solely from information on the previous point.  Classical exponents of this scheme are for instance *Euler's method*, *improved Euler's method*, any *second-order two-stage method*, or any *Runge-Kutta method*.\n",
    "* *Multistep methods*: The value of the solution at one point depends on knowledge of several previous points.  The best known algorithms in this category are the *Adams-Bashford method*, the *Adams-Moulton method*, any *backward-difference method*, or any *predictor-corrector method*.\n",
    "\n",
    "In the module `scipy.integrate` we have the common interface class `ode`, that will perform an approximation to the solution of equations/systems with a chosen numerical method.   The way to work with this class is very different than what we are used, and deserves a careful explanation.  \n",
    "\n",
    "1. Once a right-hand side of a differential equation/system is produced, say $y'=f(t,y)$, the process starts by creating an instance of a solver.  We do so by issuing `ode(f)`.   If we have a description of the Jacobian of the right-hand side with respect to the $y$ variables, we may include it in the creation of the solver: `ode(f, jac)`.\n",
    "\n",
    "2. If extra parameters need to be fed to either the function $f$ or its Jacobian, we do so with the attributes `.set_f_params(*args)` or `.set_jac_params(*args)`, respectively.\n",
    "\n",
    "3. The initial values to the problem are indicated with the attribute `.set_initial_value(y[, t])`.\n",
    "\n",
    "4. It is time to chose a numerical scheme.  We do so by setting the attribute `.set_integrator(name, **params)`.  If necessary, we may provide further information to the chosen method, by using the optional parameter.\n",
    "\n",
    "5. It is time to compute the actual solution of the initial value problem.  We usually accomplish this by playing with several attributes within a loop:  \n",
    "\n",
    "    * `.integrate(t[, step, relax])` will compute the value of the solution $y(t)$ at the provided time $t$.\n",
    "    * Retrieval of the last step in the computations can always be obtained with `r.t` (for the time variable) and `r.y` (for the solution)\n",
    "    * To check for success of computation, we have the attribute `.successful()`.  \n",
    "    * One integration method accepts a flag function `solout_func(t, y)`, that gets called after each successful step.  This is accomplished with the attribute `.set_solout(solout_func)`, \n",
    "\n",
    "\n",
    "### One-step methods\n",
    "\n",
    "The only one-step methods coded in the `scipy` stack are two implementations of Runge-Kutta, designed by Dormand and Prince, and coded by Hairer and Wanner for the module `scipy.integrate`.\n",
    "\n",
    "* Explicit Runge-Kutta of order (4)5.  We access it with `method='dopri5'`\n",
    "* Explicit Runge-Kutta of order 8(5,3).  We call it with `method='dop853'`\n",
    "\n",
    "Let us run through our examples.  With the first one, we will solve the differential equation by issuing `dopri5`, on a set of 10 nodes given by zeros of the Chebyshev polynomial in the interval $[0,1]$."
   ]
  },
  {
   "cell_type": "code",
   "execution_count": 1,
   "metadata": {
    "collapsed": false
   },
   "outputs": [],
   "source": [
    "import numpy as np, matplotlib.pyplot as plt\n",
    "from scipy.integrate import ode\n",
    "from scipy.special import t_roots\n",
    "\n",
    "%matplotlib inline \n",
    "\n",
    "def F(t, y): return y\n",
    "\n",
    "solver = ode(F) # solver created"
   ]
  },
  {
   "cell_type": "code",
   "execution_count": 2,
   "metadata": {
    "collapsed": false
   },
   "outputs": [
    {
     "data": {
      "text/plain": [
       "<scipy.integrate._ode.ode at 0x108482190>"
      ]
     },
     "execution_count": 2,
     "metadata": {},
     "output_type": "execute_result"
    }
   ],
   "source": [
    "solver.set_initial_value(1.0, 0.0) # y(0) = 1"
   ]
  },
  {
   "cell_type": "code",
   "execution_count": 3,
   "metadata": {
    "collapsed": false
   },
   "outputs": [
    {
     "data": {
      "text/plain": [
       "<scipy.integrate._ode.ode at 0x108482190>"
      ]
     },
     "execution_count": 3,
     "metadata": {},
     "output_type": "execute_result"
    }
   ],
   "source": [
    "solver.set_integrator('dopri5')"
   ]
  },
  {
   "cell_type": "code",
   "execution_count": 4,
   "metadata": {
    "collapsed": false
   },
   "outputs": [
    {
     "data": {
      "text/plain": [
       "(0.0, array([ 1.]))"
      ]
     },
     "execution_count": 4,
     "metadata": {},
     "output_type": "execute_result"
    }
   ],
   "source": [
    "solver.t, solver.y"
   ]
  },
  {
   "cell_type": "code",
   "execution_count": 5,
   "metadata": {
    "collapsed": false
   },
   "outputs": [
    {
     "name": "stdout",
     "output_type": "stream",
     "text": [
      "0.00615582970243, 1.00617481576, 1.00617481576\n",
      "0.0544967379058, 1.05600903161, 1.05600903161\n",
      "0.146446609407, 1.15771311835, 1.15771311818\n",
      "0.27300475013, 1.31390648743, 1.31390648604\n",
      "0.42178276748, 1.52467728436, 1.52467727922\n",
      "0.57821723252, 1.78285718759, 1.78285717608\n",
      "0.72699524987, 2.06885488518, 2.06885486703\n",
      "0.853553390593, 2.34797534217, 2.34797531943\n",
      "0.945503262094, 2.57410852921, 2.5741085039\n",
      "0.993844170298, 2.7015999731, 2.70159994653\n"
     ]
    }
   ],
   "source": [
    "nodes = t_roots(10)[0]\n",
    "nodes = (nodes + 1.0) * 0.5\n",
    "\n",
    "for k in range(10):\n",
    "    if solver.successful():\n",
    "        t = nodes[k]\n",
    "        solver.integrate(t)\n",
    "        print \"{0}, {1}, {2}\".format(t, solver.y[0], np.exp(t))"
   ]
  },
  {
   "cell_type": "markdown",
   "metadata": {},
   "source": [
    "> It is possible to fine-tune the algorithm by providing different tolerances, restriction of number of steps, and other stabilizing constants.  For a detailed desription of the different parameters, refer docs.scipy.org/doc/scipy/reference/generated/scipy.integrate.ode.html, or simply request the manual page from within your `ipython` session with `help(ode)`.  \n",
    "\n",
    "In the example of the Bernoulli equation, we will gather again roots of a Chebyshev polynomial as nodes, but this time we will collect the solutions and construct a piecewise polynomial interpolation with them, to compare the results with the true solution visually.  In this case we employ Runge-Kutta of order 8(5,3)."
   ]
  },
  {
   "cell_type": "code",
   "execution_count": 6,
   "metadata": {
    "collapsed": false
   },
   "outputs": [
    {
     "data": {
      "text/plain": [
       "<scipy.integrate._ode.ode at 0x108b3bdd0>"
      ]
     },
     "execution_count": 6,
     "metadata": {},
     "output_type": "execute_result"
    }
   ],
   "source": [
    "def bernoulli(t, y): return 3*y**(0.75) - 6.0 * y/t\n",
    "def G(t): return (3.0*t**(2.5) + 7.0)**4.0 / (10000.0*t**6.0)\n",
    "\n",
    "T = np.linspace(1, 2, 1024)\n",
    "\n",
    "solver = ode(bernoulli)\n",
    "solver.set_initial_value(1.0, 1.0)\n",
    "solver.set_integrator('dop853')"
   ]
  },
  {
   "cell_type": "code",
   "execution_count": 7,
   "metadata": {
    "collapsed": false
   },
   "outputs": [
    {
     "data": {
      "image/png": "[encoded data removed]",
      "text/plain": [
       "<matplotlib.figure.Figure at 0x1067d8050>"
      ]
     },
     "metadata": {},
     "output_type": "display_data"
    }
   ],
   "source": [
    "nodes = t_roots(10)[0]\n",
    "nodes += 1.5 + 0.5 * nodes\n",
    "solution = []\n",
    "\n",
    "for k in range(10):\n",
    "    if solver.successful():\n",
    "        solver.integrate(nodes[k])\n",
    "        solution += [solver.y[0]]\n",
    "\n",
    "from scipy.interpolate import PchipInterpolator\n",
    "\n",
    "interpolant = PchipInterpolator(nodes, solution)\n",
    "\n",
    "plt.figure(figsize=(12,6))\n",
    "plt.plot(T, interpolant(T), 'r--', linewidth=2.0, label='approx.')\n",
    "plt.plot(T, G(T), 'b-', label='true soln.')\n",
    "plt.grid()\n",
    "plt.legend()\n",
    "plt.show()"
   ]
  },
  {
   "cell_type": "markdown",
   "metadata": {},
   "source": [
    "The Lotka-Volterra system gets solved in the same fashion.  In the following example we will choose a set of equally spaced nodes in one cycle: the interval from $0$ to $2\\pi/\\sqrt{1.5}$ (approximately `5.13`)"
   ]
  },
  {
   "cell_type": "code",
   "execution_count": 8,
   "metadata": {
    "collapsed": false
   },
   "outputs": [
    {
     "data": {
      "text/plain": [
       "<scipy.integrate._ode.ode at 0x108b3be90>"
      ]
     },
     "execution_count": 8,
     "metadata": {},
     "output_type": "execute_result"
    }
   ],
   "source": [
    "def volterra(t, y): return [y[0]  - 0.1*y[0]*y[1], 0.075*y[0]*y[1] - 1.5*y[1]]\n",
    "\n",
    "solver = ode(volterra)\n",
    "solver.set_initial_value([10.0, 5.0], 0.0)\n",
    "solver.set_integrator('dop853')"
   ]
  },
  {
   "cell_type": "code",
   "execution_count": 9,
   "metadata": {
    "collapsed": false
   },
   "outputs": [
    {
     "data": {
      "image/png": "[encoded data removed]",
      "text/plain": [
       "<matplotlib.figure.Figure at 0x108ca53d0>"
      ]
     },
     "metadata": {},
     "output_type": "display_data"
    }
   ],
   "source": [
    "prey = []\n",
    "predator = []\n",
    "\n",
    "while (solver.t < 5.13 and solver.successful()):\n",
    "    solver.integrate(solver.t + 0.01)\n",
    "    prey += [solver.y[0]]\n",
    "    predator += [solver.y[1]]\n",
    "\n",
    "plt.figure(figsize=(12,6))\n",
    "plt.plot(prey, predator)\n",
    "plt.grid()\n",
    "plt.xlabel('number of prey')\n",
    "plt.ylabel('number of predators')\n",
    "plt.show()"
   ]
  },
  {
   "cell_type": "markdown",
   "metadata": {},
   "source": [
    "### Two-step methods\n",
    "\n",
    "We have two different choices here: an Adams-Moulton method (suitable for non-stiff equations), and a backward-difference method (designed for stiff equations).  For each of these two numerical methods, we have two different implementations, depending on the background `Fortran` routine used to compute the solutions.  The options are as follows:\n",
    "\n",
    "* `*VODE`:  In the `Fortran` library `ODE` from `netlib`, we have the routines `VODE` and `ZVODE` (for real and complex-valued solution of initial value problems, respectively).  To access the numerical method of Adams-Moulton for a real-valued problem, for example, we issue the attribute `.set_integrator('vode', method='adams'`).  To access backward-differences, we issue `.set_integrator('vode', method='BDF'`)\n",
    "* `LSODA`: This other implementation wraps different routines from the `Fortran` library `ODEPACK`.  The calls are exactly as in the previous case, substituting `'vode'` or `'zvode'` with `'lsoda'` instead. \n",
    "\n",
    "\n",
    "> For more information about the `netlib` libraries `ODE` and `ODEPACK`, refer to +www.metlib.org/ode+ and www.netlib.org/odepack, respectively.  \n",
    "\n",
    "These numerical methods are designed for large problems.  For smaller tasks (non-stiff one-dimensional equations with small set of nodes), Runge-Kutta should be used instead.  The second example illustrates this point: We apply `BDF` from `VODE`, and compare the solutions obtained with both Runge-Kutta from before, and the actual solution.  Note how `dop853` outperforms `BDF` in this simple case."
   ]
  },
  {
   "cell_type": "code",
   "execution_count": 27,
   "metadata": {
    "collapsed": false
   },
   "outputs": [
    {
     "data": {
      "text/plain": [
       "<scipy.integrate._ode.ode at 0x1098b0f10>"
      ]
     },
     "execution_count": 27,
     "metadata": {},
     "output_type": "execute_result"
    }
   ],
   "source": [
    "solver = ode(bernoulli)\n",
    "solver.set_initial_value(1.0, 1.0)\n",
    "solver.set_integrator('vode', method='BDF')"
   ]
  },
  {
   "cell_type": "code",
   "execution_count": 28,
   "metadata": {
    "collapsed": false
   },
   "outputs": [],
   "source": [
    "nodes = t_roots(10)[0]\n",
    "nodes = 1.5 + 0.5 * nodes\n",
    "solution2 = []\n",
    "\n",
    "for k in range(10):\n",
    "    if solver.successful():\n",
    "        solver.integrate(nodes[k])\n",
    "        solution2 += [solver.y[0]]"
   ]
  },
  {
   "cell_type": "code",
   "execution_count": 29,
   "metadata": {
    "collapsed": false
   },
   "outputs": [
    {
     "data": {
      "text/plain": [
       "array([ 1.00615583,  1.05449674,  1.14644661,  1.27300475,  1.42178277,\n",
       "        1.57821723,  1.72699525,  1.85355339,  1.94550326,  1.99384417])"
      ]
     },
     "execution_count": 29,
     "metadata": {},
     "output_type": "execute_result"
    }
   ],
   "source": [
    "nodes"
   ]
  },
  {
   "cell_type": "code",
   "execution_count": 30,
   "metadata": {
    "collapsed": false
   },
   "outputs": [
    {
     "name": "stdout",
     "output_type": "stream",
     "text": [
      "0.981854827818, 6053099985.22, 0.981855789349\n",
      "0.859270248468, 12807.5906923, 0.859270080689\n",
      "0.698456572663, 41.3350194666, 0.698458875953\n",
      "0.570963875566, 2.00610676995, 0.57096210196\n",
      "0.49654019444, 0.576587789229, 0.496537599383\n",
      "0.466684337536, 0.467281060523, 0.466681706374\n",
      "0.466700776675, 0.577190016065, 0.466699552511\n",
      "0.482536531899, 0.777532004385, 0.482537207918\n",
      "0.501698475572, 0.989962449962, 0.501699366611\n",
      "0.514159743133, 1.12738175207, 0.514160809167\n"
     ]
    }
   ],
   "source": [
    "for k in range(10):\n",
    "    true_sol = G(nodes[k])\n",
    "    dop853_sol = solution[k]\n",
    "    vode_sol = solution2[k]\n",
    "    print \"{0}, {1}, {2}\".format(true_sol, dop853_sol, vode_sol)"
   ]
  },
  {
   "cell_type": "markdown",
   "metadata": {},
   "source": [
    "To finish this chapter, we use `LSODA` on our Lotka-Volterra system, taking advantage of the Jacobian.\n"
   ]
  },
  {
   "cell_type": "code",
   "execution_count": 33,
   "metadata": {
    "collapsed": false
   },
   "outputs": [],
   "source": [
    "def jacF(t, y):\n",
    "    output = np.zeros((2,2))\n",
    "    output[0,0] = 1.0 - 0.1*y[1]\n",
    "    output[0,1] = -0.1*y[0]\n",
    "    output[1,0] = 0.075*y[1]\n",
    "    output[1,1] = 0.075*y[0] - 1.5\n",
    "    return output\n",
    "\n",
    "solver = ode(volterra, jacF)\n",
    "solver.set_initial_value([10.0, 5.0], 0.0)\n",
    "solver.set_integrator('lsoda', method='adams', with_jacobian=True)\n",
    "\n",
    "prey2 = []\n",
    "predator2  = []\n",
    "\n",
    "while (solver.t < 5.13 and solver.successful()):\n",
    "    solver.integrate(solver.t + 0.01)\n",
    "    prey2 += [solver.y[0]]\n",
    "    predator2 += [solver.y[1]]"
   ]
  }
 ],
 "metadata": {
  "kernelspec": {
   "display_name": "Python 2",
   "language": "python",
   "name": "python2"
  },
  "language_info": {
   "codemirror_mode": {
    "name": "ipython",
    "version": 2
   },
   "file_extension": ".py",
   "mimetype": "text/x-python",
   "name": "python",
   "nbconvert_exporter": "python",
   "pygments_lexer": "ipython2",
   "version": "2.7.10"
  }
 },
 "nbformat": 4,
 "nbformat_minor": 0
}
