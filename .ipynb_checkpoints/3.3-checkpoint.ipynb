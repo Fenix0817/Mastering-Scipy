{
 "cells": [
  {
   "cell_type": "markdown",
   "metadata": {},
   "source": [
    "## Integration \n",
    "\n",
    "The definite integral of a polynomial function on a finite domain $[a,b]$ can be computed very accurately via the _Fundamental Theorem of Calculus_, through the module `numpy.polynomial`.  For instance, to calculate the integral of the polynomial $p(x) = x^5$ on the interval $[-1,1]$, we could issue:\n"
   ]
  },
  {
   "cell_type": "code",
   "execution_count": 1,
   "metadata": {
    "collapsed": false
   },
   "outputs": [
    {
     "name": "stdout",
     "output_type": "stream",
     "text": [
      "   5\n",
      "1 x\n",
      "        6\n",
      "0.1667 x\n"
     ]
    },
    {
     "data": {
      "text/plain": [
       "0.0"
      ]
     },
     "execution_count": 1,
     "metadata": {},
     "output_type": "execute_result"
    }
   ],
   "source": [
    "In [1]: import numpy as np\n",
    "\n",
    "In [2]: p = np.poly1d([1,0,0,0,0,0]); \\\n",
    "   ...: print p; \\\n",
    "   ...: print p.integ()\n",
    "\n",
    "In [3]: p.integ()(1.0) - p.integ()(-1.0)"
   ]
  },
  {
   "cell_type": "markdown",
   "metadata": {},
   "source": [
    "In general, obtaining exact values for a definite integral of a generic function is hard and computationally inefficient.  It is possible in some cases through _symbolic integration_, with the aid of the Risch algorithm (for elementary functions), and Meijer G-functions (for non-elementary integrals).  Both methods can be called with the common routine `integrate` in the library `sympy`.  The routine is clever enough to decide which algorithm to use depending on the source function.\n",
    "\n",
    "Let us show a few examples, starting with the definite integral of the polynomial from the previous case:"
   ]
  },
  {
   "cell_type": "code",
   "execution_count": 14,
   "metadata": {
    "collapsed": false
   },
   "outputs": [
    {
     "name": "stdout",
     "output_type": "stream",
     "text": [
      "x**6/6\n",
      "0\n"
     ]
    }
   ],
   "source": [
    "In [4]: from sympy import integrate, symbols\n",
    "\n",
    "In [5]: x, y = symbols('x y', real=True)\n",
    "\n",
    "In [6]: print integrate(x**5, x)\n",
    "\n",
    "In [7]: print integrate(x**5, (x, -1, 1))"
   ]
  },
  {
   "cell_type": "markdown",
   "metadata": {},
   "source": [
    "Let us try something more complicated.  The definite integral of $f(x) = e^{-x}  sin(x)$ on the interval $[0,1]$:"
   ]
  },
  {
   "cell_type": "code",
   "execution_count": 6,
   "metadata": {
    "collapsed": false
   },
   "outputs": [
    {
     "name": "stdout",
     "output_type": "stream",
     "text": [
      "-exp(-x)*sin(x)/2 - exp(-x)*cos(x)/2\n",
      "-exp(-1)*sin(1)/2 - exp(-1)*cos(1)/2 + 1/2\n",
      "0\n"
     ]
    }
   ],
   "source": [
    "In [8]: from sympy import N, exp as Exp, sin as Sin\n",
    "\n",
    "In [9]: print integrate(Exp(-x) * Sin(x), x)\n",
    "\n",
    "In [10]: print integrate(Exp(-x) * Sin(x), (x, 0, 1))\n",
    "\n",
    "In [11]: print N(_)"
   ]
  },
  {
   "cell_type": "markdown",
   "metadata": {},
   "source": [
    "Symbolic integration, when it works, treats singularities the right way:\n"
   ]
  },
  {
   "cell_type": "code",
   "execution_count": 11,
   "metadata": {
    "collapsed": false
   },
   "outputs": [
    {
     "name": "stdout",
     "output_type": "stream",
     "text": [
      "Si(x)\n",
      "Si(1)\n",
      "0\n",
      "Integral(x**(1/x), (x, 0, 1))\n"
     ]
    }
   ],
   "source": [
    "In [12]: print integrate(Sin(x) / x, x)\n",
    "\n",
    "In [13]: print integrate(Sin(x) / x, (x, 0, 1))\n",
    "\n",
    "In [14]: print N(_)\n",
    "\n",
    "In [15]: print integrate(x**(1/x), (x, 0, 1))\n"
   ]
  },
  {
   "cell_type": "markdown",
   "metadata": {},
   "source": [
    "Integration over unbounded domains is also possible.\n"
   ]
  },
  {
   "cell_type": "code",
   "execution_count": 12,
   "metadata": {
    "collapsed": false
   },
   "outputs": [
    {
     "data": {
      "text/plain": [
       "sqrt(pi)/2"
      ]
     },
     "execution_count": 12,
     "metadata": {},
     "output_type": "execute_result"
    }
   ],
   "source": [
    "In [16]: from sympy import oo\n",
    "\n",
    "In [17]: integrate(Exp(-x**2), (x,0,+oo))"
   ]
  },
  {
   "cell_type": "markdown",
   "metadata": {},
   "source": [
    "It is even possible to perform multivariate integration:"
   ]
  },
  {
   "cell_type": "code",
   "execution_count": 15,
   "metadata": {
    "collapsed": false
   },
   "outputs": [
    {
     "data": {
      "text/plain": [
       "pi"
      ]
     },
     "execution_count": 15,
     "metadata": {},
     "output_type": "execute_result"
    }
   ],
   "source": [
    "In [18]: integrate(Exp(-x**2-y**2), (x, -oo, +oo), (y, -oo, +oo))"
   ]
  },
  {
   "cell_type": "markdown",
   "metadata": {},
   "source": [
    "But we need to stress this point strongly: symbolic integration is not efficient (and might not work!) for non-trivial cases, as the following example shows:"
   ]
  },
  {
   "cell_type": "code",
   "execution_count": 17,
   "metadata": {
    "collapsed": false
   },
   "outputs": [
    {
     "name": "stdout",
     "output_type": "stream",
     "text": [
      "Integral(sin(x)**sin(x), x)\n",
      "Integral(sin(x)**sin(x), (x, 0, 1))\n"
     ]
    }
   ],
   "source": [
    "In [19]: print integrate(Sin(x)**Sin(x), x)\n",
    "\n",
    "In [20]: print integrate(Sin(x)**Sin(x), (x, 0, 1))\n"
   ]
  },
  {
   "cell_type": "markdown",
   "metadata": {},
   "source": [
    "And even when it works for non-trivial cases, it generates complicated code, and may use too many computational resources.  The optimal way to address these problems is to obtain good approximations instead, with the aid of _numerical integration_.\n",
    "\n",
    "There are different techniques, according to the type of function and integration domain.  Let us examine them in detail.\n",
    "\n",
    "### Functions without singularities on finite intervals\n",
    "\n",
    "The basic problem in _numerical integration_ is the _approximation_ to the definite integral of any function $f(x)$ on a finite interval $[a,b]$.  In general, if the function `f(x)` does not have singularities or discontinuities, we can obtain easy quadrature formulas by integration of different interpolations with piecewise polynomials (since these are evaluated exactly).  \n",
    "\n",
    "* The *composite trapezoidal rule* is achieved by integration of a piecewise linear interpolator.  \n",
    "* *Simpson's rule* is achieved by integration of a piecewise polynomial interpolator, where every two subintervals we fit a parabola.  \n",
    "* In the previous case, if we further impose Hermite interpolation, we obtain the *composite Simpson's rule*.\n",
    "\n",
    "We have efficient algorithms for composite trapezoidal and composite Simpson's rules in the module `scipy.integrate` through the routines `cumtrapz` and `simps` (respectively).  Let us show how to use these simple formulas for the polynomial example:"
   ]
  },
  {
   "cell_type": "code",
   "execution_count": 18,
   "metadata": {
    "collapsed": false
   },
   "outputs": [
    {
     "name": "stdout",
     "output_type": "stream",
     "text": [
      "-3.46944695195e-18\n",
      "[ -1.92221161e-02  -3.65619927e-02  -5.21700680e-02  -6.61875756e-02\n",
      "  -7.87469280e-02  -8.99720915e-02  -9.99789539e-02  -1.08875683e-01\n",
      "  -1.16763077e-01  -1.23734908e-01  -1.29878257e-01  -1.35273836e-01\n",
      "  -1.39996314e-01  -1.44114617e-01  -1.47692240e-01  -1.50787532e-01\n",
      "  -1.53453988e-01  -1.55740523e-01  -1.57691741e-01  -1.59348197e-01\n",
      "  -1.60746651e-01  -1.61920310e-01  -1.62899066e-01  -1.63709727e-01\n",
      "  -1.64376231e-01  -1.64919865e-01  -1.65359463e-01  -1.65711607e-01\n",
      "  -1.65990811e-01  -1.66209700e-01  -1.66379187e-01  -1.66508627e-01\n",
      "  -1.66605982e-01  -1.66677959e-01  -1.66730153e-01  -1.66767180e-01\n",
      "  -1.66792794e-01  -1.66810003e-01  -1.66821177e-01  -1.66828145e-01\n",
      "  -1.66832283e-01  -1.66834598e-01  -1.66835799e-01  -1.66836364e-01\n",
      "  -1.66836598e-01  -1.66836678e-01  -1.66836700e-01  -1.66836703e-01\n",
      "  -1.66836703e-01  -1.66836703e-01  -1.66836703e-01  -1.66836700e-01\n",
      "  -1.66836678e-01  -1.66836598e-01  -1.66836364e-01  -1.66835799e-01\n",
      "  -1.66834598e-01  -1.66832283e-01  -1.66828145e-01  -1.66821177e-01\n",
      "  -1.66810003e-01  -1.66792794e-01  -1.66767180e-01  -1.66730153e-01\n",
      "  -1.66677959e-01  -1.66605982e-01  -1.66508627e-01  -1.66379187e-01\n",
      "  -1.66209700e-01  -1.65990811e-01  -1.65711607e-01  -1.65359463e-01\n",
      "  -1.64919865e-01  -1.64376231e-01  -1.63709727e-01  -1.62899066e-01\n",
      "  -1.61920310e-01  -1.60746651e-01  -1.59348197e-01  -1.57691741e-01\n",
      "  -1.55740523e-01  -1.53453988e-01  -1.50787532e-01  -1.47692240e-01\n",
      "  -1.44114617e-01  -1.39996314e-01  -1.35273836e-01  -1.29878257e-01\n",
      "  -1.23734908e-01  -1.16763077e-01  -1.08875683e-01  -9.99789539e-02\n",
      "  -8.99720915e-02  -7.87469280e-02  -6.61875756e-02  -5.21700680e-02\n",
      "  -3.65619927e-02  -1.92221161e-02  -1.73472348e-17]\n"
     ]
    }
   ],
   "source": [
    "In [21]: from scipy.integrate import cumtrapz, simps\n",
    "\n",
    "In [22]: def f(x): return x**5\n",
    "\n",
    "In [23]: nodes = np.linspace(-1, 1, 100)\n",
    "\n",
    "In [24]: print simps(f(nodes), nodes)\n",
    "\n",
    "In [25]: print cumtrapz(f(nodes), nodes)"
   ]
  },
  {
   "cell_type": "markdown",
   "metadata": {},
   "source": [
    "> The routine `cumtrapz` computes cumulative integrals over the designated subintervals.  The last entry of the output is therefore the value of the quadrature we seek.  We could, of course, report only the required integral by simply accessing that entry:"
   ]
  },
  {
   "cell_type": "code",
   "execution_count": 19,
   "metadata": {
    "collapsed": false
   },
   "outputs": [
    {
     "data": {
      "text/plain": [
       "-1.7347234759768071e-17"
      ]
     },
     "execution_count": 19,
     "metadata": {},
     "output_type": "execute_result"
    }
   ],
   "source": [
    "In [26]: cumtrapz(f(nodes), nodes)[-1]"
   ]
  },
  {
   "cell_type": "markdown",
   "metadata": {},
   "source": [
    "The implementation of these two algorithms does not compute the interpolators explicitly: The final formulas are the target here, and the way it is coded in `scipy` is by means of _Newton-Cotes_ quadratures.\n",
    "\n",
    "The routines to perform Newton-Cotes are _hidden_ (in the sense that they are not reported in the tutorials or documentation in the official pages of `scipy`), and are meant to be used only internally by `cumtrapz` or `simps`.  They provide only with the corresponding coefficients that multiply the function evaluation at the nodes.   \n",
    "\n",
    "But Newton-Cotes quadrature formulas are usually very accurate by themselves in the right scenarios.  They can be used to compute better approximations in many cases, without being subjected to conform to trapezoidal or Simpson's rules.\n",
    "\n",
    "Let us show how it works for our running example, now with only 4 equally spaced nodes in the interval $[-1,1]$:"
   ]
  },
  {
   "cell_type": "code",
   "execution_count": 20,
   "metadata": {
    "collapsed": false
   },
   "outputs": [
    {
     "name": "stdout",
     "output_type": "stream",
     "text": [
      "[ 0.375  1.125  1.125  0.375]\n",
      "0.0\n",
      "-7.8062556419e-18\n"
     ]
    }
   ],
   "source": [
    "In [27]: from scipy.integrate import newton_cotes\n",
    "\n",
    "In [28]: coefficients, absolute_error = newton_cotes(3, equal=True); \\\n",
    "   ....: nodes = np.linspace(-1, 1, 4); \\\n",
    "   ....: print coefficients\n",
    "\n",
    "In [29]: integral = (coefficients * f(nodes)).sum(); \\\n",
    "   ....: print integral\n",
    "\n",
    "In [30]: from math import fsum\n",
    "\n",
    "In [31]: integral = fsum(coefficients * f(nodes)); \\\n",
    "   ....: print integral"
   ]
  },
  {
   "cell_type": "markdown",
   "metadata": {},
   "source": [
    "If the nodes of our choice happen to be equally spaced, and they divide the domain of integration in a number of subintervals which are a power of two, then there is an improvement of the trapezoidal rule that uses Richardson extrapolation: the _Romberg rule_.   We may access it with the routine `romb` in the same module.  Let us compare results with our running example, this time using 64 subintervals of size `1/32` in the interval $[-1,1]$."
   ]
  },
  {
   "cell_type": "code",
   "execution_count": 21,
   "metadata": {
    "collapsed": false
   },
   "outputs": [
    {
     "data": {
      "text/plain": [
       "0.0"
      ]
     },
     "execution_count": 21,
     "metadata": {},
     "output_type": "execute_result"
    }
   ],
   "source": [
    "In [32]: from scipy.integrate import romb\n",
    "\n",
    "In [33]: nodes = np.linspace(-1, 1, 65)\n",
    "\n",
    "In [34]: romb(f(nodes), dx=1./32)"
   ]
  },
  {
   "cell_type": "markdown",
   "metadata": {},
   "source": [
    "We have the option to report the table that shows the Richardson extrapolation from the given nodes:\n"
   ]
  },
  {
   "cell_type": "code",
   "execution_count": 22,
   "metadata": {
    "collapsed": false
   },
   "outputs": [
    {
     "name": "stdout",
     "output_type": "stream",
     "text": [
      "\n",
      "       Richardson Extrapolation Table for Romberg Integration       \n",
      "====================================================================\n",
      " 0.00000 \n",
      " 0.00000  0.00000 \n",
      " 0.00000  0.00000  0.00000 \n",
      " 0.00000  0.00000  0.00000  0.00000 \n",
      " 0.00000  0.00000  0.00000  0.00000  0.00000 \n",
      " 0.00000  0.00000  0.00000  0.00000  0.00000  0.00000 \n",
      " 0.00000  0.00000  0.00000  0.00000  0.00000  0.00000  0.00000 \n",
      "====================================================================\n",
      "\n"
     ]
    },
    {
     "data": {
      "text/plain": [
       "0.0"
      ]
     },
     "execution_count": 22,
     "metadata": {},
     "output_type": "execute_result"
    }
   ],
   "source": [
    "In [35]: romb(f(nodes), dx=1./32, show=True)"
   ]
  },
  {
   "cell_type": "markdown",
   "metadata": {},
   "source": [
    "We may not have any preference for the choice of nodes, but still have our mind set in using Romberg's rule for our numerical integration scheme.  In that case, we may use the routine `romberg`, for which we only need to provide the expression of a function, and the limits of integration.  Optionally, we can provide absolute or relative tolerances for the error (which are both set by default to `1.48e-8`)."
   ]
  },
  {
   "cell_type": "code",
   "execution_count": 23,
   "metadata": {
    "collapsed": false
   },
   "outputs": [
    {
     "name": "stdout",
     "output_type": "stream",
     "text": [
      "Romberg integration of <function vfunc at 0x10865ec08> from [-1, 1]\n",
      "\n",
      " Steps  StepSize   Results\n",
      "     1  2.000000  0.000000 \n",
      "     2  1.000000  0.000000  0.000000 \n",
      "\n",
      "The final result is 0.0 after 3 function evaluations.\n"
     ]
    },
    {
     "data": {
      "text/plain": [
       "0.0"
      ]
     },
     "execution_count": 23,
     "metadata": {},
     "output_type": "execute_result"
    }
   ],
   "source": [
    "In [36]: from scipy.integrate import romberg\n",
    "\n",
    "In [37]: romberg(f, -1, 1, show=True)"
   ]
  },
  {
   "cell_type": "markdown",
   "metadata": {},
   "source": [
    "Another possibility is to use _Gaussian quadrature formulas_.  These are more powerful, since the accuracy of the approximations is gained through computing internally the best possible choice of nodes.   There are two basic routines in the module `scipy.integrate` that perform implementations of this algorithm: `quadrature` if we wish to specify tolerance, or `fixed_quad` if we wish to specify the number of nodes (but not their locations!).\n"
   ]
  },
  {
   "cell_type": "code",
   "execution_count": 24,
   "metadata": {
    "collapsed": false
   },
   "outputs": [
    {
     "name": "stdout",
     "output_type": "stream",
     "text": [
      "0.0\n",
      "-1.11022302463e-16\n"
     ]
    }
   ],
   "source": [
    "In [38]: from scipy.integrate import quadrature, fixed_quad\n",
    "\n",
    "In [39]: value, absolute_error = quadrature(f, -1, 1, tol=1.49e-8); \\\n",
    "   ....: print value\n",
    "\n",
    "In [40]: value, absolute_error = fixed_quad(f, -1, 1, n=4); \\\n",
    "   ....: print value                                     # four nodes"
   ]
  },
  {
   "cell_type": "markdown",
   "metadata": {},
   "source": [
    "A more advanced method to perform Gaussian quadrature, using an adaptive scheme, is obtained through the function `quad` in the module `scipy.integrate`.  This function is a wrapper of the routine `GAGS` in the `Fortran` library `QUADPACK`.  The algorithm breaks the domain of integration into several subintervals, and on each of them performs a 21-point Gaussian-Kronrod quadrature rule.  Further acceleration is achieved with Peter Wynn's epsilon algorithm.\n",
    "\n",
    "> For more information on `QAGS` as well as the other routines in the `QUADPACK` libraries, refer to their page in the `netlib` repositories: http://www.netlib.org/quadpack/\n",
    "\n",
    "Let us compare with our running example:\n"
   ]
  },
  {
   "cell_type": "code",
   "execution_count": 26,
   "metadata": {
    "collapsed": false
   },
   "outputs": [
    {
     "name": "stdout",
     "output_type": "stream",
     "text": [
      "0.0\n"
     ]
    }
   ],
   "source": [
    "In [41]: from scipy.integrate import quad\n",
    "\n",
    "In [42]: value, absolute_error = quad(f, -1, 1); \\\n",
    "   ....: print value"
   ]
  },
  {
   "cell_type": "markdown",
   "metadata": {},
   "source": [
    "We may obtain implementation details by setting the optional argument `full_output` to `True`.  This gives us an additional `python` dictionary with useful information:"
   ]
  },
  {
   "cell_type": "code",
   "execution_count": 27,
   "metadata": {
    "collapsed": false
   },
   "outputs": [
    {
     "name": "stdout",
     "output_type": "stream",
     "text": [
      "21 function evaluations\n",
      "Domain broken into 1 subintervals\n"
     ]
    }
   ],
   "source": [
    "In [43]: value, absolute_error, info = quad(f, -1, 1, full_output=True)\n",
    "\n",
    "In [44]: info.keys()\n",
    "\n",
    "In [45]: print \"{0} function evaluations\".format(info['neval'])\n",
    "\n",
    "In [46]: print \"Domain broken into {0} subintervals\".format(info['last'])"
   ]
  },
  {
   "cell_type": "markdown",
   "metadata": {},
   "source": [
    "> To fully understand all the different outputs of `info`, we need to know about the underlying algorithm computing the Gaussian quadratures.  These particular routines use the _Clensaw_Curtis method_, a technique based on _Chebyshev moments_.  \n",
    "\n",
    "> In the previous example, by default the code tried to use 50 Chebyshev moments.  Due to the simplicity of the integrand, and since only one subinterval was needed, it was necessary only to use one of those moments.  When we report the 50-entry one-dimensional outputs `rlist`, `elist`, `alist` and `blist` from the dictionary `info`, we may disregard the information offered by the last 49 rest entries of each of them:"
   ]
  },
  {
   "cell_type": "code",
   "execution_count": 29,
   "metadata": {
    "collapsed": false
   },
   "outputs": [
    {
     "name": "stdout",
     "output_type": "stream",
     "text": [
      "[  0.00e+000  -2.68e+154   2.12e-314   2.12e-314   5.43e-312   1.98e-323\n",
      "   0.00e+000   0.00e+000   0.00e+000   0.00e+000   0.00e+000   0.00e+000\n",
      "   0.00e+000   0.00e+000   0.00e+000   3.03e-086   7.48e+247   6.74e+199\n",
      "   2.12e-314   2.12e-314   0.00e+000   0.00e+000   2.12e-314   0.00e+000\n",
      "   2.47e-323   0.00e+000   0.00e+000   0.00e+000   0.00e+000   0.00e+000\n",
      "   0.00e+000   2.12e-314   1.50e-307   1.85e-258   7.72e+140   4.53e+217\n",
      "   6.23e+228   1.92e-258   2.13e-314   2.13e-314   2.13e-314   5.36e+199\n",
      "   8.97e-106   7.48e+247   5.98e-154   1.26e+232   6.97e+252   2.30e-312\n",
      "   0.00e+000   3.11e+231]\n",
      "[  3.70e-015   0.00e+000   3.65e+233   1.07e+253   7.50e+247   5.36e+199\n",
      "   1.06e-153   5.31e+180   2.92e-014   4.98e+151   8.97e-096   6.28e+097\n",
      "   5.71e+228   3.74e+233   5.27e+170   8.02e-096   8.82e+199   1.90e+185\n",
      "   2.53e-258   2.59e+161   4.07e+180   6.96e+252   5.72e+228   5.76e+257\n",
      "   8.82e+199   1.19e+190   6.97e+228   2.45e+198   7.74e+247   5.30e+180\n",
      "   8.63e+183   1.82e+185   1.43e+248   6.22e+175   1.72e+243   5.30e+180\n",
      "   8.98e-315   1.59e-312  -1.29e-231   3.11e+231   3.46e-323   0.00e+000\n",
      "   1.80e-312   9.96e-043   5.03e-037   1.74e+184   6.87e+169   2.49e+180\n",
      "   7.72e-043   2.58e-056]\n",
      "[ -1.00e+000  -2.68e+154   1.58e-322   0.00e+000   0.00e+000   0.00e+000\n",
      "   0.00e+000   0.00e+000   0.00e+000   0.00e+000   0.00e+000   0.00e+000\n",
      "   0.00e+000   0.00e+000   0.00e+000   0.00e+000   0.00e+000   0.00e+000\n",
      "   0.00e+000   0.00e+000   0.00e+000   0.00e+000   0.00e+000   0.00e+000\n",
      "   0.00e+000   0.00e+000   0.00e+000   0.00e+000   0.00e+000   0.00e+000\n",
      "   1.39e-309   0.00e+000   2.17e-311   0.00e+000   0.00e+000   0.00e+000\n",
      "   0.00e+000   0.00e+000   0.00e+000   0.00e+000   0.00e+000   0.00e+000\n",
      "   0.00e+000   0.00e+000   0.00e+000   0.00e+000   0.00e+000   0.00e+000\n",
      "   0.00e+000   0.00e+000]\n",
      "[  1.00e+000   0.00e+000   2.12e-314   2.12e-314   5.43e-312   1.98e-323\n",
      "   0.00e+000   0.00e+000   0.00e+000   0.00e+000   0.00e+000   0.00e+000\n",
      "   0.00e+000   0.00e+000   0.00e+000   2.93e+222   3.67e+228   1.31e+179\n",
      "   2.12e-314   2.12e-314   0.00e+000   0.00e+000   2.12e-314   0.00e+000\n",
      "   2.47e-323   0.00e+000   0.00e+000   0.00e+000   0.00e+000   0.00e+000\n",
      "   0.00e+000   2.12e-314   1.50e-307   7.48e+247   2.03e-110   1.62e-086\n",
      "   8.82e+199   1.19e+190   2.13e-314   2.13e-314   2.13e-314   8.74e+183\n",
      "   1.81e-152   7.27e+223   2.92e-014   3.63e+228   6.19e+223   4.41e+222\n",
      "   2.03e-153   3.03e-086]\n"
     ]
    }
   ],
   "source": [
    "In [47]: np.set_printoptions(precision=2, suppress=True)\n",
    "\n",
    "In [48]: print info['rlist']  # integral approximations on the subintervals\n",
    "\n",
    "In [49]: print info['elist']  # absolute error estimates on the subintervals\n",
    "\n",
    "In [50]: print info['alist']   # left end points of the subintervals \n",
    "\n",
    "In [51]: print info['blist']   # right end points of the subintervals "
   ]
  },
  {
   "cell_type": "markdown",
   "metadata": {},
   "source": [
    "> It is possible to impose a different number of Chebyshev moments to be used.  We do so with the optional parameter `maxp1`, which imposes an upper bound to this number (rather than fixing it, for optimal results). \n",
    "\n",
    "Oscillatory integrals of the form $f(x) \\cos(wx)$ or $f(x) \\sin(wx)$, even when $f(x)$ is smooth, are especially tricky.  The integrator `quad` can tackle these integrals by calling the routine `QAWO` in `QUADPACK`.  We do so by specifying the arguments `weight='cos'` or `weight='sin'`, with `wvar=w`.\n",
    "\n",
    "For example, for the integral of $g(x) = e^x \\sin(x)$ on the interval $[-10,10]$, we compare this method with a basic `quad`:"
   ]
  },
  {
   "cell_type": "code",
   "execution_count": 34,
   "metadata": {
    "collapsed": false
   },
   "outputs": [
    {
     "name": "stdout",
     "output_type": "stream",
     "text": [
      "(3249.4589405744427, 5.365398805302381e-08)\n",
      "(3249.458940574436, 1.1767634585879705e-05)\n"
     ]
    }
   ],
   "source": [
    "In [52]: def f(x): return np.sin(x) * np.exp(x); \\\n",
    "   ....: g = np.exp\n",
    "\n",
    "In [53]: print quad(g, -10, 10, weight='sin', wvar=1)\n",
    "\n",
    "In [54]: print quad(f, -10, 10)"
   ]
  },
  {
   "cell_type": "markdown",
   "metadata": {},
   "source": [
    "Note the significant gain in absolute error.\n",
    "\n",
    ">For details and theory behind all the quadrature formulas that we have explored, a good reference is _chapter 3_ (Numerical Differentiation and Integration) of Walter Gautchi's _Numerical Analysis_.\n",
    "\n",
    "### Functions with singularities on bounded domains\n",
    "\n",
    "The second case of integration is that of definite integrals on a finite interval `[a,b]` of functions with singularities.  We contemplate two cases: _weighted functions_, and _generic functions with singularities_.\n",
    "\n",
    "#### Weighted Functions\n",
    "\n",
    "Weighted functions can be realized as products of the kind $f(x) w(x)$ for some smooth function $f(x)$ with a non-negative weight function $w(x)$ containing singularities.  An illustrative example is given by $\\cos(\\pi x/2)/\\sqrt{x}$.  We may regard this case as the product of $\\cos(\\pi x/2)$ with $w(x)=1/\\sqrt{x}$.  The weight presents a single singularity at $x=0$, and is smooth otherwise.\n",
    "\n",
    "The usual way to treat these integrals is by means of  _weighted Gaussian quadrature formulas_.\n",
    "\n",
    "For example, to perform _principal value integrals_ of functions of the form $f(x)/(x-c)$, we issue `quad` with the arguments `weight='cauchy'` and `wvar=c`.  This calls the routine `QAWC` from `QUADPACK`.\n",
    "\n",
    "Let us experiment with the Fresnel-type sine integral of $g(x) = \\sin(x)/x$ on the interval $[-1,1]$, and compare with `romberg`:"
   ]
  },
  {
   "cell_type": "code",
   "execution_count": 33,
   "metadata": {
    "collapsed": false
   },
   "outputs": [
    {
     "name": "stdout",
     "output_type": "stream",
     "text": [
      "2.20844531647\n",
      "2.35040238729\n"
     ]
    }
   ],
   "source": [
    "In [53]: value, absolute_error = quad(f, -1, 1, weight='cauchy', wvar=0); \\\n",
    "   ....: print value\n",
    "\n",
    "In [54]: print romberg(g, -1, 1)"
   ]
  },
  {
   "cell_type": "markdown",
   "metadata": {},
   "source": [
    "For the case of integrals of functions of the form $f(x) (x-a)^\\alpha (b-x)^\\beta$, where $a$ and $b$ are the endpoints of the domain of integration, and both $\\alpha$, $\\beta$ are greater than -1, we issue `quad` with the arguments `weight='alg'` and `wvar=(alpha, beta)`.  This calls the routine `QAWS` from `QUADPACK`.  \n",
    "\n",
    "Let us experiment with the Fresnel-type cosine integral of $g(x) = \\cos(\\pi x/2)/\\sqrt{x}$ on the interval $[0,1]$, and compare with `quadrature`: "
   ]
  },
  {
   "cell_type": "code",
   "execution_count": 36,
   "metadata": {
    "collapsed": false
   },
   "outputs": [
    {
     "name": "stdout",
     "output_type": "stream",
     "text": [
      "1.55978680075\n",
      "(1.5425452942606663, 0.00034831815189706461)\n"
     ]
    },
    {
     "name": "stderr",
     "output_type": "stream",
     "text": [
      "//anaconda/lib/python2.7/site-packages/scipy/integrate/quadrature.py:195: AccuracyWarning: maxiter (50) exceeded. Latest difference = 3.483182e-04\n",
      "  AccuracyWarning)\n"
     ]
    }
   ],
   "source": [
    "In [55]: def f(x): return np.cos(np.pi * x * 0.5)\n",
    "    \n",
    "In [56]: def g(x): return np.cos(np.pi * x * 0.5) / np.sqrt(x)\n",
    "\n",
    "In [57]: value, absolute_error = quad(f, 0, 1, weight='alg', wvar=(-0.5,0)); \\\n",
    "   ....: print value\n",
    "\n",
    "In [58]: print quadrature(g, 0, 1)"
   ]
  },
  {
   "cell_type": "markdown",
   "metadata": {},
   "source": [
    "If the weight function has the form $w(x) = (x-a)^\\alpha  (b-x)^\\beta  \\ln(x-a)$, or $w(x) = (x-a)^\\alpha  (b-x)^\\beta \\ln(b-x)$, or $w(x) = (x-a)^\\alpha  (b-x)^\\beta  \\ln(x-a)  \\ln(b-x)$, we issue `quad` with the arguments `weight='alg-loga'`, `weight='alg-logb'`, or `weight='alg-log'` respectively, and on each case, `wvar=(alpha, beta)`.\n",
    "\n",
    "For example, for the function $g(x) = x^2  \\ln(x)$ on the interval $[0,1]$, we could issue:"
   ]
  },
  {
   "cell_type": "code",
   "execution_count": 37,
   "metadata": {
    "collapsed": false
   },
   "outputs": [
    {
     "name": "stdout",
     "output_type": "stream",
     "text": [
      "-0.111111111111\n"
     ]
    }
   ],
   "source": [
    "In [59]: def f(x): return x**2\n",
    "    \n",
    "In [60]: def g(x): return x**2 * np.log(x)\n",
    "\n",
    "In [61]: value, absolute_error = quad(f, 0, 1, weight='alg-loga', wvar=(0,0)); \\\n",
    "   ....: print value"
   ]
  },
  {
   "cell_type": "markdown",
   "metadata": {},
   "source": [
    "#### General functions with singularities\n",
    "\n",
    "In general, we may be handling functions with singularities that do not conform to the nice form $f(x) w(x)$.  In that case, if we are aware of the locations of the singularities, we may indicate so to the integrator `quad` with the optional argument `points`.   In this case, `quad` calls the routine `QAGP` in `QUADPACK`.\n",
    "\n",
    "For example, for the function $g(x) = \\lfloor x\\rfloor  \\ln(x)$ that observes a singularity on each integer number, to integrate in the interval $[1,8]$ we could issue:"
   ]
  },
  {
   "cell_type": "code",
   "execution_count": 38,
   "metadata": {
    "collapsed": false
   },
   "outputs": [
    {
     "data": {
      "text/plain": [
       "(45.802300241541005, 5.085076830895319e-13)"
      ]
     },
     "execution_count": 38,
     "metadata": {},
     "output_type": "execute_result"
    }
   ],
   "source": [
    "In [62]: def g(x): return np.floor(x) * np.log(x)\n",
    "\n",
    "In [63]: quad(g, 1, 8, points=np.arange(8)+1)"
   ]
  },
  {
   "cell_type": "markdown",
   "metadata": {},
   "source": [
    "Compare to a simple `quad` computation without indicating singularities:"
   ]
  },
  {
   "cell_type": "code",
   "execution_count": 39,
   "metadata": {
    "collapsed": false
   },
   "outputs": [
    {
     "name": "stderr",
     "output_type": "stream",
     "text": [
      "//anaconda/lib/python2.7/site-packages/scipy/integrate/quadpack.py:352: IntegrationWarning: The maximum number of subdivisions (50) has been achieved.\n",
      "  If increasing the limit yields no improvement it is advised to analyze \n",
      "  the integrand in order to determine the difficulties.  If the position of a \n",
      "  local difficulty can be determined (singularity, discontinuity) one will \n",
      "  probably gain from splitting up the interval and calling the integrator \n",
      "  on the subranges.  Perhaps a special-purpose integrator should be used.\n",
      "  warnings.warn(msg, IntegrationWarning)\n"
     ]
    },
    {
     "data": {
      "text/plain": [
       "(45.80231242134967, 8.09803045669355e-05)"
      ]
     },
     "execution_count": 39,
     "metadata": {},
     "output_type": "execute_result"
    }
   ],
   "source": [
    "In [64]: quad(g, 1, 8)"
   ]
  },
  {
   "cell_type": "markdown",
   "metadata": {},
   "source": [
    "### Integration on Unbounded Domains\n",
    "\n",
    "The versatile integrator `quad` is also able to compute definite integrals on unbounded domains using adaptive quadrature formulas, by means of a call to the routine `QAGI` from `QUADPACK`.  This process does not work  with `'cauchy'`, or any of the `'alg'`-type weight options.\n",
    "\n",
    "In general, if the functions to integrate do not present singularities, the approximations are reliable.  Presence of singularities gives unreliable integrals, as the second example below suggests:"
   ]
  },
  {
   "cell_type": "code",
   "execution_count": 41,
   "metadata": {
    "collapsed": false
   },
   "outputs": [
    {
     "name": "stdout",
     "output_type": "stream",
     "text": [
      "1.0\n",
      "2.24786796347\n",
      "pi/2\n"
     ]
    }
   ],
   "source": [
    "In [65]: def f(x): return 2 * np.exp(-x**2) / np.sqrt(np.pi)\n",
    "\n",
    "In [66]: value, absolute_error = quad(f, 0, np.inf); \\\n",
    "   ....: print value                                  # See In [16]\n",
    "\n",
    "In [67]: def f(x): return np.sin(x)/x\n",
    "\n",
    "In [68]: value, absolute_error = quad(f, 0, np.inf); \\\n",
    "   ....: print value\n",
    "\n",
    "In [69]: print integrate(Sin(x)/x, (x, 0, oo))"
   ]
  },
  {
   "cell_type": "markdown",
   "metadata": {},
   "source": [
    "For the case of oscillatory integrals in unbounded domains, besides issuing `quad` with the argument `weight='cos'` or `weight='sin'`, and the corresponding `wvar` parameter, we may also place an upper bound on the number of cycles to use internally.  We do so by setting the optional argument `limlst` to the desired bound.  It is usually a good idea to set it to something larger than 3.  \n",
    "\n",
    "For example, for the Fourier-like integral of the sinc function in the interval $[1, \\infty]$, we could issue"
   ]
  },
  {
   "cell_type": "code",
   "execution_count": 44,
   "metadata": {
    "collapsed": false
   },
   "outputs": [
    {
     "name": "stdout",
     "output_type": "stream",
     "text": [
      "(0.636293340511029, 1.3041427865109276)\n",
      "(0.6247132564795975, 1.4220476353655983e-08)\n"
     ]
    }
   ],
   "source": [
    "In [70]: def f(x): return 1./x\n",
    "\n",
    "In [71]: print quad(f, 1, np.inf, weight='sin', wvar=1, limlst=5)\n",
    "    \n",
    "In [72]: print quad(f, 1, np.inf, weight='sin', wvar=1, limlst=50)"
   ]
  },
  {
   "cell_type": "markdown",
   "metadata": {},
   "source": [
    "### Numerical Multivariate Integration\n",
    "\n",
    "It is also possible to perform multi-variate numerical integration on different domains, through application of adaptive Gaussian quadrature rules.  In the module `scipy.integrate` we have to this effect the routines `dblquad` (double integrals), `tplquad` (triple integrals), and `nquad` (integration over multiple variables).\n",
    "\n",
    "These routines can only compute definite integrals over type I regions:\n",
    "\n",
    "* In two dimensions, a type I domain can be written in the form $\\{(x,y) : a<x<b, f(x)<y<h(x)\\}$ for two numbers $a$, $b$ and two univariate functions $f(x), h(x)$.\n",
    "* In three dimensions, a type I region can be written in the form $\\{(x,y,z) : a<x<b, f(x)<y<h(x), q(x,y)<z<r(x,y)\\}$ for numbers $a$, $b$, univariate functions $f(x), h(x)$, and bivariate functions $q(x,y), r(x,y)$.\n",
    "* In more than three dimensions, type I regions can be written sequentially in a similar manner as its double and triple counterparts: The first variable is bounded by two numbers.  The second variable is bounded by two univariate functions of the first variable.  The third variable is bounded by two bivariate functions of the two first variables, and so on.\n",
    "\n",
    "Let us run a numerical integration over the function of the example in `In [18]`.  Note the order in which the different variables must be introduced in the definition of the function to be integrated.\n"
   ]
  },
  {
   "cell_type": "code",
   "execution_count": 45,
   "metadata": {
    "collapsed": false
   },
   "outputs": [
    {
     "data": {
      "text/plain": [
       "(0.7853981633973343, 6.294671496421311e-09)"
      ]
     },
     "execution_count": 45,
     "metadata": {},
     "output_type": "execute_result"
    }
   ],
   "source": [
    "In [73]: def f(x, y): return np.exp(-x**2 - y**2)\n",
    "\n",
    "In [74]: from scipy.integrate import dblquad\n",
    "\n",
    "In [75]: dblquad(f, 0, np.inf, lambda x:0, lambda x:np.inf)"
   ]
  },
  {
   "cell_type": "code",
   "execution_count": null,
   "metadata": {
    "collapsed": true
   },
   "outputs": [],
   "source": []
  }
 ],
 "metadata": {
  "kernelspec": {
   "display_name": "Python 2",
   "language": "python",
   "name": "python2"
  },
  "language_info": {
   "codemirror_mode": {
    "name": "ipython",
    "version": 2
   },
   "file_extension": ".py",
   "mimetype": "text/x-python",
   "name": "python",
   "nbconvert_exporter": "python",
   "pygments_lexer": "ipython2",
   "version": "2.7.10"
  }
 },
 "nbformat": 4,
 "nbformat_minor": 0
}
