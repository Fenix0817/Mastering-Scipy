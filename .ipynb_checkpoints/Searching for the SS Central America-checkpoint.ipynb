{
 "metadata": {
  "celltoolbar": "Slideshow",
  "name": "",
  "signature": "sha256:3221f1c066b84d697b4a00f6442b012fb5c3bc5105a36bb765b41a5ac7f972ab"
 },
 "nbformat": 3,
 "nbformat_minor": 0,
 "worksheets": [
  {
   "cells": [
    {
     "cell_type": "markdown",
     "metadata": {
      "slideshow": {
       "slide_type": "slide"
      }
     },
     "source": [
      "# Searching for the SS Central America\n",
      "\n",
      "<img src=\"https://farm6.staticflickr.com/5582/15072819006_39df81b2a6_d.jpg\">\n",
      "\n",
      "> Francisco Blanco-Silva\n",
      "\n",
      "> Department of Mathematics\n",
      "\n",
      "> University of South Carolina"
     ]
    },
    {
     "cell_type": "code",
     "collapsed": false,
     "input": [],
     "language": "python",
     "metadata": {
      "slideshow": {
       "slide_type": "slide"
      }
     },
     "outputs": [],
     "prompt_number": 0
    }
   ],
   "metadata": {}
  }
 ]
}