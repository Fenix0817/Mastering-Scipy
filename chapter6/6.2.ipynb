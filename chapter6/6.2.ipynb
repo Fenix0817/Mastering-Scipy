{
 "cells": [
  {
   "cell_type": "code",
   "execution_count": null,
   "metadata": {
    "collapsed": true
   },
   "outputs": [],
   "source": [
    "import numpy as np, matplotlib.pyplot as plt\n",
    "from sympy.geometry import Point, convex_hull\n",
    "from scipy.spatial import ConvexHull\n",
    "\n",
    "%matplotlib inline\n",
    "\n",
    "def read_poly(file_name):\n",
    "    \"\"\"\n",
    "    Simple poly-file reader, that creates a python dictionary \n",
    "    with information about vertices, edges and holes.\n",
    "    It assumes that vertices have no attributes or boundary markers.\n",
    "    It assumes that edges have no boundary markers.\n",
    "    No regional attributes or area constraints are parsed.\n",
    "    \"\"\"\n",
    "    \n",
    "    output = {'vertices': None, 'holes': None, 'segments': None}\n",
    "\n",
    "    # open file and store lines in a list\n",
    "    file = open(file_name, 'r')\n",
    "    lines = file.readlines()\n",
    "    file.close()\n",
    "    lines = [x.strip('\\n').split() for x in lines]\n",
    "\n",
    "    # Store vertices\n",
    "    vertices= []\n",
    "    N_vertices, dimension, attr, bdry_markers = [int(x) for x in lines[0]]\n",
    "    # We assume attr = bdrt_markers = 0\n",
    "    for k in range(N_vertices):\n",
    "        label, x, y = [items for items in lines[k+1]]\n",
    "        vertices.append([float(x), float(y)])\n",
    "        \n",
    "    output['vertices'] = np.array(vertices)\n",
    "\n",
    "    # Store segments\n",
    "    segments = []\n",
    "    N_segments, bdry_markers = [int(x) for x in lines[N_vertices+1]]\n",
    "    for k in range(N_segments):\n",
    "        label, pointer_1, pointer_2 = [items for items in lines[N_vertices+k+2]]\n",
    "        segments.append([int(pointer_1)-1, int(pointer_2)-1])\n",
    "\n",
    "    output['segments'] = np.array(segments)\n",
    "\n",
    "    # Store holes\n",
    "    N_holes = int(lines[N_segments+N_vertices+2][0])\n",
    "    holes = []\n",
    "    for k in range(N_holes):\n",
    "        label, x, y = [items for items in lines[N_segments + N_vertices + 3 + k]]\n",
    "        holes.append([float(x), float(y)])\n",
    "\n",
    "    output['holes'] = np.array(holes)\n",
    "\n",
    "    return output"
   ]
  },
  {
   "cell_type": "code",
   "execution_count": null,
   "metadata": {
    "collapsed": false
   },
   "outputs": [],
   "source": [
    "lake_superior = read_poly(\"superior.poly\")\n",
    "\n",
    "vertices_ls = lake_superior['vertices']\n",
    "\n",
    "%time hull = ConvexHull(vertices_ls)"
   ]
  },
  {
   "cell_type": "code",
   "execution_count": null,
   "metadata": {
    "collapsed": false
   },
   "outputs": [],
   "source": [
    "vertices_sympy = [Point(x) for x in vertices_ls]\n",
    "\n",
    "%time convex_hull(*vertices_sympy)"
   ]
  },
  {
   "cell_type": "code",
   "execution_count": null,
   "metadata": {
    "collapsed": false
   },
   "outputs": [],
   "source": [
    "plt.figure(figsize=(12,6))\n",
    "plt.xlim(vertices_ls[:,0].min()-0.01, vertices_ls[:,0].max()+0.01)\n",
    "plt.ylim(vertices_ls[:,1].min()-0.01, vertices_ls[:,1].max()+0.01)\n",
    "plt.axis('off')\n",
    "plt.axes().set_aspect('equal')\n",
    "plt.plot(vertices_ls[:,0], vertices_ls[:,1], 'b.')\n",
    "\n",
    "for simplex in hull.simplices:\n",
    "    plt.plot(vertices_ls[simplex, 0], vertices_ls[simplex, 1], 'r-')\n",
    "\n",
    "plt.show()"
   ]
  },
  {
   "cell_type": "code",
   "execution_count": null,
   "metadata": {
    "collapsed": false
   },
   "outputs": [],
   "source": [
    "points = np.random.rand(320, 3)\n",
    "\n",
    "hull = ConvexHull(points)\n",
    "\n",
    "X = hull.points[:, 0]\n",
    "Y = hull.points[:, 1]\n",
    "Z = hull.points[:, 2]\n",
    "\n",
    "from mayavi import mlab\n",
    "\n",
    "mlab.triangular_mesh(X, Y, X, hull.simplices, colormap='gray', opacity=0.5, representation='wireframe')"
   ]
  },
  {
   "cell_type": "code",
   "execution_count": null,
   "metadata": {
    "collapsed": true
   },
   "outputs": [],
   "source": [
    "from scipy.spatial import Voronoi, voronoi_plot_2d\n",
    "\n",
    "vor = Voronoi(vertices_ls)"
   ]
  },
  {
   "cell_type": "code",
   "execution_count": null,
   "metadata": {
    "collapsed": false
   },
   "outputs": [],
   "source": [
    "plt.figure(figsize=(12,6))\n",
    "ax = plt.subplot(111, aspect='equal')\n",
    "voronoi_plot_2d(vor, ax=ax)\n",
    "plt.xlim( 0.45,  0.50)\n",
    "plt.ylim(-0.40, -0.35)\n",
    "plt.show()"
   ]
  },
  {
   "cell_type": "code",
   "execution_count": null,
   "metadata": {
    "collapsed": false
   },
   "outputs": [],
   "source": [
    "vor.point_region"
   ]
  },
  {
   "cell_type": "code",
   "execution_count": null,
   "metadata": {
    "collapsed": false
   },
   "outputs": [],
   "source": [
    "vor.vertices"
   ]
  },
  {
   "cell_type": "code",
   "execution_count": null,
   "metadata": {
    "collapsed": false
   },
   "outputs": [],
   "source": [
    "[vor.vertices[x] for x in vor.regions[vor.point_region[4]]]"
   ]
  },
  {
   "cell_type": "code",
   "execution_count": null,
   "metadata": {
    "collapsed": false
   },
   "outputs": [],
   "source": [
    "vor.ridge_points"
   ]
  },
  {
   "cell_type": "code",
   "execution_count": null,
   "metadata": {
    "collapsed": false
   },
   "outputs": [],
   "source": [
    "from scipy.spatial import Delaunay\n",
    "\n",
    "tri = Delaunay(vertices_ls)\n",
    "\n",
    "plt.figure(figsize=(12,6))\n",
    "plt.xlim(vertices_ls[:,0].min()-0.01, vertices_ls[:,0].max()+0.01)\n",
    "plt.ylim(vertices_ls[:,1].min()-0.01, vertices_ls[:,1].max()+0.01)\n",
    "plt.axes().set_aspect('equal')\n",
    "plt.axis('off')\n",
    "plt.triplot(vertices_ls[:,0], vertices_ls[:,1], tri.simplices, 'k-')\n",
    "plt.plot(vertices_ls[:,0], vertices_ls[:,1], 'r.')\n",
    "plt.show()"
   ]
  },
  {
   "cell_type": "code",
   "execution_count": null,
   "metadata": {
    "collapsed": false
   },
   "outputs": [],
   "source": [
    "from triangle import triangulate, plot as tplot\n",
    "\n",
    "cndt = triangulate(lake_superior, 'p')\n",
    "\n",
    "plt.figure(figsize=(24,12))\n",
    "ax = plt.subplot(111, aspect='equal')\n",
    "tplot.plot(ax, **cndt)\n",
    "plt.show()"
   ]
  },
  {
   "cell_type": "code",
   "execution_count": null,
   "metadata": {
    "collapsed": true
   },
   "outputs": [],
   "source": [
    "cfdt = triangulate(lake_superior, 'pD')"
   ]
  },
  {
   "cell_type": "code",
   "execution_count": null,
   "metadata": {
    "collapsed": false
   },
   "outputs": [],
   "source": [
    "cncfq20dt = triangulate(lake_superior, 'pq20D')\n",
    "\n",
    "plt.figure(figsize=(24,12))\n",
    "ax = plt.subplot(111, aspect='equal')\n",
    "tplot.plot(ax, **cncfq20dt)\n",
    "plt.show()"
   ]
  },
  {
   "cell_type": "code",
   "execution_count": null,
   "metadata": {
    "collapsed": false
   },
   "outputs": [],
   "source": [
    "cncfq20adt = triangulate(lake_superior, 'pq20a.001D')\n",
    "\n",
    "plt.figure(figsize=(24,12))\n",
    "ax = plt.subplot(111, aspect='equal')\n",
    "tplot.plot(ax, **cncfq20adt)\n",
    "plt.show()"
   ]
  },
  {
   "cell_type": "code",
   "execution_count": null,
   "metadata": {
    "collapsed": true
   },
   "outputs": [],
   "source": [
    "X = cncfq20adt['triangles'][:,0]\n",
    "Y = cncfq20adt['triangles'][:,1]\n",
    "Z = cncfq20adt['triangles'][:,2]\n",
    "\n",
    "Xvert = [cncfq20adt['vertices'][x] for x in X]\n",
    "Yvert = [cncfq20adt['vertices'][y] for y in Y]\n",
    "Zvert = [cncfq20adt['vertices'][z] for z in Z]\n",
    "\n",
    "from scipy.spatial import minkowski_distance\n",
    "\n",
    "lengthsXY = minkowski_distance(Xvert, Yvert)\n",
    "lengthsXZ = minkowski_distance(Xvert, Zvert)\n",
    "lengthsYZ = minkowski_distance(Yvert, Zvert)"
   ]
  },
  {
   "cell_type": "code",
   "execution_count": null,
   "metadata": {
    "collapsed": false
   },
   "outputs": [],
   "source": [
    "from scipy.sparse import lil_matrix\n",
    "from scipy.sparse.csgraph import shortest_path\n",
    "\n",
    "nvert = len(cncfq20adt['vertices'])\n",
    "G = lil_matrix((nvert, nvert))\n",
    "\n",
    "for k in range(len(X)):\n",
    "    G[X[k], Y[k]] = G[Y[k], X[k]] = lengthsXY[k]\n",
    "    G[X[k], Z[k]] = G[Z[k], X[k]] = lengthsXZ[k]\n",
    "    G[Y[k], Z[k]] = G[Z[k], Y[k]] = lengthsYZ[k]\n",
    "    \n",
    "dist_matrix, pred = shortest_path(G, return_predecessors=True, directed=True, unweighted=False)\n",
    "\n",
    "index = 370\n",
    "path = [370]\n",
    "\n",
    "while index != 197:\n",
    "    index = pred[197, index]\n",
    "    path.append(index)\n",
    "\n",
    "print path"
   ]
  },
  {
   "cell_type": "code",
   "execution_count": null,
   "metadata": {
    "collapsed": false
   },
   "outputs": [],
   "source": [
    "plt.figure(figsize=(24,12))\n",
    "ax = plt.subplot(111, aspect='equal')\n",
    "tplot.plot(ax, **cncfq20adt)\n",
    "\n",
    "Xs = [cncfq20adt['vertices'][x][0] for x in path]\n",
    "Ys = [cncfq20adt['vertices'][x][1] for x in path]\n",
    "\n",
    "ax.plot(Xs, Ys, '-', linewidth=5, color='blue')\n",
    "plt.show()"
   ]
  }
 ],
 "metadata": {
  "kernelspec": {
   "display_name": "Python 2",
   "language": "python",
   "name": "python2"
  },
  "language_info": {
   "codemirror_mode": {
    "name": "ipython",
    "version": 2
   },
   "file_extension": ".py",
   "mimetype": "text/x-python",
   "name": "python",
   "nbconvert_exporter": "python",
   "pygments_lexer": "ipython2",
   "version": "2.7.10"
  }
 },
 "nbformat": 4,
 "nbformat_minor": 0
}
