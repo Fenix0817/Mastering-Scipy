{
 "cells": [
  {
   "cell_type": "code",
   "execution_count": null,
   "metadata": {
    "collapsed": false
   },
   "outputs": [],
   "source": [
    "import numpy as np, matplotlib.pyplot as plt\n",
    "import matplotlib.patches as patches\n",
    "from matplotlib.path import Path\n",
    "\n",
    "%matplotlib inline\n",
    "\n",
    "def bezier_parabola(P1, P2, P3):\n",
    "   return Path([P1, P2, P3],\n",
    "               [Path.MOVETO, Path.CURVE3, Path.CURVE3])\n",
    "\n",
    "def bezier_cubic(P1, P2, P3, P4):\n",
    "    return Path([P1, P2, P3, P4],\n",
    "                [Path.MOVETO, Path.CURVE4, Path.CURVE4, Path.CURVE4])\n",
    "\n",
    "def plot_path(path, labels=None):\n",
    "    Xs, Ys = zip(*path.vertices)\n",
    "    fig = plt.figure(figsize=(12,6))\n",
    "    ax  = fig.add_subplot(111, aspect='equal')\n",
    "    ax.set_xlim(min(Xs)-0.2, max(Xs)+0.2)\n",
    "    ax.set_ylim(min(Ys)-0.2, max(Ys)+0.2)\n",
    "    patch = patches.PathPatch(path, facecolor='none', linewidth=2)\n",
    "    ax.add_patch(patch)\n",
    "    ax.plot(Xs, Ys, 'o--', color='blue', linewidth=1)\n",
    "    if labels:\n",
    "        for k in range(len(labels)):\n",
    "            ax.text(path.vertices[k][0]-0.1, path.vertices[k][1]-0.1, labels[k])\n",
    "    plt.show()"
   ]
  },
  {
   "cell_type": "code",
   "execution_count": null,
   "metadata": {
    "collapsed": false
   },
   "outputs": [],
   "source": [
    "P1 = (0.0, 0.0)\n",
    "P2 = (1.0, 1.0)\n",
    "P3 = (2.0, 0.0)\n",
    "path_1 = bezier_parabola(P1, P2, P3)\n",
    "plot_path(path_1, labels=['P1', 'P2', 'P3'])"
   ]
  },
  {
   "cell_type": "code",
   "execution_count": null,
   "metadata": {
    "collapsed": false
   },
   "outputs": [],
   "source": [
    "P4 = (2.0, -1.0)\n",
    "P5 = (3.0, 0.0)\n",
    "path_2 = bezier_cubic(P1, P2, P4, P5)\n",
    "plot_path(path_2, labels=['P1', 'P2', 'P4', 'P5'])"
   ]
  },
  {
   "cell_type": "code",
   "execution_count": null,
   "metadata": {
    "collapsed": false
   },
   "outputs": [],
   "source": [
    "Q1 = P5\n",
    "Q2 = (4.0, 0.0)\n",
    "Q3 = (5.0, -1.0)\n",
    "Q4 = (6.0, 0.0)\n",
    "path_3 = bezier_cubic(P1, P2, P3, P5)\n",
    "path_4 = bezier_cubic(Q1, Q2, Q3, Q4)\n",
    "plot_path(Path.make_compound_path(path_3, path_4), labels=['P1', 'P2', 'P3', 'P5=Q1', 'P5=Q1', 'Q2', 'Q3', 'Q4'])"
   ]
  },
  {
   "cell_type": "code",
   "execution_count": null,
   "metadata": {
    "collapsed": false
   },
   "outputs": [],
   "source": [
    "def rotation(point, angle):\n",
    "    return (np.cos(angle)*point[0] - np.sin(angle)*point[1], \n",
    "            np.sin(angle)*point[0] + np.cos(angle)*point[1])\n",
    "\n",
    "new_Ps = [rotation(P, np.pi/3) for P in path_3.vertices]\n",
    "new_Qs = [rotation(Q, np.pi/3) for Q in path_4.vertices]\n",
    "path_5 = bezier_cubic(*new_Ps)\n",
    "path_6 = bezier_cubic(*new_Qs)\n",
    "plot_path(Path.make_compound_path(path_5, path_6))"
   ]
  }
 ],
 "metadata": {
  "kernelspec": {
   "display_name": "Python 2",
   "language": "python",
   "name": "python2"
  },
  "language_info": {
   "codemirror_mode": {
    "name": "ipython",
    "version": 2
   },
   "file_extension": ".py",
   "mimetype": "text/x-python",
   "name": "python",
   "nbconvert_exporter": "python",
   "pygments_lexer": "ipython2",
   "version": "2.7.10"
  }
 },
 "nbformat": 4,
 "nbformat_minor": 0
}
