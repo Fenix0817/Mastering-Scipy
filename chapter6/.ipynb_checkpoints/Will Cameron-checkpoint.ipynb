{
 "cells": [
  {
   "cell_type": "code",
   "execution_count": 1,
   "metadata": {
    "collapsed": true
   },
   "outputs": [],
   "source": [
    "from sympy import init_printing, symbols, simplify, Function, integrate\n",
    "init_printing()"
   ]
  },
  {
   "cell_type": "code",
   "execution_count": 9,
   "metadata": {
    "collapsed": false
   },
   "outputs": [],
   "source": [
    "c, x, y, z,s, chi, tau = symbols('c x y z s chi tau', real=True)\n",
    "L, t = symbols('L t', positive=True)\n",
    "a, b, C, phi, Psi = symbols('a b C phi Psi', cls=Function)"
   ]
  },
  {
   "cell_type": "code",
   "execution_count": 10,
   "metadata": {
    "collapsed": true
   },
   "outputs": [],
   "source": [
    "def dlambert(c, phi, Psi):\n",
    "    return (phi(x+c*t) + phi(x-c*t))/2 + integrate(Psi(s), (s, x-c*t, x+c*t))/(2*c)"
   ]
  },
  {
   "cell_type": "code",
   "execution_count": 11,
   "metadata": {
    "collapsed": false
   },
   "outputs": [
    {
     "data": {
      "image/png": "[encoded data removed]",
      "text/latex": [
       "$$\\frac{1}{2} \\phi{\\left (- c t + x \\right )} + \\frac{1}{2} \\phi{\\left (c t + x \\right )} + \\frac{1}{2 c} \\int_{- c t + x}^{c t + x} \\Psi{\\left (s \\right )}\\, ds$$"
      ],
      "text/plain": [
       "                           c⋅t + x         \n",
       "                              ⌠            \n",
       "                              ⎮     Ψ(s) ds\n",
       "                              ⌡            \n",
       "φ(-c⋅t + x)   φ(c⋅t + x)   -c⋅t + x        \n",
       "─────────── + ────────── + ────────────────\n",
       "     2            2              2⋅c       "
      ]
     },
     "execution_count": 11,
     "metadata": {},
     "output_type": "execute_result"
    }
   ],
   "source": [
    "dlambert(c, phi, Psi)"
   ]
  },
  {
   "cell_type": "code",
   "execution_count": 29,
   "metadata": {
    "collapsed": false
   },
   "outputs": [
    {
     "data": {
      "image/png": "[encoded data removed]",
      "text/latex": [
       "$$- 27 t^{2} x + 18 t^{2} - x^{3} + 2 x^{2}$$"
      ],
      "text/plain": [
       "      2         2    3      2\n",
       "- 27⋅t ⋅x + 18⋅t  - x  + 2⋅x "
      ]
     },
     "execution_count": 29,
     "metadata": {},
     "output_type": "execute_result"
    }
   ],
   "source": [
    "sol = simplify(dlambert(3, lambda w: (2-w)*w**2, lambda w: 0))\n",
    "sol"
   ]
  },
  {
   "cell_type": "code",
   "execution_count": 41,
   "metadata": {
    "collapsed": false
   },
   "outputs": [],
   "source": [
    "b = sol.replace(x, (3*tau-chi)/2).replace(t, (3*tau-chi)/6).replace(chi,x).replace(tau,t)"
   ]
  },
  {
   "cell_type": "code",
   "execution_count": 52,
   "metadata": {
    "collapsed": false
   },
   "outputs": [],
   "source": [
    "C = sol.replace(x, (chi+3*tau)/2).replace(t, (3*tau+chi)/6).replace(chi,x).replace(tau,t)"
   ]
  },
  {
   "cell_type": "code",
   "execution_count": 53,
   "metadata": {
    "collapsed": false
   },
   "outputs": [
    {
     "data": {
      "image/png": "[encoded data removed]",
      "text/latex": [
       "$$- 27 \\left(\\frac{t}{2} + \\frac{x}{6}\\right)^{2} \\left(\\frac{3 t}{2} + \\frac{x}{2}\\right) + 18 \\left(\\frac{t}{2} + \\frac{x}{6}\\right)^{2} - \\left(\\frac{3 t}{2} + \\frac{x}{2}\\right)^{3} + 2 \\left(\\frac{3 t}{2} + \\frac{x}{2}\\right)^{2}$$"
      ],
      "text/plain": [
       "            2                       2            3              2\n",
       "     ⎛t   x⎞  ⎛3⋅t   x⎞      ⎛t   x⎞    ⎛3⋅t   x⎞      ⎛3⋅t   x⎞ \n",
       "- 27⋅⎜─ + ─⎟ ⋅⎜─── + ─⎟ + 18⋅⎜─ + ─⎟  - ⎜─── + ─⎟  + 2⋅⎜─── + ─⎟ \n",
       "     ⎝2   6⎠  ⎝ 2    2⎠      ⎝2   6⎠    ⎝ 2    2⎠      ⎝ 2    2⎠ "
      ]
     },
     "execution_count": 53,
     "metadata": {},
     "output_type": "execute_result"
    }
   ],
   "source": [
    "C"
   ]
  },
  {
   "cell_type": "code",
   "execution_count": 54,
   "metadata": {
    "collapsed": false
   },
   "outputs": [],
   "source": [
    "C_func = lambda t0,x0: C.replace(t,t0).replace(x,x0)"
   ]
  },
  {
   "cell_type": "code",
   "execution_count": 55,
   "metadata": {
    "collapsed": false
   },
   "outputs": [],
   "source": [
    "b_func = lambda t0,x0: b.replace(t,t0).replace(x,x0)"
   ]
  },
  {
   "cell_type": "code",
   "execution_count": 56,
   "metadata": {
    "collapsed": true
   },
   "outputs": [],
   "source": [
    "a_func = lambda t0,x0: 18*(t0-x0/3)**2"
   ]
  },
  {
   "cell_type": "code",
   "execution_count": 57,
   "metadata": {
    "collapsed": false
   },
   "outputs": [
    {
     "data": {
      "image/png": "[encoded data removed]",
      "text/latex": [
       "$$288$$"
      ],
      "text/plain": [
       "288"
      ]
     },
     "execution_count": 57,
     "metadata": {},
     "output_type": "execute_result"
    }
   ],
   "source": [
    "a_func(6,7)"
   ]
  },
  {
   "cell_type": "code",
   "execution_count": 58,
   "metadata": {
    "collapsed": true
   },
   "outputs": [],
   "source": [
    "a = 18*(t-x/3)**2"
   ]
  },
  {
   "cell_type": "code",
   "execution_count": 59,
   "metadata": {
    "collapsed": false
   },
   "outputs": [
    {
     "data": {
      "image/png": "[encoded data removed]",
      "text/latex": [
       "$$18 \\left(t - \\frac{x}{3}\\right)^{2}$$"
      ],
      "text/plain": [
       "          2\n",
       "   ⎛    x⎞ \n",
       "18⋅⎜t - ─⎟ \n",
       "   ⎝    3⎠ "
      ]
     },
     "execution_count": 59,
     "metadata": {},
     "output_type": "execute_result"
    }
   ],
   "source": [
    "a"
   ]
  },
  {
   "cell_type": "code",
   "execution_count": 60,
   "metadata": {
    "collapsed": true
   },
   "outputs": [],
   "source": [
    "region = a + C - b"
   ]
  },
  {
   "cell_type": "code",
   "execution_count": 61,
   "metadata": {
    "collapsed": false
   },
   "outputs": [
    {
     "data": {
      "image/png": "[encoded data removed]",
      "text/latex": [
       "$$27 \\left(\\frac{t}{2} - \\frac{x}{6}\\right)^{2} \\left(\\frac{3 t}{2} - \\frac{x}{2}\\right) - 18 \\left(\\frac{t}{2} - \\frac{x}{6}\\right)^{2} - 27 \\left(\\frac{t}{2} + \\frac{x}{6}\\right)^{2} \\left(\\frac{3 t}{2} + \\frac{x}{2}\\right) + 18 \\left(\\frac{t}{2} + \\frac{x}{6}\\right)^{2} + 18 \\left(t - \\frac{x}{3}\\right)^{2} + \\left(\\frac{3 t}{2} - \\frac{x}{2}\\right)^{3} - 2 \\left(\\frac{3 t}{2} - \\frac{x}{2}\\right)^{2} - \\left(\\frac{3 t}{2} + \\frac{x}{2}\\right)^{3} + 2 \\left(\\frac{3 t}{2} + \\frac{x}{2}\\right)^{2}$$"
      ],
      "text/plain": [
       "          2                       2             2                       2     \n",
       "   ⎛t   x⎞  ⎛3⋅t   x⎞      ⎛t   x⎞       ⎛t   x⎞  ⎛3⋅t   x⎞      ⎛t   x⎞      \n",
       "27⋅⎜─ - ─⎟ ⋅⎜─── - ─⎟ - 18⋅⎜─ - ─⎟  - 27⋅⎜─ + ─⎟ ⋅⎜─── + ─⎟ + 18⋅⎜─ + ─⎟  + 18\n",
       "   ⎝2   6⎠  ⎝ 2    2⎠      ⎝2   6⎠       ⎝2   6⎠  ⎝ 2    2⎠      ⎝2   6⎠      \n",
       "\n",
       "        2            3              2            3              2\n",
       " ⎛    x⎞    ⎛3⋅t   x⎞      ⎛3⋅t   x⎞    ⎛3⋅t   x⎞      ⎛3⋅t   x⎞ \n",
       "⋅⎜t - ─⎟  + ⎜─── - ─⎟  - 2⋅⎜─── - ─⎟  - ⎜─── + ─⎟  + 2⋅⎜─── + ─⎟ \n",
       " ⎝    3⎠    ⎝ 2    2⎠      ⎝ 2    2⎠    ⎝ 2    2⎠      ⎝ 2    2⎠ "
      ]
     },
     "execution_count": 61,
     "metadata": {},
     "output_type": "execute_result"
    }
   ],
   "source": [
    "region"
   ]
  },
  {
   "cell_type": "code",
   "execution_count": 62,
   "metadata": {
    "collapsed": false
   },
   "outputs": [
    {
     "data": {
      "image/png": "[encoded data removed]",
      "text/latex": [
       "$$- 27 t^{2} x + 18 t^{2} - x^{3} + 2 x^{2}$$"
      ],
      "text/plain": [
       "      2         2    3      2\n",
       "- 27⋅t ⋅x + 18⋅t  - x  + 2⋅x "
      ]
     },
     "execution_count": 62,
     "metadata": {},
     "output_type": "execute_result"
    }
   ],
   "source": [
    "simplify(region)"
   ]
  },
  {
   "cell_type": "code",
   "execution_count": null,
   "metadata": {
    "collapsed": true
   },
   "outputs": [],
   "source": []
  }
 ],
 "metadata": {
  "kernelspec": {
   "display_name": "Python 2",
   "language": "python",
   "name": "python2"
  },
  "language_info": {
   "codemirror_mode": {
    "name": "ipython",
    "version": 2
   },
   "file_extension": ".py",
   "mimetype": "text/x-python",
   "name": "python",
   "nbconvert_exporter": "python",
   "pygments_lexer": "ipython2",
   "version": "2.7.10"
  }
 },
 "nbformat": 4,
 "nbformat_minor": 0
}
