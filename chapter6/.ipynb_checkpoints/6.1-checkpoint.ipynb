{
 "cells": [
  {
   "cell_type": "markdown",
   "metadata": {},
   "source": [
    "# Computational Geometry\n",
    "\n",
    "## Combinatorial Computational Geometry\n",
    "\n",
    "*Computational Geometry* is a field of mathematics that seeks the development of efficient algorithms to solve problems described in terms of basic geometrical objects.  We differentiate between *Combinatorial Computational Geometry* and *Numerical Computational Geometry*.\n",
    "\n",
    "* Combinatorial Computational Geometry deals with interaction of basic geometrical objects: points, segments, lines, polygons, and polyhedra.  In this setting we have three categories of problems:\n",
    "\n",
    "    * *Static Problems*: The construction of a known target object is required from a set of input geometric objects.\n",
    "    * *Geometric Query Problems*:  Given a set of known objects (the *search space*) and a sought property (the *query*), these problems deal with the search of objects that satisfy the query.\n",
    "    * *Dynamic Problems*: Similar to problems from the previous two categories, with the added challenge that the input is not known in advance, and objects are inserted or deleted between queries/constructions.\n",
    "\n",
    "* Numerical Computational Geometry deals mostly with representation of objects in space described by means of curves, surfaces, and regions in space bounded by those.  \n",
    "\n",
    "Before we proceed to the development and analysis of the different algorithms in those two settings, it pays off to explore the basic background: Plane Geometry.\n",
    "\n",
    "\n",
    "### Plane Geometry\n",
    "\n",
    "The basic Geometry capabilities are usually treated through the Geometry module of the `sympy` libraries.  Rather than giving an academical description of all objects and properties in that module, we discover the most useful ones through a series of small self-explanatory `python` sessions.  \n",
    "\n",
    "We start with the concepts of *point* and *segment*.  The aim is to illustrate how easily we can check for collinearity, compute lengths, midpoints, or slopes of segments, for example.  We also show how to quickly compute the angle between two segments, as well as deciding whether a given point belongs to a segment or not.  The next diagram illustrates an example, which we follow up with code.\n",
    "\n",
    "<img src=\"segments.png\">\n"
   ]
  },
  {
   "cell_type": "code",
   "execution_count": 25,
   "metadata": {
    "collapsed": false
   },
   "outputs": [
    {
     "name": "stdout",
     "output_type": "stream",
     "text": [
      "Are P1, P2, P3 collinear? False\n"
     ]
    }
   ],
   "source": [
    "from sympy.geometry import Point, Segment, Line, Circle, Triangle, Curve\n",
    "\n",
    "P1 = Point(0, 0)\n",
    "P2 = Point(3, 4)\n",
    "P3 = Point(2, -1)\n",
    "P4 = Point(-1, 5)\n",
    "\n",
    "statement = Point.is_collinear(P1, P2, P3)\n",
    "print \"Are P1, P2, P3 collinear?\", statement"
   ]
  },
  {
   "cell_type": "code",
   "execution_count": 9,
   "metadata": {
    "collapsed": false
   },
   "outputs": [
    {
     "name": "stdout",
     "output_type": "stream",
     "text": [
      "Length of segment S1: 5\n",
      "Midpoint of segment S2: Point(1/2, 2)\n",
      "Slope of segment S1: 4/3\n",
      "Intersection of S1 and S2: [Point(9/10, 6/5)]\n",
      "Angle between S1, S2: acos(-sqrt(5)/5)\n",
      "Does S1 contain P3? False\n"
     ]
    }
   ],
   "source": [
    "S1 = Segment(P1, P2)\n",
    "S2 = Segment(P3, P4)\n",
    "\n",
    "print \"Length of segment S1:\", S1.length\n",
    "print \"Midpoint of segment S2:\", S2.midpoint\n",
    "print \"Slope of segment S1:\", S1.slope\n",
    "print \"Intersection of S1 and S2:\", S1.intersection(S2)\n",
    "print \"Angle between S1, S2:\", Segment.angle_between(S1, S2)\n",
    "print \"Does S1 contain P3?\", S1.contains(P3)"
   ]
  },
  {
   "cell_type": "markdown",
   "metadata": {},
   "source": [
    "The next logical geometrical concept is the *line*.  We can perform more interesting operations with lines, and to that effect we have a few more constructors.  We can find their equations, compute the distance between a point and a line, and many other operations.\n",
    "\n",
    "<img src=\"lines.png\">"
   ]
  },
  {
   "cell_type": "code",
   "execution_count": 14,
   "metadata": {
    "collapsed": false
   },
   "outputs": [
    {
     "name": "stdout",
     "output_type": "stream",
     "text": [
      "Parametric equation: Point(4*t + 2, -3*t - 1)\n",
      "Algebraic equation: 3*x + 4*y - 2\n",
      "Does L2 contain P4? False\n",
      "Distance from P4 to L2: 3\n",
      "Is L2 parallel with S2? False\n"
     ]
    }
   ],
   "source": [
    "L1 = Line(P1, P2)\n",
    "L2 = L1.perpendicular_line(P3)\t\t# perpendicular line to L1\n",
    "\n",
    "print \"Parametric equation:\", L2.arbitrary_point()\n",
    "print \"Algebraic equation:\", L2.equation()\n",
    "print \"Does L2 contain P4?\", L2.contains(P4)\n",
    "print \"Distance from P4 to L2:\", L2.distance(P4)\n",
    "print \"Is L2 parallel with S2?\", L1.is_parallel(S2)"
   ]
  },
  {
   "cell_type": "markdown",
   "metadata": {},
   "source": [
    "The next geometrical concept we are to explore is the *circle*.  We may define a circle by its center and radius, or by three points on it.  We can easily compute all of its properties.\n",
    "\n",
    "<img src=\"circles.png\">"
   ]
  },
  {
   "cell_type": "code",
   "execution_count": 15,
   "metadata": {
    "collapsed": false
   },
   "outputs": [
    {
     "name": "stdout",
     "output_type": "stream",
     "text": [
      "Area of C2: 1105*pi/98\n",
      "Radius of C2: sqrt(2210)/14\n",
      "Algebraic equation of C2: (x - 5/14)**2 + (y - 27/14)**2 - 1105/98\n",
      "Center of C2: Point(5/14, 27/14)\n",
      "Circumference of C2: sqrt(2210)*pi/7\n"
     ]
    }
   ],
   "source": [
    "C1 = Circle(P1, 3)\n",
    "C2 = Circle(P2, P3, P4)\n",
    "\n",
    "print \"Area of C2:\", C2.area\n",
    "print \"Radius of C2:\", C2.radius\n",
    "print \"Algebraic equation of C2:\", C2.equation()\n",
    "print \"Center of C2:\", C2.center\n",
    "print \"Circumference of C2:\", C2.circumference"
   ]
  },
  {
   "cell_type": "markdown",
   "metadata": {},
   "source": [
    "Computing intersections with other objects, checking whether a line is tangent to a circle, or finding the tangent lines through an non-interior point, are simple tasks too:"
   ]
  },
  {
   "cell_type": "code",
   "execution_count": 17,
   "metadata": {
    "collapsed": false
   },
   "outputs": [
    {
     "name": "stdout",
     "output_type": "stream",
     "text": [
      "Intersection of C1 and C2:\n",
      "[Point(55/754 + 27*sqrt(6665)/754, -5*sqrt(6665)/754 + 297/754), Point(-27*sqrt(6665)/754 + 55/754, 297/754 + 5*sqrt(6665)/754)]\n",
      "Intersection of S1 and C2:\n",
      "[Point(3, 4)]\n",
      "Is L2 tangent to C2? False\n",
      "Tangent lines to C1 through C1:\n",
      "[Line(Point(-1, 5), Point(-9/26 + 15*sqrt(17)/26, 3*sqrt(17)/26 + 45/26)), Line(Point(-1, 5), Point(-15*sqrt(17)/26 - 9/26, -3*sqrt(17)/26 + 45/26))]\n"
     ]
    }
   ],
   "source": [
    "print \"Intersection of C1 and C2:\\n\", C2.intersection(C1)\n",
    "print \"Intersection of S1 and C2:\\n\", C2.intersection(S1)\n",
    "print \"Is L2 tangent to C2?\", C2.is_tangent(L2)\n",
    "print \"Tangent lines to C1 through C1:\\n\", C1.tangent_lines(P4)"
   ]
  },
  {
   "cell_type": "markdown",
   "metadata": {},
   "source": [
    "The *Triangle* is a very useful basic geometric concept.  Reliable manipulation of these objects is at the core of computational geometry. We need robust and fast algorithms to manipulate and extract information from them. Let us first show the definition of one, together with a series of queries to describe its properties:"
   ]
  },
  {
   "cell_type": "code",
   "execution_count": 21,
   "metadata": {
    "collapsed": false
   },
   "outputs": [
    {
     "name": "stdout",
     "output_type": "stream",
     "text": [
      "Signed area of T: -11/2\n",
      "Angles of T:\n",
      "{Point(3, 4): acos(23*sqrt(26)/130), Point(2, -1): acos(3*sqrt(130)/130), Point(0, 0): acos(2*sqrt(5)/25)}\n",
      "Sides of T:\n",
      "[Segment(Point(0, 0), Point(3, 4)), Segment(Point(2, -1), Point(3, 4)), Segment(Point(0, 0), Point(2, -1))]\n",
      "Perimeter of T: sqrt(5) + 5 + sqrt(26)\n",
      "Is T a right triangle? False\n",
      "Is T equilateral? False\n",
      "Is T scalene? True\n",
      "Is T isosceles? False\n"
     ]
    }
   ],
   "source": [
    "T = Triangle(P1, P2, P3)\n",
    "\n",
    "print \"Signed area of T:\", T.area\n",
    "print \"Angles of T:\\n\", T.angles\n",
    "print \"Sides of T:\\n\", T.sides\n",
    "print \"Perimeter of T:\", T.perimeter\n",
    "print \"Is T a right triangle?\", T.is_right()\n",
    "print \"Is T equilateral?\", T.is_equilateral()\n",
    "print \"Is T scalene?\", T.is_scalene()\n",
    "print \"Is T isosceles?\", T.is_isosceles()"
   ]
  },
  {
   "cell_type": "markdown",
   "metadata": {},
   "source": [
    "Next, note how easily we can obtain representation of the different segments, centers, and circles associated with triangles, as well as the *medial triangle* (the triangle with vertices at the midpoints of the segments)."
   ]
  },
  {
   "cell_type": "code",
   "execution_count": 22,
   "metadata": {
    "collapsed": false
   },
   "outputs": [
    {
     "name": "stdout",
     "output_type": "stream",
     "text": [
      "{Point(3, 4): Segment(Point(4/5, -2/5), Point(3, 4)), Point(2, -1): Segment(Point(6/25, 8/25), Point(2, -1)), Point(0, 0): Segment(Point(0, 0), Point(55/26, -11/26))}\n",
      "Point(10/11, -2/11)\n",
      "{Point(3, 4): Segment(Point(-50 + 10*sqrt(26), -5*sqrt(26) + 25), Point(3, 4)), Point(2, -1): Segment(Point(3*sqrt(5)/(sqrt(5) + sqrt(26)), 4*sqrt(5)/(sqrt(5) + sqrt(26))), Point(2, -1)), Point(0, 0): Segment(Point(0, 0), Point(sqrt(5)/4 + 7/4, -9/4 + 5*sqrt(5)/4))}\n",
      "Point((3*sqrt(5) + 10)/(sqrt(5) + 5 + sqrt(26)), (-5 + 4*sqrt(5))/(sqrt(5) + 5 + sqrt(26)))\n",
      "Circle(Point((3*sqrt(5) + 10)/(sqrt(5) + 5 + sqrt(26)), (-5 + 4*sqrt(5))/(sqrt(5) + 5 + sqrt(26))), -11/(sqrt(5) + 5 + sqrt(26)))\n",
      "-11/(sqrt(5) + 5 + sqrt(26))\n",
      "{Point(3, 4): Segment(Point(1, -1/2), Point(3, 4)), Point(2, -1): Segment(Point(3/2, 2), Point(2, -1)), Point(0, 0): Segment(Point(0, 0), Point(5/2, 3/2))}\n",
      "Point(5/3, 1)\n",
      "Point(45/22, 35/22)\n",
      "Circle(Point(45/22, 35/22), 5*sqrt(130)/22)\n",
      "Triangle(Point(3/2, 2), Point(5/2, 3/2), Point(1, -1/2))\n"
     ]
    }
   ],
   "source": [
    "print T.altitudes\n",
    "print T.orthocenter \t\t# Intersection of the altitudes\n",
    "print T.bisectors()\t\t\t# Angle bisectors\n",
    "print T.incenter \t\t\t# Intersection of angle bisectors\n",
    "print T.incircle\n",
    "print T.inradius\n",
    "print T.medians\n",
    "print T.centroid \t\t\t# Intersection of the medians\n",
    "print T.circumcenter \t\t# Intersection of perpendicular bisectors\n",
    "print T.circumcircle\n",
    "print T.medial"
   ]
  },
  {
   "cell_type": "markdown",
   "metadata": {},
   "source": [
    "Some other interesting operations with triangles:\n",
    "\n",
    "* Intersection with other objects\n",
    "* Computation of the minimum distance from a point to each of the segments.\n",
    "* Checking whether two triangles are similar."
   ]
  },
  {
   "cell_type": "code",
   "execution_count": 23,
   "metadata": {
    "collapsed": false
   },
   "outputs": [
    {
     "name": "stdout",
     "output_type": "stream",
     "text": [
      "[Point(9/5, 12/5), Point(sqrt(113)/26 + 55/26, -11/26 + 5*sqrt(113)/26)]\n",
      "sqrt(26)/11\n",
      "False\n"
     ]
    }
   ],
   "source": [
    "print T.intersection(C1)\n",
    "print T.distance(T.circumcenter)\n",
    "print T.is_similar(Triangle(P1, P2, P4))"
   ]
  },
  {
   "cell_type": "markdown",
   "metadata": {},
   "source": [
    "> The other basic geometrical objects currently coded in the Geometry module are\n",
    "\n",
    "> * `LinearEntity`.  This is a superclass (which we never use directly), with three subclasses `Segment`, `Line` and `Ray`.  `LinearEntity` enjoys the following basic methods:\n",
    "\n",
    ">    * `are_concurrent(o1, o2, ..., on)`\n",
    ">    * `are_parallel(o1, o2)`\n",
    ">    * `are_perpendicular(o1, o2)`\n",
    ">    * `parallel_line(self, Point)`\n",
    ">    * `perpendicular_line(self, Point)`\n",
    ">    * `perpendicular_segment(self, Point)`\n",
    "\n",
    "> * `Ellipse`. An object with a center, together with horizontal and vertical radii.  `Circle` is, as a matter of fact, a subclass of `Ellipse` with both radii equal.\n",
    "> * `Polygon`.  A superclass we can instantiate by listing a set of vertices.  Triangles are a subclass of `Polygon`, for example.  The basic methods of `Polygon` are\n",
    "\n",
    ">    * `area`\n",
    ">    * `perimeter`\n",
    ">    * `centroid`\n",
    ">    * `sides`\n",
    ">    * `vertices`\n",
    "\n",
    "> * `RegularPolygon`.  This is a subclass of `Polygon`, with extra attributes:\n",
    "\n",
    ">    * `apothem`\n",
    ">    * `center`\n",
    ">    * `circumcircle`\n",
    ">    * `exterior_angle`\n",
    ">    * `incircle`\n",
    ">    * `interior_angle`\n",
    ">    * `radius`\n",
    "\n",
    "> For more information about this module, refer to the official `sympy` documentation at docs.sympy.org/dev/modules/geometry.html\n",
    "\n",
    "There is also a _non-basic_ geometric object: A `Curve`, which we define by providing parametric equations, together with the interval of definition of the parameter.  It currently does not have many useful methods, other than those describing its constructors.  Let us illustrate how to deal with these objects.  For example, a three-quarters arc of an ellipse could be coded as follows:\n"
   ]
  },
  {
   "cell_type": "code",
   "execution_count": 26,
   "metadata": {
    "collapsed": false
   },
   "outputs": [],
   "source": [
    "from sympy import var, pi, sin, cos\n",
    "\n",
    "var('t', real=True)\n",
    "\n",
    "Arc = Curve((3*cos(t), 4*sin(t)), (t, 0, 3*pi/4))"
   ]
  },
  {
   "cell_type": "markdown",
   "metadata": {},
   "source": [
    "To end the exposition on basic objects from the geometry module in the `sympy` library, we must mention that we may apply any basic affine transformations to any of the previous objects.  This is done by combination of the methods `reflect`, `rotate`, `translate` and `scale`."
   ]
  },
  {
   "cell_type": "code",
   "execution_count": 27,
   "metadata": {
    "collapsed": false
   },
   "outputs": [
    {
     "name": "stdout",
     "output_type": "stream",
     "text": [
      "Triangle(Point(0, 0), Point(3, 4), Point(-38/25, 41/25))\n",
      "Triangle(Point(7, 1), Point(3, 4), Point(8, 3))\n",
      "Triangle(Point(5, 4), Point(8, 8), Point(7, 3))\n",
      "Triangle(Point(0, 0), Point(27, 4), Point(18, -1))\n",
      "Curve((-2.0*sin(t) + 0.5 + 0.5*pi, 3*cos(t) - 3 + pi), (t, 0, 3*pi/4))\n"
     ]
    }
   ],
   "source": [
    "print T.reflect(L1)\n",
    "print T.rotate(pi/2, P2)\n",
    "print T.translate(5,4)\n",
    "print T.scale(9)\n",
    "print Arc.rotate(pi/2, P3).translate(pi,pi).scale(0.5)"
   ]
  },
  {
   "cell_type": "markdown",
   "metadata": {},
   "source": [
    "With these basic definitions and operations, we are ready to address more complex situations.  Let us explore these new challenges next. \n"
   ]
  },
  {
   "cell_type": "code",
   "execution_count": null,
   "metadata": {
    "collapsed": true
   },
   "outputs": [],
   "source": []
  }
 ],
 "metadata": {
  "kernelspec": {
   "display_name": "Python 2",
   "language": "python",
   "name": "python2"
  },
  "language_info": {
   "codemirror_mode": {
    "name": "ipython",
    "version": 2
   },
   "file_extension": ".py",
   "mimetype": "text/x-python",
   "name": "python",
   "nbconvert_exporter": "python",
   "pygments_lexer": "ipython2",
   "version": "2.7.10"
  }
 },
 "nbformat": 4,
 "nbformat_minor": 0
}
