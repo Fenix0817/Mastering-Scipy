{
 "cells": [
  {
   "cell_type": "code",
   "execution_count": null,
   "metadata": {
    "collapsed": false
   },
   "outputs": [],
   "source": [
    "from sympy.geometry import Point, Segment, Line, Circle, Triangle, Curve\n",
    "\n",
    "P1 = Point(0, 0)\n",
    "P2 = Point(3, 4)\n",
    "P3 = Point(2, -1)\n",
    "P4 = Point(-1, 5)\n",
    "\n",
    "statement = Point.is_collinear(P1, P2, P3)\n",
    "print \"Are P1, P2, P3 collinear?\", statement"
   ]
  },
  {
   "cell_type": "code",
   "execution_count": null,
   "metadata": {
    "collapsed": false
   },
   "outputs": [],
   "source": [
    "S1 = Segment(P1, P2)\n",
    "S2 = Segment(P3, P4)\n",
    "\n",
    "print \"Length of segment S1:\", S1.length\n",
    "print \"Midpoint of segment S2:\", S2.midpoint\n",
    "print \"Slope of segment S1:\", S1.slope\n",
    "print \"Intersection of S1 and S2:\", S1.intersection(S2)\n",
    "print \"Angle between S1, S2:\", Segment.angle_between(S1, S2)\n",
    "print \"Does S1 contain P3?\", S1.contains(P3)"
   ]
  },
  {
   "cell_type": "code",
   "execution_count": null,
   "metadata": {
    "collapsed": false
   },
   "outputs": [],
   "source": [
    "L1 = Line(P1, P2)\n",
    "L2 = L1.perpendicular_line(P3)\t\t# perpendicular line to L1\n",
    "\n",
    "print \"Parametric equation:\", L2.arbitrary_point()\n",
    "print \"Algebraic equation:\", L2.equation()\n",
    "print \"Does L2 contain P4?\", L2.contains(P4)\n",
    "print \"Distance from P4 to L2:\", L2.distance(P4)\n",
    "print \"Is L2 parallel with S2?\", L1.is_parallel(S2)"
   ]
  },
  {
   "cell_type": "code",
   "execution_count": null,
   "metadata": {
    "collapsed": false
   },
   "outputs": [],
   "source": [
    "C1 = Circle(P1, 3)\n",
    "C2 = Circle(P2, P3, P4)\n",
    "\n",
    "print \"Area of C2:\", C2.area\n",
    "print \"Radius of C2:\", C2.radius\n",
    "print \"Algebraic equation of C2:\", C2.equation()\n",
    "print \"Center of C2:\", C2.center\n",
    "print \"Circumference of C2:\", C2.circumference"
   ]
  },
  {
   "cell_type": "code",
   "execution_count": null,
   "metadata": {
    "collapsed": false
   },
   "outputs": [],
   "source": [
    "print \"Intersection of C1 and C2:\\n\", C2.intersection(C1)\n",
    "print \"Intersection of S1 and C2:\\n\", C2.intersection(S1)\n",
    "print \"Is L2 tangent to C2?\", C2.is_tangent(L2)\n",
    "print \"Tangent lines to C1 through C1:\\n\", C1.tangent_lines(P4)"
   ]
  },
  {
   "cell_type": "code",
   "execution_count": null,
   "metadata": {
    "collapsed": false
   },
   "outputs": [],
   "source": [
    "T = Triangle(P1, P2, P3)\n",
    "\n",
    "print \"Signed area of T:\", T.area\n",
    "print \"Angles of T:\\n\", T.angles\n",
    "print \"Sides of T:\\n\", T.sides\n",
    "print \"Perimeter of T:\", T.perimeter\n",
    "print \"Is T a right triangle?\", T.is_right()\n",
    "print \"Is T equilateral?\", T.is_equilateral()\n",
    "print \"Is T scalene?\", T.is_scalene()\n",
    "print \"Is T isosceles?\", T.is_isosceles()"
   ]
  },
  {
   "cell_type": "code",
   "execution_count": null,
   "metadata": {
    "collapsed": false
   },
   "outputs": [],
   "source": [
    "print T.altitudes\n",
    "print T.orthocenter \t\t# Intersection of the altitudes\n",
    "print T.bisectors()\t\t\t# Angle bisectors\n",
    "print T.incenter \t\t\t# Intersection of angle bisectors\n",
    "print T.incircle\n",
    "print T.inradius\n",
    "print T.medians\n",
    "print T.centroid \t\t\t# Intersection of the medians\n",
    "print T.circumcenter \t\t# Intersection of perpendicular bisectors\n",
    "print T.circumcircle\n",
    "print T.medial"
   ]
  },
  {
   "cell_type": "code",
   "execution_count": null,
   "metadata": {
    "collapsed": false
   },
   "outputs": [],
   "source": [
    "print T.intersection(C1)\n",
    "print T.distance(T.circumcenter)\n",
    "print T.is_similar(Triangle(P1, P2, P4))"
   ]
  },
  {
   "cell_type": "code",
   "execution_count": null,
   "metadata": {
    "collapsed": false
   },
   "outputs": [],
   "source": [
    "from sympy import var, pi, sin, cos\n",
    "\n",
    "var('t', real=True)\n",
    "\n",
    "Arc = Curve((3*cos(t), 4*sin(t)), (t, 0, 3*pi/4))"
   ]
  },
  {
   "cell_type": "code",
   "execution_count": null,
   "metadata": {
    "collapsed": false
   },
   "outputs": [],
   "source": [
    "print T.reflect(L1)\n",
    "print T.rotate(pi/2, P2)\n",
    "print T.translate(5,4)\n",
    "print T.scale(9)\n",
    "print Arc.rotate(pi/2, P3).translate(pi,pi).scale(0.5)"
   ]
  }
 ],
 "metadata": {
  "kernelspec": {
   "display_name": "Python 2",
   "language": "python",
   "name": "python2"
  },
  "language_info": {
   "codemirror_mode": {
    "name": "ipython",
    "version": 2
   },
   "file_extension": ".py",
   "mimetype": "text/x-python",
   "name": "python",
   "nbconvert_exporter": "python",
   "pygments_lexer": "ipython2",
   "version": "2.7.10"
  }
 },
 "nbformat": 4,
 "nbformat_minor": 0
}
