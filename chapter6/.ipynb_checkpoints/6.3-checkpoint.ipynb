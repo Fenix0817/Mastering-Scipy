{
 "cells": [
  {
   "cell_type": "code",
   "execution_count": null,
   "metadata": {
    "collapsed": false
   },
   "outputs": [],
   "source": [
    "from sympy.geometry import Point, Circle, Triangle\n",
    "\n",
    "P1 = Point(0, 0)\n",
    "P2 = Point(1, 0)\n",
    "P3 = Point(-1, 0)\n",
    "P4 = Point(0, 1)\n",
    "\n",
    "C = Circle(P2, P3, P4)\n",
    "T = Triangle(P1, P2, P3)\n",
    "\n",
    "print \"Is P1 inside of C?\", C.encloses_point(P1)\n",
    "print \"Is T inside of C?\", C.encloses(T)"
   ]
  },
  {
   "cell_type": "code",
   "execution_count": null,
   "metadata": {
    "collapsed": true
   },
   "outputs": [],
   "source": [
    "import numpy as np, matplotlib.pyplot as plt\n",
    "from matplotlib.path import Path\n",
    "from scipy.spatial import ConvexHull\n",
    "\n",
    "%matplotlib inline\n",
    "\n",
    "def read_poly(file_name):\n",
    "    \"\"\"\n",
    "    Simple poly-file reader, that creates a python dictionary \n",
    "    with information about vertices, edges and holes.\n",
    "    It assumes that vertices have no attributes or boundary markers.\n",
    "    It assumes that edges have no boundary markers.\n",
    "    No regional attributes or area constraints are parsed.\n",
    "    \"\"\"\n",
    "    \n",
    "    output = {'vertices': None, 'holes': None, 'segments': None}\n",
    "\n",
    "    # open file and store lines in a list\n",
    "    file = open(file_name, 'r')\n",
    "    lines = file.readlines()\n",
    "    file.close()\n",
    "    lines = [x.strip('\\n').split() for x in lines]\n",
    "\n",
    "    # Store vertices\n",
    "    vertices= []\n",
    "    N_vertices, dimension, attr, bdry_markers = [int(x) for x in lines[0]]\n",
    "    # We assume attr = bdrt_markers = 0\n",
    "    for k in range(N_vertices):\n",
    "        label, x, y = [items for items in lines[k+1]]\n",
    "        vertices.append([float(x), float(y)])\n",
    "        \n",
    "    output['vertices'] = np.array(vertices)\n",
    "\n",
    "    # Store segments\n",
    "    segments = []\n",
    "    N_segments, bdry_markers = [int(x) for x in lines[N_vertices+1]]\n",
    "    for k in range(N_segments):\n",
    "        label, pointer_1, pointer_2 = [items for items in lines[N_vertices+k+2]]\n",
    "        segments.append([int(pointer_1)-1, int(pointer_2)-1])\n",
    "\n",
    "    output['segments'] = np.array(segments)\n",
    "\n",
    "    # Store holes\n",
    "    N_holes = int(lines[N_segments+N_vertices+2][0])\n",
    "    holes = []\n",
    "    for k in range(N_holes):\n",
    "        label, x, y = [items for items in lines[N_segments + N_vertices + 3 + k]]\n",
    "        holes.append([float(x), float(y)])\n",
    "\n",
    "    output['holes'] = np.array(holes)\n",
    "\n",
    "    return output"
   ]
  },
  {
   "cell_type": "code",
   "execution_count": null,
   "metadata": {
    "collapsed": true
   },
   "outputs": [],
   "source": [
    "superior = read_poly(\"superior.poly\")\n",
    "\n",
    "hull = ConvexHull(superior['vertices'])\n",
    "\n",
    "my_polygon = Path([hull.points[x] for x in hull.vertices])"
   ]
  },
  {
   "cell_type": "code",
   "execution_count": null,
   "metadata": {
    "collapsed": false
   },
   "outputs": [],
   "source": [
    "X = .25 * np.random.randn(100) + .5\n",
    "Y = .25 * np.random.randn(100) - .5\n",
    "\n",
    "my_polygon.contains_points([[X[k], Y[k]] for k in range(len(X))])"
   ]
  },
  {
   "cell_type": "code",
   "execution_count": null,
   "metadata": {
    "collapsed": false
   },
   "outputs": [],
   "source": [
    "from scipy.spatial import Delaunay, tsearch\n",
    "\n",
    "tri = Delaunay(superior['vertices'])\n",
    "\n",
    "points = zip(X, Y)\n",
    "\n",
    "print tsearch(tri, points)"
   ]
  },
  {
   "cell_type": "code",
   "execution_count": null,
   "metadata": {
    "collapsed": true
   },
   "outputs": [],
   "source": [
    "from scipy.spatial import cKDTree, Voronoi, voronoi_plot_2d\n",
    "\n",
    "vor  = Voronoi(superior['vertices'])\n",
    "tree = cKDTree(superior['vertices'])"
   ]
  },
  {
   "cell_type": "code",
   "execution_count": null,
   "metadata": {
    "collapsed": false
   },
   "outputs": [],
   "source": [
    "tree.query(points)"
   ]
  },
  {
   "cell_type": "code",
   "execution_count": null,
   "metadata": {
    "collapsed": false
   },
   "outputs": [],
   "source": [
    "X = np.linspace( 0.45,  0.50, 256)\n",
    "Y = np.linspace(-0.40, -0.35, 256)\n",
    "canvas = np.meshgrid(X, Y)\n",
    "points = np.c_[canvas[0].ravel(), canvas[1].ravel()]\n",
    "queries = tree.query(points)[1].reshape(256, 256)\n",
    "\n",
    "plt.figure(figsize=(24,12))\n",
    "ax1 = plt.subplot(121, aspect='equal')\n",
    "voronoi_plot_2d(vor, ax=ax1)\n",
    "plt.xlim( 0.45,  0.50)\n",
    "plt.ylim(-0.40, -0.35)\n",
    "\n",
    "ax2 = plt.subplot(122, aspect='equal')\n",
    "plt.gray()\n",
    "plt.pcolor(X, Y, queries)\n",
    "plt.plot(vor.points[:,0], vor.points[:,1], 'ro')\n",
    "plt.xlim( 0.45,  0.50)\n",
    "plt.ylim(-0.40, -0.35)\n",
    "plt.show()"
   ]
  },
  {
   "cell_type": "code",
   "execution_count": null,
   "metadata": {
    "collapsed": false
   },
   "outputs": [],
   "source": [
    "points = np.random.rand(320, 2)\n",
    "range_points = np.random.rand(5, 2)\n",
    "range_radii = 0.1 * np.random.rand(5)\n",
    "\n",
    "tree = cKDTree(points)\n",
    "result = set()\n",
    "\n",
    "for k in range(5):\n",
    "    point  = range_points[k]\n",
    "    radius = range_radii[k]\n",
    "    partial_query = tree.query_ball_point(point, radius)\n",
    "    result = result.union(set(partial_query))\n",
    "\n",
    "print result"
   ]
  },
  {
   "cell_type": "code",
   "execution_count": null,
   "metadata": {
    "collapsed": false
   },
   "outputs": [],
   "source": [
    "fig = plt.figure(figsize=(24,12))\n",
    "plt.axes().set_aspect('equal')\n",
    "\n",
    "for point in points:\n",
    "    plt.plot(point[0], point[1], 'ko')\n",
    "\n",
    "for k in range(5):\n",
    "    point = range_points[k]\n",
    "    radius = range_radii[k]\n",
    "    circle = plt.Circle(point, radius, fill=False)\n",
    "    fig.gca().add_artist(circle)\n",
    "\n",
    "plt.show()"
   ]
  },
  {
   "cell_type": "code",
   "execution_count": null,
   "metadata": {
    "collapsed": false
   },
   "outputs": [],
   "source": [
    "from scipy.spatial import delaunay_plot_2d\n",
    "\n",
    "small_superior = superior['vertices'][:9]\n",
    "\n",
    "tri = Delaunay(small_superior, incremental=True)\n",
    "vor = Voronoi(small_superior, incremental=True)\n",
    "\n",
    "plt.figure(figsize=(24,12))\n",
    "for k in range(4):\n",
    "    tri.add_points(superior['vertices'][10*(k+1):10*(k+2)-1])\n",
    "    vor.add_points(superior['vertices'][10*(k+1):10*(k+2)-1])\n",
    "    ax1 = plt.subplot(4, 2, 2*k+1, aspect='equal')\n",
    "    ax1.set_xlim( 0.00,  1.00)\n",
    "    ax1.set_ylim(-0.70, -0.30)\n",
    "    delaunay_plot_2d(tri, ax1)\n",
    "    ax2 = plt.subplot(4, 2, 2*k+2, aspect='equal')\n",
    "    ax2.set_xlim(0.0, 1.0)\n",
    "    ax2.set_ylim(-0.70, -0.30)\n",
    "    voronoi_plot_2d(vor, ax2)\n",
    "\n",
    "plt.show()"
   ]
  }
 ],
 "metadata": {
  "kernelspec": {
   "display_name": "Python 2",
   "language": "python",
   "name": "python2"
  },
  "language_info": {
   "codemirror_mode": {
    "name": "ipython",
    "version": 2
   },
   "file_extension": ".py",
   "mimetype": "text/x-python",
   "name": "python",
   "nbconvert_exporter": "python",
   "pygments_lexer": "ipython2",
   "version": "2.7.10"
  }
 },
 "nbformat": 4,
 "nbformat_minor": 0
}
