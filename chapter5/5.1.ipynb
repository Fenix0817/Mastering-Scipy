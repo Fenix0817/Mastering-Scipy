{
 "cells": [
  {
   "cell_type": "markdown",
   "metadata": {},
   "source": [
    "# Initial Value Problems for Ordinary Differential Equations\n",
    "\n",
    "Initial value problems for ordinary differential equations (or systems) hardly need any motivation:  They arise naturally in almost all sciences.  In this chapter we will focus on mastering numerical methods to solve these equations.  \n",
    "\n",
    "Throughout the chapter we will explore all the techniques implemented in the `scipy` stack through three common examples:\n",
    "\n",
    "* The trivial differential equation of first order $y'(t)=y(t)$ with initial condition $y(0)=1$.  The actual solution is $y(t) = e^t$.\n",
    "* A more complex differential equation of first order: the *Bernoulli equation* $t y'(t) + 6 y(t) = 3ty(t)^{3/4}$, with initial condition $y(1)=1$.  The actual solution is $y(t) = \\big( 3t^{5/2} + 7\\big)^4/(10000t^6)$\n",
    "* To illustrate the behavior with autonomous systems (where the derivatives do not depend on the time variable), we use a *Lotka-Volterra model* for one predator and one prey: \n",
    "\n",
    "$$\\begin{eqnarray}\n",
    "y'_0(t) &=& y_0(t) - 0.1 y_0(t) y_1(t) \\\\\n",
    "y'_1(y) &=& -1.5 y_1(t) + 0.075 y_0(t) y_1(t)\n",
    "\\end{eqnarray}\n",
    "$$\n",
    "\n",
    "with initial condition $y_0(0) = 10$, and $y_1(0) = 5$ (representing 10 prey and 5 predators at initial time)\n",
    "\n",
    "\n",
    "> Higher-order differential equations can always be transformed into (non-necessarily autonomous) systems of differential equations.  In turn, non-autonomous systems of differential equations can always be turned into autonomous by including a new variable in a smart way.  The techniques to accomplish these transformations are straightforward, and explained in any textbook on differential equations.\n",
    "\n",
    "\n",
    "We have the possibility of solving some differential equations symbolically, and although this is hardly the best way to go about it, we will illustrate some examples for completion.   Reliable solvers are numerical in nature, and in this setting there are mainly two ways to approach this problem: through *analytic approximation methods*, or with *discrete-variable methods*\n",
    "\n",
    "## Symbolic Solution of Differential Equations\n",
    "\n",
    "Symbolic treatment of a few types of differential equations is coded in the `scipy` stack through the module `sympy.solvers.ode`.  At this point, only the following equations are accessible with this method:\n",
    "\n",
    "* First order separable\n",
    "* First order homogeneous\n",
    "* First order exact\n",
    "* First order linear\n",
    "* First order Bernoulli\n",
    "* Second order Liouville\n",
    "* Any order linear equations with constant coefficients\n",
    "\n",
    "On top of these types of equations, other equations might be solvable with the following techniques:\n",
    "\n",
    "* Power series solution for first or second order equations (the latter only at ordinary and regular singular points)\n",
    "* Lie Group method for first order equations\n",
    "\n",
    "Let us see these techniques in action with our one-dimensional examples:"
   ]
  },
  {
   "cell_type": "code",
   "execution_count": 2,
   "metadata": {
    "collapsed": false
   },
   "outputs": [
    {
     "data": {
      "text/plain": [
       "('separable',\n",
       " '1st_exact',\n",
       " '1st_linear',\n",
       " 'almost_linear',\n",
       " '1st_power_series',\n",
       " 'lie_group',\n",
       " 'nth_linear_constant_coeff_homogeneous',\n",
       " 'separable_Integral',\n",
       " '1st_exact_Integral',\n",
       " '1st_linear_Integral',\n",
       " 'almost_linear_Integral')"
      ]
     },
     "execution_count": 2,
     "metadata": {},
     "output_type": "execute_result"
    }
   ],
   "source": [
    "In [1]: from sympy.solvers import ode; \\\n",
    "   ...: from sympy import symbols, Function\n",
    "\n",
    "In [2]: t = symbols('t'); \\\n",
    "   ...: f = Function('f')\n",
    "\n",
    "In [3]: equation1 = f(t).diff(t) - f(t)\n",
    "\n",
    "In [4]: ode.classify_ode(equation1)"
   ]
  },
  {
   "cell_type": "markdown",
   "metadata": {},
   "source": [
    "The equation has been classified as a member of several types.  We can now solve it according to the techniques proper of the corresponding type.  "
   ]
  },
  {
   "cell_type": "code",
   "execution_count": 4,
   "metadata": {
    "collapsed": false
   },
   "outputs": [
    {
     "data": {
      "text/plain": [
       "f(t) == C1*exp(t)"
      ]
     },
     "execution_count": 4,
     "metadata": {},
     "output_type": "execute_result"
    }
   ],
   "source": [
    "In [5]: ode.dsolve(equation1, hint='separable')"
   ]
  },
  {
   "cell_type": "code",
   "execution_count": 5,
   "metadata": {
    "collapsed": false
   },
   "outputs": [
    {
     "data": {
      "text/plain": [
       "f(t) == C1 + C1*t + C1*t**2/2 + C1*t**3/6 + O(t**4)"
      ]
     },
     "execution_count": 5,
     "metadata": {},
     "output_type": "execute_result"
    }
   ],
   "source": [
    "In [6]: ode.dsolve(equation1, hint='1st_power_series', n=4, x0=0.0)"
   ]
  },
  {
   "cell_type": "markdown",
   "metadata": {},
   "source": [
    "Solving initial value problems is also possible, but only for solutions computed as power series of first-order differential equations:\n"
   ]
  },
  {
   "cell_type": "code",
   "execution_count": 6,
   "metadata": {
    "collapsed": false
   },
   "outputs": [
    {
     "data": {
      "text/plain": [
       "f(t) == 1.0 + 1.0*t + 0.5*t**2 + O(t**3)"
      ]
     },
     "execution_count": 6,
     "metadata": {},
     "output_type": "execute_result"
    }
   ],
   "source": [
    "In [7]: ode.dsolve(equation1, hint='1st_power_series', n=3, x0=0, ics={f(0.0): 1.0})"
   ]
  },
  {
   "cell_type": "markdown",
   "metadata": {},
   "source": [
    "Let us explore the second example with these techniques:\n"
   ]
  },
  {
   "cell_type": "code",
   "execution_count": 7,
   "metadata": {
    "collapsed": false
   },
   "outputs": [
    {
     "data": {
      "text/plain": [
       "('Bernoulli', 'lie_group', 'Bernoulli_Integral')"
      ]
     },
     "execution_count": 7,
     "metadata": {},
     "output_type": "execute_result"
    }
   ],
   "source": [
    "In [8]: equation2 = t*f(t).diff(t) + 6*f(t) - 3*t*f(t)**(0.75)\n",
    "\n",
    "In [9]: ode.classify_ode(equation2)"
   ]
  },
  {
   "cell_type": "code",
   "execution_count": 8,
   "metadata": {
    "collapsed": false
   },
   "outputs": [
    {
     "data": {
      "text/plain": [
       "f(t) == (t**(-1.5)*(C1 + 0.3*t**2.5))**4.0"
      ]
     },
     "execution_count": 8,
     "metadata": {},
     "output_type": "execute_result"
    }
   ],
   "source": [
    "In [10]: ode.dsolve(equation2, hint='Bernoulli')"
   ]
  },
  {
   "cell_type": "code",
   "execution_count": 9,
   "metadata": {
    "collapsed": false
   },
   "outputs": [
    {
     "data": {
      "text/plain": [
       "[f(t) == 6.25e-6*(t**6*(625.0*C1**4 + 5400.0*C1*t**5 + 1296.0*t**10) - 120.0*sqrt(C1*t**17*(25.0*C1 + 36.0*t**5)**2))/t**12,\n",
       " f(t) == 6.25e-6*(t**6*(625.0*C1**4 + 5400.0*C1*t**5 + 1296.0*t**10) + 120.0*sqrt(C1*t**17*(25.0*C1 + 36.0*t**5)**2))/t**12]"
      ]
     },
     "execution_count": 9,
     "metadata": {},
     "output_type": "execute_result"
    }
   ],
   "source": [
    "ode.dsolve(equation2, hint='lie_group')"
   ]
  }
 ],
 "metadata": {
  "kernelspec": {
   "display_name": "Python 2",
   "language": "python",
   "name": "python2"
  },
  "language_info": {
   "codemirror_mode": {
    "name": "ipython",
    "version": 2
   },
   "file_extension": ".py",
   "mimetype": "text/x-python",
   "name": "python",
   "nbconvert_exporter": "python",
   "pygments_lexer": "ipython2",
   "version": "2.7.10"
  }
 },
 "nbformat": 4,
 "nbformat_minor": 0
}
