{
 "cells": [
  {
   "cell_type": "code",
   "execution_count": null,
   "metadata": {
    "collapsed": false
   },
   "outputs": [],
   "source": [
    "import numpy as np, matplotlib.pyplot as plt\n",
    "from sympy import mpmath\n",
    "    \n",
    "%matplotlib inline\n",
    "\n",
    "def F(t, y): return y\n",
    "\n",
    "f = mpmath.odefun(F, 0, 1)\n",
    "\n",
    "t = np.linspace(0, 1, 1024)\n",
    "Y1 = np.vectorize(f)(t)\n",
    "Y2 = np.exp(t)\n",
    "   \n",
    "(np.abs(Y1-Y2)).max()"
   ]
  },
  {
   "cell_type": "code",
   "execution_count": null,
   "metadata": {
    "collapsed": false
   },
   "outputs": [],
   "source": [
    "def F(t, y): return 3.0*y**0.75 - 6.0*y/t\n",
    "def g(t): return (3.0*t**2.5 + 7)**4.0/(10000.0*t**6.)\n",
    "\n",
    "f = mpmath.odefun(F, 1.0, 1.0)\n",
    "\n",
    "t = np.linspace(1, 2, 1024)\n",
    "Y1 = np.vectorize(f)(t)\n",
    "Y2 = np.vectorize(g)(t)\n",
    "   \n",
    "(np.abs(Y1-Y2)).max()"
   ]
  },
  {
   "cell_type": "code",
   "execution_count": null,
   "metadata": {
    "collapsed": false
   },
   "outputs": [],
   "source": [
    "def F(t, y): return [y[0]  - 0.1*y[0]*y[1], 0.075*y[0]*y[1] - 1.5*y[1]]\n",
    "\n",
    "f = mpmath.odefun(F, 0.0, [10.0, 5.0])\n",
    "\n",
    "T = [10.0*x/1023. for x in xrange(1024)]\n",
    "X = [f(10.0*x/1023.)[0] for x in xrange(1024)]\n",
    "Y = [f(10.0*x/1023.)[1] for x in xrange(1024)]\n",
    "\n",
    "plt.figure(figsize=(12,6))\n",
    "plt.plot(T, X, 'r--', linewidth=2.0, label='predator')\n",
    "plt.plot(T, Y, 'b-',  linewidth=2.0, label='prey')\n",
    "plt.legend(loc=9)\n",
    "plt.grid()\n",
    "plt.show()"
   ]
  }
 ],
 "metadata": {
  "kernelspec": {
   "display_name": "Python 2",
   "language": "python",
   "name": "python2"
  },
  "language_info": {
   "codemirror_mode": {
    "name": "ipython",
    "version": 2
   },
   "file_extension": ".py",
   "mimetype": "text/x-python",
   "name": "python",
   "nbconvert_exporter": "python",
   "pygments_lexer": "ipython2",
   "version": "2.7.10"
  }
 },
 "nbformat": 4,
 "nbformat_minor": 0
}
