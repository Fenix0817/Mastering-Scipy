{
 "cells": [
  {
   "cell_type": "code",
   "execution_count": null,
   "metadata": {
    "collapsed": false
   },
   "outputs": [],
   "source": [
    "import numpy as np, matplotlib.pyplot as plt\n",
    "from scipy.integrate import ode\n",
    "from scipy.special import t_roots\n",
    "\n",
    "%matplotlib inline \n",
    "\n",
    "def F(t, y): return y\n",
    "\n",
    "solver = ode(F) # solver created"
   ]
  },
  {
   "cell_type": "code",
   "execution_count": null,
   "metadata": {
    "collapsed": false
   },
   "outputs": [],
   "source": [
    "solver.set_initial_value(1.0, 0.0) # y(0) = 1"
   ]
  },
  {
   "cell_type": "code",
   "execution_count": null,
   "metadata": {
    "collapsed": false
   },
   "outputs": [],
   "source": [
    "solver.set_integrator('dopri5')"
   ]
  },
  {
   "cell_type": "code",
   "execution_count": null,
   "metadata": {
    "collapsed": false
   },
   "outputs": [],
   "source": [
    "solver.t, solver.y"
   ]
  },
  {
   "cell_type": "code",
   "execution_count": null,
   "metadata": {
    "collapsed": false
   },
   "outputs": [],
   "source": [
    "nodes = t_roots(10)[0]\n",
    "nodes = (nodes + 1.0) * 0.5\n",
    "\n",
    "for k in range(10):\n",
    "    if solver.successful():\n",
    "        t = nodes[k]\n",
    "        solver.integrate(t)\n",
    "        print \"{0}, {1}, {2}\".format(t, solver.y[0], np.exp(t))"
   ]
  },
  {
   "cell_type": "code",
   "execution_count": null,
   "metadata": {
    "collapsed": false
   },
   "outputs": [],
   "source": [
    "def bernoulli(t, y): return 3*y**(0.75) - 6.0 * y/t\n",
    "def G(t): return (3.0*t**(2.5) + 7.0)**4.0 / (10000.0*t**6.0)\n",
    "\n",
    "T = np.linspace(1, 2, 1024)\n",
    "\n",
    "solver = ode(bernoulli)\n",
    "solver.set_initial_value(1.0, 1.0)\n",
    "solver.set_integrator('dop853')"
   ]
  },
  {
   "cell_type": "code",
   "execution_count": null,
   "metadata": {
    "collapsed": false
   },
   "outputs": [],
   "source": [
    "nodes = t_roots(10)[0]\n",
    "nodes = 1.5 + 0.5 * nodes\n",
    "solution = []\n",
    "\n",
    "for k in range(10):\n",
    "    if solver.successful():\n",
    "        solver.integrate(nodes[k])\n",
    "        solution += [solver.y[0]]\n",
    "\n",
    "from scipy.interpolate import PchipInterpolator\n",
    "\n",
    "interpolant = PchipInterpolator(nodes, solution)\n",
    "\n",
    "plt.figure(figsize=(12,6))\n",
    "plt.plot(T, interpolant(T), 'r--', linewidth=2.0, label='approx.')\n",
    "plt.plot(T, G(T), 'b-', label='true soln.')\n",
    "plt.grid()\n",
    "plt.legend()\n",
    "plt.show()"
   ]
  },
  {
   "cell_type": "code",
   "execution_count": null,
   "metadata": {
    "collapsed": false
   },
   "outputs": [],
   "source": [
    "def volterra(t, y): return [y[0]  - 0.1*y[0]*y[1], 0.075*y[0]*y[1] - 1.5*y[1]]\n",
    "\n",
    "solver = ode(volterra)\n",
    "solver.set_initial_value([10.0, 5.0], 0.0)\n",
    "solver.set_integrator('dop853')"
   ]
  },
  {
   "cell_type": "code",
   "execution_count": null,
   "metadata": {
    "collapsed": false
   },
   "outputs": [],
   "source": [
    "prey = []\n",
    "predator = []\n",
    "\n",
    "while (solver.t < 5.13 and solver.successful()):\n",
    "    solver.integrate(solver.t + 0.01)\n",
    "    prey += [solver.y[0]]\n",
    "    predator += [solver.y[1]]\n",
    "\n",
    "plt.figure(figsize=(12,6))\n",
    "plt.plot(prey, predator)\n",
    "plt.grid()\n",
    "plt.xlabel('number of prey')\n",
    "plt.ylabel('number of predators')\n",
    "plt.show()"
   ]
  },
  {
   "cell_type": "code",
   "execution_count": null,
   "metadata": {
    "collapsed": false
   },
   "outputs": [],
   "source": [
    "solver = ode(bernoulli)\n",
    "solver.set_initial_value(1.0, 1.0)\n",
    "solver.set_integrator('vode', method='BDF')"
   ]
  },
  {
   "cell_type": "code",
   "execution_count": null,
   "metadata": {
    "collapsed": false
   },
   "outputs": [],
   "source": [
    "nodes = t_roots(10)[0]\n",
    "nodes = 1.5 + 0.5 * nodes\n",
    "solution2 = []\n",
    "\n",
    "for k in range(10):\n",
    "    if solver.successful():\n",
    "        solver.integrate(nodes[k])\n",
    "        solution2 += [solver.y[0]]"
   ]
  },
  {
   "cell_type": "code",
   "execution_count": null,
   "metadata": {
    "collapsed": false
   },
   "outputs": [],
   "source": [
    "nodes"
   ]
  },
  {
   "cell_type": "code",
   "execution_count": null,
   "metadata": {
    "collapsed": false
   },
   "outputs": [],
   "source": [
    "for k in range(10):\n",
    "    true_sol = G(nodes[k])\n",
    "    dop853_sol = solution[k]\n",
    "    vode_sol = solution2[k]\n",
    "    print \"{0}, {1}, {2}\".format(true_sol, dop853_sol, vode_sol)"
   ]
  },
  {
   "cell_type": "code",
   "execution_count": null,
   "metadata": {
    "collapsed": false
   },
   "outputs": [],
   "source": [
    "def jacF(t, y):\n",
    "    output = np.zeros((2,2))\n",
    "    output[0,0] = 1.0 - 0.1*y[1]\n",
    "    output[0,1] = -0.1*y[0]\n",
    "    output[1,0] = 0.075*y[1]\n",
    "    output[1,1] = 0.075*y[0] - 1.5\n",
    "    return output\n",
    "\n",
    "solver = ode(volterra, jacF)\n",
    "solver.set_initial_value([10.0, 5.0], 0.0)\n",
    "solver.set_integrator('lsoda', method='adams', with_jacobian=True)\n",
    "\n",
    "prey2 = []\n",
    "predator2  = []\n",
    "\n",
    "while (solver.t < 5.13 and solver.successful()):\n",
    "    solver.integrate(solver.t + 0.01)\n",
    "    prey2 += [solver.y[0]]\n",
    "    predator2 += [solver.y[1]]"
   ]
  }
 ],
 "metadata": {
  "kernelspec": {
   "display_name": "Python 2",
   "language": "python",
   "name": "python2"
  },
  "language_info": {
   "codemirror_mode": {
    "name": "ipython",
    "version": 2
   },
   "file_extension": ".py",
   "mimetype": "text/x-python",
   "name": "python",
   "nbconvert_exporter": "python",
   "pygments_lexer": "ipython2",
   "version": "2.7.10"
  }
 },
 "nbformat": 4,
 "nbformat_minor": 0
}
