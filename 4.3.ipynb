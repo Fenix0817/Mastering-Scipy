{
 "cells": [
  {
   "cell_type": "markdown",
   "metadata": {},
   "source": [
    "## Optimization\n",
    "\n",
    "The optimization problem is best described as the search of a local maximum or minimum value of a scalar-valued function $f(x)$.  This search may be performed for all possible input values in the domain of $f$ (and in this case we refer to this problem as an *unconstrained optimization*), or for a specific sub-domain (and we refer to this other problem as a *constrained optimization*).  In this section we are going to explore both modalities in several settings.\n",
    "\n",
    "### Unconstrained Optimization for univariate functions\n",
    "\n",
    "We focus on the search for local minima of a function $f(x)$ in an interval $[a, b]$ (the search for local maxima can then be regarded as the search of the local minima of the function $-f(x)$ in the same interval).  For this task, we have the routine `minimize_scalar` in the module `scipy.optimize`.  It accepts as obligatory input a univariate function $f(x)$, together with a search method.\n",
    "\n",
    "Most search methods are based on the idea of _bracketing_ that we used for root finding, although the concept of bracket is a bit different in this setting: In this case, a good _bracket_ is a triple $x < y < z$ where $f(y)$ is less than both $f(x)$ and $f(z)$.  If the function is continuous, its graph presents a U-shape on a bracket.  This guarantees the existence of a minimum inside of the sub-interval $[x, z]$.  A successful bracketing method will look, on each successive step, for the target extremum in either $[x, y]$, or $[y, z]$.\n",
    "\n",
    "Let us construct a fast bracketing method for testing purposes:  Assume we have as initial bracket $a < c < b$.  By quadratic interpolation, we construct a parabola through the points $\\big(a, f(a)\\big)$, $\\big(c, f(c)\\big)$ and $\\big(b, f(b)\\big)$.  Because of the U-shape condition, there must be a minimum (easily computable) for the interpolating parabola, say $\\big(d, f(d)\\big)$.  It is not hard to prove that the value $d$ lies between the midpoints of the subintervals $[a, c]$, and $[c, b]$.  We will use this point $d$ for our next bracketing step.  For example, if it happens that $c < d$, then the next bracket will be either $c < d < b$, or $a < c < d$.   Easy enough. let us implement this method:"
   ]
  },
  {
   "cell_type": "code",
   "execution_count": 7,
   "metadata": {
    "collapsed": false
   },
   "outputs": [],
   "source": [
    "import numpy as np\n",
    "from scipy.interpolate import lagrange\n",
    "from scipy.optimize import OptimizeResult, minimize_scalar\n",
    "\n",
    "def good_bracket(func, bracket):\n",
    "    a, c, b = bracket\n",
    "    return (func(a) > func(c)) and (func(b) > func(c))\n",
    "\n",
    "\n",
    "def parabolic_step(f, args, bracket, **options):\n",
    "    stop = False\n",
    "    funcalls = 0\n",
    "    niter = 0\n",
    "    while not stop:\n",
    "        niter += 1\n",
    "        interpolator = lagrange(np.array(bracket), f(np.array(bracket)))\n",
    "        funcalls += 3\n",
    "        a, b, c = interpolator.coeffs\n",
    "        d = -0.5*b/a\n",
    "        if np.allclose(bracket[1], d):\n",
    "            minima = d\n",
    "            stop = True\n",
    "        elif bracket[1] < d:\n",
    "            newbracket = [bracket[1], d, bracket[2]]\n",
    "            if good_bracket(f, newbracket):\n",
    "                bracket = newbracket\n",
    "            else:\n",
    "                bracket = [bracket[0], bracket[1], d]\n",
    "        else:\n",
    "            newbracket = [d, bracket[1], bracket[2]]\n",
    "            if good_bracket(f, newbracket):\n",
    "                bracket = newbracket\n",
    "            else:\n",
    "                bracket = [bracket[0], d, bracket[1]]\n",
    "    return OptimizeResult(fun=f(minima), x=minima, nit=niter, nfev=funcalls)"
   ]
  },
  {
   "cell_type": "markdown",
   "metadata": {},
   "source": [
    "> The output of any minimizing method must be an `OptimizeResult` object, with at least the attribute `x` (the solution to the optimization problem).  In the example we have just run, the attributes coded in this method are `x`, `fun` (the evaluation of `f` at that solution), `nit` (number of iterations), and `nfev` (number of functions evaluations needed).\n",
    "\n",
    "Let us run this method over a few examples:"
   ]
  },
  {
   "cell_type": "code",
   "execution_count": 8,
   "metadata": {
    "collapsed": false
   },
   "outputs": [
    {
     "name": "stdout",
     "output_type": "stream",
     "text": [
      "True\n",
      "  fun: array(1.5000021457670878)\n",
      " nfev: 33\n",
      "  nit: 11\n",
      "    x: -0.50000214576708779\n"
     ]
    }
   ],
   "source": [
    "def g(x): return -np.exp(-x)*np.sin(x)\n",
    "\n",
    "f = np.vectorize(lambda x: max(1-x, 2+x))\n",
    "\n",
    "print good_bracket(f, [-1, -0.5, 1])\n",
    "\n",
    "print minimize_scalar(f, bracket=[-1, -0.5, 1], method=parabolic_step)"
   ]
  },
  {
   "cell_type": "code",
   "execution_count": 9,
   "metadata": {
    "collapsed": false
   },
   "outputs": [
    {
     "name": "stdout",
     "output_type": "stream",
     "text": [
      "True\n",
      "  fun: -0.32239694192707441\n",
      " nfev: 54\n",
      "  nit: 18\n",
      "    x: 0.78540558550495643\n"
     ]
    }
   ],
   "source": [
    "print good_bracket(g, [0, 1.2, 1.5])\n",
    "\n",
    "print minimize_scalar(g, bracket=[0,1.2,1.5], method=parabolic_step)"
   ]
  },
  {
   "cell_type": "markdown",
   "metadata": {},
   "source": [
    "There are two methods already coded for univariate scalar minimization: `golden`, using a *golden section search*, and `brent`, following an algorithm by Brent and Dekker. "
   ]
  },
  {
   "cell_type": "code",
   "execution_count": 10,
   "metadata": {
    "collapsed": false
   },
   "outputs": [
    {
     "data": {
      "text/plain": [
       "  fun: array(1.5)\n",
       " nfev: 22\n",
       "  nit: 21\n",
       "    x: -0.5"
      ]
     },
     "execution_count": 10,
     "metadata": {},
     "output_type": "execute_result"
    }
   ],
   "source": [
    "minimize_scalar(f, method='brent', bracket=[-1, -0.5, 1])"
   ]
  },
  {
   "cell_type": "code",
   "execution_count": 11,
   "metadata": {
    "collapsed": false
   },
   "outputs": [
    {
     "data": {
      "text/plain": [
       "  fun: array(1.5)\n",
       "    x: -0.5\n",
       " nfev: 44"
      ]
     },
     "execution_count": 11,
     "metadata": {},
     "output_type": "execute_result"
    }
   ],
   "source": [
    "minimize_scalar(f, method='golden', bracket=[-1, -0.5, 1])"
   ]
  },
  {
   "cell_type": "code",
   "execution_count": 12,
   "metadata": {
    "collapsed": false
   },
   "outputs": [
    {
     "data": {
      "text/plain": [
       "  fun: -0.32239694194483443\n",
       " nfev: 11\n",
       "  nit: 10\n",
       "    x: 0.78539817180087257"
      ]
     },
     "execution_count": 12,
     "metadata": {},
     "output_type": "execute_result"
    }
   ],
   "source": [
    "minimize_scalar(g, method='brent', bracket=[0, 1.2, 1.5])"
   ]
  },
  {
   "cell_type": "code",
   "execution_count": 14,
   "metadata": {
    "collapsed": false
   },
   "outputs": [
    {
     "data": {
      "text/plain": [
       "  fun: -0.32239694194483448\n",
       "    x: 0.7853981573284226\n",
       " nfev: 43"
      ]
     },
     "execution_count": 14,
     "metadata": {},
     "output_type": "execute_result"
    }
   ],
   "source": [
    "minimize_scalar(g, method='golden', bracket=[0, 1.2, 1.5])"
   ]
  },
  {
   "cell_type": "markdown",
   "metadata": {},
   "source": [
    "### Constrained Optimization for univariate functions\n",
    "\n",
    "Although the bracket included in the routine `minimize_scalar` already places a constraint on the function, it is feasible to force the search for a true minimum inside of a suitable interval for which no bracket can be easily found.\n"
   ]
  },
  {
   "cell_type": "code",
   "execution_count": 15,
   "metadata": {
    "collapsed": false
   },
   "outputs": [
    {
     "data": {
      "text/plain": [
       "  status: 0\n",
       "    nfev: 10\n",
       " success: True\n",
       "     fun: -0.32239694194483415\n",
       "       x: 0.78539813414299553\n",
       " message: 'Solution found.'"
      ]
     },
     "execution_count": 15,
     "metadata": {},
     "output_type": "execute_result"
    }
   ],
   "source": [
    "minimize_scalar(g, method='bounded', bounds=(0, 1.5))"
   ]
  },
  {
   "cell_type": "markdown",
   "metadata": {},
   "source": [
    "### Unconstrained Optimization for multivariate functions\n",
    "\n",
    "Except in the case of minimization by brute force or _basin hopping_, we may perform all other searches with the common routine `minimize` from the module `scipy.optimize`.  The parameter `method`, as with its univariate counterpart, takes care of selecting the algorithm employed to achieve the extremum.   There are several well-known algorithms already coded, but we also have the possibility of implementing our own ideas via a suitable custom-made method. \n",
    "\n",
    "In this section we will focus on the description and usage of the black-box implementations.  The same technique that we employed in the construction of custom methods for `minimize_scalar` is valid here, with the obvious challenges that the extra dimensions bring.\n",
    "\n",
    "To compare all the different methods, we are going to run them against a particularly challenging function: Rocksenbrock's _parabolic valley_ (also informally referred to as the _banana function_).  The module `scipy.optimize` has `numpy` versions of this function, as well as its Jacobian and Hessian.\n"
   ]
  },
  {
   "cell_type": "code",
   "execution_count": 17,
   "metadata": {
    "collapsed": false
   },
   "outputs": [
    {
     "data": {
      "image/png": "[encoded data removed]",
      "text/latex": [
       "$$\\left[\\begin{matrix}\\left(- x + 1\\right)^{2} + 100.0 \\left(- x^{2} + y\\right)^{2}\\end{matrix}\\right]$$"
      ],
      "text/plain": [
       "⎡                            2⎤\n",
       "⎢        2         ⎛   2    ⎞ ⎥\n",
       "⎣(-x + 1)  + 100.0⋅⎝- x  + y⎠ ⎦"
      ]
     },
     "execution_count": 17,
     "metadata": {},
     "output_type": "execute_result"
    }
   ],
   "source": [
    "from scipy.optimize import rosen\n",
    "\n",
    "from sympy import var, Matrix, solve, init_printing\n",
    "init_printing()\n",
    "\n",
    "var('x y')\n",
    "\n",
    "F = Matrix([rosen([x, y])])\n",
    "\n",
    "F"
   ]
  },
  {
   "cell_type": "markdown",
   "metadata": {},
   "source": [
    "Let us use techniques from multivariate Calculus to find the critical points of this function.  We need first to compute its Jacobian and Hessian:\n"
   ]
  },
  {
   "cell_type": "code",
   "execution_count": 18,
   "metadata": {
    "collapsed": false
   },
   "outputs": [
    {
     "data": {
      "image/png": "[encoded data removed]",
      "text/latex": [
       "$$\\left[\\begin{matrix}- 400.0 x \\left(- x^{2} + y\\right) + 2 x - 2 & - 200.0 x^{2} + 200.0 y\\end{matrix}\\right]$$"
      ],
      "text/plain": [
       "⎡                ⎛   2    ⎞                           2          ⎤\n",
       "⎣- -400.0⋅(-1)⋅x⋅⎝- x  + y⎠ + 2⋅x - 2  - -200.0⋅(-1)⋅x  + 200.0⋅y⎦"
      ]
     },
     "execution_count": 18,
     "metadata": {},
     "output_type": "execute_result"
    }
   ],
   "source": [
    "JacF = F.jacobian([x, y])\n",
    "JacF"
   ]
  },
  {
   "cell_type": "code",
   "execution_count": 19,
   "metadata": {
    "collapsed": false
   },
   "outputs": [
    {
     "data": {
      "image/png": "[encoded data removed]",
      "text/latex": [
       "$$\\left[\\begin{matrix}1200.0 x^{2} - 400.0 y + 2 & - 400.0 x\\\\- 400.0 x & 200.0\\end{matrix}\\right]$$"
      ],
      "text/plain": [
       "⎡        2                              ⎤\n",
       "⎢1200.0⋅x  - -400.0⋅(-1)⋅y + 2  -400.0⋅x⎥\n",
       "⎢                                       ⎥\n",
       "⎣          -400.0⋅x              200.0  ⎦"
      ]
     },
     "execution_count": 19,
     "metadata": {},
     "output_type": "execute_result"
    }
   ],
   "source": [
    "HesF = JacF.jacobian([x, y])\n",
    "HesF"
   ]
  },
  {
   "cell_type": "code",
   "execution_count": 20,
   "metadata": {
    "collapsed": false
   },
   "outputs": [
    {
     "data": {
      "image/png": "[encoded data removed]",
      "text/latex": [
       "$$\\left [ \\left \\{ x : 1.0, \\quad y : 1.0\\right \\}\\right ]$$"
      ],
      "text/plain": [
       "[{x: 1.0, y: 1.0}]"
      ]
     },
     "execution_count": 20,
     "metadata": {},
     "output_type": "execute_result"
    }
   ],
   "source": [
    "solve(JacF)"
   ]
  },
  {
   "cell_type": "code",
   "execution_count": 21,
   "metadata": {
    "collapsed": false
   },
   "outputs": [
    {
     "data": {
      "image/png": "[encoded data removed]",
      "text/latex": [
       "$$\\left[\\begin{matrix}802.0 & -400.0\\\\-400.0 & 200.0\\end{matrix}\\right]$$"
      ],
      "text/plain": [
       "⎡802.0   -400.0⎤\n",
       "⎢              ⎥\n",
       "⎣-400.0  200.0 ⎦"
      ]
     },
     "execution_count": 21,
     "metadata": {},
     "output_type": "execute_result"
    }
   ],
   "source": [
    "HesF.subs({x: 1.0, y: 1.0})"
   ]
  },
  {
   "cell_type": "code",
   "execution_count": 22,
   "metadata": {
    "collapsed": false
   },
   "outputs": [
    {
     "data": {
      "image/png": "[encoded data removed]",
      "text/latex": [
       "$$400.0$$"
      ],
      "text/plain": [
       "400.000000000000"
      ]
     },
     "execution_count": 22,
     "metadata": {},
     "output_type": "execute_result"
    }
   ],
   "source": [
    "_.det()"
   ]
  },
  {
   "cell_type": "markdown",
   "metadata": {},
   "source": [
    "These computations show that there is only one critical point at $(1, 1)$.  Unequivocally, this point presents a local minimum at that location.  \n",
    "\n",
    "Trying to compute the critical points with this technique for a Rosenbrock function in higher dimensions, while doable, is computationally intense.  Moving to four dimensions, for example, takes a decent computer about half a minute."
   ]
  },
  {
   "cell_type": "code",
   "execution_count": 23,
   "metadata": {
    "collapsed": false
   },
   "outputs": [
    {
     "name": "stdout",
     "output_type": "stream",
     "text": [
      "CPU times: user 25.8 s, sys: 188 ms, total: 26 s\n",
      "Wall time: 25.9 s\n"
     ]
    },
    {
     "data": {
      "image/png": "[encoded data removed]",
      "text/latex": [
       "$$\\left [ \\left \\{ x_{0} : 1.0, \\quad x_{1} : 1.0, \\quad x_{2} : 1.0, \\quad x_{3} : 1.0\\right \\}\\right ]$$"
      ],
      "text/plain": [
       "[{x₀: 1.0, x₁: 1.0, x₂: 1.0, x₃: 1.0}]"
      ]
     },
     "execution_count": 23,
     "metadata": {},
     "output_type": "execute_result"
    }
   ],
   "source": [
    "var('x:4')\n",
    "X = [x0, x1, x2, x3]\n",
    "F = Matrix([rosen(X)])\n",
    "\n",
    "%time solve(F.jacobian(X))"
   ]
  },
  {
   "cell_type": "markdown",
   "metadata": {},
   "source": [
    "For large dimensions, the search for global minima can be done by brute force: not very elegant, but it gets the job done.  Brute force algorithm is able to track global minima (or approximate it to satisfactory precision).  We can call this method with the routine `brute` in the module `scipy.optimize`.  The obligatory parameters are the function to be minimized, together with a description of the domain where we will apply the optimization.  This domain is best coded as a tuple of slices. For example, to search for a global minimum of the Rosenbrock function in four variables, where each variable is bounded in absolute value by 3, we could issue:"
   ]
  },
  {
   "cell_type": "code",
   "execution_count": 24,
   "metadata": {
    "collapsed": false
   },
   "outputs": [
    {
     "name": "stdout",
     "output_type": "stream",
     "text": [
      "CPU times: user 3.78 s, sys: 50.1 ms, total: 3.83 s\n",
      "Wall time: 3.82 s\n"
     ]
    },
    {
     "data": {
      "text/plain": [
       "array([ 1.,  1.,  1.,  1.])"
      ]
     },
     "execution_count": 24,
     "metadata": {},
     "output_type": "execute_result"
    }
   ],
   "source": [
    "from scipy.optimize import brute\n",
    "\n",
    "interval = slice(-3, 3, 0.25)\n",
    "box = [interval] * 4\n",
    "\n",
    "%time brute(rosen, box)"
   ]
  },
  {
   "cell_type": "markdown",
   "metadata": {},
   "source": [
    "Still quite slow process. To achieve speed, it is always better to use iterative methods.  The search for minima in this setting in achieved according to several schema (and combinations of these):\n",
    "\n",
    "* Stochastic methods: These are methods suitable for the search of actual global minima. They generate and use random variables.  In the module `scipy.optimize` we have two exponents of this category: \n",
    "\n",
    "    * The *Basin-hopping algorithm*, called with the routine `basinhopping` in the module `scipy.optimize`.  The implementation has acceptance test given by the *Metropolis criterion* of a standard Monte-Carlo.\n",
    "    * A deprecated version of the method of *simulated annealing*, called with `method='Anneal'`, which is a variation of a *Monte-Carlo simulation*.  It is useful for optimization problems where the search space is discrete and large.\n",
    "\n",
    "* Deterministic algorithms that employ exclusively function evaluations: These are basically performed by successive linear minimizations on different directions.  In the module `scipy.optimize` we have three methods complying with this philosophy:\n",
    "\n",
    "    * *Powell's method* based on the unidimensional Brent's minimization.  We call it with `method='Powell'`.\n",
    "    * *Downhill symplex algorithm*.  Also known as the *amoeba method*, created by Nelder and Mead in 1965.  We call it with `'Nelder-Mead'`.\n",
    "\n",
    "* *Newton methods*: deterministic algorithms on differentiable functions that mimic multivariate Calculus to search for critical points.  In a nutshell, we seek for at least one critical point whose Hessians satisfies the conditions for local minimum.  These algorithms employ both Jacobian and Hessian evaluations.  Because of the complexity of these expressions in general, approximations to both operators are usually implemented instead. When this is the case, we refer to these methods as *quasy-Newton methods*.  In the module `scipy.optimize` we have the quasy-Newton method of Broyden, Fletcher, Goldfarb and Shanno (*BFGS*), that uses exclusively first derivatives.  We call it with `method='BFGS'`.\n",
    "\n",
    "* *Conjugate gradient* methods.  We have three variants:\n",
    "\n",
    "    * A variant of the Fetcher-Reeves algorithm to implement a pure conjugate gradient, written by Polak and Ribiere.  It uses exclusively first derivatives.   It is called with `method='CG'`.\n",
    "    * A combination of conjugate gradient with a Newton method, the *truncated Newton method*, which we call with `method='Newton-CG'`.\n",
    "    * Two different versions of the *Newton conjugate gradient trust-region algorithm* which use the idea of *trust-regions* to more effectively bound the location of the possible minima.  We call them with `method='dogleg'` and `method='trust-ncg'`.\n",
    "\n",
    "Let us browse through these methods:\n",
    "\n",
    "#### Stochastic Methods\n",
    "\n",
    "Let us find the global minimum of the Rosenbrock function of nine variables using the technique of _basin hopping_:"
   ]
  },
  {
   "cell_type": "code",
   "execution_count": 25,
   "metadata": {
    "collapsed": false
   },
   "outputs": [
    {
     "name": "stdout",
     "output_type": "stream",
     "text": [
      "CPU times: user 1.32 s, sys: 2.94 ms, total: 1.32 s\n",
      "Wall time: 1.32 s\n"
     ]
    },
    {
     "data": {
      "text/plain": [
       "                  nfev: 76126\n",
       " minimization_failures: 48\n",
       "                   fun: 3.082225936107851e-11\n",
       "                     x: array([ 0.99999994,  0.99999989,  0.99999983,  0.9999997 ,  0.99999939,\n",
       "        0.99999878,  0.99999763,  0.99999529,  0.99999062])\n",
       "               message: ['requested number of basinhopping iterations completed successfully']\n",
       "                  njev: 6869\n",
       "                   nit: 100"
      ]
     },
     "execution_count": 25,
     "metadata": {},
     "output_type": "execute_result"
    }
   ],
   "source": [
    "from scipy.optimize import minimize, basinhopping\n",
    "\n",
    "%time basinhopping(rosen, np.zeros(9))"
   ]
  },
  {
   "cell_type": "markdown",
   "metadata": {},
   "source": [
    "Let us compare to the behavior of (the deprecated) _simulated annealing_:"
   ]
  },
  {
   "cell_type": "code",
   "execution_count": 26,
   "metadata": {
    "collapsed": false
   },
   "outputs": [
    {
     "data": {
      "text/plain": [
       "  status: 5\n",
       " success: False\n",
       "  accept: 16\n",
       "    nfev: 701\n",
       "       T: 538569677.05593729\n",
       "     fun: 3201391284.5616984\n",
       "       x: array([-16.84050345,  -9.61096657,  10.58927389,   1.839771  ,\n",
       "       -31.88284035, -41.52800697, -31.55791189,  71.50186694, -69.15961597])\n",
       " message: 'Final point not the minimum amongst encountered points'\n",
       "     nit: 13"
      ]
     },
     "execution_count": 26,
     "metadata": {},
     "output_type": "execute_result"
    }
   ],
   "source": [
    "minimize(rosen, np.zeros(9), method='Anneal')"
   ]
  },
  {
   "cell_type": "markdown",
   "metadata": {},
   "source": [
    "#### Deterministic Algorithms that employ exclusively function evaluations\n",
    "\n",
    "Let us compare the results of Powell method with the downhill symplex method:"
   ]
  },
  {
   "cell_type": "code",
   "execution_count": 27,
   "metadata": {
    "collapsed": false
   },
   "outputs": [
    {
     "data": {
      "text/plain": [
       "  status: 0\n",
       " success: True\n",
       "   direc: array([[ -9.72738082e-06,   2.08442100e-05,   2.06470354e-05,\n",
       "          4.39487336e-05,   1.29109965e-04,   1.98333214e-04,\n",
       "          3.66992710e-04,   7.00645876e-04,   1.38618490e-03],\n",
       "       [ -6.95913467e-06,  -7.25642319e-07,  -2.39771165e-06,\n",
       "          4.10148950e-06,  -6.17293950e-06,  -6.53887929e-06,\n",
       "         -1.06472131e-05,  -5.23030560e-06,  -2.28609237e-06],\n",
       "       [  0.00000000e+00,   0.00000000e+00,   1.00000000e+00,\n",
       "          0.00000000e+00,   0.00000000e+00,   0.00000000e+00,\n",
       "          0.00000000e+00,   0.00000000e+00,   0.00000000e+00],\n",
       "       [  1.23259263e-06,   9.30817415e-07,   2.48075487e-07,\n",
       "         -7.07908007e-07,  -2.01233140e-07,  -1.10513436e-06,\n",
       "         -2.57164632e-06,  -2.58316855e-06,  -3.89962720e-06],\n",
       "       [  6.07328675e-02,   8.51817777e-02,   1.30174960e-01,\n",
       "          1.71511253e-01,   9.72602622e-02,   1.47866889e-02,\n",
       "          1.12376083e-03,   5.35386263e-04,   2.04473740e-04],\n",
       "       [  0.00000000e+00,   0.00000000e+00,   0.00000000e+00,\n",
       "          0.00000000e+00,   0.00000000e+00,   1.00000000e+00,\n",
       "          0.00000000e+00,   0.00000000e+00,   0.00000000e+00],\n",
       "       [  3.88222708e-04,   8.26386166e-04,   5.56913200e-04,\n",
       "          3.08319925e-04,   4.45122275e-04,   2.66513914e-03,\n",
       "          6.31410713e-03,   1.24763367e-02,   2.45489699e-02],\n",
       "       [  0.00000000e+00,   0.00000000e+00,   0.00000000e+00,\n",
       "          0.00000000e+00,   0.00000000e+00,   0.00000000e+00,\n",
       "          0.00000000e+00,   1.00000000e+00,   0.00000000e+00],\n",
       "       [ -2.78670638e-13,   2.38340184e-13,  -4.16529251e-13,\n",
       "         -1.22802786e-12,  -2.37362277e-12,  -5.05814116e-12,\n",
       "         -9.87863127e-12,  -2.07156113e-11,  -4.09028903e-11]])\n",
       "    nfev: 6048\n",
       "     fun: 3.1564236401538692e-21\n",
       "       x: array([ 1.,  1.,  1.,  1.,  1.,  1.,  1.,  1.,  1.])\n",
       " message: 'Optimization terminated successfully.'\n",
       "     nit: 56"
      ]
     },
     "execution_count": 27,
     "metadata": {},
     "output_type": "execute_result"
    }
   ],
   "source": [
    "minimize(rosen, np.zeros(9), method='Powell')"
   ]
  },
  {
   "cell_type": "code",
   "execution_count": 28,
   "metadata": {
    "collapsed": false
   },
   "outputs": [
    {
     "data": {
      "text/plain": [
       "  status: 1\n",
       "    nfev: 1800\n",
       " success: False\n",
       "     fun: 4.9724099905503065\n",
       "       x: array([ 0.85460488,  0.70911132,  0.50139591,  0.24591886,  0.06234451,\n",
       "       -0.01112426,  0.02048509,  0.03266785, -0.01790827])\n",
       " message: 'Maximum number of function evaluations has been exceeded.'\n",
       "     nit: 1287"
      ]
     },
     "execution_count": 28,
     "metadata": {},
     "output_type": "execute_result"
    }
   ],
   "source": [
    "minimize(rosen, np.zeros(9), method='Nelder-Mead')"
   ]
  },
  {
   "cell_type": "markdown",
   "metadata": {},
   "source": [
    "#### Broyden-Fletcher-Goldfarb-Shanno quasy-Newton method\n",
    "\n",
    "Let us observe the behavior of this algorithm on our running example:"
   ]
  },
  {
   "cell_type": "code",
   "execution_count": 29,
   "metadata": {
    "collapsed": false
   },
   "outputs": [
    {
     "data": {
      "text/plain": [
       "   status: 0\n",
       "  success: True\n",
       "     njev: 81\n",
       "     nfev: 891\n",
       " hess_inv: array([[  1.77754361e-03,   9.43372311e-04,   4.10987819e-04,\n",
       "          2.36687546e-04,   3.01003165e-04,   4.76269615e-04,\n",
       "          8.60789342e-04,   1.71519773e-03,   3.52598920e-03],\n",
       "       [  9.43372311e-04,   1.91424549e-03,   1.05504866e-03,\n",
       "          7.47730664e-04,   9.79295044e-04,   1.68203806e-03,\n",
       "          3.21722948e-03,   6.35411625e-03,   1.26594184e-02],\n",
       "       [  4.10987819e-04,   1.05504866e-03,   2.09554069e-03,\n",
       "          1.60097649e-03,   1.98173552e-03,   3.40273952e-03,\n",
       "          6.50440152e-03,   1.28373929e-02,   2.54841319e-02],\n",
       "       [  2.36687546e-04,   7.47730664e-04,   1.60097649e-03,\n",
       "          3.24398082e-03,   3.87135490e-03,   6.39636277e-03,\n",
       "          1.22541796e-02,   2.42557510e-02,   4.82857024e-02],\n",
       "       [  3.01003165e-04,   9.79295044e-04,   1.98173552e-03,\n",
       "          3.87135490e-03,   7.61753726e-03,   1.26819289e-02,\n",
       "          2.42445571e-02,   4.80072031e-02,   9.56010467e-02],\n",
       "       [  4.76269615e-04,   1.68203806e-03,   3.40273952e-03,\n",
       "          6.39636277e-03,   1.26819289e-02,   2.55203887e-02,\n",
       "          4.86603291e-02,   9.63067827e-02,   1.91778340e-01],\n",
       "       [  8.60789342e-04,   3.21722948e-03,   6.50440152e-03,\n",
       "          1.22541796e-02,   2.42445571e-02,   4.86603291e-02,\n",
       "          9.76147107e-02,   1.93152700e-01,   3.84590489e-01],\n",
       "       [  1.71519773e-03,   6.35411625e-03,   1.28373929e-02,\n",
       "          2.42557510e-02,   4.80072031e-02,   9.63067827e-02,\n",
       "          1.93152700e-01,   3.87129616e-01,   7.70902785e-01],\n",
       "       [  3.52598920e-03,   1.26594184e-02,   2.54841319e-02,\n",
       "          4.82857024e-02,   9.56010467e-02,   1.91778340e-01,\n",
       "          3.84590489e-01,   7.70902785e-01,   1.54039531e+00]])\n",
       "      fun: 5.983023575416979e-11\n",
       "        x: array([ 0.99999993,  0.99999987,  0.99999976,  0.99999956,  0.99999914,\n",
       "        0.99999832,  0.99999666,  0.99999334,  0.99998667])\n",
       "  message: 'Optimization terminated successfully.'\n",
       "      jac: array([ -7.93121659e-07,   2.25617544e-07,   5.87739184e-07,\n",
       "        -1.12778573e-07,  -1.27293960e-07,  -6.02487747e-09,\n",
       "         2.30915777e-07,   8.68732162e-07,  -4.64053929e-07])"
      ]
     },
     "execution_count": 29,
     "metadata": {},
     "output_type": "execute_result"
    }
   ],
   "source": [
    "minimize(rosen, np.zeros(9), method='BFGS')"
   ]
  },
  {
   "cell_type": "markdown",
   "metadata": {},
   "source": [
    "Note that it employs more iterations, but much fewer function evaluations than the method of Powell (including Jacobian evaluations).  Accuracy is comparable, but the gain in complexity and speed in remarkable. \n",
    "\n",
    "#### Conjugate Gradient Methods\n",
    "\n",
    "The pure Conjugate Gradient method works best with functions with a clear unique critical point, and where the range of the slopes is not too large.  Multiple stationary points tend to confuse the iterations, and slopes too steep (larger than 1000) result in terrible rounding errors.\n",
    "\n",
    "Without offering an expression for the Jacobian, the algorithm computes a decent approximation of this operator to compute the first derivatives.\n"
   ]
  },
  {
   "cell_type": "code",
   "execution_count": 30,
   "metadata": {
    "collapsed": false
   },
   "outputs": [
    {
     "data": {
      "text/plain": [
       "  status: 0\n",
       " success: True\n",
       "    njev: 435\n",
       "    nfev: 4786\n",
       "     fun: 7.4275163638423293e-12\n",
       "       x: array([ 0.99999996,  0.99999994,  0.9999999 ,  0.99999984,  0.9999997 ,\n",
       "        0.99999941,  0.99999884,  0.9999977 ,  0.99999541])\n",
       " message: 'Optimization terminated successfully.'\n",
       "     jac: array([  1.68619156e-06,  -5.75213410e-07,   4.39290699e-09,\n",
       "         3.25975705e-06,   3.14717890e-06,   4.16568319e-06,\n",
       "         2.80213772e-06,   2.20476712e-06,   3.22092180e-06])"
      ]
     },
     "execution_count": 30,
     "metadata": {},
     "output_type": "execute_result"
    }
   ],
   "source": [
    "minimize(rosen, np.zeros(9), method='CG')"
   ]
  },
  {
   "cell_type": "markdown",
   "metadata": {},
   "source": [
    "Including an actual Jacobian improves matters greatly.  Note the improvement in the evaluation of the found minimum (`fun`):\n"
   ]
  },
  {
   "cell_type": "code",
   "execution_count": 31,
   "metadata": {
    "collapsed": false
   },
   "outputs": [
    {
     "data": {
      "text/plain": [
       "  status: 0\n",
       " success: True\n",
       "    njev: 346\n",
       "    nfev: 346\n",
       "     fun: 3.0359274125581914e-11\n",
       "       x: array([ 0.99999995,  0.99999992,  0.99999984,  0.99999969,  0.99999941,\n",
       "        0.99999883,  0.99999764,  0.99999524,  0.99999046])\n",
       " message: 'Optimization terminated successfully.'\n",
       "     jac: array([ -3.90312446e-06,  -6.85277639e-07,  -3.48274672e-06,\n",
       "        -7.85146149e-06,  -1.83331671e-06,   5.17866611e-06,\n",
       "         6.14648734e-06,  -5.09552972e-06,  -5.53195416e-06])"
      ]
     },
     "execution_count": 31,
     "metadata": {},
     "output_type": "execute_result"
    }
   ],
   "source": [
    "from scipy.optimize import rosen_der\n",
    "\n",
    "minimize(rosen, np.zeros(9), method='CG', jac=rosen_der)"
   ]
  },
  {
   "cell_type": "markdown",
   "metadata": {},
   "source": [
    "The _truncated Newton method_ requires a precise Jacobian to work:"
   ]
  },
  {
   "cell_type": "code",
   "execution_count": 32,
   "metadata": {
    "collapsed": false
   },
   "outputs": [
    {
     "ename": "ValueError",
     "evalue": "Jacobian is required for Newton-CG method",
     "output_type": "error",
     "traceback": [
      "\u001b[0;31m---------------------------------------------------------------------------\u001b[0m",
      "\u001b[0;31mValueError\u001b[0m                                Traceback (most recent call last)",
      "\u001b[0;32m<ipython-input-32-32d61991d444>\u001b[0m in \u001b[0;36m<module>\u001b[0;34m()\u001b[0m\n\u001b[0;32m----> 1\u001b[0;31m \u001b[0mminimize\u001b[0m\u001b[0;34m(\u001b[0m\u001b[0mrosen\u001b[0m\u001b[0;34m,\u001b[0m \u001b[0mnp\u001b[0m\u001b[0;34m.\u001b[0m\u001b[0mzeros\u001b[0m\u001b[0;34m(\u001b[0m\u001b[0;36m9\u001b[0m\u001b[0;34m)\u001b[0m\u001b[0;34m,\u001b[0m \u001b[0mmethod\u001b[0m\u001b[0;34m=\u001b[0m\u001b[0;34m'Newton-CG'\u001b[0m\u001b[0;34m)\u001b[0m\u001b[0;34m\u001b[0m\u001b[0m\n\u001b[0m",
      "\u001b[0;32m//anaconda/lib/python2.7/site-packages/scipy/optimize/_minimize.pyc\u001b[0m in \u001b[0;36mminimize\u001b[0;34m(fun, x0, args, method, jac, hess, hessp, bounds, constraints, tol, callback, options)\u001b[0m\n\u001b[1;32m    420\u001b[0m     \u001b[0;32melif\u001b[0m \u001b[0mmeth\u001b[0m \u001b[0;34m==\u001b[0m \u001b[0;34m'newton-cg'\u001b[0m\u001b[0;34m:\u001b[0m\u001b[0;34m\u001b[0m\u001b[0m\n\u001b[1;32m    421\u001b[0m         return _minimize_newtoncg(fun, x0, args, jac, hess, hessp, callback,\n\u001b[0;32m--> 422\u001b[0;31m                                   **options)\n\u001b[0m\u001b[1;32m    423\u001b[0m     \u001b[0;32melif\u001b[0m \u001b[0mmeth\u001b[0m \u001b[0;34m==\u001b[0m \u001b[0;34m'anneal'\u001b[0m\u001b[0;34m:\u001b[0m\u001b[0;34m\u001b[0m\u001b[0m\n\u001b[1;32m    424\u001b[0m         \u001b[0;32mreturn\u001b[0m \u001b[0m_minimize_anneal\u001b[0m\u001b[0;34m(\u001b[0m\u001b[0mfun\u001b[0m\u001b[0;34m,\u001b[0m \u001b[0mx0\u001b[0m\u001b[0;34m,\u001b[0m \u001b[0margs\u001b[0m\u001b[0;34m,\u001b[0m \u001b[0;34m**\u001b[0m\u001b[0moptions\u001b[0m\u001b[0;34m)\u001b[0m\u001b[0;34m\u001b[0m\u001b[0m\n",
      "\u001b[0;32m//anaconda/lib/python2.7/site-packages/scipy/optimize/optimize.pyc\u001b[0m in \u001b[0;36m_minimize_newtoncg\u001b[0;34m(fun, x0, args, jac, hess, hessp, callback, xtol, eps, maxiter, disp, return_all, **unknown_options)\u001b[0m\n\u001b[1;32m   1352\u001b[0m     \u001b[0m_check_unknown_options\u001b[0m\u001b[0;34m(\u001b[0m\u001b[0munknown_options\u001b[0m\u001b[0;34m)\u001b[0m\u001b[0;34m\u001b[0m\u001b[0m\n\u001b[1;32m   1353\u001b[0m     \u001b[0;32mif\u001b[0m \u001b[0mjac\u001b[0m \u001b[0;32mis\u001b[0m \u001b[0mNone\u001b[0m\u001b[0;34m:\u001b[0m\u001b[0;34m\u001b[0m\u001b[0m\n\u001b[0;32m-> 1354\u001b[0;31m         \u001b[0;32mraise\u001b[0m \u001b[0mValueError\u001b[0m\u001b[0;34m(\u001b[0m\u001b[0;34m'Jacobian is required for Newton-CG method'\u001b[0m\u001b[0;34m)\u001b[0m\u001b[0;34m\u001b[0m\u001b[0m\n\u001b[0m\u001b[1;32m   1355\u001b[0m     \u001b[0mf\u001b[0m \u001b[0;34m=\u001b[0m \u001b[0mfun\u001b[0m\u001b[0;34m\u001b[0m\u001b[0m\n\u001b[1;32m   1356\u001b[0m     \u001b[0mfprime\u001b[0m \u001b[0;34m=\u001b[0m \u001b[0mjac\u001b[0m\u001b[0;34m\u001b[0m\u001b[0m\n",
      "\u001b[0;31mValueError\u001b[0m: Jacobian is required for Newton-CG method"
     ]
    }
   ],
   "source": [
    "minimize(rosen, np.zeros(9), method='Newton-CG')"
   ]
  },
  {
   "cell_type": "code",
   "execution_count": 33,
   "metadata": {
    "collapsed": false
   },
   "outputs": [
    {
     "data": {
      "text/plain": [
       "  status: 0\n",
       " success: True\n",
       "    njev: 491\n",
       "    nfev: 52\n",
       "     fun: 8.93568453398332e-08\n",
       "       x: array([ 0.99999908,  0.99999814,  0.9999962 ,  0.99999208,  0.99998296,\n",
       "        0.99996124,  0.99990407,  0.99980315,  0.99960355])\n",
       " message: 'Optimization terminated successfully.'\n",
       "    nhev: 0\n",
       "     jac: array([  1.05256767e-06,   4.93943521e-06,   3.07570546e-05,\n",
       "         1.26616368e-04,   5.00086255e-04,   1.99370744e-03,\n",
       "         7.92927982e-03,   3.14633540e-02,  -1.82127839e-02])"
      ]
     },
     "execution_count": 33,
     "metadata": {},
     "output_type": "execute_result"
    }
   ],
   "source": [
    "minimize(rosen, np.zeros(9), method='Newton-CG', jac=rosen_der)"
   ]
  },
  {
   "cell_type": "markdown",
   "metadata": {},
   "source": [
    "The methods using trust regions require an exact expression for the Hessian:"
   ]
  },
  {
   "cell_type": "code",
   "execution_count": 34,
   "metadata": {
    "collapsed": false
   },
   "outputs": [
    {
     "data": {
      "text/plain": [
       "  status: 0\n",
       "    hess: array([[  801.99999999,  -400.        ,     0.        ,     0.        ,\n",
       "            0.        ,     0.        ,     0.        ,     0.        ,\n",
       "            0.        ],\n",
       "       [ -400.        ,  1001.99999998,  -399.99999999,     0.        ,\n",
       "            0.        ,     0.        ,     0.        ,     0.        ,\n",
       "            0.        ],\n",
       "       [    0.        ,  -399.99999999,  1001.99999996,  -399.99999999,\n",
       "            0.        ,     0.        ,     0.        ,     0.        ,\n",
       "            0.        ],\n",
       "       [    0.        ,     0.        ,  -399.99999999,  1001.99999992,\n",
       "         -399.99999998,     0.        ,     0.        ,     0.        ,\n",
       "            0.        ],\n",
       "       [    0.        ,     0.        ,     0.        ,  -399.99999998,\n",
       "         1001.99999983,  -399.99999996,     0.        ,     0.        ,\n",
       "            0.        ],\n",
       "       [    0.        ,     0.        ,     0.        ,     0.        ,\n",
       "         -399.99999996,  1001.99999967,  -399.99999992,     0.        ,\n",
       "            0.        ],\n",
       "       [    0.        ,     0.        ,     0.        ,     0.        ,\n",
       "            0.        ,  -399.99999992,  1001.99999933,  -399.99999983,\n",
       "            0.        ],\n",
       "       [    0.        ,     0.        ,     0.        ,     0.        ,\n",
       "            0.        ,     0.        ,  -399.99999983,  1001.99999865,\n",
       "         -399.99999966],\n",
       "       [    0.        ,     0.        ,     0.        ,     0.        ,\n",
       "            0.        ,     0.        ,     0.        ,  -399.99999966,\n",
       "          200.        ]])\n",
       " success: True\n",
       "    njev: 25\n",
       "    nfev: 29\n",
       "     fun: 9.559277795967234e-19\n",
       "       x: array([ 1.,  1.,  1.,  1.,  1.,  1.,  1.,  1.,  1.])\n",
       " message: 'Optimization terminated successfully.'\n",
       "    nhev: 24\n",
       "     jac: array([  3.84137166e-14,   3.00870439e-13,   1.10489395e-12,\n",
       "         4.32831548e-12,   1.72455383e-11,   6.77315980e-11,\n",
       "         2.48459919e-10,   6.62723207e-10,  -1.52775570e-09])\n",
       "     nit: 28"
      ]
     },
     "execution_count": 34,
     "metadata": {},
     "output_type": "execute_result"
    }
   ],
   "source": [
    "from scipy.optimize import rosen_hess\n",
    "\n",
    "minimize(rosen, np.zeros(9), method='dogleg', jac=rosen_der, hess=rosen_hess)"
   ]
  },
  {
   "cell_type": "code",
   "execution_count": 35,
   "metadata": {
    "collapsed": false
   },
   "outputs": [
    {
     "data": {
      "text/plain": [
       "  status: 0\n",
       "    hess: array([[  801.99999999,  -400.        ,     0.        ,     0.        ,\n",
       "            0.        ,     0.        ,     0.        ,     0.        ,\n",
       "            0.        ],\n",
       "       [ -400.        ,  1001.99999999,  -400.        ,     0.        ,\n",
       "            0.        ,     0.        ,     0.        ,     0.        ,\n",
       "            0.        ],\n",
       "       [    0.        ,  -400.        ,  1001.99999998,  -399.99999999,\n",
       "            0.        ,     0.        ,     0.        ,     0.        ,\n",
       "            0.        ],\n",
       "       [    0.        ,     0.        ,  -399.99999999,  1001.99999995,\n",
       "         -399.99999999,     0.        ,     0.        ,     0.        ,\n",
       "            0.        ],\n",
       "       [    0.        ,     0.        ,     0.        ,  -399.99999999,\n",
       "         1001.9999999 ,  -399.99999998,     0.        ,     0.        ,\n",
       "            0.        ],\n",
       "       [    0.        ,     0.        ,     0.        ,     0.        ,\n",
       "         -399.99999998,  1001.99999981,  -399.99999995,     0.        ,\n",
       "            0.        ],\n",
       "       [    0.        ,     0.        ,     0.        ,     0.        ,\n",
       "            0.        ,  -399.99999995,  1001.99999961,  -399.9999999 ,\n",
       "            0.        ],\n",
       "       [    0.        ,     0.        ,     0.        ,     0.        ,\n",
       "            0.        ,     0.        ,  -399.9999999 ,  1001.99999919,\n",
       "         -399.99999978],\n",
       "       [    0.        ,     0.        ,     0.        ,     0.        ,\n",
       "            0.        ,     0.        ,     0.        ,  -399.99999978,\n",
       "          200.        ]])\n",
       " success: True\n",
       "    njev: 56\n",
       "    nfev: 67\n",
       "     fun: 3.8939660570485678e-18\n",
       "       x: array([ 1.,  1.,  1.,  1.,  1.,  1.,  1.,  1.,  1.])\n",
       " message: 'Optimization terminated successfully.'\n",
       "    nhev: 55\n",
       "     jac: array([  2.20490293e-13,   5.57109914e-13,   1.77013959e-12,\n",
       "        -9.03965791e-12,  -3.05130365e-10,   3.03419134e-09,\n",
       "         1.49133843e-08,   6.32241155e-08,  -3.64210218e-08])\n",
       "     nit: 66"
      ]
     },
     "execution_count": 35,
     "metadata": {},
     "output_type": "execute_result"
    }
   ],
   "source": [
    "minimize(rosen, np.zeros(9), method='trust-ncg', jac=rosen_der, hess=rosen_hess)"
   ]
  },
  {
   "cell_type": "markdown",
   "metadata": {},
   "source": [
    "Note the huge improvement in terms of accuracy, iterations, and function evaluations over the previous methods!  The obvious drawback is that quite often it is very challenging to obtain good representations of the Jacobian or Hessian operators.\n",
    "\n",
    "### Constrained Optimization for multivariate functions\n",
    "\n",
    "Take for example, the minimization of the plane $f(x,y) = 5x-2y+4$ over the circle $x^2+y^2 =4$.  Using `sympy` we could implement the technique of Lagrange multipliers:"
   ]
  },
  {
   "cell_type": "code",
   "execution_count": 36,
   "metadata": {
    "collapsed": false
   },
   "outputs": [
    {
     "data": {
      "image/png": "[encoded data removed]",
      "text/latex": [
       "$$\\left [ \\left \\{ x : \\frac{5}{2 z}, \\quad y : - \\frac{1}{z}\\right \\}\\right ]$$"
      ],
      "text/plain": [
       "⎡⎧    5      -1 ⎫⎤\n",
       "⎢⎨x: ───, y: ───⎬⎥\n",
       "⎣⎩   2⋅z      z ⎭⎦"
      ]
     },
     "execution_count": 36,
     "metadata": {},
     "output_type": "execute_result"
    }
   ],
   "source": [
    "F = Matrix([5*x - 2*y + 4])\n",
    "G = Matrix([x**2 + y**2 - 4])      # constraint\n",
    "\n",
    "var('z')\n",
    "\n",
    "solve(F.jacobian([x, y]) - z * G.jacobian([x, y]))"
   ]
  },
  {
   "cell_type": "code",
   "execution_count": 37,
   "metadata": {
    "collapsed": false
   },
   "outputs": [
    {
     "data": {
      "image/png": "[encoded data removed]",
      "text/latex": [
       "$$\\left [ \\left \\{ z : - \\frac{\\sqrt{29}}{4}\\right \\}, \\quad \\left \\{ z : \\frac{\\sqrt{29}}{4}\\right \\}\\right ]$$"
      ],
      "text/plain": [
       "⎡⎧      ____ ⎫  ⎧     ____⎫⎤\n",
       "⎢⎪   -╲╱ 29  ⎪  ⎪   ╲╱ 29 ⎪⎥\n",
       "⎢⎨z: ────────⎬, ⎨z: ──────⎬⎥\n",
       "⎢⎪      4    ⎪  ⎪     4   ⎪⎥\n",
       "⎣⎩           ⎭  ⎩         ⎭⎦"
      ]
     },
     "execution_count": 37,
     "metadata": {},
     "output_type": "execute_result"
    }
   ],
   "source": [
    "soln = _[0]\n",
    "solve(G.subs(soln))"
   ]
  },
  {
   "cell_type": "code",
   "execution_count": 38,
   "metadata": {
    "collapsed": false
   },
   "outputs": [
    {
     "data": {
      "image/png": "[encoded data removed]",
      "text/latex": [
       "$$\\left [ \\left ( - \\frac{10 \\sqrt{29}}{29}, \\quad \\frac{4 \\sqrt{29}}{29}\\right ), \\quad \\left ( \\frac{10 \\sqrt{29}}{29}, \\quad - \\frac{4 \\sqrt{29}}{29}\\right )\\right ]$$"
      ],
      "text/plain": [
       "⎡⎛      ____       ____⎞  ⎛     ____       ____ ⎞⎤\n",
       "⎢⎜-10⋅╲╱ 29    4⋅╲╱ 29 ⎟  ⎜10⋅╲╱ 29   -4⋅╲╱ 29  ⎟⎥\n",
       "⎢⎜───────────, ────────⎟, ⎜─────────, ──────────⎟⎥\n",
       "⎣⎝     29         29   ⎠  ⎝    29         29    ⎠⎦"
      ]
     },
     "execution_count": 38,
     "metadata": {},
     "output_type": "execute_result"
    }
   ],
   "source": [
    "zees = _\n",
    "[(soln[x].subs(item), soln[y].subs(item)) for item in zees]"
   ]
  },
  {
   "cell_type": "markdown",
   "metadata": {},
   "source": [
    "Not too bad.  If, on top of this constraint, we further impose another one in the form of an inequality, more involved mathematics need to be used.  Think of the same problem, but constraining to half a circle instead: $y > 0$.  This being the case, the new result will be only the point with coordinates $x = -10\\sqrt{29}/29 = -1.8569533817705186$ and $y = 4\\sqrt{29}/29 = 0.74278135270820744$.\n",
    "\n",
    "It is of course possible to address this problem numerically.  In the module `scipy.optimize` we have basically three methods, all of which may be called from the common routine `minimize`: \n",
    "\n",
    "* *Large-scale Bound-constrained Optimization* based on the BFGS algorithm (we call it with `method='L-BFGS-B'`).  The implementation is actually a wrapper to a `Fortran` routine with the same name, written by Ciyou Zhu, Richard Byrd, and Jorge Nocedal. (for details, see e.g. R. H. Byrd, P. Lu and J. Nocedal. _A Limited Memory Algorithm for Bound Constrained Optimization_, (1995), SIAM Journal on Scientific and Statistical Computing, 16, 5, pp. 1190-1208.) \n",
    "* A constrained-based algorithm based on the truncated Newton method (we call it with `method='TNC'`).  This implementation is similar to the one we called with `method='Newton-CG'`, except this version is a wrapper to a `C` routine.\n",
    "* *Constrained Optimization by Linear Approximation* (with `method='COBYLA'`).  This implementation wraps a `Fortran` routine with the same name.\n",
    "* A minimization method based on *Sequential Least Squares Programming* (`method='SLSQP'`).  The implementation is a wrapper to a `Fortran` routine with the same name, written by Dieter Kraft.\n",
    "\n",
    "Let us use our running problem to illustrate how to input different constraints.  We implement these as a dictionary, or a tuple of dictionaries: each entry in the tuple represents either an identity (`'eq'`) or an inequality (`'ineq'`), together with a functional expression (in the form of a `ndarray` when necessary) and corresponding derivative of it. \n"
   ]
  },
  {
   "cell_type": "code",
   "execution_count": 39,
   "metadata": {
    "collapsed": true
   },
   "outputs": [],
   "source": [
    "def f(x): return 5*x[0] - 2*x[1] + 4\n",
    "def jacf(x): return np.array([5.0, -2.0])\n",
    "\n",
    "circle = {'type': 'eq',\n",
    "          'fun': lambda x: x[0]**2 + x[1]**2 - 4.0,\n",
    "          'jac': lambda x: np.array([2.0 * x[0], 2.0 * x[1]])}\n",
    "\n",
    "semicircle = ({'type': 'eq',\n",
    "               'fun': lambda x: x[0]**2 + x[1]**2 - 4.0,\n",
    "               'jac': lambda x: np.array([2.0 * x[0], 2.0 * x[1]])},\n",
    "              {'type': 'ineq',\n",
    "               'fun': lambda x: x[1],\n",
    "               'jac': lambda x: np.array([0.0, 1.0])})"
   ]
  },
  {
   "cell_type": "markdown",
   "metadata": {},
   "source": [
    "The constraints are fed to the routine `minimize` through the parameter `constraints`.  The initial guess must satisfy the constraints, of course."
   ]
  },
  {
   "cell_type": "code",
   "execution_count": 40,
   "metadata": {
    "collapsed": false
   },
   "outputs": [
    {
     "data": {
      "text/plain": [
       "  status: 0\n",
       " success: True\n",
       "    njev: 11\n",
       "    nfev: 13\n",
       "     fun: -6.7703296142789693\n",
       "       x: array([-1.85695338,  0.74278135])\n",
       " message: 'Optimization terminated successfully.'\n",
       "     jac: array([ 5., -2.,  0.])\n",
       "     nit: 11"
      ]
     },
     "execution_count": 40,
     "metadata": {},
     "output_type": "execute_result"
    }
   ],
   "source": [
    "minimize(f, [2,2], jac=jacf, method='SLSQP', constraints=circle)"
   ]
  },
  {
   "cell_type": "code",
   "execution_count": 41,
   "metadata": {
    "collapsed": false
   },
   "outputs": [
    {
     "data": {
      "text/plain": [
       "  status: 0\n",
       " success: True\n",
       "    njev: 11\n",
       "    nfev: 13\n",
       "     fun: -6.7703296142789693\n",
       "       x: array([-1.85695338,  0.74278135])\n",
       " message: 'Optimization terminated successfully.'\n",
       "     jac: array([ 5., -2.,  0.])\n",
       "     nit: 11"
      ]
     },
     "execution_count": 41,
     "metadata": {},
     "output_type": "execute_result"
    }
   ],
   "source": [
    "minimize(f, [2,2], jac=jacf, method='SLSQP', constraints=semicircle)"
   ]
  },
  {
   "cell_type": "code",
   "execution_count": null,
   "metadata": {
    "collapsed": true
   },
   "outputs": [],
   "source": []
  }
 ],
 "metadata": {
  "kernelspec": {
   "display_name": "Python 2",
   "language": "python",
   "name": "python2"
  },
  "language_info": {
   "codemirror_mode": {
    "name": "ipython",
    "version": 2
   },
   "file_extension": ".py",
   "mimetype": "text/x-python",
   "name": "python",
   "nbconvert_exporter": "python",
   "pygments_lexer": "ipython2",
   "version": "2.7.10"
  }
 },
 "nbformat": 4,
 "nbformat_minor": 0
}
