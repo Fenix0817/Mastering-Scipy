{
 "cells": [
  {
   "cell_type": "markdown",
   "metadata": {},
   "source": [
    "## Optimization\n",
    "\n",
    "The optimization problem is best described as the search of a local maximum or minimum value of a scalar-valued function $f(x)$.  This search may be performed for all possible input values in the domain of $f$ (and in this case we refer to this problem as an *unconstrained optimization*), or for a specific sub-domain (and we refer to this other problem as a *constrained optimization*).  In this section we are going to explore both modalities in several settings.\n",
    "\n",
    "### Unconstrained Optimization for univariate functions\n",
    "\n",
    "We focus on the search for local minima of a function $f(x)$ in an interval $[a, b]$ (the search for local maxima can then be regarded as the search of the local minima of the function $-f(x)$ in the same interval).  For this task, we have the routine `minimize_scalar` in the module `scipy.optimize`.  It accepts as obligatory input a univariate function $f(x)$, together with a search method.\n",
    "\n",
    "Most search methods are based on the idea of _bracketing_ that we used for root finding, although the concept of bracket is a bit different in this setting: In this case, a good _bracket_ is a triple $x < y < z$ where $f(y)$ is less than both $f(x)$ and $f(z)$.  If the function is continuous, its graph presents a U-shape on a bracket.  This guarantees the existence of a minimum inside of the sub-interval $[x, z]$.  A successful bracketing method will look, on each successive step, for the target extremum in either $[x, y]$, or $[y, z]$.\n",
    "\n",
    "Let us construct a fast bracketing method for testing purposes:  Assume we have as initial bracket $a < c < b$.  By quadratic interpolation, we construct a parabola through the points $\\big(a, f(a)\\big)$, $\\big(c, f(c)\\big)$ and $\\big(b, f(b)\\big)$.  Because of the U-shape condition, there must be a minimum (easily computable) for the interpolating parabola, say $\\big(d, f(d)\\big)$.  It is not hard to prove that the value $d$ lies between the midpoints of the subintervals $[a, c]$, and $[c, b]$.  We will use this point $d$ for our next bracketing step.  For example, if it happens that $c < d$, then the next bracket will be either $c < d < b$, or $a < c < d$.   Easy enough. let us implement this method:"
   ]
  },
  {
   "cell_type": "code",
   "execution_count": 2,
   "metadata": {
    "collapsed": false
   },
   "outputs": [],
   "source": [
    "In [1]: import numpy as np; \\\n",
    "   ...: from scipy.interpolate import lagrange; \\\n",
    "   ...: from scipy.optimize import OptimizeResult, minimize_scalar\n",
    "\n",
    "In [2]: def good_bracket(func, bracket):\n",
    "   ...:     a, c, b = bracket\n",
    "   ...:     return (func(a) > func(c)) and (func(b) > func(c))\n",
    "   ...:\n",
    "\n",
    "In [3]: def parabolic_step(f, bracket):\n",
    "   ...:     stop = False\n",
    "   ...:     funcalls = 0\n",
    "   ...:     niter = 0\n",
    "   ...:     while not stop:\n",
    "   ...:         niter += 1\n",
    "   ...:         interpolator = lagrange(np.array(bracket), f(np.array(bracket)))\n",
    "   ...:         funcalls += 3\n",
    "   ...:         a, b, c = interpolator.coeffs\n",
    "   ...:         d = -0.5*b/a\n",
    "   ...:         if np.allclose(bracket[1], d):\n",
    "   ...:             minima = d\n",
    "   ...:             stop = True\n",
    "   ...:         elif bracket[1] < d:\n",
    "   ...:             newbracket = [bracket[1], d, bracket[2]]\n",
    "   ...:             if good_bracket(func, newbracket):\n",
    "   ...:                 bracket = newbracket\n",
    "   ...:             else:\n",
    "   ...:                 bracket = [bracket[0], bracket[1], d]\n",
    "   ...:         else:\n",
    "   ...:             newbracket = [d, bracket[1], bracket[2]]\n",
    "   ...:             if good_bracket(func, newbracket):\n",
    "   ...:                 bracket = newbracket\n",
    "   ...:             else:\n",
    "   ...:                 bracket = [bracket[0], d, bracket[1]]\n",
    "   ...:     return OptimizeResult(fun=func(x), x=minima, nit=niter, nfev=funcalls)\n",
    "   ...:"
   ]
  },
  {
   "cell_type": "markdown",
   "metadata": {},
   "source": [
    "> The output of any minimizing method must be an `OptimizeResult` object, with at least the attribute `x` (the solution to the optimization problem).  In the example we have just run, the attributes coded in this method are `x`, `fun` (the evaluation of `f` at that solution), `nit` (number of iterations), and `nfev` (number of functions evaluations needed).\n",
    "\n",
    "Let us run this method over a few examples:"
   ]
  },
  {
   "cell_type": "code",
   "execution_count": 10,
   "metadata": {
    "collapsed": false
   },
   "outputs": [
    {
     "name": "stdout",
     "output_type": "stream",
     "text": [
      "True\n"
     ]
    },
    {
     "ename": "ValueError",
     "evalue": "Unknown solver parabolic_step",
     "output_type": "error",
     "traceback": [
      "\u001b[0;31m---------------------------------------------------------------------------\u001b[0m",
      "\u001b[0;31mValueError\u001b[0m                                Traceback (most recent call last)",
      "\u001b[0;32m<ipython-input-10-65dbd81ab276>\u001b[0m in \u001b[0;36m<module>\u001b[0;34m()\u001b[0m\n\u001b[1;32m      3\u001b[0m \u001b[0;32mprint\u001b[0m \u001b[0mgood_bracket\u001b[0m\u001b[0;34m(\u001b[0m\u001b[0mf\u001b[0m\u001b[0;34m,\u001b[0m \u001b[0;34m[\u001b[0m\u001b[0;34m-\u001b[0m\u001b[0;36m1\u001b[0m\u001b[0;34m,\u001b[0m \u001b[0;34m-\u001b[0m\u001b[0;36m0.5\u001b[0m\u001b[0;34m,\u001b[0m \u001b[0;36m1\u001b[0m\u001b[0;34m]\u001b[0m\u001b[0;34m)\u001b[0m\u001b[0;34m\u001b[0m\u001b[0m\n\u001b[1;32m      4\u001b[0m \u001b[0;34m\u001b[0m\u001b[0m\n\u001b[0;32m----> 5\u001b[0;31m \u001b[0;32mprint\u001b[0m \u001b[0mminimize_scalar\u001b[0m\u001b[0;34m(\u001b[0m\u001b[0mf\u001b[0m\u001b[0;34m,\u001b[0m \u001b[0mbracket\u001b[0m\u001b[0;34m=\u001b[0m\u001b[0;34m[\u001b[0m\u001b[0;34m-\u001b[0m\u001b[0;36m1\u001b[0m\u001b[0;34m,\u001b[0m \u001b[0;34m-\u001b[0m\u001b[0;36m0.5\u001b[0m\u001b[0;34m,\u001b[0m \u001b[0;36m1\u001b[0m\u001b[0;34m]\u001b[0m\u001b[0;34m,\u001b[0m \u001b[0mmethod\u001b[0m\u001b[0;34m=\u001b[0m\u001b[0;34m'parabolic_step'\u001b[0m\u001b[0;34m)\u001b[0m\u001b[0;34m\u001b[0m\u001b[0m\n\u001b[0m\u001b[1;32m      6\u001b[0m \u001b[0;34m\u001b[0m\u001b[0m\n\u001b[1;32m      7\u001b[0m \u001b[0;32mprint\u001b[0m \u001b[0mgood_bracket\u001b[0m\u001b[0;34m(\u001b[0m\u001b[0mg\u001b[0m\u001b[0;34m,\u001b[0m \u001b[0;34m[\u001b[0m\u001b[0;36m0\u001b[0m\u001b[0;34m,\u001b[0m \u001b[0;36m1.2\u001b[0m\u001b[0;34m,\u001b[0m \u001b[0;36m1.5\u001b[0m\u001b[0;34m]\u001b[0m\u001b[0;34m)\u001b[0m\u001b[0;34m\u001b[0m\u001b[0m\n",
      "\u001b[0;32m//anaconda/lib/python2.7/site-packages/scipy/optimize/_minimize.pyc\u001b[0m in \u001b[0;36mminimize_scalar\u001b[0;34m(fun, bracket, bounds, args, method, tol, options)\u001b[0m\n\u001b[1;32m    590\u001b[0m         \u001b[0;32mreturn\u001b[0m \u001b[0m_minimize_scalar_golden\u001b[0m\u001b[0;34m(\u001b[0m\u001b[0mfun\u001b[0m\u001b[0;34m,\u001b[0m \u001b[0mbracket\u001b[0m\u001b[0;34m,\u001b[0m \u001b[0margs\u001b[0m\u001b[0;34m,\u001b[0m \u001b[0;34m**\u001b[0m\u001b[0moptions\u001b[0m\u001b[0;34m)\u001b[0m\u001b[0;34m\u001b[0m\u001b[0m\n\u001b[1;32m    591\u001b[0m     \u001b[0;32melse\u001b[0m\u001b[0;34m:\u001b[0m\u001b[0;34m\u001b[0m\u001b[0m\n\u001b[0;32m--> 592\u001b[0;31m         \u001b[0;32mraise\u001b[0m \u001b[0mValueError\u001b[0m\u001b[0;34m(\u001b[0m\u001b[0;34m'Unknown solver %s'\u001b[0m \u001b[0;34m%\u001b[0m \u001b[0mmethod\u001b[0m\u001b[0;34m)\u001b[0m\u001b[0;34m\u001b[0m\u001b[0m\n\u001b[0m",
      "\u001b[0;31mValueError\u001b[0m: Unknown solver parabolic_step"
     ]
    }
   ],
   "source": [
    "In [4]: def g(x): return -np.exp(-x)*np.sin(x); \\\n",
    "   ...: f = np.vectorize(lambda x: max(1-x, 2+x))\n",
    "\n",
    "In [5]: print good_bracket(f, [-1, -0.5, 1])\n",
    "\n",
    "In [6]: print minimize_scalar(f, bracket=[-1, -0.5, 1], method='parabolic_step')\n",
    "\n",
    "In [7]: print good_bracket(g, [0, 1.2, 1.5])\n",
    "\n",
    "In [8]: print minimize_scalar(g, bracket=[0,1.2,1.5], method=parabolic_step)"
   ]
  },
  {
   "cell_type": "code",
   "execution_count": 6,
   "metadata": {
    "collapsed": true
   },
   "outputs": [],
   "source": [
    "minimize_scalar?\n"
   ]
  },
  {
   "cell_type": "code",
   "execution_count": null,
   "metadata": {
    "collapsed": true
   },
   "outputs": [],
   "source": []
  }
 ],
 "metadata": {
  "kernelspec": {
   "display_name": "Python 2",
   "language": "python",
   "name": "python2"
  },
  "language_info": {
   "codemirror_mode": {
    "name": "ipython",
    "version": 2
   },
   "file_extension": ".py",
   "mimetype": "text/x-python",
   "name": "python",
   "nbconvert_exporter": "python",
   "pygments_lexer": "ipython2",
   "version": "2.7.10"
  }
 },
 "nbformat": 4,
 "nbformat_minor": 0
}
