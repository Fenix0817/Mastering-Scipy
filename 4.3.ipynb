{
 "cells": [
  {
   "cell_type": "markdown",
   "metadata": {},
   "source": [
    "## Optimization\n",
    "\n",
    "The optimization problem is best described as the search of a local maximum or minimum value of a scalar-valued function $f(x)$.  This search may be performed for all possible input values in the domain of $f$ (and in this case we refer to this problem as an *unconstrained optimization*), or for a specific sub-domain (and we refer to this other problem as a *constrained optimization*).  In this section we are going to explore both modalities in several settings.\n",
    "\n",
    "### Unconstrained Optimization for univariate functions\n",
    "\n",
    "We focus on the search for local minima of a function $f(x)$ in an interval $[a, b]$ (the search for local maxima can then be regarded as the search of the local minima of the function $-f(x)$ in the same interval).  For this task, we have the routine `minimize_scalar` in the module `scipy.optimize`.  It accepts as obligatory input a univariate function $f(x)$, together with a search method.\n",
    "\n",
    "Most search methods are based on the idea of _bracketing_ that we used for root finding, although the concept of bracket is a bit different in this setting: In this case, a good _bracket_ is a triple $x < y < z$ where $f(y)$ is less than both $f(x)$ and $f(z)$.  If the function is continuous, its graph presents a U-shape on a bracket.  This guarantees the existence of a minimum inside of the sub-interval $[x, z]$.  A successful bracketing method will look, on each successive step, for the target extremum in either $[x, y]$, or $[y, z]$.\n",
    "\n",
    "Let us construct a fast bracketing method for testing purposes:  Assume we have as initial bracket $a < c < b$.  By quadratic interpolation, we construct a parabola through the points $\\big(a, f(a)\\big)$, $\\big(c, f(c)\\big)$ and $\\big(b, f(b)\\big)$.  Because of the U-shape condition, there must be a minimum (easily computable) for the interpolating parabola, say $\\big(d, f(d)\\big)$.  It is not hard to prove that the value $d$ lies between the midpoints of the subintervals $[a, c]$, and $[c, b]$.  We will use this point $d$ for our next bracketing step.  For example, if it happens that $c < d$, then the next bracket will be either $c < d < b$, or $a < c < d$.   Easy enough. let us implement this method:"
   ]
  },
  {
   "cell_type": "code",
   "execution_count": 1,
   "metadata": {
    "collapsed": false
   },
   "outputs": [],
   "source": [
    "import numpy as np\n",
    "from scipy.interpolate import lagrange\n",
    "from scipy.optimize import OptimizeResult, minimize_scalar\n",
    "\n",
    "def good_bracket(func, bracket):\n",
    "    a, c, b = bracket\n",
    "    return (func(a) > func(c)) and (func(b) > func(c))\n",
    "\n",
    "\n",
    "def parabolic_step(f, args, bracket, **options):\n",
    "    stop = False\n",
    "    funcalls = 0\n",
    "    niter = 0\n",
    "    while not stop:\n",
    "        niter += 1\n",
    "        interpolator = lagrange(np.array(bracket), f(np.array(bracket)))\n",
    "        funcalls += 3\n",
    "        a, b, c = interpolator.coeffs\n",
    "        d = -0.5*b/a\n",
    "        if np.allclose(bracket[1], d):\n",
    "            minima = d\n",
    "            stop = True\n",
    "        elif bracket[1] < d:\n",
    "            newbracket = [bracket[1], d, bracket[2]]\n",
    "            if good_bracket(f, newbracket):\n",
    "                bracket = newbracket\n",
    "            else:\n",
    "                bracket = [bracket[0], bracket[1], d]\n",
    "        else:\n",
    "            newbracket = [d, bracket[1], bracket[2]]\n",
    "            if good_bracket(f, newbracket):\n",
    "                bracket = newbracket\n",
    "            else:\n",
    "                bracket = [bracket[0], d, bracket[1]]\n",
    "    return OptimizeResult(fun=f(minima), x=minima, nit=niter, nfev=funcalls)"
   ]
  },
  {
   "cell_type": "markdown",
   "metadata": {},
   "source": [
    "> The output of any minimizing method must be an `OptimizeResult` object, with at least the attribute `x` (the solution to the optimization problem).  In the example we have just run, the attributes coded in this method are `x`, `fun` (the evaluation of `f` at that solution), `nit` (number of iterations), and `nfev` (number of functions evaluations needed).\n",
    "\n",
    "Let us run this method over a few examples:"
   ]
  },
  {
   "cell_type": "code",
   "execution_count": 2,
   "metadata": {
    "collapsed": false
   },
   "outputs": [
    {
     "name": "stdout",
     "output_type": "stream",
     "text": [
      "True\n",
      "  fun: array(1.5000021457670878)\n",
      " nfev: 33\n",
      "  nit: 11\n",
      "    x: -0.50000214576708779\n"
     ]
    }
   ],
   "source": [
    "def g(x): return -np.exp(-x)*np.sin(x)\n",
    "\n",
    "f = np.vectorize(lambda x: max(1-x, 2+x))\n",
    "\n",
    "print good_bracket(f, [-1, -0.5, 1])\n",
    "\n",
    "print minimize_scalar(f, bracket=[-1, -0.5, 1], method=parabolic_step)"
   ]
  },
  {
   "cell_type": "code",
   "execution_count": 3,
   "metadata": {
    "collapsed": false
   },
   "outputs": [
    {
     "name": "stdout",
     "output_type": "stream",
     "text": [
      "True\n",
      "  fun: -0.32239694192707441\n",
      " nfev: 54\n",
      "  nit: 18\n",
      "    x: 0.78540558550495643\n"
     ]
    }
   ],
   "source": [
    "print good_bracket(g, [0, 1.2, 1.5])\n",
    "\n",
    "print minimize_scalar(g, bracket=[0,1.2,1.5], method=parabolic_step)"
   ]
  },
  {
   "cell_type": "markdown",
   "metadata": {},
   "source": [
    "There are two methods already coded for univariate scalar minimization: `golden`, using a *golden section search*, and `brent`, following an algorithm by Brent and Dekker. "
   ]
  },
  {
   "cell_type": "code",
   "execution_count": 4,
   "metadata": {
    "collapsed": false
   },
   "outputs": [
    {
     "data": {
      "text/plain": [
       "  fun: array(1.5)\n",
       " nfev: 22\n",
       "  nit: 21\n",
       "    x: -0.5"
      ]
     },
     "execution_count": 4,
     "metadata": {},
     "output_type": "execute_result"
    }
   ],
   "source": [
    "minimize_scalar(f, method='brent', bracket=[-1, -0.5, 1])"
   ]
  },
  {
   "cell_type": "code",
   "execution_count": 5,
   "metadata": {
    "collapsed": false
   },
   "outputs": [
    {
     "data": {
      "text/plain": [
       "  fun: array(1.5)\n",
       "    x: -0.5\n",
       " nfev: 44"
      ]
     },
     "execution_count": 5,
     "metadata": {},
     "output_type": "execute_result"
    }
   ],
   "source": [
    "minimize_scalar(f, method='golden', bracket=[-1, -0.5, 1])"
   ]
  },
  {
   "cell_type": "code",
   "execution_count": 6,
   "metadata": {
    "collapsed": false
   },
   "outputs": [
    {
     "data": {
      "text/plain": [
       "  fun: -0.32239694194483443\n",
       " nfev: 11\n",
       "  nit: 10\n",
       "    x: 0.78539817180087257"
      ]
     },
     "execution_count": 6,
     "metadata": {},
     "output_type": "execute_result"
    }
   ],
   "source": [
    "minimize_scalar(g, method='brent', bracket=[0, 1.2, 1.5])"
   ]
  },
  {
   "cell_type": "code",
   "execution_count": 7,
   "metadata": {
    "collapsed": false
   },
   "outputs": [
    {
     "data": {
      "text/plain": [
       "  fun: -0.32239694194483448\n",
       "    x: 0.7853981573284226\n",
       " nfev: 43"
      ]
     },
     "execution_count": 7,
     "metadata": {},
     "output_type": "execute_result"
    }
   ],
   "source": [
    "minimize_scalar(g, method='golden', bracket=[0, 1.2, 1.5])"
   ]
  },
  {
   "cell_type": "markdown",
   "metadata": {},
   "source": [
    "### Constrained Optimization for univariate functions\n",
    "\n",
    "Although the bracket included in the routine `minimize_scalar` already places a constraint on the function, it is feasible to force the search for a true minimum inside of a suitable interval for which no bracket can be easily found.\n"
   ]
  },
  {
   "cell_type": "code",
   "execution_count": 8,
   "metadata": {
    "collapsed": false
   },
   "outputs": [
    {
     "data": {
      "text/plain": [
       "  status: 0\n",
       "    nfev: 10\n",
       " success: True\n",
       "     fun: -0.32239694194483415\n",
       "       x: 0.78539813414299553\n",
       " message: 'Solution found.'"
      ]
     },
     "execution_count": 8,
     "metadata": {},
     "output_type": "execute_result"
    }
   ],
   "source": [
    "minimize_scalar(g, method='bounded', bounds=(0, 1.5))"
   ]
  },
  {
   "cell_type": "markdown",
   "metadata": {},
   "source": [
    "### Unconstrained Optimization for multivariate functions\n",
    "\n",
    "Except in the case of minimization by brute force or _basin hopping_, we may perform all other searches with the common routine `minimize` from the module `scipy.optimize`.  The parameter `method`, as with its univariate counterpart, takes care of selecting the algorithm employed to achieve the extremum.   There are several well-known algorithms already coded, but we also have the possibility of implementing our own ideas via a suitable custom-made method. \n",
    "\n",
    "In this section we will focus on the description and usage of the black-box implementations.  The same technique that we employed in the construction of custom methods for `minimize_scalar` is valid here, with the obvious challenges that the extra dimensions bring.\n",
    "\n",
    "To compare all the different methods, we are going to run them against a particularly challenging function: Rocksenbrock's _parabolic valley_ (also informally referred to as the _banana function_).  The module `scipy.optimize` has `numpy` versions of this function, as well as its Jacobian and Hessian.\n"
   ]
  },
  {
   "cell_type": "code",
   "execution_count": 9,
   "metadata": {
    "collapsed": false
   },
   "outputs": [
    {
     "data": {
      "image/png": "[encoded data removed]",
      "text/latex": [
       "$$\\left[\\begin{matrix}\\left(- x + 1\\right)^{2} + 100.0 \\left(- x^{2} + y\\right)^{2}\\end{matrix}\\right]$$"
      ],
      "text/plain": [
       "⎡                            2⎤\n",
       "⎢        2         ⎛   2    ⎞ ⎥\n",
       "⎣(-x + 1)  + 100.0⋅⎝- x  + y⎠ ⎦"
      ]
     },
     "execution_count": 9,
     "metadata": {},
     "output_type": "execute_result"
    }
   ],
   "source": [
    "from scipy.optimize import rosen\n",
    "\n",
    "from sympy import var, Matrix, solve, init_printing\n",
    "init_printing()\n",
    "\n",
    "var('x y')\n",
    "\n",
    "F = Matrix([rosen([x, y])])\n",
    "\n",
    "F"
   ]
  },
  {
   "cell_type": "code",
   "execution_count": 37,
   "metadata": {
    "collapsed": false
   },
   "outputs": [
    {
     "data": {
      "image/png": "[encoded data removed]",
      "text/plain": [
       "<matplotlib.figure.Figure at 0x10b1c7c10>"
      ]
     },
     "metadata": {},
     "output_type": "display_data"
    }
   ],
   "source": [
    "def f(x,y): return rosen([x, y])\n",
    "\n",
    "import matplotlib.pyplot as plt, matplotlib.cm as cm\n",
    "from mpl_toolkits.mplot3d.axes3d import Axes3D\n",
    "%matplotlib inline\n",
    "\n",
    "plt.figure(figsize=(12,6))\n",
    "plt.subplot(121, aspect='equal')\n",
    "X, Y = np.mgrid[-1.25:1.25:100j, -1.25:1.25:100j]\n",
    "plt.contourf(X, Y, f(X,Y), levels=np.linspace(0,800,16), cmap=cm.Greys)\n",
    "plt.colorbar(orientation='horizontal')\n",
    "plt.title('Contour plot')\n",
    "\n",
    "ax = plt.subplot(122, projection='3d', aspect='equal')\n",
    "ax.plot_surface(X, Y, f(X,Y), cmap=cm.Greys, alpha=0.75)\n",
    "plt.colorbar(orientation='horizontal')\n",
    "plt.title('Surface plot')\n",
    "plt.show()"
   ]
  },
  {
   "cell_type": "markdown",
   "metadata": {},
   "source": [
    "The image shows a large area (with the shape of a banana) that may contain local minima.  Techniques of multivariate Calculus help us locate all critical points precisely, instead of relying on intuition. We need first to compute the Jacobian and Hessian of the function:"
   ]
  },
  {
   "cell_type": "code",
   "execution_count": 11,
   "metadata": {
    "collapsed": false
   },
   "outputs": [
    {
     "data": {
      "image/png": "[encoded data removed]",
      "text/latex": [
       "$$\\left[\\begin{matrix}- 400.0 x \\left(- x^{2} + y\\right) + 2 x - 2 & - 200.0 x^{2} + 200.0 y\\end{matrix}\\right]$$"
      ],
      "text/plain": [
       "⎡                ⎛   2    ⎞                           2          ⎤\n",
       "⎣- -400.0⋅(-1)⋅x⋅⎝- x  + y⎠ + 2⋅x - 2  - -200.0⋅(-1)⋅x  + 200.0⋅y⎦"
      ]
     },
     "execution_count": 11,
     "metadata": {},
     "output_type": "execute_result"
    }
   ],
   "source": [
    "JacF = F.jacobian([x, y])\n",
    "JacF"
   ]
  },
  {
   "cell_type": "code",
   "execution_count": 12,
   "metadata": {
    "collapsed": false
   },
   "outputs": [
    {
     "data": {
      "image/png": "[encoded data removed]",
      "text/latex": [
       "$$\\left[\\begin{matrix}1200.0 x^{2} - 400.0 y + 2 & - 400.0 x\\\\- 400.0 x & 200.0\\end{matrix}\\right]$$"
      ],
      "text/plain": [
       "⎡        2                              ⎤\n",
       "⎢1200.0⋅x  - -400.0⋅(-1)⋅y + 2  -400.0⋅x⎥\n",
       "⎢                                       ⎥\n",
       "⎣          -400.0⋅x              200.0  ⎦"
      ]
     },
     "execution_count": 12,
     "metadata": {},
     "output_type": "execute_result"
    }
   ],
   "source": [
    "HesF = JacF.jacobian([x, y])\n",
    "HesF"
   ]
  },
  {
   "cell_type": "code",
   "execution_count": 13,
   "metadata": {
    "collapsed": false
   },
   "outputs": [
    {
     "data": {
      "image/png": "[encoded data removed]",
      "text/latex": [
       "$$\\left [ \\left \\{ x : 1.0, \\quad y : 1.0\\right \\}\\right ]$$"
      ],
      "text/plain": [
       "[{x: 1.0, y: 1.0}]"
      ]
     },
     "execution_count": 13,
     "metadata": {},
     "output_type": "execute_result"
    }
   ],
   "source": [
    "solve(JacF)"
   ]
  },
  {
   "cell_type": "code",
   "execution_count": 14,
   "metadata": {
    "collapsed": false
   },
   "outputs": [
    {
     "data": {
      "image/png": "[encoded data removed]",
      "text/latex": [
       "$$\\left[\\begin{matrix}802.0 & -400.0\\\\-400.0 & 200.0\\end{matrix}\\right]$$"
      ],
      "text/plain": [
       "⎡802.0   -400.0⎤\n",
       "⎢              ⎥\n",
       "⎣-400.0  200.0 ⎦"
      ]
     },
     "execution_count": 14,
     "metadata": {},
     "output_type": "execute_result"
    }
   ],
   "source": [
    "HesF.subs({x: 1.0, y: 1.0})"
   ]
  },
  {
   "cell_type": "code",
   "execution_count": 15,
   "metadata": {
    "collapsed": false
   },
   "outputs": [
    {
     "data": {
      "image/png": "[encoded data removed]",
      "text/latex": [
       "$$400.0$$"
      ],
      "text/plain": [
       "400.000000000000"
      ]
     },
     "execution_count": 15,
     "metadata": {},
     "output_type": "execute_result"
    }
   ],
   "source": [
    "_.det()"
   ]
  },
  {
   "cell_type": "markdown",
   "metadata": {},
   "source": [
    "These computations show that there is only one critical point at $(1, 1)$.  Unequivocally, this point presents a local minimum at that location.  \n",
    "\n",
    "Trying to compute the critical points with this technique for a Rosenbrock function in higher dimensions, while doable, is computationally intense.  Moving to four dimensions, for example, takes a decent computer about half a minute."
   ]
  },
  {
   "cell_type": "code",
   "execution_count": 16,
   "metadata": {
    "collapsed": false
   },
   "outputs": [
    {
     "name": "stdout",
     "output_type": "stream",
     "text": [
      "CPU times: user 25.1 s, sys: 778 ms, total: 25.8 s\n",
      "Wall time: 25.3 s\n"
     ]
    },
    {
     "data": {
      "image/png": "[encoded data removed]",
      "text/latex": [
       "$$\\left [ \\left \\{ x_{0} : 1.0, \\quad x_{1} : 1.0, \\quad x_{2} : 1.0, \\quad x_{3} : 1.0\\right \\}\\right ]$$"
      ],
      "text/plain": [
       "[{x₀: 1.0, x₁: 1.0, x₂: 1.0, x₃: 1.0}]"
      ]
     },
     "execution_count": 16,
     "metadata": {},
     "output_type": "execute_result"
    }
   ],
   "source": [
    "var('x:4')\n",
    "X = [x0, x1, x2, x3]\n",
    "F = Matrix([rosen(X)])\n",
    "\n",
    "%time solve(F.jacobian(X))"
   ]
  },
  {
   "cell_type": "markdown",
   "metadata": {},
   "source": [
    "For large dimensions, the search for global minima can be done by brute force: not very elegant, but it gets the job done.  Brute force algorithm is able to track global minima (or approximate it to satisfactory precision).  We can call this method with the routine `brute` in the module `scipy.optimize`.  The obligatory parameters are the function to be minimized, together with a description of the domain where we will apply the optimization.  This domain is best coded as a tuple of slices. For example, to search for a global minimum of the Rosenbrock function in four variables, where each variable is bounded in absolute value by 3, we could issue:"
   ]
  },
  {
   "cell_type": "code",
   "execution_count": 17,
   "metadata": {
    "collapsed": false
   },
   "outputs": [
    {
     "name": "stdout",
     "output_type": "stream",
     "text": [
      "CPU times: user 4.11 s, sys: 105 ms, total: 4.22 s\n",
      "Wall time: 4.17 s\n"
     ]
    },
    {
     "data": {
      "text/plain": [
       "array([ 1.,  1.,  1.,  1.])"
      ]
     },
     "execution_count": 17,
     "metadata": {},
     "output_type": "execute_result"
    }
   ],
   "source": [
    "from scipy.optimize import brute\n",
    "\n",
    "interval = slice(-3, 3, 0.25)\n",
    "box = [interval] * 4\n",
    "\n",
    "%time brute(rosen, box)"
   ]
  },
  {
   "cell_type": "markdown",
   "metadata": {},
   "source": [
    "Still quite slow process. To achieve speed, it is always better to use iterative methods.  The search for minima in this setting in achieved according to several schema (and combinations of these):\n",
    "\n",
    "* Stochastic methods: These are methods suitable for the search of actual global minima. They generate and use random variables.  In the module `scipy.optimize` we have two exponents of this category: \n",
    "\n",
    "    * The *Basin-hopping algorithm*, called with the routine `basinhopping` in the module `scipy.optimize`.  The implementation has acceptance test given by the *Metropolis criterion* of a standard Monte-Carlo.\n",
    "    * A deprecated version of the method of *simulated annealing*, called with `method='Anneal'`, which is a variation of a *Monte-Carlo simulation*.  It is useful for optimization problems where the search space is discrete and large.\n",
    "\n",
    "* Deterministic algorithms that employ exclusively function evaluations: These are basically performed by successive linear minimizations on different directions.  In the module `scipy.optimize` we have three methods complying with this philosophy:\n",
    "\n",
    "    * *Powell's method* based on the unidimensional Brent's minimization.  We call it with `method='Powell'`.\n",
    "    * *Downhill symplex algorithm*.  Also known as the *amoeba method*, created by Nelder and Mead in 1965.  We call it with `'Nelder-Mead'`.\n",
    "\n",
    "* *Newton methods*: deterministic algorithms on differentiable functions that mimic multivariate Calculus to search for critical points.  In a nutshell, we seek for at least one critical point whose Hessians satisfies the conditions for local minimum.  These algorithms employ both Jacobian and Hessian evaluations.  Because of the complexity of these expressions in general, approximations to both operators are usually implemented instead. When this is the case, we refer to these methods as *quasy-Newton methods*.  In the module `scipy.optimize` we have the quasy-Newton method of Broyden, Fletcher, Goldfarb and Shanno (*BFGS*), that uses exclusively first derivatives.  We call it with `method='BFGS'`.\n",
    "\n",
    "* *Conjugate gradient* methods.  We have three variants:\n",
    "\n",
    "    * A variant of the Fetcher-Reeves algorithm to implement a pure conjugate gradient, written by Polak and Ribiere.  It uses exclusively first derivatives.   It is called with `method='CG'`.\n",
    "    * A combination of conjugate gradient with a Newton method, the *truncated Newton method*, which we call with `method='Newton-CG'`.\n",
    "    * Two different versions of the *Newton conjugate gradient trust-region algorithm* which use the idea of *trust-regions* to more effectively bound the location of the possible minima.  We call them with `method='dogleg'` and `method='trust-ncg'`.\n",
    "\n",
    "Let us browse through these methods:\n",
    "\n",
    "#### Stochastic Methods\n",
    "\n",
    "Let us find the global minimum of the Rosenbrock function of nine variables using the technique of _basin hopping_:"
   ]
  },
  {
   "cell_type": "code",
   "execution_count": 18,
   "metadata": {
    "collapsed": false
   },
   "outputs": [
    {
     "name": "stdout",
     "output_type": "stream",
     "text": [
      "CPU times: user 1.4 s, sys: 3.85 ms, total: 1.4 s\n",
      "Wall time: 1.4 s\n"
     ]
    },
    {
     "data": {
      "text/plain": [
       "                  nfev: 73552\n",
       " minimization_failures: 52\n",
       "                   fun: 1.1852936845545857e-11\n",
       "                     x: array([ 1.        ,  0.99999996,  0.99999991,  0.99999986,  0.99999979,\n",
       "        0.99999953,  0.99999917,  0.99999845,  0.99999711])\n",
       "               message: ['requested number of basinhopping iterations completed successfully']\n",
       "                  njev: 6631\n",
       "                   nit: 100"
      ]
     },
     "execution_count": 18,
     "metadata": {},
     "output_type": "execute_result"
    }
   ],
   "source": [
    "from scipy.optimize import minimize, basinhopping\n",
    "\n",
    "%time basinhopping(rosen, np.zeros(9))"
   ]
  },
  {
   "cell_type": "markdown",
   "metadata": {},
   "source": [
    "Let us compare to the behavior of (the deprecated) _simulated annealing_:"
   ]
  },
  {
   "cell_type": "code",
   "execution_count": 19,
   "metadata": {
    "collapsed": false
   },
   "outputs": [
    {
     "data": {
      "text/plain": [
       "  status: 5\n",
       " success: False\n",
       "  accept: 14\n",
       "    nfev: 601\n",
       "       T: 1228062251.2535141\n",
       "     fun: 1780787925.1531105\n",
       "       x: array([-32.06235863,  -7.34776765,  55.0833683 , -30.65545803,\n",
       "        38.64343674,  10.94644044,  43.88933022, -25.14684291, -88.3455676 ])\n",
       " message: 'Final point not the minimum amongst encountered points'\n",
       "     nit: 11"
      ]
     },
     "execution_count": 19,
     "metadata": {},
     "output_type": "execute_result"
    }
   ],
   "source": [
    "minimize(rosen, np.zeros(9), method='Anneal')"
   ]
  },
  {
   "cell_type": "markdown",
   "metadata": {},
   "source": [
    "#### Deterministic Algorithms that employ exclusively function evaluations\n",
    "\n",
    "Let us compare the results of Powell method with the downhill symplex method:"
   ]
  },
  {
   "cell_type": "code",
   "execution_count": 20,
   "metadata": {
    "collapsed": false
   },
   "outputs": [
    {
     "data": {
      "text/plain": [
       "  status: 0\n",
       " success: True\n",
       "   direc: array([[ -9.72738082e-06,   2.08442100e-05,   2.06470354e-05,\n",
       "          4.39487336e-05,   1.29109965e-04,   1.98333214e-04,\n",
       "          3.66992710e-04,   7.00645876e-04,   1.38618490e-03],\n",
       "       [ -6.95913467e-06,  -7.25642319e-07,  -2.39771165e-06,\n",
       "          4.10148950e-06,  -6.17293950e-06,  -6.53887929e-06,\n",
       "         -1.06472131e-05,  -5.23030560e-06,  -2.28609237e-06],\n",
       "       [  0.00000000e+00,   0.00000000e+00,   1.00000000e+00,\n",
       "          0.00000000e+00,   0.00000000e+00,   0.00000000e+00,\n",
       "          0.00000000e+00,   0.00000000e+00,   0.00000000e+00],\n",
       "       [  1.23259263e-06,   9.30817415e-07,   2.48075487e-07,\n",
       "         -7.07908007e-07,  -2.01233140e-07,  -1.10513436e-06,\n",
       "         -2.57164632e-06,  -2.58316855e-06,  -3.89962720e-06],\n",
       "       [  6.07328675e-02,   8.51817777e-02,   1.30174960e-01,\n",
       "          1.71511253e-01,   9.72602622e-02,   1.47866889e-02,\n",
       "          1.12376083e-03,   5.35386263e-04,   2.04473740e-04],\n",
       "       [  0.00000000e+00,   0.00000000e+00,   0.00000000e+00,\n",
       "          0.00000000e+00,   0.00000000e+00,   1.00000000e+00,\n",
       "          0.00000000e+00,   0.00000000e+00,   0.00000000e+00],\n",
       "       [  3.88222708e-04,   8.26386166e-04,   5.56913200e-04,\n",
       "          3.08319925e-04,   4.45122275e-04,   2.66513914e-03,\n",
       "          6.31410713e-03,   1.24763367e-02,   2.45489699e-02],\n",
       "       [  0.00000000e+00,   0.00000000e+00,   0.00000000e+00,\n",
       "          0.00000000e+00,   0.00000000e+00,   0.00000000e+00,\n",
       "          0.00000000e+00,   1.00000000e+00,   0.00000000e+00],\n",
       "       [ -2.78670638e-13,   2.38340184e-13,  -4.16529251e-13,\n",
       "         -1.22802786e-12,  -2.37362277e-12,  -5.05814116e-12,\n",
       "         -9.87863127e-12,  -2.07156113e-11,  -4.09028903e-11]])\n",
       "    nfev: 6048\n",
       "     fun: 3.1564236401538692e-21\n",
       "       x: array([ 1.,  1.,  1.,  1.,  1.,  1.,  1.,  1.,  1.])\n",
       " message: 'Optimization terminated successfully.'\n",
       "     nit: 56"
      ]
     },
     "execution_count": 20,
     "metadata": {},
     "output_type": "execute_result"
    }
   ],
   "source": [
    "minimize(rosen, np.zeros(9), method='Powell')"
   ]
  },
  {
   "cell_type": "code",
   "execution_count": 21,
   "metadata": {
    "collapsed": false
   },
   "outputs": [
    {
     "data": {
      "text/plain": [
       "  status: 1\n",
       "    nfev: 1800\n",
       " success: False\n",
       "     fun: 4.9724099905503065\n",
       "       x: array([ 0.85460488,  0.70911132,  0.50139591,  0.24591886,  0.06234451,\n",
       "       -0.01112426,  0.02048509,  0.03266785, -0.01790827])\n",
       " message: 'Maximum number of function evaluations has been exceeded.'\n",
       "     nit: 1287"
      ]
     },
     "execution_count": 21,
     "metadata": {},
     "output_type": "execute_result"
    }
   ],
   "source": [
    "minimize(rosen, np.zeros(9), method='Nelder-Mead')"
   ]
  },
  {
   "cell_type": "markdown",
   "metadata": {},
   "source": [
    "#### Broyden-Fletcher-Goldfarb-Shanno quasy-Newton method\n",
    "\n",
    "Let us observe the behavior of this algorithm on our running example:"
   ]
  },
  {
   "cell_type": "code",
   "execution_count": 22,
   "metadata": {
    "collapsed": false
   },
   "outputs": [
    {
     "data": {
      "text/plain": [
       "   status: 0\n",
       "  success: True\n",
       "     njev: 81\n",
       "     nfev: 891\n",
       " hess_inv: array([[  1.76175802e-03,   9.52529823e-04,   4.28012190e-04,\n",
       "          2.42384272e-04,   3.19435520e-04,   5.22274096e-04,\n",
       "          9.54491592e-04,   1.90356898e-03,   3.88425290e-03],\n",
       "       [  9.52529823e-04,   1.92614627e-03,   1.06938429e-03,\n",
       "          7.62795084e-04,   9.90777160e-04,   1.73835954e-03,\n",
       "          3.34396840e-03,   6.60860009e-03,   1.31371356e-02],\n",
       "       [  4.28012190e-04,   1.06938429e-03,   2.11061717e-03,\n",
       "          1.62277687e-03,   1.99953489e-03,   3.48820729e-03,\n",
       "          6.69751076e-03,   1.32226808e-02,   2.62097541e-02],\n",
       "       [  2.42384272e-04,   7.62795084e-04,   1.62277687e-03,\n",
       "          3.26526053e-03,   3.90024231e-03,   6.52531650e-03,\n",
       "          1.25429995e-02,   2.48380789e-02,   4.93855550e-02],\n",
       "       [  3.19435520e-04,   9.90777160e-04,   1.99953489e-03,\n",
       "          3.90024231e-03,   7.64778478e-03,   1.28563647e-02,\n",
       "          2.46566083e-02,   4.88479667e-02,   9.71814358e-02],\n",
       "       [  5.22274096e-04,   1.73835954e-03,   3.48820729e-03,\n",
       "          6.52531650e-03,   1.28563647e-02,   2.60859157e-02,\n",
       "          4.99304456e-02,   9.88455511e-02,   1.96572995e-01],\n",
       "       [  9.54491592e-04,   3.34396840e-03,   6.69751076e-03,\n",
       "          1.25429995e-02,   2.46566083e-02,   4.99304456e-02,\n",
       "          1.00483550e-01,   1.98886874e-01,   3.95480201e-01],\n",
       "       [  1.90356898e-03,   6.60860009e-03,   1.32226808e-02,\n",
       "          2.48380789e-02,   4.88479667e-02,   9.88455511e-02,\n",
       "          1.98886874e-01,   3.98600441e-01,   7.92721642e-01],\n",
       "       [  3.88425290e-03,   1.31371356e-02,   2.62097541e-02,\n",
       "          4.93855550e-02,   9.71814358e-02,   1.96572995e-01,\n",
       "          3.95480201e-01,   7.92721642e-01,   1.58198016e+00]])\n",
       "      fun: 5.962397667393232e-11\n",
       "        x: array([ 0.99999993,  0.99999987,  0.99999976,  0.99999956,  0.99999915,\n",
       "        0.99999832,  0.99999667,  0.99999335,  0.99998669])\n",
       "  message: 'Optimization terminated successfully.'\n",
       "      jac: array([ -8.06549286e-07,   2.84957534e-07,   6.71278386e-07,\n",
       "        -7.01348273e-08,  -4.29403019e-07,  -8.96136688e-09,\n",
       "         3.89853427e-07,   1.52348258e-06,  -7.99114486e-07])"
      ]
     },
     "execution_count": 22,
     "metadata": {},
     "output_type": "execute_result"
    }
   ],
   "source": [
    "minimize(rosen, np.zeros(9), method='BFGS')"
   ]
  },
  {
   "cell_type": "markdown",
   "metadata": {},
   "source": [
    "Note that it employs more iterations, but much fewer function evaluations than the method of Powell (including Jacobian evaluations).  Accuracy is comparable, but the gain in complexity and speed in remarkable. \n",
    "\n",
    "#### Conjugate Gradient Methods\n",
    "\n",
    "The pure Conjugate Gradient method works best with functions with a clear unique critical point, and where the range of the slopes is not too large.  Multiple stationary points tend to confuse the iterations, and slopes too steep (larger than 1000) result in terrible rounding errors.\n",
    "\n",
    "Without offering an expression for the Jacobian, the algorithm computes a decent approximation of this operator to compute the first derivatives.\n"
   ]
  },
  {
   "cell_type": "code",
   "execution_count": 23,
   "metadata": {
    "collapsed": false
   },
   "outputs": [
    {
     "data": {
      "text/plain": [
       "  status: 0\n",
       " success: True\n",
       "    njev: 381\n",
       "    nfev: 4191\n",
       "     fun: 2.6267348745275507e-10\n",
       "       x: array([ 0.99999987,  0.99999976,  0.99999954,  0.9999991 ,  0.99999824,\n",
       "        0.9999965 ,  0.999993  ,  0.99998598,  0.99997192])\n",
       " message: 'Optimization terminated successfully.'\n",
       "     jac: array([ -2.45696251e-06,   7.46956325e-07,   4.99813609e-07,\n",
       "        -3.09545305e-06,   1.34569603e-06,   7.94899465e-06,\n",
       "        -1.47359516e-06,  -8.50947084e-06,  -6.13615614e-06])"
      ]
     },
     "execution_count": 23,
     "metadata": {},
     "output_type": "execute_result"
    }
   ],
   "source": [
    "minimize(rosen, np.zeros(9), method='CG')"
   ]
  },
  {
   "cell_type": "markdown",
   "metadata": {},
   "source": [
    "Including an actual Jacobian improves matters greatly.  Note the improvement in the evaluation of the found minimum (`fun`):\n"
   ]
  },
  {
   "cell_type": "code",
   "execution_count": 24,
   "metadata": {
    "collapsed": false
   },
   "outputs": [
    {
     "data": {
      "text/plain": [
       "  status: 0\n",
       " success: True\n",
       "    njev: 494\n",
       "    nfev: 494\n",
       "     fun: 2.5416742724637237e-11\n",
       "       x: array([ 1.00000003,  1.00000007,  1.00000015,  1.00000027,  1.00000054,\n",
       "        1.00000107,  1.00000216,  1.00000435,  1.00000873])\n",
       " message: 'Optimization terminated successfully.'\n",
       "     jac: array([ -7.10635275e-06,   4.78182993e-06,   7.69530660e-06,\n",
       "         4.73193144e-07,   1.71949802e-06,  -6.85717495e-06,\n",
       "        -2.42953921e-06,   4.60522661e-06,   4.70259107e-06])"
      ]
     },
     "execution_count": 24,
     "metadata": {},
     "output_type": "execute_result"
    }
   ],
   "source": [
    "from scipy.optimize import rosen_der\n",
    "\n",
    "minimize(rosen, np.zeros(9), method='CG', jac=rosen_der)"
   ]
  },
  {
   "cell_type": "markdown",
   "metadata": {},
   "source": [
    "The _truncated Newton method_ requires a precise Jacobian to work:"
   ]
  },
  {
   "cell_type": "code",
   "execution_count": 25,
   "metadata": {
    "collapsed": false
   },
   "outputs": [
    {
     "ename": "ValueError",
     "evalue": "Jacobian is required for Newton-CG method",
     "output_type": "error",
     "traceback": [
      "\u001b[0;31m---------------------------------------------------------------------------\u001b[0m",
      "\u001b[0;31mValueError\u001b[0m                                Traceback (most recent call last)",
      "\u001b[0;32m<ipython-input-25-32d61991d444>\u001b[0m in \u001b[0;36m<module>\u001b[0;34m()\u001b[0m\n\u001b[0;32m----> 1\u001b[0;31m \u001b[0mminimize\u001b[0m\u001b[0;34m(\u001b[0m\u001b[0mrosen\u001b[0m\u001b[0;34m,\u001b[0m \u001b[0mnp\u001b[0m\u001b[0;34m.\u001b[0m\u001b[0mzeros\u001b[0m\u001b[0;34m(\u001b[0m\u001b[0;36m9\u001b[0m\u001b[0;34m)\u001b[0m\u001b[0;34m,\u001b[0m \u001b[0mmethod\u001b[0m\u001b[0;34m=\u001b[0m\u001b[0;34m'Newton-CG'\u001b[0m\u001b[0;34m)\u001b[0m\u001b[0;34m\u001b[0m\u001b[0m\n\u001b[0m",
      "\u001b[0;32m//anaconda/lib/python2.7/site-packages/scipy/optimize/_minimize.pyc\u001b[0m in \u001b[0;36mminimize\u001b[0;34m(fun, x0, args, method, jac, hess, hessp, bounds, constraints, tol, callback, options)\u001b[0m\n\u001b[1;32m    420\u001b[0m     \u001b[0;32melif\u001b[0m \u001b[0mmeth\u001b[0m \u001b[0;34m==\u001b[0m \u001b[0;34m'newton-cg'\u001b[0m\u001b[0;34m:\u001b[0m\u001b[0;34m\u001b[0m\u001b[0m\n\u001b[1;32m    421\u001b[0m         return _minimize_newtoncg(fun, x0, args, jac, hess, hessp, callback,\n\u001b[0;32m--> 422\u001b[0;31m                                   **options)\n\u001b[0m\u001b[1;32m    423\u001b[0m     \u001b[0;32melif\u001b[0m \u001b[0mmeth\u001b[0m \u001b[0;34m==\u001b[0m \u001b[0;34m'anneal'\u001b[0m\u001b[0;34m:\u001b[0m\u001b[0;34m\u001b[0m\u001b[0m\n\u001b[1;32m    424\u001b[0m         \u001b[0;32mreturn\u001b[0m \u001b[0m_minimize_anneal\u001b[0m\u001b[0;34m(\u001b[0m\u001b[0mfun\u001b[0m\u001b[0;34m,\u001b[0m \u001b[0mx0\u001b[0m\u001b[0;34m,\u001b[0m \u001b[0margs\u001b[0m\u001b[0;34m,\u001b[0m \u001b[0;34m**\u001b[0m\u001b[0moptions\u001b[0m\u001b[0;34m)\u001b[0m\u001b[0;34m\u001b[0m\u001b[0m\n",
      "\u001b[0;32m//anaconda/lib/python2.7/site-packages/scipy/optimize/optimize.pyc\u001b[0m in \u001b[0;36m_minimize_newtoncg\u001b[0;34m(fun, x0, args, jac, hess, hessp, callback, xtol, eps, maxiter, disp, return_all, **unknown_options)\u001b[0m\n\u001b[1;32m   1352\u001b[0m     \u001b[0m_check_unknown_options\u001b[0m\u001b[0;34m(\u001b[0m\u001b[0munknown_options\u001b[0m\u001b[0;34m)\u001b[0m\u001b[0;34m\u001b[0m\u001b[0m\n\u001b[1;32m   1353\u001b[0m     \u001b[0;32mif\u001b[0m \u001b[0mjac\u001b[0m \u001b[0;32mis\u001b[0m \u001b[0mNone\u001b[0m\u001b[0;34m:\u001b[0m\u001b[0;34m\u001b[0m\u001b[0m\n\u001b[0;32m-> 1354\u001b[0;31m         \u001b[0;32mraise\u001b[0m \u001b[0mValueError\u001b[0m\u001b[0;34m(\u001b[0m\u001b[0;34m'Jacobian is required for Newton-CG method'\u001b[0m\u001b[0;34m)\u001b[0m\u001b[0;34m\u001b[0m\u001b[0m\n\u001b[0m\u001b[1;32m   1355\u001b[0m     \u001b[0mf\u001b[0m \u001b[0;34m=\u001b[0m \u001b[0mfun\u001b[0m\u001b[0;34m\u001b[0m\u001b[0m\n\u001b[1;32m   1356\u001b[0m     \u001b[0mfprime\u001b[0m \u001b[0;34m=\u001b[0m \u001b[0mjac\u001b[0m\u001b[0;34m\u001b[0m\u001b[0m\n",
      "\u001b[0;31mValueError\u001b[0m: Jacobian is required for Newton-CG method"
     ]
    }
   ],
   "source": [
    "minimize(rosen, np.zeros(9), method='Newton-CG')"
   ]
  },
  {
   "cell_type": "code",
   "execution_count": 26,
   "metadata": {
    "collapsed": false
   },
   "outputs": [
    {
     "data": {
      "text/plain": [
       "  status: 0\n",
       " success: True\n",
       "    njev: 503\n",
       "    nfev: 53\n",
       "     fun: 5.206239234005592e-08\n",
       "       x: array([ 0.99999873,  0.99999684,  0.99999379,  0.99998775,  0.99997557,\n",
       "        0.99995079,  0.99990139,  0.99980262,  0.99960429])\n",
       " message: 'Optimization terminated successfully.'\n",
       "    nhev: 0\n",
       "     jac: array([  6.34295614e-06,   2.56418025e-05,   1.01905906e-04,\n",
       "         4.09136559e-04,   1.62621272e-03,   6.45693746e-03,\n",
       "        -1.90837078e-03,  -2.81432328e-04,  -5.65179094e-04])"
      ]
     },
     "execution_count": 26,
     "metadata": {},
     "output_type": "execute_result"
    }
   ],
   "source": [
    "minimize(rosen, np.zeros(9), method='Newton-CG', jac=rosen_der)"
   ]
  },
  {
   "cell_type": "markdown",
   "metadata": {},
   "source": [
    "The methods using trust regions require an exact expression for the Hessian:"
   ]
  },
  {
   "cell_type": "code",
   "execution_count": 27,
   "metadata": {
    "collapsed": false
   },
   "outputs": [
    {
     "data": {
      "text/plain": [
       "  status: 0\n",
       "    hess: array([[  801.99999999,  -400.        ,     0.        ,     0.        ,\n",
       "            0.        ,     0.        ,     0.        ,     0.        ,\n",
       "            0.        ],\n",
       "       [ -400.        ,  1001.99999998,  -399.99999999,     0.        ,\n",
       "            0.        ,     0.        ,     0.        ,     0.        ,\n",
       "            0.        ],\n",
       "       [    0.        ,  -399.99999999,  1001.99999996,  -399.99999999,\n",
       "            0.        ,     0.        ,     0.        ,     0.        ,\n",
       "            0.        ],\n",
       "       [    0.        ,     0.        ,  -399.99999999,  1001.99999992,\n",
       "         -399.99999998,     0.        ,     0.        ,     0.        ,\n",
       "            0.        ],\n",
       "       [    0.        ,     0.        ,     0.        ,  -399.99999998,\n",
       "         1001.99999983,  -399.99999996,     0.        ,     0.        ,\n",
       "            0.        ],\n",
       "       [    0.        ,     0.        ,     0.        ,     0.        ,\n",
       "         -399.99999996,  1001.99999967,  -399.99999992,     0.        ,\n",
       "            0.        ],\n",
       "       [    0.        ,     0.        ,     0.        ,     0.        ,\n",
       "            0.        ,  -399.99999992,  1001.99999933,  -399.99999983,\n",
       "            0.        ],\n",
       "       [    0.        ,     0.        ,     0.        ,     0.        ,\n",
       "            0.        ,     0.        ,  -399.99999983,  1001.99999865,\n",
       "         -399.99999966],\n",
       "       [    0.        ,     0.        ,     0.        ,     0.        ,\n",
       "            0.        ,     0.        ,     0.        ,  -399.99999966,\n",
       "          200.        ]])\n",
       " success: True\n",
       "    njev: 25\n",
       "    nfev: 29\n",
       "     fun: 9.559277795967234e-19\n",
       "       x: array([ 1.,  1.,  1.,  1.,  1.,  1.,  1.,  1.,  1.])\n",
       " message: 'Optimization terminated successfully.'\n",
       "    nhev: 24\n",
       "     jac: array([  3.84137166e-14,   3.00870439e-13,   1.10489395e-12,\n",
       "         4.32831548e-12,   1.72455383e-11,   6.77315980e-11,\n",
       "         2.48459919e-10,   6.62723207e-10,  -1.52775570e-09])\n",
       "     nit: 28"
      ]
     },
     "execution_count": 27,
     "metadata": {},
     "output_type": "execute_result"
    }
   ],
   "source": [
    "from scipy.optimize import rosen_hess\n",
    "\n",
    "minimize(rosen, np.zeros(9), method='dogleg', jac=rosen_der, hess=rosen_hess)"
   ]
  },
  {
   "cell_type": "code",
   "execution_count": 28,
   "metadata": {
    "collapsed": false
   },
   "outputs": [
    {
     "data": {
      "text/plain": [
       "  status: 0\n",
       "    hess: array([[  801.99999999,  -400.        ,     0.        ,     0.        ,\n",
       "            0.        ,     0.        ,     0.        ,     0.        ,\n",
       "            0.        ],\n",
       "       [ -400.        ,  1001.99999999,  -400.        ,     0.        ,\n",
       "            0.        ,     0.        ,     0.        ,     0.        ,\n",
       "            0.        ],\n",
       "       [    0.        ,  -400.        ,  1001.99999998,  -399.99999999,\n",
       "            0.        ,     0.        ,     0.        ,     0.        ,\n",
       "            0.        ],\n",
       "       [    0.        ,     0.        ,  -399.99999999,  1001.99999995,\n",
       "         -399.99999999,     0.        ,     0.        ,     0.        ,\n",
       "            0.        ],\n",
       "       [    0.        ,     0.        ,     0.        ,  -399.99999999,\n",
       "         1001.9999999 ,  -399.99999998,     0.        ,     0.        ,\n",
       "            0.        ],\n",
       "       [    0.        ,     0.        ,     0.        ,     0.        ,\n",
       "         -399.99999998,  1001.99999981,  -399.99999995,     0.        ,\n",
       "            0.        ],\n",
       "       [    0.        ,     0.        ,     0.        ,     0.        ,\n",
       "            0.        ,  -399.99999995,  1001.99999961,  -399.9999999 ,\n",
       "            0.        ],\n",
       "       [    0.        ,     0.        ,     0.        ,     0.        ,\n",
       "            0.        ,     0.        ,  -399.9999999 ,  1001.99999919,\n",
       "         -399.99999978],\n",
       "       [    0.        ,     0.        ,     0.        ,     0.        ,\n",
       "            0.        ,     0.        ,     0.        ,  -399.99999978,\n",
       "          200.        ]])\n",
       " success: True\n",
       "    njev: 56\n",
       "    nfev: 67\n",
       "     fun: 3.8940110750369303e-18\n",
       "       x: array([ 1.,  1.,  1.,  1.,  1.,  1.,  1.,  1.,  1.])\n",
       " message: 'Optimization terminated successfully.'\n",
       "    nhev: 55\n",
       "     jac: array([  2.20490293e-13,   6.01518835e-13,   1.74771308e-12,\n",
       "        -9.04010200e-12,  -3.05220071e-10,   3.03427883e-09,\n",
       "         1.49135368e-08,   6.32244197e-08,  -3.64212216e-08])\n",
       "     nit: 66"
      ]
     },
     "execution_count": 28,
     "metadata": {},
     "output_type": "execute_result"
    }
   ],
   "source": [
    "minimize(rosen, np.zeros(9), method='trust-ncg', jac=rosen_der, hess=rosen_hess)"
   ]
  },
  {
   "cell_type": "markdown",
   "metadata": {},
   "source": [
    "Note the huge improvement in terms of accuracy, iterations, and function evaluations over the previous methods!  The obvious drawback is that quite often it is very challenging to obtain good representations of the Jacobian or Hessian operators.\n",
    "\n",
    "### Constrained Optimization for multivariate functions\n",
    "\n",
    "Take for example, the minimization of the plane $f(x,y) = 5x-2y+4$ over the circle $x^2+y^2 =4$.  Using `sympy` we could implement the technique of Lagrange multipliers:"
   ]
  },
  {
   "cell_type": "code",
   "execution_count": 29,
   "metadata": {
    "collapsed": false
   },
   "outputs": [
    {
     "data": {
      "image/png": "[encoded data removed]",
      "text/latex": [
       "$$\\left [ \\left \\{ x : \\frac{5}{2 z}, \\quad y : - \\frac{1}{z}\\right \\}\\right ]$$"
      ],
      "text/plain": [
       "⎡⎧    5      -1 ⎫⎤\n",
       "⎢⎨x: ───, y: ───⎬⎥\n",
       "⎣⎩   2⋅z      z ⎭⎦"
      ]
     },
     "execution_count": 29,
     "metadata": {},
     "output_type": "execute_result"
    }
   ],
   "source": [
    "F = Matrix([5*x - 2*y + 4])\n",
    "G = Matrix([x**2 + y**2 - 4])      # constraint\n",
    "\n",
    "var('z')\n",
    "\n",
    "solve(F.jacobian([x, y]) - z * G.jacobian([x, y]))"
   ]
  },
  {
   "cell_type": "code",
   "execution_count": 30,
   "metadata": {
    "collapsed": false
   },
   "outputs": [
    {
     "data": {
      "image/png": "[encoded data removed]",
      "text/latex": [
       "$$\\left [ \\left \\{ z : - \\frac{\\sqrt{29}}{4}\\right \\}, \\quad \\left \\{ z : \\frac{\\sqrt{29}}{4}\\right \\}\\right ]$$"
      ],
      "text/plain": [
       "⎡⎧      ____ ⎫  ⎧     ____⎫⎤\n",
       "⎢⎪   -╲╱ 29  ⎪  ⎪   ╲╱ 29 ⎪⎥\n",
       "⎢⎨z: ────────⎬, ⎨z: ──────⎬⎥\n",
       "⎢⎪      4    ⎪  ⎪     4   ⎪⎥\n",
       "⎣⎩           ⎭  ⎩         ⎭⎦"
      ]
     },
     "execution_count": 30,
     "metadata": {},
     "output_type": "execute_result"
    }
   ],
   "source": [
    "soln = _[0]\n",
    "solve(G.subs(soln))"
   ]
  },
  {
   "cell_type": "code",
   "execution_count": 31,
   "metadata": {
    "collapsed": false
   },
   "outputs": [
    {
     "data": {
      "image/png": "[encoded data removed]",
      "text/latex": [
       "$$\\left [ \\left ( - \\frac{10 \\sqrt{29}}{29}, \\quad \\frac{4 \\sqrt{29}}{29}\\right ), \\quad \\left ( \\frac{10 \\sqrt{29}}{29}, \\quad - \\frac{4 \\sqrt{29}}{29}\\right )\\right ]$$"
      ],
      "text/plain": [
       "⎡⎛      ____       ____⎞  ⎛     ____       ____ ⎞⎤\n",
       "⎢⎜-10⋅╲╱ 29    4⋅╲╱ 29 ⎟  ⎜10⋅╲╱ 29   -4⋅╲╱ 29  ⎟⎥\n",
       "⎢⎜───────────, ────────⎟, ⎜─────────, ──────────⎟⎥\n",
       "⎣⎝     29         29   ⎠  ⎝    29         29    ⎠⎦"
      ]
     },
     "execution_count": 31,
     "metadata": {},
     "output_type": "execute_result"
    }
   ],
   "source": [
    "zees = _\n",
    "[(soln[x].subs(item), soln[y].subs(item)) for item in zees]"
   ]
  },
  {
   "cell_type": "markdown",
   "metadata": {},
   "source": [
    "Not too bad.  If, on top of this constraint, we further impose another one in the form of an inequality, more involved mathematics need to be used.  Think of the same problem, but constraining to half a circle instead: $y > 0$.  This being the case, the new result will be only the point with coordinates $x = -10\\sqrt{29}/29 = -1.8569533817705186$ and $y = 4\\sqrt{29}/29 = 0.74278135270820744$.\n",
    "\n",
    "It is of course possible to address this problem numerically.  In the module `scipy.optimize` we have basically three methods, all of which may be called from the common routine `minimize`: \n",
    "\n",
    "* *Large-scale Bound-constrained Optimization* based on the BFGS algorithm (we call it with `method='L-BFGS-B'`).  The implementation is actually a wrapper to a `Fortran` routine with the same name, written by Ciyou Zhu, Richard Byrd, and Jorge Nocedal. (for details, see e.g. R. H. Byrd, P. Lu and J. Nocedal. _A Limited Memory Algorithm for Bound Constrained Optimization_, (1995), SIAM Journal on Scientific and Statistical Computing, 16, 5, pp. 1190-1208.) \n",
    "* A constrained-based algorithm based on the truncated Newton method (we call it with `method='TNC'`).  This implementation is similar to the one we called with `method='Newton-CG'`, except this version is a wrapper to a `C` routine.\n",
    "* *Constrained Optimization by Linear Approximation* (with `method='COBYLA'`).  This implementation wraps a `Fortran` routine with the same name.\n",
    "* A minimization method based on *Sequential Least Squares Programming* (`method='SLSQP'`).  The implementation is a wrapper to a `Fortran` routine with the same name, written by Dieter Kraft.\n",
    "\n",
    "Let us use our running problem to illustrate how to input different constraints.  We implement these as a dictionary, or a tuple of dictionaries: each entry in the tuple represents either an identity (`'eq'`) or an inequality (`'ineq'`), together with a functional expression (in the form of a `ndarray` when necessary) and corresponding derivative of it. \n"
   ]
  },
  {
   "cell_type": "code",
   "execution_count": 32,
   "metadata": {
    "collapsed": true
   },
   "outputs": [],
   "source": [
    "def f(x): return 5*x[0] - 2*x[1] + 4\n",
    "def jacf(x): return np.array([5.0, -2.0])\n",
    "\n",
    "circle = {'type': 'eq',\n",
    "          'fun': lambda x: x[0]**2 + x[1]**2 - 4.0,\n",
    "          'jac': lambda x: np.array([2.0 * x[0], 2.0 * x[1]])}\n",
    "\n",
    "semicircle = ({'type': 'eq',\n",
    "               'fun': lambda x: x[0]**2 + x[1]**2 - 4.0,\n",
    "               'jac': lambda x: np.array([2.0 * x[0], 2.0 * x[1]])},\n",
    "              {'type': 'ineq',\n",
    "               'fun': lambda x: x[1],\n",
    "               'jac': lambda x: np.array([0.0, 1.0])})"
   ]
  },
  {
   "cell_type": "markdown",
   "metadata": {},
   "source": [
    "The constraints are fed to the routine `minimize` through the parameter `constraints`.  The initial guess must satisfy the constraints, of course."
   ]
  },
  {
   "cell_type": "code",
   "execution_count": 33,
   "metadata": {
    "collapsed": false
   },
   "outputs": [
    {
     "data": {
      "text/plain": [
       "  status: 0\n",
       " success: True\n",
       "    njev: 11\n",
       "    nfev: 13\n",
       "     fun: -6.7703296142789693\n",
       "       x: array([-1.85695338,  0.74278135])\n",
       " message: 'Optimization terminated successfully.'\n",
       "     jac: array([ 5., -2.,  0.])\n",
       "     nit: 11"
      ]
     },
     "execution_count": 33,
     "metadata": {},
     "output_type": "execute_result"
    }
   ],
   "source": [
    "minimize(f, [2,2], jac=jacf, method='SLSQP', constraints=circle)"
   ]
  },
  {
   "cell_type": "code",
   "execution_count": 34,
   "metadata": {
    "collapsed": false
   },
   "outputs": [
    {
     "data": {
      "text/plain": [
       "  status: 0\n",
       " success: True\n",
       "    njev: 11\n",
       "    nfev: 13\n",
       "     fun: -6.7703296142789693\n",
       "       x: array([-1.85695338,  0.74278135])\n",
       " message: 'Optimization terminated successfully.'\n",
       "     jac: array([ 5., -2.,  0.])\n",
       "     nit: 11"
      ]
     },
     "execution_count": 34,
     "metadata": {},
     "output_type": "execute_result"
    }
   ],
   "source": [
    "minimize(f, [2,2], jac=jacf, method='SLSQP', constraints=semicircle)"
   ]
  }
 ],
 "metadata": {
  "kernelspec": {
   "display_name": "Python 2",
   "language": "python",
   "name": "python2"
  },
  "language_info": {
   "codemirror_mode": {
    "name": "ipython",
    "version": 2
   },
   "file_extension": ".py",
   "mimetype": "text/x-python",
   "name": "python",
   "nbconvert_exporter": "python",
   "pygments_lexer": "ipython2",
   "version": "2.7.10"
  }
 },
 "nbformat": 4,
 "nbformat_minor": 0
}
